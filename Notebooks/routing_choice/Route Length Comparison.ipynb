{
 "cells": [
  {
   "cell_type": "code",
   "execution_count": 1,
   "id": "a4732c92",
   "metadata": {},
   "outputs": [],
   "source": [
    "import numpy as np\n",
    "import os\n",
    "import pyarrow\n",
    "import sys\n",
    "import json\n",
    "import math\n",
    "import mpl_utils\n",
    "\n",
    "import matplotlib as mpl\n",
    "import matplotlib.pyplot as plt\n",
    "import seaborn as sns\n",
    "import xml.etree.ElementTree as ET\n",
    "\n",
    "import pandas as pd\n",
    "import polars as pl\n"
   ]
  },
  {
   "cell_type": "markdown",
   "id": "6ef3244a",
   "metadata": {},
   "source": [
    "# Directories"
   ]
  },
  {
   "cell_type": "code",
   "execution_count": 2,
   "id": "a2a625ba",
   "metadata": {},
   "outputs": [],
   "source": [
    "sys.path.append(\"../functions\")\n",
    "import Demand_functions as dmd"
   ]
  },
  {
   "cell_type": "code",
   "execution_count": 3,
   "id": "37b71f0e",
   "metadata": {},
   "outputs": [],
   "source": [
    "# General directories\n",
    "general_directory = '/Users/andre/Desktop/Cergy/'\n",
    "\n",
    "berlin_directory = 'MATSim/matsim-berlin/input/v6.4/'\n",
    "\n",
    "run_dir = \"Python_Scripts/runs/\""
   ]
  },
  {
   "cell_type": "code",
   "execution_count": 4,
   "id": "04afd6f6",
   "metadata": {},
   "outputs": [],
   "source": [
    "# metro\n",
    "METRO_INPUT = (os.path.join(general_directory, run_dir, \"pt_10pct/metro_inputs/\"))\n",
    "\n",
    "METRO_OUTPUT = (os.path.join(general_directory, run_dir, \"pt_10pct/metro_outputs/\"))\n",
    "\n",
    "EVENTS_PATH = ((os.path.join(general_directory, berlin_directory, \"parquet/\")))\n",
    "\n",
    "# Path to MATSim's experienced plans.\n",
    "PLAN_PATH = \"/Users/andre/Desktop/Cergy/Python_Scripts/runs/fixed_10pct/matsim/\"\n",
    "\n",
    "# Path to the directory where the Metropolis output is stored.\n",
    "#MATSIM_TRIPS = (os.path.join(general_directory, run_dir, \"avg_10runs/metro_outputs/\"))\n"
   ]
  },
  {
   "cell_type": "markdown",
   "id": "2b1a8344",
   "metadata": {},
   "source": [
    "# Read Plans"
   ]
  },
  {
   "cell_type": "code",
   "execution_count": 5,
   "id": "3c71dba6",
   "metadata": {},
   "outputs": [],
   "source": [
    "def read_matsim_plans():\n",
    "    persons = pl.read_parquet(os.path.join(PLAN_PATH, 'MATSim_persons.parquet'))\n",
    "    plans = pl.read_parquet(os.path.join(PLAN_PATH, 'MATSim_plans.parquet'))\n",
    "    activities = pl.read_parquet(os.path.join(PLAN_PATH, 'MATSim_activities.parquet'))\n",
    "    legs = pl.read_parquet(os.path.join(PLAN_PATH, 'MATSim_legs.parquet'))\n",
    "    routes = pl.read_parquet(os.path.join(PLAN_PATH, 'MATSim_routes.parquet'))\n",
    "\n",
    "    return persons, plans, activities, legs, routes"
   ]
  },
  {
   "cell_type": "code",
   "execution_count": 6,
   "id": "84629db7",
   "metadata": {},
   "outputs": [],
   "source": [
    "def read_metropolis_results():\n",
    "    agents = pl.read_parquet(os.path.join(METRO_OUTPUT, \"agent_results.parquet\"))\n",
    "    trips = pl.read_parquet(os.path.join(METRO_OUTPUT, \"trip_results.parquet\"))\n",
    "    routes = pl.read_parquet(os.path.join(METRO_OUTPUT, \"route_results.parquet\"))\n",
    "    return agents, trips, routes"
   ]
  },
  {
   "cell_type": "code",
   "execution_count": 7,
   "id": "78b35bfb",
   "metadata": {},
   "outputs": [],
   "source": [
    "trip_inputs = pl.read_parquet(os.path.join(METRO_INPUT, \"trips.parquet\"))"
   ]
  },
  {
   "cell_type": "code",
   "execution_count": 8,
   "id": "ae40311a",
   "metadata": {},
   "outputs": [
    {
     "name": "stdout",
     "output_type": "stream",
     "text": [
      "Reading MATSim experienced plans\n",
      "Reading METROPOLIS results\n"
     ]
    }
   ],
   "source": [
    "print(\"Reading MATSim experienced plans\")\n",
    "persons, plans, activities, legs, routes = read_matsim_plans()\n",
    "\n",
    "print(\"Reading METROPOLIS results\")\n",
    "mp_agents, mp_trips, mp_routes = read_metropolis_results()"
   ]
  },
  {
   "cell_type": "code",
   "execution_count": 9,
   "id": "7c366054",
   "metadata": {},
   "outputs": [],
   "source": [
    "matsim_trips = pl.read_parquet(os.path.join(general_directory, run_dir, 'pt_10pct/matsim_trips/MATSim_trips.parquet'))"
   ]
  },
  {
   "cell_type": "code",
   "execution_count": 10,
   "id": "56753846",
   "metadata": {},
   "outputs": [],
   "source": [
    "matsim_trips = (\n",
    "    matsim_trips\n",
    "    .with_columns([((pl.col(\"plan_id\")*100).cast(pl.Utf8)+ pl.col(\"tour_id\").cast(pl.Utf8))\n",
    "                                          .cast(pl.Int64).alias(\"agent_id\")]) # agent_id ={plan_id*100;tour_id}\n",
    "    .join(trip_inputs.select(['agent_id', 'alt_id', 'trip_id', 'stopping_time']), on=['agent_id', 'trip_id'])\n",
    "    .drop(['start_time_secs', 'is_tour_anchor', 'end_time_secs', 'type_or_mode', \n",
    "                                  'element_type', 'seq_index_right'])\n",
    "    .join(plans.select(['person_id', 'score']), on='person_id')\n",
    "    \n",
    ")"
   ]
  },
  {
   "cell_type": "code",
   "execution_count": 11,
   "id": "83f24b1b",
   "metadata": {},
   "outputs": [],
   "source": [
    "legs = legs.join(routes, left_on='id', right_on='leg_id').rename({'value':'route'})\n",
    "matsim_car_trips = (\n",
    "    matsim_trips\n",
    "    .with_columns([(((pl.col(\"plan_id\")*100).cast(pl.Utf8))+((pl.col(\"tour_id\")).cast(pl.Utf8)))\n",
    "                                           .cast(pl.Int64).alias(\"agent_id\")])\n",
    "    .join(legs.select(['plan_id', 'mode', 'distance', 'route', 'start_link', 'end_link']), \n",
    "          on = ['plan_id', 'mode', 'route', 'start_link', 'end_link'])\n",
    "    .filter(pl.col('mode').is_in(['car', 'freight', 'truck', 'ride']))\n",
    "    .sort([\"agent_id\"])\n",
    "    .drop('start_link', 'end_link')\n",
    "\n",
    ")"
   ]
  },
  {
   "cell_type": "markdown",
   "id": "0450d821",
   "metadata": {},
   "source": [
    "# Route Comparison"
   ]
  },
  {
   "cell_type": "code",
   "execution_count": 12,
   "id": "ad47ea84",
   "metadata": {},
   "outputs": [],
   "source": [
    "route_comparison = (\n",
    "    mp_trips\n",
    "    .select(['agent_id', 'trip_id', 'length'])\n",
    "    .join(matsim_car_trips.select(['agent_id', 'trip_id', 'distance']), on=['agent_id', 'trip_id'])\n",
    "    .with_columns(pl.col('distance').cast(pl.Float64))\n",
    "\n",
    ")"
   ]
  },
  {
   "cell_type": "code",
   "execution_count": 13,
   "id": "a8d5f1c7",
   "metadata": {},
   "outputs": [
    {
     "data": {
      "image/png": "[encoded data removed]",
      "text/plain": [
       "<Figure size 1000x500 with 1 Axes>"
      ]
     },
     "metadata": {},
     "output_type": "display_data"
    }
   ],
   "source": [
    "# Convertir a pandas si es necesario\n",
    "df_pd = route_comparison.to_pandas()\n",
    "\n",
    "# Crear la variable diferencia\n",
    "df_pd[\"dist_diff\"] = df_pd[\"distance\"] - df_pd[\"length\"]\n",
    "\n",
    "# Plot\n",
    "plt.figure(figsize=(10, 5))\n",
    "sns.histplot(df_pd[\"dist_diff\"], bins=500, color=\"mediumseagreen\")\n",
    "\n",
    "# Línea vertical en 0\n",
    "plt.axvline(0, color=\"red\", linestyle=\"--\")\n",
    "\n",
    "plt.xlim(-30000, 10000)  # Limita el eje x a entre -1000 y 1000 metros\n",
    "# Etiquetas y título\n",
    "plt.xlabel(\"Difference in Distance (MATSim - Metropolis) [meters]\")\n",
    "plt.ylabel(\"Frequency\")\n",
    "plt.title(\"Distribution of Route Length Differences\")\n",
    "plt.tight_layout()\n",
    "plt.show()"
   ]
  },
  {
   "cell_type": "code",
   "execution_count": 14,
   "id": "7c5ab407",
   "metadata": {},
   "outputs": [
    {
     "data": {
      "text/plain": [
       "count    668887.000000\n",
       "mean       -903.507077\n",
       "std        4841.033936\n",
       "min      -93886.950000\n",
       "25%        -134.305000\n",
       "50%           9.630000\n",
       "75%         350.920000\n",
       "max       55722.700000\n",
       "Name: dist_diff, dtype: float64"
      ]
     },
     "execution_count": 14,
     "metadata": {},
     "output_type": "execute_result"
    }
   ],
   "source": [
    "df_pd[\"dist_diff\"].describe()"
   ]
  }
 ],
 "metadata": {
  "kernelspec": {
   "display_name": "Python 3 (ipykernel)",
   "language": "python",
   "name": "python3"
  },
  "language_info": {
   "codemirror_mode": {
    "name": "ipython",
    "version": 3
   },
   "file_extension": ".py",
   "mimetype": "text/x-python",
   "name": "python",
   "nbconvert_exporter": "python",
   "pygments_lexer": "ipython3",
   "version": "3.9.18"
  }
 },
 "nbformat": 4,
 "nbformat_minor": 5
}
