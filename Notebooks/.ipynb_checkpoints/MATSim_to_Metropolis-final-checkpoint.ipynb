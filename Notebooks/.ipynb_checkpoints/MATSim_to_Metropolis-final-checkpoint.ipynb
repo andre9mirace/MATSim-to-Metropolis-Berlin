{
 "cells": [
  {
   "cell_type": "code",
   "execution_count": 1,
   "id": "6daa066c",
   "metadata": {},
   "outputs": [],
   "source": [
    "import numpy as np\n",
    "import os\n",
    "import pyarrow\n",
    "import sys\n",
    "import json\n",
    "import math\n",
    "import mpl_utils\n",
    "import matplotlib as mpl\n",
    "import matplotlib.pyplot as plt\n",
    "import seaborn as sns\n",
    "\n",
    "import pandas as pd\n",
    "import polars as pl\n",
    "import xml.etree.ElementTree as ET\n",
    "\n",
    "from xopen import xopen\n",
    "from datetime import time"
   ]
  },
  {
   "cell_type": "markdown",
   "id": "9dbb39e6",
   "metadata": {},
   "source": [
    "# Directories"
   ]
  },
  {
   "cell_type": "code",
   "execution_count": 2,
   "id": "b1ec05f1",
   "metadata": {},
   "outputs": [],
   "source": [
    "# General directories\n",
    "general_directory = '/Users/andre/Desktop/Cergy/'\n",
    "\n",
    "berlin_directory = 'MATSim/matsim-berlin/input/v6.4/'\n",
    "\n",
    "pt_10pct_dir = \"Python_Scripts/runs/pt_10pct/\" # This script's output\n",
    "\n",
    "# Functions\n",
    "sys.path.append(\"../functions\")"
   ]
  },
  {
   "cell_type": "markdown",
   "id": "2a88fff0",
   "metadata": {},
   "source": [
    "### Three files for Berlin"
   ]
  },
  {
   "cell_type": "code",
   "execution_count": 3,
   "id": "3931900c",
   "metadata": {},
   "outputs": [],
   "source": [
    "# MATSim Berlin paths\n",
    "# Supply\n",
    "NETWORK_PATH = (os.path.join(general_directory, berlin_directory, \"berlin-v6.4-network.xml.gz\")) # Network\n",
    "\n",
    "VEHICLE_PATH = (os.path.join(general_directory, berlin_directory, \"berlin-v6.4-vehicleTypes.xml\")) # Vehicles\n",
    "\n",
    "# Demand\n",
    "PLAN_PATH = (os.path.join(general_directory, berlin_directory, \"berlin-v6.4.output_plans.xml.gz\")) # Plans"
   ]
  },
  {
   "cell_type": "code",
   "execution_count": 4,
   "id": "68f25f50",
   "metadata": {},
   "outputs": [],
   "source": [
    "# Metropolis directories\n",
    "METRO_INPUT = (os.path.join(general_directory, pt_10pct_dir, \"metro_inputs/\")) \n",
    "METRO_OUTPUT = (os.path.join(general_directory, pt_10pct_dir, \"metro_outputs/\"))\n"
   ]
  },
  {
   "cell_type": "markdown",
   "id": "c184996c",
   "metadata": {},
   "source": [
    "# Supply"
   ]
  },
  {
   "cell_type": "code",
   "execution_count": 5,
   "id": "0d177ec3",
   "metadata": {},
   "outputs": [],
   "source": [
    "import Supply_functions as sup"
   ]
  },
  {
   "cell_type": "code",
   "execution_count": 6,
   "id": "136e4b35",
   "metadata": {},
   "outputs": [
    {
     "name": "stdout",
     "output_type": "stream",
     "text": [
      "More than two parallel edges\n",
      "Found 1842 parallel edges\n",
      "dataframe types conversion failed for column seats\n",
      "dataframe types conversion failed for column standingRoomInPersons\n"
     ]
    }
   ],
   "source": [
    "links = sup.read_network(NETWORK_PATH)            # Read network xml\n",
    "vehicle_types =  sup.vehicle_reader(VEHICLE_PATH) # Read vehicle"
   ]
  },
  {
   "cell_type": "code",
   "execution_count": 7,
   "id": "027553e0",
   "metadata": {},
   "outputs": [],
   "source": [
    "edges = sup.make_edges_df(links)                # transform to metropolis network\n",
    "vehicles = sup.make_vehicles_df(vehicle_types)  # transform to metropolis vehicles"
   ]
  },
  {
   "cell_type": "code",
   "execution_count": 14,
   "id": "3df5674a",
   "metadata": {},
   "outputs": [
    {
     "data": {
      "text/html": [
       "<div><style>\n",
       ".dataframe > thead > tr,\n",
       ".dataframe > tbody > tr {\n",
       "  text-align: right;\n",
       "  white-space: pre-wrap;\n",
       "}\n",
       "</style>\n",
       "<small>shape: (11, 7)</small><table border=\"1\" class=\"dataframe\"><thead><tr><th>vehicle_id</th><th>vehicle_type</th><th>headway</th><th>pce</th><th>speed_function.type</th><th>speed_function.upper_bound</th><th>speed_function.coef</th></tr><tr><td>i64</td><td>str</td><td>f64</td><td>f64</td><td>str</td><td>null</td><td>null</td></tr></thead><tbody><tr><td>0</td><td>&quot;car&quot;</td><td>7.5</td><td>10.0</td><td>&quot;Base&quot;</td><td>null</td><td>null</td></tr><tr><td>1</td><td>&quot;bike&quot;</td><td>2.0</td><td>2.0</td><td>&quot;Base&quot;</td><td>null</td><td>null</td></tr><tr><td>2</td><td>&quot;ride&quot;</td><td>7.5</td><td>0.0</td><td>&quot;Base&quot;</td><td>null</td><td>null</td></tr><tr><td>3</td><td>&quot;freight&quot;</td><td>15.0</td><td>35.0</td><td>&quot;Base&quot;</td><td>null</td><td>null</td></tr><tr><td>4</td><td>&quot;truck&quot;</td><td>15.0</td><td>35.0</td><td>&quot;Base&quot;</td><td>null</td><td>null</td></tr><tr><td>&hellip;</td><td>&hellip;</td><td>&hellip;</td><td>&hellip;</td><td>&hellip;</td><td>&hellip;</td><td>&hellip;</td></tr><tr><td>6</td><td>&quot;vwCaddy&quot;</td><td>7.5</td><td>10.0</td><td>&quot;Base&quot;</td><td>null</td><td>null</td></tr><tr><td>7</td><td>&quot;mercedes313&quot;</td><td>7.5</td><td>10.0</td><td>&quot;Base&quot;</td><td>null</td><td>null</td></tr><tr><td>8</td><td>&quot;light8t&quot;</td><td>7.5</td><td>20.0</td><td>&quot;Base&quot;</td><td>null</td><td>null</td></tr><tr><td>9</td><td>&quot;medium18t&quot;</td><td>7.5</td><td>30.0</td><td>&quot;Base&quot;</td><td>null</td><td>null</td></tr><tr><td>10</td><td>&quot;heavy40t&quot;</td><td>15.0</td><td>40.0</td><td>&quot;Base&quot;</td><td>null</td><td>null</td></tr></tbody></table></div>"
      ],
      "text/plain": [
       "shape: (11, 7)\n",
       "┌────────────┬──────────────┬─────────┬──────┬─────────────────┬─────────────────┬─────────────────┐\n",
       "│ vehicle_id ┆ vehicle_type ┆ headway ┆ pce  ┆ speed_function. ┆ speed_function. ┆ speed_function. │\n",
       "│ ---        ┆ ---          ┆ ---     ┆ ---  ┆ type            ┆ upper_bound     ┆ coef            │\n",
       "│ i64        ┆ str          ┆ f64     ┆ f64  ┆ ---             ┆ ---             ┆ ---             │\n",
       "│            ┆              ┆         ┆      ┆ str             ┆ null            ┆ null            │\n",
       "╞════════════╪══════════════╪═════════╪══════╪═════════════════╪═════════════════╪═════════════════╡\n",
       "│ 0          ┆ car          ┆ 7.5     ┆ 10.0 ┆ Base            ┆ null            ┆ null            │\n",
       "│ 1          ┆ bike         ┆ 2.0     ┆ 2.0  ┆ Base            ┆ null            ┆ null            │\n",
       "│ 2          ┆ ride         ┆ 7.5     ┆ 0.0  ┆ Base            ┆ null            ┆ null            │\n",
       "│ 3          ┆ freight      ┆ 15.0    ┆ 35.0 ┆ Base            ┆ null            ┆ null            │\n",
       "│ 4          ┆ truck        ┆ 15.0    ┆ 35.0 ┆ Base            ┆ null            ┆ null            │\n",
       "│ …          ┆ …            ┆ …       ┆ …    ┆ …               ┆ …               ┆ …               │\n",
       "│ 6          ┆ vwCaddy      ┆ 7.5     ┆ 10.0 ┆ Base            ┆ null            ┆ null            │\n",
       "│ 7          ┆ mercedes313  ┆ 7.5     ┆ 10.0 ┆ Base            ┆ null            ┆ null            │\n",
       "│ 8          ┆ light8t      ┆ 7.5     ┆ 20.0 ┆ Base            ┆ null            ┆ null            │\n",
       "│ 9          ┆ medium18t    ┆ 7.5     ┆ 30.0 ┆ Base            ┆ null            ┆ null            │\n",
       "│ 10         ┆ heavy40t     ┆ 15.0    ┆ 40.0 ┆ Base            ┆ null            ┆ null            │\n",
       "└────────────┴──────────────┴─────────┴──────┴─────────────────┴─────────────────┴─────────────────┘"
      ]
     },
     "execution_count": 14,
     "metadata": {},
     "output_type": "execute_result"
    }
   ],
   "source": [
    "vehicles"
   ]
  },
  {
   "cell_type": "code",
   "execution_count": 11,
   "id": "e71e2d66",
   "metadata": {},
   "outputs": [
    {
     "ename": "TypeError",
     "evalue": "expected pandas DataFrame or Series, got 'DataFrame'",
     "output_type": "error",
     "traceback": [
      "\u001b[0;31m---------------------------------------------------------------------------\u001b[0m",
      "\u001b[0;31mTypeError\u001b[0m                                 Traceback (most recent call last)",
      "\u001b[0;32m/var/folders/9p/n1grlsxd23v19s01ft7jpq880000gn/T/ipykernel_74989/56189319.py\u001b[0m in \u001b[0;36m<module>\u001b[0;34m\u001b[0m\n\u001b[0;32m----> 1\u001b[0;31m \u001b[0msupply\u001b[0m \u001b[0;34m=\u001b[0m \u001b[0msup\u001b[0m\u001b[0;34m.\u001b[0m\u001b[0mformat_supply\u001b[0m\u001b[0;34m(\u001b[0m\u001b[0medges\u001b[0m\u001b[0;34m,\u001b[0m \u001b[0mvehicles\u001b[0m\u001b[0;34m)\u001b[0m\u001b[0;34m\u001b[0m\u001b[0;34m\u001b[0m\u001b[0m\n\u001b[0m",
      "\u001b[0;32m~/Desktop/Cergy/Python_Scripts/Notebooks/../functions/Supply_functions.py\u001b[0m in \u001b[0;36mformat_supply\u001b[0;34m(edges, vehicles)\u001b[0m\n\u001b[1;32m    234\u001b[0m \u001b[0;34m\u001b[0m\u001b[0m\n\u001b[1;32m    235\u001b[0m \u001b[0;32mdef\u001b[0m \u001b[0mformat_supply\u001b[0m\u001b[0;34m(\u001b[0m\u001b[0medges\u001b[0m\u001b[0;34m,\u001b[0m \u001b[0mvehicles\u001b[0m\u001b[0;34m)\u001b[0m\u001b[0;34m:\u001b[0m\u001b[0;34m\u001b[0m\u001b[0;34m\u001b[0m\u001b[0m\n\u001b[0;32m--> 236\u001b[0;31m     \u001b[0medges\u001b[0m \u001b[0;34m=\u001b[0m \u001b[0;34m(\u001b[0m\u001b[0mpl\u001b[0m\u001b[0;34m.\u001b[0m\u001b[0mfrom_pandas\u001b[0m\u001b[0;34m(\u001b[0m\u001b[0medges\u001b[0m\u001b[0;34m)\u001b[0m\u001b[0;34m)\u001b[0m\u001b[0;34m.\u001b[0m\u001b[0mdrop\u001b[0m\u001b[0;34m(\u001b[0m\u001b[0;34m[\u001b[0m\u001b[0;34m\"MATSim_id\"\u001b[0m\u001b[0;34m]\u001b[0m\u001b[0;34m)\u001b[0m\u001b[0;34m\u001b[0m\u001b[0;34m\u001b[0m\u001b[0m\n\u001b[0m\u001b[1;32m    237\u001b[0m     \u001b[0mvehicles\u001b[0m \u001b[0;34m=\u001b[0m \u001b[0;34m(\u001b[0m\u001b[0mpl\u001b[0m\u001b[0;34m.\u001b[0m\u001b[0mfrom_pandas\u001b[0m\u001b[0;34m(\u001b[0m\u001b[0mvehicles\u001b[0m\u001b[0;34m)\u001b[0m\u001b[0;34m)\u001b[0m\u001b[0;34m.\u001b[0m\u001b[0mdrop\u001b[0m\u001b[0;34m(\u001b[0m\u001b[0;34m[\u001b[0m\u001b[0;34m\"vehicle_type\"\u001b[0m\u001b[0;34m]\u001b[0m\u001b[0;34m)\u001b[0m\u001b[0;34m\u001b[0m\u001b[0;34m\u001b[0m\u001b[0m\n\u001b[1;32m    238\u001b[0m \u001b[0;34m\u001b[0m\u001b[0m\n",
      "\u001b[0;32m~/opt/anaconda3/lib/python3.9/site-packages/polars/convert/general.py\u001b[0m in \u001b[0;36mfrom_pandas\u001b[0;34m(data, schema_overrides, rechunk, nan_to_null, include_index)\u001b[0m\n\u001b[1;32m    618\u001b[0m     \u001b[0;32melse\u001b[0m\u001b[0;34m:\u001b[0m\u001b[0;34m\u001b[0m\u001b[0;34m\u001b[0m\u001b[0m\n\u001b[1;32m    619\u001b[0m         \u001b[0mmsg\u001b[0m \u001b[0;34m=\u001b[0m \u001b[0;34mf\"expected pandas DataFrame or Series, got {type(data).__name__!r}\"\u001b[0m\u001b[0;34m\u001b[0m\u001b[0;34m\u001b[0m\u001b[0m\n\u001b[0;32m--> 620\u001b[0;31m         \u001b[0;32mraise\u001b[0m \u001b[0mTypeError\u001b[0m\u001b[0;34m(\u001b[0m\u001b[0mmsg\u001b[0m\u001b[0;34m)\u001b[0m\u001b[0;34m\u001b[0m\u001b[0;34m\u001b[0m\u001b[0m\n\u001b[0m\u001b[1;32m    621\u001b[0m \u001b[0;34m\u001b[0m\u001b[0m\n\u001b[1;32m    622\u001b[0m \u001b[0;34m\u001b[0m\u001b[0m\n",
      "\u001b[0;31mTypeError\u001b[0m: expected pandas DataFrame or Series, got 'DataFrame'"
     ]
    }
   ],
   "source": [
    "supply = sup.format_supply(edges, vehicles)"
   ]
  },
  {
   "cell_type": "markdown",
   "id": "5b61a083",
   "metadata": {},
   "source": [
    "# Demand"
   ]
  },
  {
   "cell_type": "code",
   "execution_count": 14,
   "id": "d79abebb",
   "metadata": {},
   "outputs": [],
   "source": [
    "import Demand_functions as dmd"
   ]
  },
  {
   "cell_type": "code",
   "execution_count": 17,
   "id": "eb7e065c",
   "metadata": {},
   "outputs": [],
   "source": [
    "plans_df = dmd.plan_reader_dataframe(PLAN_PATH)"
   ]
  },
  {
   "cell_type": "code",
   "execution_count": 20,
   "id": "d81cea97",
   "metadata": {},
   "outputs": [],
   "source": [
    "activities = plans_df[2]\n",
    "legs = plans_df[3]\n",
    "routes = plans_df[4]"
   ]
  },
  {
   "cell_type": "code",
   "execution_count": null,
   "id": "43073293",
   "metadata": {},
   "outputs": [],
   "source": []
  },
  {
   "cell_type": "code",
   "execution_count": 21,
   "id": "c994e22b",
   "metadata": {},
   "outputs": [
    {
     "ename": "SchemaError",
     "evalue": "type String is incompatible with expected type Float64",
     "output_type": "error",
     "traceback": [
      "\u001b[0;31m---------------------------------------------------------------------------\u001b[0m",
      "\u001b[0;31mSchemaError\u001b[0m                               Traceback (most recent call last)",
      "\u001b[0;32m/var/folders/9p/n1grlsxd23v19s01ft7jpq880000gn/T/ipykernel_10955/641438448.py\u001b[0m in \u001b[0;36m<module>\u001b[0;34m\u001b[0m\n\u001b[0;32m----> 1\u001b[0;31m \u001b[0mmatsim_trips\u001b[0m \u001b[0;34m=\u001b[0m \u001b[0mdmd\u001b[0m\u001b[0;34m.\u001b[0m\u001b[0mgenerate_sequence\u001b[0m\u001b[0;34m(\u001b[0m\u001b[0mactivities\u001b[0m\u001b[0;34m,\u001b[0m \u001b[0mlegs\u001b[0m\u001b[0;34m,\u001b[0m \u001b[0mroutes\u001b[0m\u001b[0;34m)\u001b[0m\u001b[0;34m\u001b[0m\u001b[0;34m\u001b[0m\u001b[0m\n\u001b[0m",
      "\u001b[0;32m~/Desktop/Cergy/Python_Scripts/Notebooks/../functions/Demand_functions.py\u001b[0m in \u001b[0;36mgenerate_sequence\u001b[0;34m(activities, legs, routes)\u001b[0m\n\u001b[1;32m    231\u001b[0m \u001b[0;34m\u001b[0m\u001b[0m\n\u001b[1;32m    232\u001b[0m \u001b[0;34m\u001b[0m\u001b[0m\n\u001b[0;32m--> 233\u001b[0;31m     \u001b[0mextra_cols\u001b[0m \u001b[0;34m=\u001b[0m \u001b[0mpl\u001b[0m\u001b[0;34m.\u001b[0m\u001b[0mconcat\u001b[0m\u001b[0;34m(\u001b[0m\u001b[0;34m[\u001b[0m\u001b[0mactivities_secs\u001b[0m\u001b[0;34m,\u001b[0m \u001b[0mlegs_secs\u001b[0m\u001b[0;34m]\u001b[0m\u001b[0;34m)\u001b[0m\u001b[0;34m\u001b[0m\u001b[0;34m\u001b[0m\u001b[0m\n\u001b[0m\u001b[1;32m    234\u001b[0m     clean_cols = [\"plan_id\", \"seq_index\", \"element_type\", \"type_or_mode\", \"start_link\",\n\u001b[1;32m    235\u001b[0m                   \"end_link\", \"route\", \"duration\"]\n",
      "\u001b[0;32m~/opt/anaconda3/lib/python3.9/site-packages/polars/functions/eager.py\u001b[0m in \u001b[0;36mconcat\u001b[0;34m(items, how, rechunk, parallel)\u001b[0m\n\u001b[1;32m    227\u001b[0m     \u001b[0;32mif\u001b[0m \u001b[0misinstance\u001b[0m\u001b[0;34m(\u001b[0m\u001b[0mfirst\u001b[0m\u001b[0;34m,\u001b[0m \u001b[0mpl\u001b[0m\u001b[0;34m.\u001b[0m\u001b[0mDataFrame\u001b[0m\u001b[0;34m)\u001b[0m\u001b[0;34m:\u001b[0m\u001b[0;34m\u001b[0m\u001b[0;34m\u001b[0m\u001b[0m\n\u001b[1;32m    228\u001b[0m         \u001b[0;32mif\u001b[0m \u001b[0mhow\u001b[0m \u001b[0;34m==\u001b[0m \u001b[0;34m\"vertical\"\u001b[0m\u001b[0;34m:\u001b[0m\u001b[0;34m\u001b[0m\u001b[0;34m\u001b[0m\u001b[0m\n\u001b[0;32m--> 229\u001b[0;31m             \u001b[0mout\u001b[0m \u001b[0;34m=\u001b[0m \u001b[0mwrap_df\u001b[0m\u001b[0;34m(\u001b[0m\u001b[0mplr\u001b[0m\u001b[0;34m.\u001b[0m\u001b[0mconcat_df\u001b[0m\u001b[0;34m(\u001b[0m\u001b[0melems\u001b[0m\u001b[0;34m)\u001b[0m\u001b[0;34m)\u001b[0m\u001b[0;34m\u001b[0m\u001b[0;34m\u001b[0m\u001b[0m\n\u001b[0m\u001b[1;32m    230\u001b[0m         \u001b[0;32melif\u001b[0m \u001b[0mhow\u001b[0m \u001b[0;34m==\u001b[0m \u001b[0;34m\"vertical_relaxed\"\u001b[0m\u001b[0;34m:\u001b[0m\u001b[0;34m\u001b[0m\u001b[0;34m\u001b[0m\u001b[0m\n\u001b[1;32m    231\u001b[0m             out = wrap_ldf(\n",
      "\u001b[0;31mSchemaError\u001b[0m: type String is incompatible with expected type Float64"
     ]
    }
   ],
   "source": [
    "matsim_trips = dmd.generate_sequence(activities, legs, routes)"
   ]
  },
  {
   "cell_type": "code",
   "execution_count": 9,
   "id": "e3937f83",
   "metadata": {},
   "outputs": [
    {
     "data": {
      "text/plain": [
       "['ET',\n",
       " '__builtins__',\n",
       " '__cached__',\n",
       " '__doc__',\n",
       " '__file__',\n",
       " '__loader__',\n",
       " '__name__',\n",
       " '__package__',\n",
       " '__spec__',\n",
       " '__warningregistry__',\n",
       " 'format_supply',\n",
       " 'make_edges_df',\n",
       " 'make_vehicles_df',\n",
       " 'math',\n",
       " 'mpl_utils',\n",
       " 'os',\n",
       " 'parse_attributes',\n",
       " 'pd',\n",
       " 'pl',\n",
       " 'pyarrow',\n",
       " 'read_network',\n",
       " 'sys',\n",
       " 'vehicle_reader',\n",
       " 'xopen']"
      ]
     },
     "execution_count": 9,
     "metadata": {},
     "output_type": "execute_result"
    }
   ],
   "source": [
    "dir(sup)"
   ]
  }
 ],
 "metadata": {
  "kernelspec": {
   "display_name": "Python 3 (ipykernel)",
   "language": "python",
   "name": "python3"
  },
  "language_info": {
   "codemirror_mode": {
    "name": "ipython",
    "version": 3
   },
   "file_extension": ".py",
   "mimetype": "text/x-python",
   "name": "python",
   "nbconvert_exporter": "python",
   "pygments_lexer": "ipython3",
   "version": "3.9.18"
  }
 },
 "nbformat": 4,
 "nbformat_minor": 5
}
