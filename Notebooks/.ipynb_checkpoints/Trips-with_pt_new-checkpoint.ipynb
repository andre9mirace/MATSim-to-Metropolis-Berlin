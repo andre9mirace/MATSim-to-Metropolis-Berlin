{
 "cells": [
  {
   "cell_type": "code",
   "execution_count": 1,
   "id": "52001a96",
   "metadata": {},
   "outputs": [],
   "source": [
    "import numpy as np\n",
    "import os\n",
    "import pyarrow\n",
    "import sys\n",
    "import json\n",
    "import math\n",
    "import mpl_utils\n",
    "import matplotlib as mpl\n",
    "import matplotlib.pyplot as plt\n",
    "import seaborn as sns\n",
    "\n",
    "import pandas as pd\n",
    "import polars as pl\n",
    "import xml.etree.ElementTree as ET\n",
    "\n",
    "from xopen import xopen\n",
    "from datetime import time"
   ]
  },
  {
   "cell_type": "code",
   "execution_count": 2,
   "id": "c212a3a6",
   "metadata": {},
   "outputs": [],
   "source": [
    "# Path to MATSim's experienced plans.\n",
    "PLAN_PATH = \"/Users/andre/Desktop/Cergy/Python_Scripts/runs/fixed_10pct/matsim\"\n",
    "\n",
    "# Path to the directory where the Metropolis output is stored.\n",
    "METROPOLIS_OUTPUT = \"/Users/andre/Desktop/Cergy/Python_Scripts/runs/fixed_10pct/output\"\n",
    "\n",
    "# MATSim network path\n",
    "NETWORK_PATH = (\n",
    "    \"/Users/andre/Desktop/Cergy/MATSim/matsim-berlin/input/v6.4/berlin-v6.4-network.xml.gz\"\n",
    ")\n",
    "\n",
    "MATSIM_TRIPS = \"/Users/andre/Desktop/Cergy/Python_Scripts/runs/pt_10pct/matsim_trips/\"\n",
    "\n",
    "# Path to MATSim's vehicles.\n",
    "VEHICLE_PATH = (\n",
    "    \"/Users/andre/Desktop/Cergy/MATSim/matsim-berlin/input/v6.4/berlin-v6.4-vehicleTypes.xml\")\n"
   ]
  },
  {
   "cell_type": "code",
   "execution_count": 3,
   "id": "7fad9aa5",
   "metadata": {},
   "outputs": [],
   "source": [
    "def hhmmss_str_to_seconds_expr(col: str) -> pl.Expr:\n",
    "    return (\n",
    "        pl.col(col)\n",
    "        .map_elements(\n",
    "            lambda t: sum(x * m for x, m in zip(map(int, str(t).split(\":\")), [3600, 60, 1]))\n",
    "            if isinstance(t, str) and \":\" in t else None,\n",
    "            return_dtype=pl.Int32\n",
    "        )\n",
    "        .alias(f\"{col}_secs\")\n",
    "    )"
   ]
  },
  {
   "cell_type": "code",
   "execution_count": 4,
   "id": "8e67847a",
   "metadata": {},
   "outputs": [],
   "source": [
    "def read_matsim_plans():\n",
    "    persons = pl.read_parquet(os.path.join(PLAN_PATH, \"MATSim_persons.parquet\"))\n",
    "    plans = pl.read_parquet(os.path.join(PLAN_PATH, \"MATSim_plans.parquet\"))\n",
    "    activities = pl.read_parquet(os.path.join(PLAN_PATH, \"MATSim_activities.parquet\"))\n",
    "    legs = pl.read_parquet(os.path.join(PLAN_PATH, \"MATSim_legs.parquet\"))\n",
    "    routes = pl.read_parquet(os.path.join(PLAN_PATH, \"MATSim_routes.parquet\"))\n",
    "    return persons, plans, activities, legs, routes"
   ]
  },
  {
   "cell_type": "code",
   "execution_count": 5,
   "id": "4ac2780a",
   "metadata": {},
   "outputs": [
    {
     "name": "stdout",
     "output_type": "stream",
     "text": [
      "Reading MATSim experienced plans\n"
     ]
    }
   ],
   "source": [
    "print(\"Reading MATSim experienced plans\")\n",
    "persons, plans, activities, legs, routes = read_matsim_plans()"
   ]
  },
  {
   "cell_type": "markdown",
   "id": "18947df9",
   "metadata": {},
   "source": [
    "# Create MATSim plan sequence (act-leg-act…) "
   ]
  },
  {
   "cell_type": "code",
   "execution_count": 6,
   "id": "3d5b70f7",
   "metadata": {
    "scrolled": false
   },
   "outputs": [],
   "source": [
    "legs = (legs\n",
    "        .join(routes, how='left', left_on='id', right_on='leg_id')\n",
    "        .with_columns(pl.col('id').alias('leg_id')))\n",
    "\n",
    "activities = (activities\n",
    "              .drop([\"facility\", \"initialEndTime\", \"orig_duration\"])\n",
    "       )\n",
    "\n",
    "activities = activities.with_columns([\n",
    "    hhmmss_str_to_seconds_expr(\"end_time\"),\n",
    "    hhmmss_str_to_seconds_expr(\"max_dur\")\n",
    "])\n",
    "\n",
    "legs = legs.with_columns([\n",
    "    hhmmss_str_to_seconds_expr(\"dep_time\")#,\n",
    "    #hhmmss_str_to_seconds_expr(\"trav_time\")\n",
    "])"
   ]
  },
  {
   "cell_type": "code",
   "execution_count": 7,
   "id": "3224e168",
   "metadata": {},
   "outputs": [],
   "source": [
    "# pair seq IDs for activities\n",
    "activities = activities.with_columns([\n",
    "    ((pl.cum_count(\"plan_id\").over(\"plan_id\") - 1) * 2).alias('seq_index'),\n",
    "    pl.lit('activity').alias('element_type'),\n",
    "    pl.col('type').alias('type_or_mode'),\n",
    "    pl.col('max_dur').alias('duration'),\n",
    "    pl.col('link').alias('route'),\n",
    "    pl.col('link').alias('start_link'),\n",
    "    pl.col('link').alias('end_link')\n",
    "])\n",
    "\n",
    "# odd seq IDs for legs\n",
    "legs = legs.with_columns([\n",
    "    ((pl.cum_count(\"plan_id\").over(\"plan_id\") - 1) * 2 + 1).alias('seq_index'),\n",
    "    pl.lit('leg').alias('element_type'),\n",
    "    pl.col('mode').alias('type_or_mode'),\n",
    "    pl.col('trav_time').alias('duration'),\n",
    "    pl.col('value').alias('route')\n",
    "                         ])\n"
   ]
  },
  {
   "cell_type": "markdown",
   "id": "aafdd475",
   "metadata": {},
   "source": [
    "### Add leg and activity start/end times"
   ]
  },
  {
   "cell_type": "code",
   "execution_count": 8,
   "id": "621a2c5b",
   "metadata": {},
   "outputs": [],
   "source": [
    "activities_secs = activities.select([\n",
    "    \"plan_id\",\n",
    "    ((pl.cum_count(\"plan_id\").over(\"plan_id\") - 1) * 2).alias(\"seq_index\"),\n",
    "    \"end_time_secs\",\n",
    "    \"max_dur_secs\",\n",
    "    pl.lit(None).cast(pl.Int32).alias(\"dep_time_secs\"),\n",
    "    pl.lit(None).cast(pl.Int32).alias(\"trav_time_secs\")\n",
    "])"
   ]
  },
  {
   "cell_type": "code",
   "execution_count": 13,
   "id": "9f95a0b9",
   "metadata": {},
   "outputs": [
    {
     "data": {
      "text/html": [
       "<div><style>\n",
       ".dataframe > thead > tr,\n",
       ".dataframe > tbody > tr {\n",
       "  text-align: right;\n",
       "  white-space: pre-wrap;\n",
       "}\n",
       "</style>\n",
       "<small>shape: (5_537_973, 18)</small><table border=\"1\" class=\"dataframe\"><thead><tr><th>id</th><th>plan_id</th><th>type</th><th>link</th><th>x</th><th>y</th><th>end_time</th><th>orig_dist</th><th>max_dur</th><th>end_time_secs</th><th>max_dur_secs</th><th>seq_index</th><th>element_type</th><th>type_or_mode</th><th>duration</th><th>route</th><th>start_link</th><th>end_link</th></tr><tr><td>i64</td><td>i64</td><td>str</td><td>str</td><td>str</td><td>str</td><td>str</td><td>str</td><td>str</td><td>i32</td><td>i32</td><td>u32</td><td>str</td><td>str</td><td>str</td><td>str</td><td>str</td><td>str</td></tr></thead><tbody><tr><td>1</td><td>0</td><td>&quot;home_86400&quot;</td><td>&quot;-150731516#0&quot;</td><td>&quot;789538.61&quot;</td><td>&quot;5813719.01&quot;</td><td>&quot;07:47:35&quot;</td><td>&quot;0.0&quot;</td><td>null</td><td>28055</td><td>null</td><td>0</td><td>&quot;activity&quot;</td><td>&quot;home_86400&quot;</td><td>null</td><td>&quot;-150731516#0&quot;</td><td>&quot;-150731516#0&quot;</td><td>&quot;-150731516#0&quot;</td></tr><tr><td>2</td><td>0</td><td>&quot;pt interaction&quot;</td><td>&quot;pt_525685_bus&quot;</td><td>&quot;789745.27&quot;</td><td>&quot;5814249.84&quot;</td><td>null</td><td>null</td><td>&quot;00:00:00&quot;</td><td>null</td><td>0</td><td>2</td><td>&quot;activity&quot;</td><td>&quot;pt interaction&quot;</td><td>&quot;00:00:00&quot;</td><td>&quot;pt_525685_bus&quot;</td><td>&quot;pt_525685_bus&quot;</td><td>&quot;pt_525685_bus&quot;</td></tr><tr><td>3</td><td>0</td><td>&quot;pt interaction&quot;</td><td>&quot;pt_167534_bus&quot;</td><td>&quot;792299.82&quot;</td><td>&quot;5825436.84&quot;</td><td>null</td><td>null</td><td>&quot;00:00:00&quot;</td><td>null</td><td>0</td><td>4</td><td>&quot;activity&quot;</td><td>&quot;pt interaction&quot;</td><td>&quot;00:00:00&quot;</td><td>&quot;pt_167534_bus&quot;</td><td>&quot;pt_167534_bus&quot;</td><td>&quot;pt_167534_bus&quot;</td></tr><tr><td>4</td><td>0</td><td>&quot;work_36600&quot;</td><td>&quot;-4396420#5&quot;</td><td>&quot;791836.62&quot;</td><td>&quot;5825502.12&quot;</td><td>&quot;17:24:08&quot;</td><td>&quot;17.672&quot;</td><td>null</td><td>62648</td><td>null</td><td>6</td><td>&quot;activity&quot;</td><td>&quot;work_36600&quot;</td><td>null</td><td>&quot;-4396420#5&quot;</td><td>&quot;-4396420#5&quot;</td><td>&quot;-4396420#5&quot;</td></tr><tr><td>5</td><td>0</td><td>&quot;pt interaction&quot;</td><td>&quot;pt_167534_bus&quot;</td><td>&quot;792299.82&quot;</td><td>&quot;5825436.84&quot;</td><td>null</td><td>null</td><td>&quot;00:00:00&quot;</td><td>null</td><td>0</td><td>8</td><td>&quot;activity&quot;</td><td>&quot;pt interaction&quot;</td><td>&quot;00:00:00&quot;</td><td>&quot;pt_167534_bus&quot;</td><td>&quot;pt_167534_bus&quot;</td><td>&quot;pt_167534_bus&quot;</td></tr><tr><td>&hellip;</td><td>&hellip;</td><td>&hellip;</td><td>&hellip;</td><td>&hellip;</td><td>&hellip;</td><td>&hellip;</td><td>&hellip;</td><td>&hellip;</td><td>&hellip;</td><td>&hellip;</td><td>&hellip;</td><td>&hellip;</td><td>&hellip;</td><td>&hellip;</td><td>&hellip;</td><td>&hellip;</td><td>&hellip;</td></tr><tr><td>5537969</td><td>526110</td><td>&quot;car interaction&quot;</td><td>&quot;-1057183597#2&quot;</td><td>&quot;798530.2311670465&quot;</td><td>&quot;5826503.019164903&quot;</td><td>null</td><td>null</td><td>&quot;00:00:00&quot;</td><td>null</td><td>0</td><td>4</td><td>&quot;activity&quot;</td><td>&quot;car interaction&quot;</td><td>&quot;00:00:00&quot;</td><td>&quot;-1057183597#2&quot;</td><td>&quot;-1057183597#2&quot;</td><td>&quot;-1057183597#2&quot;</td></tr><tr><td>5537970</td><td>526110</td><td>&quot;service_3600&quot;</td><td>&quot;-1057183597#2&quot;</td><td>&quot;798530.46&quot;</td><td>&quot;5826503.63&quot;</td><td>null</td><td>null</td><td>&quot;01:02:45&quot;</td><td>null</td><td>3765</td><td>6</td><td>&quot;activity&quot;</td><td>&quot;service_3600&quot;</td><td>&quot;01:02:45&quot;</td><td>&quot;-1057183597#2&quot;</td><td>&quot;-1057183597#2&quot;</td><td>&quot;-1057183597#2&quot;</td></tr><tr><td>5537971</td><td>526110</td><td>&quot;car interaction&quot;</td><td>&quot;-1057183597#2&quot;</td><td>&quot;798530.2311670465&quot;</td><td>&quot;5826503.019164903&quot;</td><td>null</td><td>null</td><td>&quot;00:00:00&quot;</td><td>null</td><td>0</td><td>8</td><td>&quot;activity&quot;</td><td>&quot;car interaction&quot;</td><td>&quot;00:00:00&quot;</td><td>&quot;-1057183597#2&quot;</td><td>&quot;-1057183597#2&quot;</td><td>&quot;-1057183597#2&quot;</td></tr><tr><td>5537972</td><td>526110</td><td>&quot;car interaction&quot;</td><td>&quot;-11405545#3&quot;</td><td>&quot;813536.93&quot;</td><td>&quot;5830719.42&quot;</td><td>null</td><td>null</td><td>&quot;00:00:00&quot;</td><td>null</td><td>0</td><td>10</td><td>&quot;activity&quot;</td><td>&quot;car interaction&quot;</td><td>&quot;00:00:00&quot;</td><td>&quot;-11405545#3&quot;</td><td>&quot;-11405545#3&quot;</td><td>&quot;-11405545#3&quot;</td></tr><tr><td>5537973</td><td>526110</td><td>&quot;commercial_end&quot;</td><td>&quot;-11405545#3&quot;</td><td>&quot;813536.93&quot;</td><td>&quot;5830719.42&quot;</td><td>null</td><td>null</td><td>null</td><td>null</td><td>null</td><td>12</td><td>&quot;activity&quot;</td><td>&quot;commercial_end&quot;</td><td>null</td><td>&quot;-11405545#3&quot;</td><td>&quot;-11405545#3&quot;</td><td>&quot;-11405545#3&quot;</td></tr></tbody></table></div>"
      ],
      "text/plain": [
       "shape: (5_537_973, 18)\n",
       "┌─────────┬─────────┬────────────┬────────────┬───┬──────────┬────────────┬────────────┬───────────┐\n",
       "│ id      ┆ plan_id ┆ type       ┆ link       ┆ … ┆ duration ┆ route      ┆ start_link ┆ end_link  │\n",
       "│ ---     ┆ ---     ┆ ---        ┆ ---        ┆   ┆ ---      ┆ ---        ┆ ---        ┆ ---       │\n",
       "│ i64     ┆ i64     ┆ str        ┆ str        ┆   ┆ str      ┆ str        ┆ str        ┆ str       │\n",
       "╞═════════╪═════════╪════════════╪════════════╪═══╪══════════╪════════════╪════════════╪═══════════╡\n",
       "│ 1       ┆ 0       ┆ home_86400 ┆ -150731516 ┆ … ┆ null     ┆ -150731516 ┆ -150731516 ┆ -15073151 │\n",
       "│         ┆         ┆            ┆ #0         ┆   ┆          ┆ #0         ┆ #0         ┆ 6#0       │\n",
       "│ 2       ┆ 0       ┆ pt interac ┆ pt_525685_ ┆ … ┆ 00:00:00 ┆ pt_525685_ ┆ pt_525685_ ┆ pt_525685 │\n",
       "│         ┆         ┆ tion       ┆ bus        ┆   ┆          ┆ bus        ┆ bus        ┆ _bus      │\n",
       "│ 3       ┆ 0       ┆ pt interac ┆ pt_167534_ ┆ … ┆ 00:00:00 ┆ pt_167534_ ┆ pt_167534_ ┆ pt_167534 │\n",
       "│         ┆         ┆ tion       ┆ bus        ┆   ┆          ┆ bus        ┆ bus        ┆ _bus      │\n",
       "│ 4       ┆ 0       ┆ work_36600 ┆ -4396420#5 ┆ … ┆ null     ┆ -4396420#5 ┆ -4396420#5 ┆ -4396420# │\n",
       "│         ┆         ┆            ┆            ┆   ┆          ┆            ┆            ┆ 5         │\n",
       "│ 5       ┆ 0       ┆ pt interac ┆ pt_167534_ ┆ … ┆ 00:00:00 ┆ pt_167534_ ┆ pt_167534_ ┆ pt_167534 │\n",
       "│         ┆         ┆ tion       ┆ bus        ┆   ┆          ┆ bus        ┆ bus        ┆ _bus      │\n",
       "│ …       ┆ …       ┆ …          ┆ …          ┆ … ┆ …        ┆ …          ┆ …          ┆ …         │\n",
       "│ 5537969 ┆ 526110  ┆ car intera ┆ -105718359 ┆ … ┆ 00:00:00 ┆ -105718359 ┆ -105718359 ┆ -10571835 │\n",
       "│         ┆         ┆ ction      ┆ 7#2        ┆   ┆          ┆ 7#2        ┆ 7#2        ┆ 97#2      │\n",
       "│ 5537970 ┆ 526110  ┆ service_36 ┆ -105718359 ┆ … ┆ 01:02:45 ┆ -105718359 ┆ -105718359 ┆ -10571835 │\n",
       "│         ┆         ┆ 00         ┆ 7#2        ┆   ┆          ┆ 7#2        ┆ 7#2        ┆ 97#2      │\n",
       "│ 5537971 ┆ 526110  ┆ car intera ┆ -105718359 ┆ … ┆ 00:00:00 ┆ -105718359 ┆ -105718359 ┆ -10571835 │\n",
       "│         ┆         ┆ ction      ┆ 7#2        ┆   ┆          ┆ 7#2        ┆ 7#2        ┆ 97#2      │\n",
       "│ 5537972 ┆ 526110  ┆ car intera ┆ -11405545# ┆ … ┆ 00:00:00 ┆ -11405545# ┆ -11405545# ┆ -11405545 │\n",
       "│         ┆         ┆ ction      ┆ 3          ┆   ┆          ┆ 3          ┆ 3          ┆ #3        │\n",
       "│ 5537973 ┆ 526110  ┆ commercial ┆ -11405545# ┆ … ┆ null     ┆ -11405545# ┆ -11405545# ┆ -11405545 │\n",
       "│         ┆         ┆ _end       ┆ 3          ┆   ┆          ┆ 3          ┆ 3          ┆ #3        │\n",
       "└─────────┴─────────┴────────────┴────────────┴───┴──────────┴────────────┴────────────┴───────────┘"
      ]
     },
     "execution_count": 13,
     "metadata": {},
     "output_type": "execute_result"
    }
   ],
   "source": []
  },
  {
   "cell_type": "code",
   "execution_count": 11,
   "id": "cc316296",
   "metadata": {},
   "outputs": [],
   "source": [
    "legs_secs = legs.select([\n",
    "    \"plan_id\",\n",
    "    \"dep_time_secs\",\n",
    "    pl.col(\"trav_time\").alias('trav_time_secs'),\n",
    "    ((pl.cum_count(\"plan_id\").over(\"plan_id\") - 1) * 2 + 1).alias(\"seq_index\"),\n",
    "    pl.lit(None).cast(pl.Int32).alias(\"end_time_secs\"),\n",
    "    pl.lit(None).cast(pl.Int32).alias(\"max_dur_secs\")\n",
    "])"
   ]
  },
  {
   "cell_type": "code",
   "execution_count": null,
   "id": "97a75924",
   "metadata": {},
   "outputs": [],
   "source": []
  },
  {
   "cell_type": "code",
   "execution_count": 14,
   "id": "a70bba0c",
   "metadata": {},
   "outputs": [
    {
     "data": {
      "text/html": [
       "<div><style>\n",
       ".dataframe > thead > tr,\n",
       ".dataframe > tbody > tr {\n",
       "  text-align: right;\n",
       "  white-space: pre-wrap;\n",
       "}\n",
       "</style>\n",
       "<small>shape: (5_011_862, 6)</small><table border=\"1\" class=\"dataframe\"><thead><tr><th>plan_id</th><th>dep_time_secs</th><th>trav_time_secs</th><th>seq_index</th><th>end_time_secs</th><th>max_dur_secs</th></tr><tr><td>i64</td><td>i32</td><td>f64</td><td>u32</td><td>i32</td><td>i32</td></tr></thead><tbody><tr><td>0</td><td>28055</td><td>603.0</td><td>1</td><td>null</td><td>null</td></tr><tr><td>0</td><td>28658</td><td>2542.0</td><td>3</td><td>null</td><td>null</td></tr><tr><td>0</td><td>31200</td><td>495.0</td><td>5</td><td>null</td><td>null</td></tr><tr><td>0</td><td>62648</td><td>495.0</td><td>7</td><td>null</td><td>null</td></tr><tr><td>0</td><td>63143</td><td>2197.0</td><td>9</td><td>null</td><td>null</td></tr><tr><td>&hellip;</td><td>&hellip;</td><td>&hellip;</td><td>&hellip;</td><td>&hellip;</td><td>&hellip;</td></tr><tr><td>526110</td><td>36653</td><td>2347.0</td><td>3</td><td>null</td><td>null</td></tr><tr><td>526110</td><td>38934</td><td>0.0</td><td>5</td><td>null</td><td>null</td></tr><tr><td>526110</td><td>42765</td><td>0.0</td><td>7</td><td>null</td><td>null</td></tr><tr><td>526110</td><td>42765</td><td>2396.0</td><td>9</td><td>null</td><td>null</td></tr><tr><td>526110</td><td>45148</td><td>0.0</td><td>11</td><td>null</td><td>null</td></tr></tbody></table></div>"
      ],
      "text/plain": [
       "shape: (5_011_862, 6)\n",
       "┌─────────┬───────────────┬────────────────┬───────────┬───────────────┬──────────────┐\n",
       "│ plan_id ┆ dep_time_secs ┆ trav_time_secs ┆ seq_index ┆ end_time_secs ┆ max_dur_secs │\n",
       "│ ---     ┆ ---           ┆ ---            ┆ ---       ┆ ---           ┆ ---          │\n",
       "│ i64     ┆ i32           ┆ f64            ┆ u32       ┆ i32           ┆ i32          │\n",
       "╞═════════╪═══════════════╪════════════════╪═══════════╪═══════════════╪══════════════╡\n",
       "│ 0       ┆ 28055         ┆ 603.0          ┆ 1         ┆ null          ┆ null         │\n",
       "│ 0       ┆ 28658         ┆ 2542.0         ┆ 3         ┆ null          ┆ null         │\n",
       "│ 0       ┆ 31200         ┆ 495.0          ┆ 5         ┆ null          ┆ null         │\n",
       "│ 0       ┆ 62648         ┆ 495.0          ┆ 7         ┆ null          ┆ null         │\n",
       "│ 0       ┆ 63143         ┆ 2197.0         ┆ 9         ┆ null          ┆ null         │\n",
       "│ …       ┆ …             ┆ …              ┆ …         ┆ …             ┆ …            │\n",
       "│ 526110  ┆ 36653         ┆ 2347.0         ┆ 3         ┆ null          ┆ null         │\n",
       "│ 526110  ┆ 38934         ┆ 0.0            ┆ 5         ┆ null          ┆ null         │\n",
       "│ 526110  ┆ 42765         ┆ 0.0            ┆ 7         ┆ null          ┆ null         │\n",
       "│ 526110  ┆ 42765         ┆ 2396.0         ┆ 9         ┆ null          ┆ null         │\n",
       "│ 526110  ┆ 45148         ┆ 0.0            ┆ 11        ┆ null          ┆ null         │\n",
       "└─────────┴───────────────┴────────────────┴───────────┴───────────────┴──────────────┘"
      ]
     },
     "execution_count": 14,
     "metadata": {},
     "output_type": "execute_result"
    }
   ],
   "source": [
    "legs_secs"
   ]
  },
  {
   "cell_type": "code",
   "execution_count": 12,
   "id": "b65a6463",
   "metadata": {},
   "outputs": [
    {
     "ename": "ShapeError",
     "evalue": "unable to vstack, column names don't match: \"seq_index\" and \"dep_time_secs\"",
     "output_type": "error",
     "traceback": [
      "\u001b[0;31m---------------------------------------------------------------------------\u001b[0m",
      "\u001b[0;31mShapeError\u001b[0m                                Traceback (most recent call last)",
      "\u001b[0;32m/var/folders/9p/n1grlsxd23v19s01ft7jpq880000gn/T/ipykernel_22063/1642285039.py\u001b[0m in \u001b[0;36m<module>\u001b[0;34m\u001b[0m\n\u001b[0;32m----> 1\u001b[0;31m \u001b[0mextra_cols\u001b[0m \u001b[0;34m=\u001b[0m \u001b[0mpl\u001b[0m\u001b[0;34m.\u001b[0m\u001b[0mconcat\u001b[0m\u001b[0;34m(\u001b[0m\u001b[0;34m[\u001b[0m\u001b[0mactivities_secs\u001b[0m\u001b[0;34m,\u001b[0m \u001b[0mlegs_secs\u001b[0m\u001b[0;34m]\u001b[0m\u001b[0;34m)\u001b[0m\u001b[0;34m\u001b[0m\u001b[0;34m\u001b[0m\u001b[0m\n\u001b[0m",
      "\u001b[0;32m~/opt/anaconda3/lib/python3.9/site-packages/polars/functions/eager.py\u001b[0m in \u001b[0;36mconcat\u001b[0;34m(items, how, rechunk, parallel)\u001b[0m\n\u001b[1;32m    227\u001b[0m     \u001b[0;32mif\u001b[0m \u001b[0misinstance\u001b[0m\u001b[0;34m(\u001b[0m\u001b[0mfirst\u001b[0m\u001b[0;34m,\u001b[0m \u001b[0mpl\u001b[0m\u001b[0;34m.\u001b[0m\u001b[0mDataFrame\u001b[0m\u001b[0;34m)\u001b[0m\u001b[0;34m:\u001b[0m\u001b[0;34m\u001b[0m\u001b[0;34m\u001b[0m\u001b[0m\n\u001b[1;32m    228\u001b[0m         \u001b[0;32mif\u001b[0m \u001b[0mhow\u001b[0m \u001b[0;34m==\u001b[0m \u001b[0;34m\"vertical\"\u001b[0m\u001b[0;34m:\u001b[0m\u001b[0;34m\u001b[0m\u001b[0;34m\u001b[0m\u001b[0m\n\u001b[0;32m--> 229\u001b[0;31m             \u001b[0mout\u001b[0m \u001b[0;34m=\u001b[0m \u001b[0mwrap_df\u001b[0m\u001b[0;34m(\u001b[0m\u001b[0mplr\u001b[0m\u001b[0;34m.\u001b[0m\u001b[0mconcat_df\u001b[0m\u001b[0;34m(\u001b[0m\u001b[0melems\u001b[0m\u001b[0;34m)\u001b[0m\u001b[0;34m)\u001b[0m\u001b[0;34m\u001b[0m\u001b[0;34m\u001b[0m\u001b[0m\n\u001b[0m\u001b[1;32m    230\u001b[0m         \u001b[0;32melif\u001b[0m \u001b[0mhow\u001b[0m \u001b[0;34m==\u001b[0m \u001b[0;34m\"vertical_relaxed\"\u001b[0m\u001b[0;34m:\u001b[0m\u001b[0;34m\u001b[0m\u001b[0;34m\u001b[0m\u001b[0m\n\u001b[1;32m    231\u001b[0m             out = wrap_ldf(\n",
      "\u001b[0;31mShapeError\u001b[0m: unable to vstack, column names don't match: \"seq_index\" and \"dep_time_secs\""
     ]
    }
   ],
   "source": [
    "extra_cols = pl.concat([activities_secs, legs_secs])"
   ]
  },
  {
   "cell_type": "markdown",
   "id": "17eca4a4",
   "metadata": {},
   "source": [
    "## Create the trips data frame"
   ]
  },
  {
   "cell_type": "code",
   "execution_count": null,
   "id": "f7a2d57f",
   "metadata": {},
   "outputs": [],
   "source": [
    "clean_cols = [\"plan_id\", \"seq_index\", \"element_type\", \"type_or_mode\", \"start_link\",\n",
    "              \"end_link\", \"route\", \"duration\"]\n",
    "\n",
    "activities_clean = activities.select(clean_cols)\n",
    "legs_clean = legs.select(clean_cols)"
   ]
  },
  {
   "cell_type": "code",
   "execution_count": null,
   "id": "58466398",
   "metadata": {},
   "outputs": [],
   "source": [
    "matsim_trips = pl.concat([activities_clean, legs_clean]).sort(['plan_id', 'seq_index'])\n",
    "\n",
    "matsim_trips = matsim_trips.with_columns([\n",
    "    # Indicate if activity is not interaction\n",
    "    ((pl.col('element_type') == 'leg'))\n",
    "    .cast(pl.Int8).alias('is_trip_start')\n",
    "])\n",
    "\n",
    "matsim_trips = (matsim_trips\n",
    "                .with_columns([pl.col('is_trip_start').cum_sum().over('plan_id').alias('trip_id')])\n",
    "                .drop('is_trip_start')\n",
    "    )\n",
    "\n",
    "matsim_trips = matsim_trips.join(extra_cols, on=[\"plan_id\", \"seq_index\"], how=\"left\")"
   ]
  },
  {
   "cell_type": "code",
   "execution_count": null,
   "id": "394d4544",
   "metadata": {},
   "outputs": [],
   "source": [
    "matsim_trips.filter(plan_id=1)"
   ]
  },
  {
   "cell_type": "markdown",
   "id": "cd9ba946",
   "metadata": {},
   "source": [
    "# Get MATSim trips"
   ]
  },
  {
   "cell_type": "markdown",
   "id": "115d174a",
   "metadata": {},
   "source": [
    "## Record start and end times for activities and legs"
   ]
  },
  {
   "cell_type": "code",
   "execution_count": null,
   "id": "592ef094",
   "metadata": {},
   "outputs": [],
   "source": [
    "matsim_trips = matsim_trips.with_columns([\n",
    "    pl.col(\"dep_time_secs\").shift(1).alias(\"prev_leg_dep_secs\"),\n",
    "    pl.col(\"trav_time_secs\").shift(1).alias(\"prev_leg_trav_secs\"),\n",
    "])\n",
    "\n",
    "# Activity duration\n",
    "matsim_trips = matsim_trips.with_columns([\n",
    "    pl.when((pl.col(\"element_type\") == \"activity\") & pl.col(\"max_dur_secs\").is_not_null())\n",
    "      .then(pl.col(\"max_dur_secs\"))\n",
    "\n",
    "    .when((pl.col(\"element_type\") == \"activity\") &\n",
    "          pl.col(\"end_time_secs\").is_not_null() &\n",
    "          pl.col(\"prev_leg_dep_secs\").is_not_null() &\n",
    "          pl.col(\"prev_leg_trav_secs\").is_not_null())\n",
    "      .then(pl.col(\"end_time_secs\") - (pl.col(\"prev_leg_dep_secs\") + pl.col(\"prev_leg_trav_secs\")))\n",
    "\n",
    "    .otherwise(None)\n",
    "    .alias(\"activity_duration_secs\")\n",
    "])"
   ]
  },
  {
   "cell_type": "code",
   "execution_count": null,
   "id": "d253116e",
   "metadata": {},
   "outputs": [],
   "source": [
    "# Gather \"activity_duration\" and \"travel_time\" into a single variable\n",
    "matsim_trips = matsim_trips.with_columns([\n",
    "    pl.when(pl.col(\"element_type\") == \"activity\")\n",
    "      .then(pl.col(\"activity_duration_secs\"))\n",
    "      .when(pl.col(\"element_type\") == \"leg\")\n",
    "      .then(pl.col(\"trav_time_secs\"))\n",
    "      .otherwise(None)\n",
    "      .alias(\"duration\")\n",
    "])\n",
    "\n",
    "# get arrival time for legs\n",
    "matsim_trips = matsim_trips.with_columns((pl.col('dep_time_secs')+pl.col('duration')).alias('arrival_time'))"
   ]
  },
  {
   "cell_type": "code",
   "execution_count": null,
   "id": "a8c9fd00",
   "metadata": {},
   "outputs": [],
   "source": [
    "# Start times\n",
    "matsim_trips = matsim_trips.with_columns([\n",
    "    pl.when(pl.col(\"element_type\") == \"leg\")\n",
    "      .then(pl.col(\"dep_time_secs\"))\n",
    "\n",
    "    .when((pl.col(\"element_type\") == \"activity\") & pl.col(\"end_time_secs\").is_not_null())\n",
    "      .then(pl.col(\"end_time_secs\") - pl.col(\"duration\"))\n",
    "\n",
    "    .when((pl.col(\"element_type\") == \"activity\") & pl.col(\"prev_leg_dep_secs\").is_not_null())\n",
    "      .then(pl.col(\"prev_leg_dep_secs\") + pl.col(\"prev_leg_trav_secs\"))\n",
    "\n",
    "    .otherwise(None)\n",
    "    .alias(\"start_time_secs\")\n",
    "])\n",
    "\n",
    "# End times\n",
    "matsim_trips = matsim_trips.with_columns([\n",
    "    pl.when(pl.col(\"element_type\") == \"leg\")\n",
    "      .then(pl.col(\"dep_time_secs\") + pl.col(\"duration\"))\n",
    "\n",
    "    .when(pl.col(\"element_type\") == \"activity\")\n",
    "      .then(pl.col(\"start_time_secs\") + pl.col(\"duration\"))\n",
    "\n",
    "    .otherwise(None)\n",
    "    .alias(\"end_time_secs\")\n",
    "])"
   ]
  },
  {
   "cell_type": "code",
   "execution_count": null,
   "id": "8eacee2a",
   "metadata": {},
   "outputs": [],
   "source": [
    "# Select and rearrange variables\n",
    "matsim_trips = matsim_trips.select([\"plan_id\", \"trip_id\", \"seq_index\", \"element_type\", \"type_or_mode\", \n",
    "                                    \"start_time_secs\", \"end_time_secs\", \"duration\", \n",
    "                                    \"route\", \"start_link\", \"end_link\"])"
   ]
  },
  {
   "cell_type": "code",
   "execution_count": null,
   "id": "dd1b969c",
   "metadata": {},
   "outputs": [],
   "source": [
    "matsim_trips = (matsim_trips\n",
    "        .join(plans.select(['id', 'person_id']), how='left', left_on='plan_id', right_on='id')\n",
    "               )"
   ]
  },
  {
   "cell_type": "code",
   "execution_count": null,
   "id": "52dca4fe",
   "metadata": {},
   "outputs": [],
   "source": [
    "matsim_trips.filter(plan_id=1)"
   ]
  },
  {
   "cell_type": "markdown",
   "id": "e7096cc8",
   "metadata": {},
   "source": [
    "## Explore activity types to define tours (i.e. Metro agents)"
   ]
  },
  {
   "cell_type": "markdown",
   "id": "9cc5f87f",
   "metadata": {},
   "source": [
    "### Save the activities in a separate data frame"
   ]
  },
  {
   "cell_type": "code",
   "execution_count": null,
   "id": "72039849",
   "metadata": {},
   "outputs": [],
   "source": [
    "# look for activiy types with an end_time\n",
    "tour_anchor_types = (\n",
    "    activities.filter(pl.col(\"end_time\").is_not_null())\n",
    "    .select(\"type\").unique().to_series().to_list()\n",
    ")\n",
    "\n",
    "# Add walking legs to separate walking legs in metropolis\n",
    "tour_anchor_types = list(set(tour_anchor_types))\n",
    "\n",
    "# Create a tour flag\n",
    "matsim_trips = matsim_trips.with_columns([\n",
    "    pl.col(\"type_or_mode\").is_in(tour_anchor_types)\n",
    "    .alias(\"is_tour_anchor\")\n",
    "])\n",
    "\n",
    "# Create tours\n",
    "matsim_trips = matsim_trips.with_columns([\n",
    "    pl.col(\"is_tour_anchor\")\n",
    "      .cast(pl.Int32)\n",
    "      .cum_sum()\n",
    "      .over(\"plan_id\")\n",
    "      .alias(\"tour_id\")\n",
    "])"
   ]
  },
  {
   "cell_type": "markdown",
   "id": "42d43f8e",
   "metadata": {},
   "source": [
    "# MATSim trips"
   ]
  },
  {
   "cell_type": "code",
   "execution_count": null,
   "id": "e4df0ed7",
   "metadata": {},
   "outputs": [],
   "source": [
    "pl.Config(tbl_rows=33)\n",
    "matsim_trips.filter(plan_id=1)"
   ]
  },
  {
   "cell_type": "markdown",
   "id": "65af1241",
   "metadata": {},
   "source": [
    "## Summarize per Trips"
   ]
  },
  {
   "cell_type": "markdown",
   "id": "c1c6a6ef",
   "metadata": {},
   "source": [
    "Create metropolis `stopping_time` from actvity duration"
   ]
  },
  {
   "cell_type": "code",
   "execution_count": null,
   "id": "5e34b3cd",
   "metadata": {},
   "outputs": [],
   "source": [
    "stopping_time_df = (\n",
    "    matsim_trips\n",
    "    .filter(pl.col(\"element_type\") == \"activity\")\n",
    "    .group_by([\"plan_id\", \"trip_id\"])\n",
    "    .agg([\n",
    "        pl.col(\"duration\").sum().alias(\"stopping_time\")\n",
    "    ])\n",
    "    .sort(['plan_id', 'trip_id'])\n",
    ")"
   ]
  },
  {
   "cell_type": "code",
   "execution_count": null,
   "id": "7d482e01",
   "metadata": {
    "scrolled": false
   },
   "outputs": [],
   "source": [
    "trip_summary = (\n",
    "    matsim_trips\n",
    "    .filter(pl.col(\"element_type\") == \"leg\")\n",
    "    .rename({\"start_time_secs\":\"start_time\",\n",
    "             \"end_time_secs\": \"end_time\",\n",
    "             \"type_or_mode\":\"mode\"\n",
    "            })\n",
    "    \n",
    "    # Rename variables\n",
    "    .with_columns([\n",
    "\n",
    "        # Travel_time per trip\n",
    "        (pl.col(\"end_time\") - pl.col(\"start_time\")).alias(\"duration\")\n",
    "    ])\n",
    "    .select([\n",
    "        \"person_id\", \"plan_id\", \"tour_id\", \"trip_id\", \"mode\", \"start_time\", \"end_time\", \"duration\",\n",
    "        \"route\", \"start_link\", \"end_link\"\n",
    "    ])\n",
    "    .sort([\"plan_id\", \"trip_id\"])\n",
    ")\n",
    "# Join stopping_time\n",
    "trip_summary = trip_summary.join(stopping_time_df, on=[\"plan_id\", \"trip_id\"], how=\"left\")"
   ]
  },
  {
   "cell_type": "code",
   "execution_count": null,
   "id": "410d6acf",
   "metadata": {},
   "outputs": [],
   "source": [
    "print(\"Writing files to\", MATSIM_TRIPS)\n",
    "trip_summary.write_parquet(os.path.join(MATSIM_TRIPS, \"MATSim_trips.parquet\"))"
   ]
  }
 ],
 "metadata": {
  "kernelspec": {
   "display_name": "Python 3 (ipykernel)",
   "language": "python",
   "name": "python3"
  },
  "language_info": {
   "codemirror_mode": {
    "name": "ipython",
    "version": 3
   },
   "file_extension": ".py",
   "mimetype": "text/x-python",
   "name": "python",
   "nbconvert_exporter": "python",
   "pygments_lexer": "ipython3",
   "version": "3.9.18"
  }
 },
 "nbformat": 4,
 "nbformat_minor": 5
}
