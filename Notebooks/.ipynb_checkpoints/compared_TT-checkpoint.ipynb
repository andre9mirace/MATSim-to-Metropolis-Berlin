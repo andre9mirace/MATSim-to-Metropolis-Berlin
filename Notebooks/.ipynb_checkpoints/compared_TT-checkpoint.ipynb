{
 "cells": [
  {
   "cell_type": "code",
   "execution_count": 1,
   "id": "4bd20d84-7cae-4879-80fb-93a0cf1385b2",
   "metadata": {},
   "outputs": [],
   "source": [
    "import numpy as np\n",
    "import os\n",
    "import pyarrow\n",
    "import sys\n",
    "import json\n",
    "import math\n",
    "import mpl_utils\n",
    "import matplotlib as mpl\n",
    "import matplotlib.pyplot as plt\n",
    "import seaborn as sns\n",
    "\n",
    "import pandas as pd\n",
    "import polars as pl\n",
    "import xml.etree.ElementTree as ET\n",
    "\n",
    "from xopen import xopen"
   ]
  },
  {
   "cell_type": "code",
   "execution_count": 2,
   "id": "5002d7c0-d30f-481b-8dd5-2149c853f0e8",
   "metadata": {},
   "outputs": [],
   "source": [
    "# General directories\n",
    "general_directory = '/Users/andre/Desktop/Cergy/'\n",
    "\n",
    "berlin_directory = 'MATSim/matsim-berlin/input/v6.4/'\n",
    "\n",
    "pt_10pct_dir = \"Python_Scripts/runs/pt_10pct/\""
   ]
  },
  {
   "cell_type": "code",
   "execution_count": 3,
   "id": "2679b9de",
   "metadata": {},
   "outputs": [],
   "source": [
    "# MATSim Berlin paths\n",
    "PLAN_PATH = (os.path.join(general_directory, pt_10pct_dir, \"matsim_trips/MATSim_trips.parquet\")) # MATSim trips\n",
    "\n",
    "METRO_OUTPUT = (os.path.join(general_directory, pt_10pct_dir, \"metro_outputs/\"))\n"
   ]
  },
  {
   "cell_type": "code",
   "execution_count": 4,
   "id": "62c5e7f0",
   "metadata": {},
   "outputs": [],
   "source": [
    "CMP = mpl.colormaps[\"Set2\"]\n",
    "\n",
    "PARAMETERS = {\n",
    "    \"text.usetex\": False,\n",
    "    \"text.latex.preamble\": r\"\\usepackage{amsmath}\",\n",
    "    \"figure.dpi\": 600,\n",
    "    \"font.size\": 12,\n",
    "    \"font.serif\": [],\n",
    "    \"font.sans-serif\": [],\n",
    "    \"font.monospace\": [],\n",
    "    \"axes.labelsize\": 12,\n",
    "    \"axes.titlesize\": 12,\n",
    "    \"axes.linewidth\": 0.6,\n",
    "    \"legend.fontsize\": 12,\n",
    "    \"xtick.labelsize\": 10,\n",
    "    \"ytick.labelsize\": 10,\n",
    "    \"font.family\": \"serif\",\n",
    "}\n",
    "plt.rcParams.update(PARAMETERS)\n"
   ]
  },
  {
   "cell_type": "code",
   "execution_count": 5,
   "id": "01dc6c90",
   "metadata": {},
   "outputs": [],
   "source": [
    "def set_size(width=470, ratio=\"golden\", fraction=1.0):\n",
    "    \"\"\"Set figure dimensions to avoid scaling in LaTeX.\n",
    "\n",
    "    Parameters\n",
    "    ----------\n",
    "    width: float\n",
    "            Document textwidth or columnwidth in pts\n",
    "    fraction: float, optional\n",
    "            Fraction of the width which you wish the figure to occupy\n",
    "\n",
    "    Returns\n",
    "    -------\n",
    "    fig_dim: tuple\n",
    "            Dimensions of figure in inches\n",
    "    \"\"\"\n",
    "    # Width of figure (in pts)\n",
    "    fig_width_pt = width * fraction\n",
    "    # Convert from pt to inches\n",
    "    inches_per_pt = 1 / 72.27\n",
    "    if ratio == \"golden\":\n",
    "        # Golden ratio to set aesthetic figure height\n",
    "        # https://disq.us/p/2940ij3\n",
    "        ratio = (5**0.5 - 1) / 2\n",
    "    # Figure width in inches\n",
    "    fig_width_in = fig_width_pt * inches_per_pt\n",
    "    # Figure height in inches\n",
    "    fig_height_in = fig_width_in * float(ratio)\n",
    "    fig_dim = (fig_width_in, fig_height_in)\n",
    "    return fig_dim\n",
    "\n",
    "def get_figure(width=470, ratio=\"golden\", fraction=1.0):\n",
    "    fig, ax = plt.subplots(figsize=set_size(width, ratio, fraction))\n",
    "    return fig, ax"
   ]
  },
  {
   "cell_type": "code",
   "execution_count": 6,
   "id": "20b72933-41f8-4e55-8298-5dbcc1201da6",
   "metadata": {},
   "outputs": [],
   "source": [
    "def read_matsim_plans():\n",
    "    matsim_trips = pl.read_parquet(os.path.join(PLAN_PATH))\n",
    "    return matsim_trips"
   ]
  },
  {
   "cell_type": "code",
   "execution_count": 7,
   "id": "3d8ec271-73a5-4532-8c44-450fd9ffba1f",
   "metadata": {},
   "outputs": [],
   "source": [
    "def read_metropolis_results():\n",
    "    agents = pl.read_parquet(os.path.join(METRO_OUTPUT, \"agent_results.parquet\"))\n",
    "    trips = pl.read_parquet(os.path.join(METRO_OUTPUT, \"trip_results.parquet\"))\n",
    "    routes = pl.read_parquet(os.path.join(METRO_OUTPUT, \"route_results.parquet\"))\n",
    "    return agents, trips, routes"
   ]
  },
  {
   "cell_type": "code",
   "execution_count": 8,
   "id": "c844b599",
   "metadata": {
    "scrolled": true
   },
   "outputs": [
    {
     "name": "stdout",
     "output_type": "stream",
     "text": [
      "Reading MATSim experienced plans\n"
     ]
    }
   ],
   "source": [
    "print(\"Reading MATSim experienced plans\")\n",
    "matsim_trips = read_matsim_plans()"
   ]
  },
  {
   "cell_type": "code",
   "execution_count": 9,
   "id": "16c97a2b",
   "metadata": {},
   "outputs": [
    {
     "name": "stdout",
     "output_type": "stream",
     "text": [
      "Reading METROPOLIS results\n"
     ]
    }
   ],
   "source": [
    "print(\"Reading METROPOLIS results\")\n",
    "mp_agents, mp_trips, mp_routes = read_metropolis_results()"
   ]
  },
  {
   "cell_type": "code",
   "execution_count": 10,
   "id": "27c3e407",
   "metadata": {},
   "outputs": [],
   "source": [
    "matsim_trips = (\n",
    "    matsim_trips\n",
    "    .with_columns([(((pl.col(\"plan_id\")*100).cast(pl.Utf8))+((pl.col(\"tour_id\")).cast(pl.Utf8)))\n",
    "                                           .cast(pl.Int64).alias(\"agent_id\")]) # agent_id ={plan_id*100;tour_id}])\n",
    "    .sort([\"agent_id\"])\n",
    "               )"
   ]
  },
  {
   "cell_type": "markdown",
   "id": "80ad8a91",
   "metadata": {},
   "source": [
    "# Comparison table"
   ]
  },
  {
   "cell_type": "code",
   "execution_count": 13,
   "id": "cd7c5bf5",
   "metadata": {},
   "outputs": [],
   "source": [
    "matsim_trips = matsim_trips.sort([\"agent_id\", \"start_time\"]).with_columns([\n",
    "    (pl.cum_count(\"agent_id\").over(\"agent_id\") - 1).alias(\"trip_index\")\n",
    "])"
   ]
  },
  {
   "cell_type": "code",
   "execution_count": 14,
   "id": "d11abf67",
   "metadata": {},
   "outputs": [],
   "source": [
    "comparison_table = (\n",
    "    matsim_trips\n",
    "    .select([\"agent_id\", \"trip_index\", \"start_time\", \"end_time\"])\n",
    "    .join(\n",
    "        mp_trips.select([\"agent_id\", \"trip_index\", \"departure_time\", \"arrival_time\"]),\n",
    "        on=[\"agent_id\", \"trip_index\"],\n",
    "        how=\"inner\"\n",
    "    )\n",
    "    .sort(\"agent_id\")\n",
    ")\n",
    "comparison_table = comparison_table.with_columns([\n",
    "    (pl.col(\"departure_time\") - pl.col(\"start_time\")).alias(\"start_diff\"),\n",
    "    (pl.col(\"arrival_time\") - pl.col(\"end_time\")).alias(\"end_diff\")\n",
    "])"
   ]
  },
  {
   "cell_type": "code",
   "execution_count": 17,
   "id": "65da3148",
   "metadata": {},
   "outputs": [
    {
     "data": {
      "text/html": [
       "<div><style>\n",
       ".dataframe > thead > tr,\n",
       ".dataframe > tbody > tr {\n",
       "  text-align: right;\n",
       "  white-space: pre-wrap;\n",
       "}\n",
       "</style>\n",
       "<small>shape: (16, 20)</small><table border=\"1\" class=\"dataframe\"><thead><tr><th>person_id</th><th>plan_id</th><th>tour_id</th><th>trip_id</th><th>mode</th><th>start_time</th><th>end_time</th><th>duration</th><th>route</th><th>start_link</th><th>end_link</th><th>seq_index_right</th><th>element_type</th><th>type_or_mode</th><th>start_time_secs</th><th>end_time_secs</th><th>is_tour_anchor</th><th>stopping_time</th><th>agent_id</th><th>trip_index</th></tr><tr><td>str</td><td>i64</td><td>i32</td><td>i64</td><td>str</td><td>f64</td><td>f64</td><td>f64</td><td>str</td><td>str</td><td>str</td><td>u32</td><td>str</td><td>str</td><td>f64</td><td>f64</td><td>bool</td><td>f64</td><td>i64</td><td>u32</td></tr></thead><tbody><tr><td>&quot;bb_00005f6f&quot;</td><td>1</td><td>1</td><td>1</td><td>&quot;walk&quot;</td><td>30484.0</td><td>30533.0</td><td>49.0</td><td>null</td><td>&quot;-30051377&quot;</td><td>&quot;-30051377&quot;</td><td>2</td><td>&quot;activity&quot;</td><td>&quot;car interaction&quot;</td><td>30533.0</td><td>30533.0</td><td>false</td><td>0.0</td><td>1001</td><td>0</td></tr><tr><td>&quot;bb_00005f6f&quot;</td><td>1</td><td>1</td><td>2</td><td>&quot;car&quot;</td><td>30533.0</td><td>31786.0</td><td>1253.0</td><td>&quot;-30051377 30051377 1029686950 …</td><td>&quot;-30051377&quot;</td><td>&quot;-313182541#1&quot;</td><td>4</td><td>&quot;activity&quot;</td><td>&quot;car interaction&quot;</td><td>31786.0</td><td>31786.0</td><td>false</td><td>0.0</td><td>1001</td><td>1</td></tr><tr><td>&quot;bb_00005f6f&quot;</td><td>1</td><td>1</td><td>3</td><td>&quot;walk&quot;</td><td>31770.0</td><td>32129.0</td><td>359.0</td><td>null</td><td>&quot;-313182541#1&quot;</td><td>&quot;-313182541#1&quot;</td><td>6</td><td>&quot;activity&quot;</td><td>&quot;personal_business_4200&quot;</td><td>32129.0</td><td>35475.0</td><td>true</td><td>3346.0</td><td>1001</td><td>2</td></tr><tr><td>&quot;bb_00005f6f&quot;</td><td>1</td><td>2</td><td>4</td><td>&quot;walk&quot;</td><td>35475.0</td><td>35834.0</td><td>359.0</td><td>null</td><td>&quot;-313182541#1&quot;</td><td>&quot;-313182541#1&quot;</td><td>8</td><td>&quot;activity&quot;</td><td>&quot;car interaction&quot;</td><td>35834.0</td><td>35834.0</td><td>false</td><td>0.0</td><td>1002</td><td>0</td></tr><tr><td>&quot;bb_00005f6f&quot;</td><td>1</td><td>2</td><td>5</td><td>&quot;car&quot;</td><td>35834.0</td><td>36995.0</td><td>1161.0</td><td>&quot;-313182541#1 -240804229 -31318…</td><td>&quot;-313182541#1&quot;</td><td>&quot;-30051377&quot;</td><td>10</td><td>&quot;activity&quot;</td><td>&quot;car interaction&quot;</td><td>36995.0</td><td>36995.0</td><td>false</td><td>0.0</td><td>1002</td><td>1</td></tr><tr><td>&quot;bb_00005f6f&quot;</td><td>1</td><td>2</td><td>6</td><td>&quot;walk&quot;</td><td>36978.0</td><td>37027.0</td><td>49.0</td><td>null</td><td>&quot;-30051377&quot;</td><td>&quot;-30051377&quot;</td><td>12</td><td>&quot;activity&quot;</td><td>&quot;home_17400&quot;</td><td>37027.0</td><td>52961.0</td><td>true</td><td>15934.0</td><td>1002</td><td>2</td></tr><tr><td>&quot;bb_00005f6f&quot;</td><td>1</td><td>3</td><td>7</td><td>&quot;walk&quot;</td><td>52961.0</td><td>53010.0</td><td>49.0</td><td>null</td><td>&quot;-30051377&quot;</td><td>&quot;-30051377&quot;</td><td>14</td><td>&quot;activity&quot;</td><td>&quot;car interaction&quot;</td><td>53010.0</td><td>53010.0</td><td>false</td><td>0.0</td><td>1003</td><td>0</td></tr><tr><td>&quot;bb_00005f6f&quot;</td><td>1</td><td>3</td><td>8</td><td>&quot;car&quot;</td><td>53010.0</td><td>56212.0</td><td>3202.0</td><td>&quot;-30051377 30051377 328050968 3…</td><td>&quot;-30051377&quot;</td><td>&quot;-73029200&quot;</td><td>16</td><td>&quot;activity&quot;</td><td>&quot;car interaction&quot;</td><td>56212.0</td><td>56212.0</td><td>false</td><td>0.0</td><td>1003</td><td>1</td></tr><tr><td>&quot;bb_00005f6f&quot;</td><td>1</td><td>3</td><td>9</td><td>&quot;walk&quot;</td><td>56200.0</td><td>56223.0</td><td>23.0</td><td>null</td><td>&quot;-73029200&quot;</td><td>&quot;-73029200&quot;</td><td>18</td><td>&quot;activity&quot;</td><td>&quot;shop_other_600&quot;</td><td>56223.0</td><td>57035.0</td><td>false</td><td>812.0</td><td>1003</td><td>2</td></tr><tr><td>&quot;bb_00005f6f&quot;</td><td>1</td><td>3</td><td>10</td><td>&quot;walk&quot;</td><td>57047.0</td><td>57070.0</td><td>23.0</td><td>null</td><td>&quot;-73029200&quot;</td><td>&quot;-73029200&quot;</td><td>20</td><td>&quot;activity&quot;</td><td>&quot;car interaction&quot;</td><td>57070.0</td><td>57070.0</td><td>false</td><td>0.0</td><td>1003</td><td>3</td></tr><tr><td>&quot;bb_00005f6f&quot;</td><td>1</td><td>3</td><td>11</td><td>&quot;car&quot;</td><td>57070.0</td><td>57070.0</td><td>0.0</td><td>&quot;-73029200&quot;</td><td>&quot;-73029200&quot;</td><td>&quot;-73029200&quot;</td><td>22</td><td>&quot;activity&quot;</td><td>&quot;car interaction&quot;</td><td>57070.0</td><td>57070.0</td><td>false</td><td>0.0</td><td>1003</td><td>4</td></tr><tr><td>&quot;bb_00005f6f&quot;</td><td>1</td><td>3</td><td>12</td><td>&quot;walk&quot;</td><td>57070.0</td><td>57101.0</td><td>31.0</td><td>null</td><td>&quot;-73029200&quot;</td><td>&quot;-73029200&quot;</td><td>24</td><td>&quot;activity&quot;</td><td>&quot;shop_other_600&quot;</td><td>57101.0</td><td>57477.0</td><td>false</td><td>376.0</td><td>1003</td><td>5</td></tr><tr><td>&quot;bb_00005f6f&quot;</td><td>1</td><td>3</td><td>13</td><td>&quot;walk&quot;</td><td>57477.0</td><td>57477.0</td><td>0.0</td><td>null</td><td>&quot;-73029200&quot;</td><td>&quot;-73029200&quot;</td><td>26</td><td>&quot;activity&quot;</td><td>&quot;shop_other_600&quot;</td><td>57477.0</td><td>58597.0</td><td>false</td><td>1120.0</td><td>1003</td><td>6</td></tr><tr><td>&quot;bb_00005f6f&quot;</td><td>1</td><td>3</td><td>14</td><td>&quot;walk&quot;</td><td>58597.0</td><td>58628.0</td><td>31.0</td><td>null</td><td>&quot;-73029200&quot;</td><td>&quot;-73029200&quot;</td><td>28</td><td>&quot;activity&quot;</td><td>&quot;car interaction&quot;</td><td>58628.0</td><td>58628.0</td><td>false</td><td>0.0</td><td>1003</td><td>7</td></tr><tr><td>&quot;bb_00005f6f&quot;</td><td>1</td><td>3</td><td>15</td><td>&quot;car&quot;</td><td>58628.0</td><td>61679.0</td><td>3051.0</td><td>&quot;-73029200 -1015838039 -3116288…</td><td>&quot;-73029200&quot;</td><td>&quot;-30051377&quot;</td><td>30</td><td>&quot;activity&quot;</td><td>&quot;car interaction&quot;</td><td>61679.0</td><td>61679.0</td><td>false</td><td>0.0</td><td>1003</td><td>8</td></tr><tr><td>&quot;bb_00005f6f&quot;</td><td>1</td><td>3</td><td>16</td><td>&quot;walk&quot;</td><td>61662.0</td><td>61711.0</td><td>49.0</td><td>null</td><td>&quot;-30051377&quot;</td><td>&quot;-30051377&quot;</td><td>32</td><td>&quot;activity&quot;</td><td>&quot;home_86400&quot;</td><td>61711.0</td><td>null</td><td>true</td><td>null</td><td>1003</td><td>9</td></tr></tbody></table></div>"
      ],
      "text/plain": [
       "shape: (16, 20)\n",
       "┌─────────────┬─────────┬─────────┬─────────┬───┬─────────────┬────────────┬──────────┬────────────┐\n",
       "│ person_id   ┆ plan_id ┆ tour_id ┆ trip_id ┆ … ┆ is_tour_anc ┆ stopping_t ┆ agent_id ┆ trip_index │\n",
       "│ ---         ┆ ---     ┆ ---     ┆ ---     ┆   ┆ hor         ┆ ime        ┆ ---      ┆ ---        │\n",
       "│ str         ┆ i64     ┆ i32     ┆ i64     ┆   ┆ ---         ┆ ---        ┆ i64      ┆ u32        │\n",
       "│             ┆         ┆         ┆         ┆   ┆ bool        ┆ f64        ┆          ┆            │\n",
       "╞═════════════╪═════════╪═════════╪═════════╪═══╪═════════════╪════════════╪══════════╪════════════╡\n",
       "│ bb_00005f6f ┆ 1       ┆ 1       ┆ 1       ┆ … ┆ false       ┆ 0.0        ┆ 1001     ┆ 0          │\n",
       "│ bb_00005f6f ┆ 1       ┆ 1       ┆ 2       ┆ … ┆ false       ┆ 0.0        ┆ 1001     ┆ 1          │\n",
       "│ bb_00005f6f ┆ 1       ┆ 1       ┆ 3       ┆ … ┆ true        ┆ 3346.0     ┆ 1001     ┆ 2          │\n",
       "│ bb_00005f6f ┆ 1       ┆ 2       ┆ 4       ┆ … ┆ false       ┆ 0.0        ┆ 1002     ┆ 0          │\n",
       "│ bb_00005f6f ┆ 1       ┆ 2       ┆ 5       ┆ … ┆ false       ┆ 0.0        ┆ 1002     ┆ 1          │\n",
       "│ bb_00005f6f ┆ 1       ┆ 2       ┆ 6       ┆ … ┆ true        ┆ 15934.0    ┆ 1002     ┆ 2          │\n",
       "│ bb_00005f6f ┆ 1       ┆ 3       ┆ 7       ┆ … ┆ false       ┆ 0.0        ┆ 1003     ┆ 0          │\n",
       "│ bb_00005f6f ┆ 1       ┆ 3       ┆ 8       ┆ … ┆ false       ┆ 0.0        ┆ 1003     ┆ 1          │\n",
       "│ bb_00005f6f ┆ 1       ┆ 3       ┆ 9       ┆ … ┆ false       ┆ 812.0      ┆ 1003     ┆ 2          │\n",
       "│ bb_00005f6f ┆ 1       ┆ 3       ┆ 10      ┆ … ┆ false       ┆ 0.0        ┆ 1003     ┆ 3          │\n",
       "│ bb_00005f6f ┆ 1       ┆ 3       ┆ 11      ┆ … ┆ false       ┆ 0.0        ┆ 1003     ┆ 4          │\n",
       "│ bb_00005f6f ┆ 1       ┆ 3       ┆ 12      ┆ … ┆ false       ┆ 376.0      ┆ 1003     ┆ 5          │\n",
       "│ bb_00005f6f ┆ 1       ┆ 3       ┆ 13      ┆ … ┆ false       ┆ 1120.0     ┆ 1003     ┆ 6          │\n",
       "│ bb_00005f6f ┆ 1       ┆ 3       ┆ 14      ┆ … ┆ false       ┆ 0.0        ┆ 1003     ┆ 7          │\n",
       "│ bb_00005f6f ┆ 1       ┆ 3       ┆ 15      ┆ … ┆ false       ┆ 0.0        ┆ 1003     ┆ 8          │\n",
       "│ bb_00005f6f ┆ 1       ┆ 3       ┆ 16      ┆ … ┆ true        ┆ null       ┆ 1003     ┆ 9          │\n",
       "└─────────────┴─────────┴─────────┴─────────┴───┴─────────────┴────────────┴──────────┴────────────┘"
      ]
     },
     "execution_count": 17,
     "metadata": {},
     "output_type": "execute_result"
    }
   ],
   "source": [
    "matsim_trips.filter(plan_id=1)"
   ]
  },
  {
   "cell_type": "code",
   "execution_count": 18,
   "id": "4ee830a3",
   "metadata": {
    "scrolled": false
   },
   "outputs": [
    {
     "data": {
      "text/html": [
       "<div><style>\n",
       ".dataframe > thead > tr,\n",
       ".dataframe > tbody > tr {\n",
       "  text-align: right;\n",
       "  white-space: pre-wrap;\n",
       "}\n",
       "</style>\n",
       "<small>shape: (16, 8)</small><table border=\"1\" class=\"dataframe\"><thead><tr><th>agent_id</th><th>trip_index</th><th>start_time</th><th>end_time</th><th>departure_time</th><th>arrival_time</th><th>start_diff</th><th>end_diff</th></tr><tr><td>i64</td><td>u32</td><td>f64</td><td>f64</td><td>f64</td><td>f64</td><td>f64</td><td>f64</td></tr></thead><tbody><tr><td>1001</td><td>0</td><td>30484.0</td><td>30533.0</td><td>30484.0</td><td>30533.0</td><td>0.0</td><td>0.0</td></tr><tr><td>1001</td><td>1</td><td>30533.0</td><td>31786.0</td><td>30533.0</td><td>31786.0</td><td>0.0</td><td>0.0</td></tr><tr><td>1001</td><td>2</td><td>31770.0</td><td>32129.0</td><td>31786.0</td><td>32145.0</td><td>16.0</td><td>16.0</td></tr><tr><td>1002</td><td>0</td><td>35475.0</td><td>35834.0</td><td>35475.0</td><td>35834.0</td><td>0.0</td><td>0.0</td></tr><tr><td>1002</td><td>1</td><td>35834.0</td><td>36995.0</td><td>35834.0</td><td>36994.0</td><td>0.0</td><td>-1.0</td></tr><tr><td>1002</td><td>2</td><td>36978.0</td><td>37027.0</td><td>36994.0</td><td>37043.0</td><td>16.0</td><td>16.0</td></tr><tr><td>1003</td><td>0</td><td>52961.0</td><td>53010.0</td><td>52961.0</td><td>53010.0</td><td>0.0</td><td>0.0</td></tr><tr><td>1003</td><td>1</td><td>53010.0</td><td>56212.0</td><td>53010.0</td><td>56038.44186</td><td>0.0</td><td>-173.55814</td></tr><tr><td>1003</td><td>2</td><td>56200.0</td><td>56223.0</td><td>56038.44186</td><td>56061.44186</td><td>-161.55814</td><td>-161.55814</td></tr><tr><td>1003</td><td>3</td><td>57047.0</td><td>57070.0</td><td>56873.44186</td><td>56896.44186</td><td>-173.55814</td><td>-173.55814</td></tr><tr><td>1003</td><td>4</td><td>57070.0</td><td>57070.0</td><td>56896.44186</td><td>56896.44186</td><td>-173.55814</td><td>-173.55814</td></tr><tr><td>1003</td><td>5</td><td>57070.0</td><td>57101.0</td><td>56896.44186</td><td>56927.44186</td><td>-173.55814</td><td>-173.55814</td></tr><tr><td>1003</td><td>6</td><td>57477.0</td><td>57477.0</td><td>57303.44186</td><td>57303.44186</td><td>-173.55814</td><td>-173.55814</td></tr><tr><td>1003</td><td>7</td><td>58597.0</td><td>58628.0</td><td>58423.44186</td><td>58454.44186</td><td>-173.55814</td><td>-173.55814</td></tr><tr><td>1003</td><td>8</td><td>58628.0</td><td>61679.0</td><td>58454.44186</td><td>61391.833613</td><td>-173.55814</td><td>-287.166387</td></tr><tr><td>1003</td><td>9</td><td>61662.0</td><td>61711.0</td><td>61391.833613</td><td>61440.833613</td><td>-270.166387</td><td>-270.166387</td></tr></tbody></table></div>"
      ],
      "text/plain": [
       "shape: (16, 8)\n",
       "┌──────────┬────────────┬────────────┬──────────┬────────────┬────────────┬────────────┬───────────┐\n",
       "│ agent_id ┆ trip_index ┆ start_time ┆ end_time ┆ departure_ ┆ arrival_ti ┆ start_diff ┆ end_diff  │\n",
       "│ ---      ┆ ---        ┆ ---        ┆ ---      ┆ time       ┆ me         ┆ ---        ┆ ---       │\n",
       "│ i64      ┆ u32        ┆ f64        ┆ f64      ┆ ---        ┆ ---        ┆ f64        ┆ f64       │\n",
       "│          ┆            ┆            ┆          ┆ f64        ┆ f64        ┆            ┆           │\n",
       "╞══════════╪════════════╪════════════╪══════════╪════════════╪════════════╪════════════╪═══════════╡\n",
       "│ 1001     ┆ 0          ┆ 30484.0    ┆ 30533.0  ┆ 30484.0    ┆ 30533.0    ┆ 0.0        ┆ 0.0       │\n",
       "│ 1001     ┆ 1          ┆ 30533.0    ┆ 31786.0  ┆ 30533.0    ┆ 31786.0    ┆ 0.0        ┆ 0.0       │\n",
       "│ 1001     ┆ 2          ┆ 31770.0    ┆ 32129.0  ┆ 31786.0    ┆ 32145.0    ┆ 16.0       ┆ 16.0      │\n",
       "│ 1002     ┆ 0          ┆ 35475.0    ┆ 35834.0  ┆ 35475.0    ┆ 35834.0    ┆ 0.0        ┆ 0.0       │\n",
       "│ 1002     ┆ 1          ┆ 35834.0    ┆ 36995.0  ┆ 35834.0    ┆ 36994.0    ┆ 0.0        ┆ -1.0      │\n",
       "│ 1002     ┆ 2          ┆ 36978.0    ┆ 37027.0  ┆ 36994.0    ┆ 37043.0    ┆ 16.0       ┆ 16.0      │\n",
       "│ 1003     ┆ 0          ┆ 52961.0    ┆ 53010.0  ┆ 52961.0    ┆ 53010.0    ┆ 0.0        ┆ 0.0       │\n",
       "│ 1003     ┆ 1          ┆ 53010.0    ┆ 56212.0  ┆ 53010.0    ┆ 56038.4418 ┆ 0.0        ┆ -173.5581 │\n",
       "│          ┆            ┆            ┆          ┆            ┆ 6          ┆            ┆ 4         │\n",
       "│ 1003     ┆ 2          ┆ 56200.0    ┆ 56223.0  ┆ 56038.4418 ┆ 56061.4418 ┆ -161.55814 ┆ -161.5581 │\n",
       "│          ┆            ┆            ┆          ┆ 6          ┆ 6          ┆            ┆ 4         │\n",
       "│ 1003     ┆ 3          ┆ 57047.0    ┆ 57070.0  ┆ 56873.4418 ┆ 56896.4418 ┆ -173.55814 ┆ -173.5581 │\n",
       "│          ┆            ┆            ┆          ┆ 6          ┆ 6          ┆            ┆ 4         │\n",
       "│ 1003     ┆ 4          ┆ 57070.0    ┆ 57070.0  ┆ 56896.4418 ┆ 56896.4418 ┆ -173.55814 ┆ -173.5581 │\n",
       "│          ┆            ┆            ┆          ┆ 6          ┆ 6          ┆            ┆ 4         │\n",
       "│ 1003     ┆ 5          ┆ 57070.0    ┆ 57101.0  ┆ 56896.4418 ┆ 56927.4418 ┆ -173.55814 ┆ -173.5581 │\n",
       "│          ┆            ┆            ┆          ┆ 6          ┆ 6          ┆            ┆ 4         │\n",
       "│ 1003     ┆ 6          ┆ 57477.0    ┆ 57477.0  ┆ 57303.4418 ┆ 57303.4418 ┆ -173.55814 ┆ -173.5581 │\n",
       "│          ┆            ┆            ┆          ┆ 6          ┆ 6          ┆            ┆ 4         │\n",
       "│ 1003     ┆ 7          ┆ 58597.0    ┆ 58628.0  ┆ 58423.4418 ┆ 58454.4418 ┆ -173.55814 ┆ -173.5581 │\n",
       "│          ┆            ┆            ┆          ┆ 6          ┆ 6          ┆            ┆ 4         │\n",
       "│ 1003     ┆ 8          ┆ 58628.0    ┆ 61679.0  ┆ 58454.4418 ┆ 61391.8336 ┆ -173.55814 ┆ -287.1663 │\n",
       "│          ┆            ┆            ┆          ┆ 6          ┆ 13         ┆            ┆ 87        │\n",
       "│ 1003     ┆ 9          ┆ 61662.0    ┆ 61711.0  ┆ 61391.8336 ┆ 61440.8336 ┆ -270.16638 ┆ -270.1663 │\n",
       "│          ┆            ┆            ┆          ┆ 13         ┆ 13         ┆ 7          ┆ 87        │\n",
       "└──────────┴────────────┴────────────┴──────────┴────────────┴────────────┴────────────┴───────────┘"
      ]
     },
     "execution_count": 18,
     "metadata": {},
     "output_type": "execute_result"
    }
   ],
   "source": [
    "comparison_table.filter(\n",
    "    pl.col(\"agent_id\").is_in([1001, 1002, 1003])\n",
    ")"
   ]
  },
  {
   "cell_type": "code",
   "execution_count": 26,
   "id": "dc6ac578",
   "metadata": {},
   "outputs": [
    {
     "data": {
      "text/html": [
       "<div><style>\n",
       ".dataframe > thead > tr,\n",
       ".dataframe > tbody > tr {\n",
       "  text-align: right;\n",
       "  white-space: pre-wrap;\n",
       "}\n",
       "</style>\n",
       "<small>shape: (16, 3)</small><table border=\"1\" class=\"dataframe\"><thead><tr><th>agent_id</th><th>start_diff</th><th>end_diff</th></tr><tr><td>i64</td><td>f64</td><td>f64</td></tr></thead><tbody><tr><td>1001</td><td>0.0</td><td>0.0</td></tr><tr><td>1001</td><td>0.0</td><td>0.0</td></tr><tr><td>1001</td><td>16.0</td><td>16.0</td></tr><tr><td>1002</td><td>0.0</td><td>0.0</td></tr><tr><td>1002</td><td>0.0</td><td>-1.0</td></tr><tr><td>1002</td><td>16.0</td><td>16.0</td></tr><tr><td>1003</td><td>0.0</td><td>0.0</td></tr><tr><td>1003</td><td>0.0</td><td>-173.55814</td></tr><tr><td>1003</td><td>-161.55814</td><td>-161.55814</td></tr><tr><td>1003</td><td>-173.55814</td><td>-173.55814</td></tr><tr><td>1003</td><td>-173.55814</td><td>-173.55814</td></tr><tr><td>1003</td><td>-173.55814</td><td>-173.55814</td></tr><tr><td>1003</td><td>-173.55814</td><td>-173.55814</td></tr><tr><td>1003</td><td>-173.55814</td><td>-173.55814</td></tr><tr><td>1003</td><td>-173.55814</td><td>-287.166387</td></tr><tr><td>1003</td><td>-270.166387</td><td>-270.166387</td></tr></tbody></table></div>"
      ],
      "text/plain": [
       "shape: (16, 3)\n",
       "┌──────────┬─────────────┬─────────────┐\n",
       "│ agent_id ┆ start_diff  ┆ end_diff    │\n",
       "│ ---      ┆ ---         ┆ ---         │\n",
       "│ i64      ┆ f64         ┆ f64         │\n",
       "╞══════════╪═════════════╪═════════════╡\n",
       "│ 1001     ┆ 0.0         ┆ 0.0         │\n",
       "│ 1001     ┆ 0.0         ┆ 0.0         │\n",
       "│ 1001     ┆ 16.0        ┆ 16.0        │\n",
       "│ 1002     ┆ 0.0         ┆ 0.0         │\n",
       "│ 1002     ┆ 0.0         ┆ -1.0        │\n",
       "│ 1002     ┆ 16.0        ┆ 16.0        │\n",
       "│ 1003     ┆ 0.0         ┆ 0.0         │\n",
       "│ 1003     ┆ 0.0         ┆ -173.55814  │\n",
       "│ 1003     ┆ -161.55814  ┆ -161.55814  │\n",
       "│ 1003     ┆ -173.55814  ┆ -173.55814  │\n",
       "│ 1003     ┆ -173.55814  ┆ -173.55814  │\n",
       "│ 1003     ┆ -173.55814  ┆ -173.55814  │\n",
       "│ 1003     ┆ -173.55814  ┆ -173.55814  │\n",
       "│ 1003     ┆ -173.55814  ┆ -173.55814  │\n",
       "│ 1003     ┆ -173.55814  ┆ -287.166387 │\n",
       "│ 1003     ┆ -270.166387 ┆ -270.166387 │\n",
       "└──────────┴─────────────┴─────────────┘"
      ]
     },
     "execution_count": 26,
     "metadata": {},
     "output_type": "execute_result"
    }
   ],
   "source": [
    "comparison_table.filter(\n",
    "    pl.col(\"agent_id\").is_in([1001, 1002, 1003])).select(['agent_id', 'start_diff', 'end_diff'])"
   ]
  },
  {
   "cell_type": "markdown",
   "id": "85e28205",
   "metadata": {},
   "source": [
    "# Graphs"
   ]
  },
  {
   "cell_type": "code",
   "execution_count": 20,
   "id": "1caa52cf",
   "metadata": {
    "scrolled": false
   },
   "outputs": [
    {
     "data": {
      "text/html": [
       "<div><style>\n",
       ".dataframe > thead > tr,\n",
       ".dataframe > tbody > tr {\n",
       "  text-align: right;\n",
       "  white-space: pre-wrap;\n",
       "}\n",
       "</style>\n",
       "<small>shape: (4_992_192, 20)</small><table border=\"1\" class=\"dataframe\"><thead><tr><th>person_id</th><th>plan_id</th><th>tour_id</th><th>trip_id</th><th>mode</th><th>start_time</th><th>end_time</th><th>duration</th><th>route</th><th>start_link</th><th>end_link</th><th>seq_index_right</th><th>element_type</th><th>type_or_mode</th><th>start_time_secs</th><th>end_time_secs</th><th>is_tour_anchor</th><th>stopping_time</th><th>agent_id</th><th>trip_index</th></tr><tr><td>str</td><td>i64</td><td>i32</td><td>i64</td><td>str</td><td>f64</td><td>f64</td><td>f64</td><td>str</td><td>str</td><td>str</td><td>u32</td><td>str</td><td>str</td><td>f64</td><td>f64</td><td>bool</td><td>f64</td><td>i64</td><td>u32</td></tr></thead><tbody><tr><td>&quot;bb_00005bd6&quot;</td><td>0</td><td>1</td><td>1</td><td>&quot;walk&quot;</td><td>28055.0</td><td>28658.0</td><td>603.0</td><td>null</td><td>&quot;-150731516#0&quot;</td><td>&quot;pt_525685_bus&quot;</td><td>2</td><td>&quot;activity&quot;</td><td>&quot;pt interaction&quot;</td><td>28658.0</td><td>28658.0</td><td>false</td><td>0.0</td><td>1</td><td>0</td></tr><tr><td>&quot;bb_00005bd6&quot;</td><td>0</td><td>1</td><td>2</td><td>&quot;pt&quot;</td><td>28658.0</td><td>31200.0</td><td>2542.0</td><td>&quot;{&quot;transitRouteId&quot;:&quot;X10---20549…</td><td>&quot;pt_525685_bus&quot;</td><td>&quot;pt_167534_bus&quot;</td><td>4</td><td>&quot;activity&quot;</td><td>&quot;pt interaction&quot;</td><td>31200.0</td><td>31200.0</td><td>false</td><td>0.0</td><td>1</td><td>1</td></tr><tr><td>&quot;bb_00005bd6&quot;</td><td>0</td><td>1</td><td>3</td><td>&quot;walk&quot;</td><td>31200.0</td><td>31695.0</td><td>495.0</td><td>null</td><td>&quot;pt_167534_bus&quot;</td><td>&quot;-4396420#5&quot;</td><td>6</td><td>&quot;activity&quot;</td><td>&quot;work_36600&quot;</td><td>31695.0</td><td>62648.0</td><td>true</td><td>30953.0</td><td>1</td><td>2</td></tr><tr><td>&quot;bb_00005bd6&quot;</td><td>0</td><td>2</td><td>4</td><td>&quot;walk&quot;</td><td>62648.0</td><td>63143.0</td><td>495.0</td><td>null</td><td>&quot;-4396420#5&quot;</td><td>&quot;pt_167534_bus&quot;</td><td>8</td><td>&quot;activity&quot;</td><td>&quot;pt interaction&quot;</td><td>63143.0</td><td>63143.0</td><td>false</td><td>0.0</td><td>2</td><td>0</td></tr><tr><td>&quot;bb_00005bd6&quot;</td><td>0</td><td>2</td><td>5</td><td>&quot;pt&quot;</td><td>63143.0</td><td>65340.0</td><td>2197.0</td><td>&quot;{&quot;transitRouteId&quot;:&quot;X10---20549…</td><td>&quot;pt_167534_bus&quot;</td><td>&quot;pt_525685_bus&quot;</td><td>10</td><td>&quot;activity&quot;</td><td>&quot;pt interaction&quot;</td><td>65340.0</td><td>65340.0</td><td>false</td><td>0.0</td><td>2</td><td>1</td></tr><tr><td>&quot;bb_00005bd6&quot;</td><td>0</td><td>2</td><td>6</td><td>&quot;walk&quot;</td><td>65340.0</td><td>65943.0</td><td>603.0</td><td>null</td><td>&quot;pt_525685_bus&quot;</td><td>&quot;-150731516#0&quot;</td><td>12</td><td>&quot;activity&quot;</td><td>&quot;home_86400&quot;</td><td>65943.0</td><td>null</td><td>true</td><td>null</td><td>2</td><td>2</td></tr><tr><td>&quot;bb_00005f6f&quot;</td><td>1</td><td>1</td><td>1</td><td>&quot;walk&quot;</td><td>30484.0</td><td>30533.0</td><td>49.0</td><td>null</td><td>&quot;-30051377&quot;</td><td>&quot;-30051377&quot;</td><td>2</td><td>&quot;activity&quot;</td><td>&quot;car interaction&quot;</td><td>30533.0</td><td>30533.0</td><td>false</td><td>0.0</td><td>1001</td><td>0</td></tr><tr><td>&quot;bb_00005f6f&quot;</td><td>1</td><td>1</td><td>2</td><td>&quot;car&quot;</td><td>30533.0</td><td>31786.0</td><td>1253.0</td><td>&quot;-30051377 30051377 1029686950 …</td><td>&quot;-30051377&quot;</td><td>&quot;-313182541#1&quot;</td><td>4</td><td>&quot;activity&quot;</td><td>&quot;car interaction&quot;</td><td>31786.0</td><td>31786.0</td><td>false</td><td>0.0</td><td>1001</td><td>1</td></tr><tr><td>&quot;bb_00005f6f&quot;</td><td>1</td><td>1</td><td>3</td><td>&quot;walk&quot;</td><td>31770.0</td><td>32129.0</td><td>359.0</td><td>null</td><td>&quot;-313182541#1&quot;</td><td>&quot;-313182541#1&quot;</td><td>6</td><td>&quot;activity&quot;</td><td>&quot;personal_business_4200&quot;</td><td>32129.0</td><td>35475.0</td><td>true</td><td>3346.0</td><td>1001</td><td>2</td></tr><tr><td>&quot;bb_00005f6f&quot;</td><td>1</td><td>2</td><td>4</td><td>&quot;walk&quot;</td><td>35475.0</td><td>35834.0</td><td>359.0</td><td>null</td><td>&quot;-313182541#1&quot;</td><td>&quot;-313182541#1&quot;</td><td>8</td><td>&quot;activity&quot;</td><td>&quot;car interaction&quot;</td><td>35834.0</td><td>35834.0</td><td>false</td><td>0.0</td><td>1002</td><td>0</td></tr><tr><td>&quot;bb_00005f6f&quot;</td><td>1</td><td>2</td><td>5</td><td>&quot;car&quot;</td><td>35834.0</td><td>36995.0</td><td>1161.0</td><td>&quot;-313182541#1 -240804229 -31318…</td><td>&quot;-313182541#1&quot;</td><td>&quot;-30051377&quot;</td><td>10</td><td>&quot;activity&quot;</td><td>&quot;car interaction&quot;</td><td>36995.0</td><td>36995.0</td><td>false</td><td>0.0</td><td>1002</td><td>1</td></tr><tr><td>&quot;bb_00005f6f&quot;</td><td>1</td><td>2</td><td>6</td><td>&quot;walk&quot;</td><td>36978.0</td><td>37027.0</td><td>49.0</td><td>null</td><td>&quot;-30051377&quot;</td><td>&quot;-30051377&quot;</td><td>12</td><td>&quot;activity&quot;</td><td>&quot;home_17400&quot;</td><td>37027.0</td><td>52961.0</td><td>true</td><td>15934.0</td><td>1002</td><td>2</td></tr><tr><td>&quot;bb_00005f6f&quot;</td><td>1</td><td>3</td><td>7</td><td>&quot;walk&quot;</td><td>52961.0</td><td>53010.0</td><td>49.0</td><td>null</td><td>&quot;-30051377&quot;</td><td>&quot;-30051377&quot;</td><td>14</td><td>&quot;activity&quot;</td><td>&quot;car interaction&quot;</td><td>53010.0</td><td>53010.0</td><td>false</td><td>0.0</td><td>1003</td><td>0</td></tr><tr><td>&quot;bb_00005f6f&quot;</td><td>1</td><td>3</td><td>8</td><td>&quot;car&quot;</td><td>53010.0</td><td>56212.0</td><td>3202.0</td><td>&quot;-30051377 30051377 328050968 3…</td><td>&quot;-30051377&quot;</td><td>&quot;-73029200&quot;</td><td>16</td><td>&quot;activity&quot;</td><td>&quot;car interaction&quot;</td><td>56212.0</td><td>56212.0</td><td>false</td><td>0.0</td><td>1003</td><td>1</td></tr><tr><td>&quot;bb_00005f6f&quot;</td><td>1</td><td>3</td><td>9</td><td>&quot;walk&quot;</td><td>56200.0</td><td>56223.0</td><td>23.0</td><td>null</td><td>&quot;-73029200&quot;</td><td>&quot;-73029200&quot;</td><td>18</td><td>&quot;activity&quot;</td><td>&quot;shop_other_600&quot;</td><td>56223.0</td><td>57035.0</td><td>false</td><td>812.0</td><td>1003</td><td>2</td></tr><tr><td>&quot;bb_00005f6f&quot;</td><td>1</td><td>3</td><td>10</td><td>&quot;walk&quot;</td><td>57047.0</td><td>57070.0</td><td>23.0</td><td>null</td><td>&quot;-73029200&quot;</td><td>&quot;-73029200&quot;</td><td>20</td><td>&quot;activity&quot;</td><td>&quot;car interaction&quot;</td><td>57070.0</td><td>57070.0</td><td>false</td><td>0.0</td><td>1003</td><td>3</td></tr><tr><td>&quot;bb_00005f6f&quot;</td><td>1</td><td>3</td><td>11</td><td>&quot;car&quot;</td><td>57070.0</td><td>57070.0</td><td>0.0</td><td>&quot;-73029200&quot;</td><td>&quot;-73029200&quot;</td><td>&quot;-73029200&quot;</td><td>22</td><td>&quot;activity&quot;</td><td>&quot;car interaction&quot;</td><td>57070.0</td><td>57070.0</td><td>false</td><td>0.0</td><td>1003</td><td>4</td></tr><tr><td>&hellip;</td><td>&hellip;</td><td>&hellip;</td><td>&hellip;</td><td>&hellip;</td><td>&hellip;</td><td>&hellip;</td><td>&hellip;</td><td>&hellip;</td><td>&hellip;</td><td>&hellip;</td><td>&hellip;</td><td>&hellip;</td><td>&hellip;</td><td>&hellip;</td><td>&hellip;</td><td>&hellip;</td><td>&hellip;</td><td>&hellip;</td><td>&hellip;</td></tr><tr><td>&quot;goodsTraffic_re_vkz.1953_5_0&quot;</td><td>526109</td><td>1</td><td>11</td><td>&quot;truck&quot;</td><td>56057.0</td><td>61901.0</td><td>5844.0</td><td>&quot;-172917121 172917121 4981117#2…</td><td>&quot;-172917121&quot;</td><td>&quot;-11405545#3&quot;</td><td>22</td><td>&quot;activity&quot;</td><td>&quot;truck interaction&quot;</td><td>61901.0</td><td>61901.0</td><td>false</td><td>0.0</td><td>526109001</td><td>10</td></tr><tr><td>&quot;goodsTraffic_re_vkz.1953_5_0&quot;</td><td>526109</td><td>1</td><td>12</td><td>&quot;walk&quot;</td><td>61888.0</td><td>61888.0</td><td>0.0</td><td>null</td><td>&quot;-11405545#3&quot;</td><td>&quot;-11405545#3&quot;</td><td>24</td><td>&quot;activity&quot;</td><td>&quot;commercial_end&quot;</td><td>61888.0</td><td>null</td><td>false</td><td>null</td><td>526109001</td><td>11</td></tr><tr><td>&quot;goodsTraffic_re_vkz.1953_5_1&quot;</td><td>526110</td><td>1</td><td>1</td><td>&quot;walk&quot;</td><td>36653.0</td><td>36653.0</td><td>0.0</td><td>null</td><td>&quot;-11405545#3&quot;</td><td>&quot;-11405545#3&quot;</td><td>2</td><td>&quot;activity&quot;</td><td>&quot;car interaction&quot;</td><td>36653.0</td><td>36653.0</td><td>false</td><td>0.0</td><td>526110001</td><td>0</td></tr><tr><td>&quot;goodsTraffic_re_vkz.1953_5_1&quot;</td><td>526110</td><td>1</td><td>2</td><td>&quot;car&quot;</td><td>36653.0</td><td>39000.0</td><td>2347.0</td><td>&quot;-11405545#3 995640376#4 995640…</td><td>&quot;-11405545#3&quot;</td><td>&quot;-1057183597#2&quot;</td><td>4</td><td>&quot;activity&quot;</td><td>&quot;car interaction&quot;</td><td>39000.0</td><td>39000.0</td><td>false</td><td>0.0</td><td>526110001</td><td>1</td></tr><tr><td>&quot;goodsTraffic_re_vkz.1953_5_1&quot;</td><td>526110</td><td>1</td><td>3</td><td>&quot;walk&quot;</td><td>38934.0</td><td>38934.0</td><td>0.0</td><td>null</td><td>&quot;-1057183597#2&quot;</td><td>&quot;-1057183597#2&quot;</td><td>6</td><td>&quot;activity&quot;</td><td>&quot;service_3600&quot;</td><td>38934.0</td><td>42699.0</td><td>false</td><td>3765.0</td><td>526110001</td><td>2</td></tr><tr><td>&quot;goodsTraffic_re_vkz.1953_5_1&quot;</td><td>526110</td><td>1</td><td>4</td><td>&quot;walk&quot;</td><td>42765.0</td><td>42765.0</td><td>0.0</td><td>null</td><td>&quot;-1057183597#2&quot;</td><td>&quot;-1057183597#2&quot;</td><td>8</td><td>&quot;activity&quot;</td><td>&quot;car interaction&quot;</td><td>42765.0</td><td>42765.0</td><td>false</td><td>0.0</td><td>526110001</td><td>3</td></tr><tr><td>&quot;goodsTraffic_re_vkz.1953_5_1&quot;</td><td>526110</td><td>1</td><td>5</td><td>&quot;car&quot;</td><td>42765.0</td><td>45161.0</td><td>2396.0</td><td>&quot;-1057183597#2 4611785#0 335462…</td><td>&quot;-1057183597#2&quot;</td><td>&quot;-11405545#3&quot;</td><td>10</td><td>&quot;activity&quot;</td><td>&quot;car interaction&quot;</td><td>45161.0</td><td>45161.0</td><td>false</td><td>0.0</td><td>526110001</td><td>4</td></tr><tr><td>&quot;goodsTraffic_re_vkz.1953_5_1&quot;</td><td>526110</td><td>1</td><td>6</td><td>&quot;walk&quot;</td><td>45148.0</td><td>45148.0</td><td>0.0</td><td>null</td><td>&quot;-11405545#3&quot;</td><td>&quot;-11405545#3&quot;</td><td>12</td><td>&quot;activity&quot;</td><td>&quot;commercial_end&quot;</td><td>45148.0</td><td>null</td><td>false</td><td>null</td><td>526110001</td><td>5</td></tr><tr><td>&quot;bb_b6c81ecc&quot;</td><td>83097</td><td>10</td><td>60</td><td>&quot;walk&quot;</td><td>74409.0</td><td>74444.0</td><td>35.0</td><td>null</td><td>&quot;-350169731#1&quot;</td><td>&quot;-350169731#1&quot;</td><td>120</td><td>&quot;activity&quot;</td><td>&quot;car interaction&quot;</td><td>74444.0</td><td>74444.0</td><td>false</td><td>0.0</td><td>830970010</td><td>0</td></tr><tr><td>&quot;bb_b6c81ecc&quot;</td><td>83097</td><td>10</td><td>61</td><td>&quot;car&quot;</td><td>74444.0</td><td>74686.0</td><td>242.0</td><td>&quot;-350169731#1 1061158027#1 4778…</td><td>&quot;-350169731#1&quot;</td><td>&quot;4778108#1&quot;</td><td>122</td><td>&quot;activity&quot;</td><td>&quot;car interaction&quot;</td><td>74686.0</td><td>74686.0</td><td>false</td><td>0.0</td><td>830970010</td><td>1</td></tr><tr><td>&quot;bb_b6c81ecc&quot;</td><td>83097</td><td>10</td><td>62</td><td>&quot;walk&quot;</td><td>74670.0</td><td>74747.0</td><td>77.0</td><td>null</td><td>&quot;4778108#1&quot;</td><td>&quot;4778108#1&quot;</td><td>124</td><td>&quot;activity&quot;</td><td>&quot;leisure_4800&quot;</td><td>74747.0</td><td>79738.0</td><td>false</td><td>4991.0</td><td>830970010</td><td>2</td></tr><tr><td>&quot;bb_b6c81ecc&quot;</td><td>83097</td><td>10</td><td>63</td><td>&quot;walk&quot;</td><td>79754.0</td><td>79831.0</td><td>77.0</td><td>null</td><td>&quot;4778108#1&quot;</td><td>&quot;4778108#1&quot;</td><td>126</td><td>&quot;activity&quot;</td><td>&quot;car interaction&quot;</td><td>79831.0</td><td>79831.0</td><td>false</td><td>0.0</td><td>830970010</td><td>3</td></tr><tr><td>&quot;bb_b6c81ecc&quot;</td><td>83097</td><td>10</td><td>64</td><td>&quot;car&quot;</td><td>79831.0</td><td>80020.0</td><td>189.0</td><td>&quot;4778108#1 202663392 307918985#…</td><td>&quot;4778108#1&quot;</td><td>&quot;-350169731#1&quot;</td><td>128</td><td>&quot;activity&quot;</td><td>&quot;car interaction&quot;</td><td>80020.0</td><td>80020.0</td><td>false</td><td>0.0</td><td>830970010</td><td>4</td></tr><tr><td>&quot;bb_b6c81ecc&quot;</td><td>83097</td><td>10</td><td>65</td><td>&quot;walk&quot;</td><td>80005.0</td><td>80040.0</td><td>35.0</td><td>null</td><td>&quot;-350169731#1&quot;</td><td>&quot;-350169731#1&quot;</td><td>130</td><td>&quot;activity&quot;</td><td>&quot;home_600&quot;</td><td>80040.0</td><td>80340.0</td><td>false</td><td>300.0</td><td>830970010</td><td>5</td></tr><tr><td>&quot;bb_b6c81ecc&quot;</td><td>83097</td><td>10</td><td>66</td><td>&quot;walk&quot;</td><td>80355.0</td><td>80620.0</td><td>265.0</td><td>null</td><td>&quot;-350169731#1&quot;</td><td>&quot;-208088396&quot;</td><td>132</td><td>&quot;activity&quot;</td><td>&quot;outside_recreation_600&quot;</td><td>80620.0</td><td>80620.0</td><td>false</td><td>0.0</td><td>830970010</td><td>6</td></tr><tr><td>&quot;bb_b6c81ecc&quot;</td><td>83097</td><td>10</td><td>67</td><td>&quot;walk&quot;</td><td>80620.0</td><td>80885.0</td><td>265.0</td><td>null</td><td>&quot;-208088396&quot;</td><td>&quot;-350169731#1&quot;</td><td>134</td><td>&quot;activity&quot;</td><td>&quot;home_86400&quot;</td><td>80885.0</td><td>null</td><td>true</td><td>null</td><td>830970010</td><td>7</td></tr></tbody></table></div>"
      ],
      "text/plain": [
       "shape: (4_992_192, 20)\n",
       "┌─────────────┬─────────┬─────────┬─────────┬───┬────────────┬────────────┬───────────┬────────────┐\n",
       "│ person_id   ┆ plan_id ┆ tour_id ┆ trip_id ┆ … ┆ is_tour_an ┆ stopping_t ┆ agent_id  ┆ trip_index │\n",
       "│ ---         ┆ ---     ┆ ---     ┆ ---     ┆   ┆ chor       ┆ ime        ┆ ---       ┆ ---        │\n",
       "│ str         ┆ i64     ┆ i32     ┆ i64     ┆   ┆ ---        ┆ ---        ┆ i64       ┆ u32        │\n",
       "│             ┆         ┆         ┆         ┆   ┆ bool       ┆ f64        ┆           ┆            │\n",
       "╞═════════════╪═════════╪═════════╪═════════╪═══╪════════════╪════════════╪═══════════╪════════════╡\n",
       "│ bb_00005bd6 ┆ 0       ┆ 1       ┆ 1       ┆ … ┆ false      ┆ 0.0        ┆ 1         ┆ 0          │\n",
       "│ bb_00005bd6 ┆ 0       ┆ 1       ┆ 2       ┆ … ┆ false      ┆ 0.0        ┆ 1         ┆ 1          │\n",
       "│ bb_00005bd6 ┆ 0       ┆ 1       ┆ 3       ┆ … ┆ true       ┆ 30953.0    ┆ 1         ┆ 2          │\n",
       "│ bb_00005bd6 ┆ 0       ┆ 2       ┆ 4       ┆ … ┆ false      ┆ 0.0        ┆ 2         ┆ 0          │\n",
       "│ bb_00005bd6 ┆ 0       ┆ 2       ┆ 5       ┆ … ┆ false      ┆ 0.0        ┆ 2         ┆ 1          │\n",
       "│ bb_00005bd6 ┆ 0       ┆ 2       ┆ 6       ┆ … ┆ true       ┆ null       ┆ 2         ┆ 2          │\n",
       "│ bb_00005f6f ┆ 1       ┆ 1       ┆ 1       ┆ … ┆ false      ┆ 0.0        ┆ 1001      ┆ 0          │\n",
       "│ bb_00005f6f ┆ 1       ┆ 1       ┆ 2       ┆ … ┆ false      ┆ 0.0        ┆ 1001      ┆ 1          │\n",
       "│ bb_00005f6f ┆ 1       ┆ 1       ┆ 3       ┆ … ┆ true       ┆ 3346.0     ┆ 1001      ┆ 2          │\n",
       "│ bb_00005f6f ┆ 1       ┆ 2       ┆ 4       ┆ … ┆ false      ┆ 0.0        ┆ 1002      ┆ 0          │\n",
       "│ bb_00005f6f ┆ 1       ┆ 2       ┆ 5       ┆ … ┆ false      ┆ 0.0        ┆ 1002      ┆ 1          │\n",
       "│ bb_00005f6f ┆ 1       ┆ 2       ┆ 6       ┆ … ┆ true       ┆ 15934.0    ┆ 1002      ┆ 2          │\n",
       "│ bb_00005f6f ┆ 1       ┆ 3       ┆ 7       ┆ … ┆ false      ┆ 0.0        ┆ 1003      ┆ 0          │\n",
       "│ bb_00005f6f ┆ 1       ┆ 3       ┆ 8       ┆ … ┆ false      ┆ 0.0        ┆ 1003      ┆ 1          │\n",
       "│ bb_00005f6f ┆ 1       ┆ 3       ┆ 9       ┆ … ┆ false      ┆ 812.0      ┆ 1003      ┆ 2          │\n",
       "│ bb_00005f6f ┆ 1       ┆ 3       ┆ 10      ┆ … ┆ false      ┆ 0.0        ┆ 1003      ┆ 3          │\n",
       "│ bb_00005f6f ┆ 1       ┆ 3       ┆ 11      ┆ … ┆ false      ┆ 0.0        ┆ 1003      ┆ 4          │\n",
       "│ …           ┆ …       ┆ …       ┆ …       ┆ … ┆ …          ┆ …          ┆ …         ┆ …          │\n",
       "│ goodsTraffi ┆ 526109  ┆ 1       ┆ 11      ┆ … ┆ false      ┆ 0.0        ┆ 526109001 ┆ 10         │\n",
       "│ c_re_vkz.19 ┆         ┆         ┆         ┆   ┆            ┆            ┆           ┆            │\n",
       "│ 53_5_0      ┆         ┆         ┆         ┆   ┆            ┆            ┆           ┆            │\n",
       "│ goodsTraffi ┆ 526109  ┆ 1       ┆ 12      ┆ … ┆ false      ┆ null       ┆ 526109001 ┆ 11         │\n",
       "│ c_re_vkz.19 ┆         ┆         ┆         ┆   ┆            ┆            ┆           ┆            │\n",
       "│ 53_5_0      ┆         ┆         ┆         ┆   ┆            ┆            ┆           ┆            │\n",
       "│ goodsTraffi ┆ 526110  ┆ 1       ┆ 1       ┆ … ┆ false      ┆ 0.0        ┆ 526110001 ┆ 0          │\n",
       "│ c_re_vkz.19 ┆         ┆         ┆         ┆   ┆            ┆            ┆           ┆            │\n",
       "│ 53_5_1      ┆         ┆         ┆         ┆   ┆            ┆            ┆           ┆            │\n",
       "│ goodsTraffi ┆ 526110  ┆ 1       ┆ 2       ┆ … ┆ false      ┆ 0.0        ┆ 526110001 ┆ 1          │\n",
       "│ c_re_vkz.19 ┆         ┆         ┆         ┆   ┆            ┆            ┆           ┆            │\n",
       "│ 53_5_1      ┆         ┆         ┆         ┆   ┆            ┆            ┆           ┆            │\n",
       "│ goodsTraffi ┆ 526110  ┆ 1       ┆ 3       ┆ … ┆ false      ┆ 3765.0     ┆ 526110001 ┆ 2          │\n",
       "│ c_re_vkz.19 ┆         ┆         ┆         ┆   ┆            ┆            ┆           ┆            │\n",
       "│ 53_5_1      ┆         ┆         ┆         ┆   ┆            ┆            ┆           ┆            │\n",
       "│ goodsTraffi ┆ 526110  ┆ 1       ┆ 4       ┆ … ┆ false      ┆ 0.0        ┆ 526110001 ┆ 3          │\n",
       "│ c_re_vkz.19 ┆         ┆         ┆         ┆   ┆            ┆            ┆           ┆            │\n",
       "│ 53_5_1      ┆         ┆         ┆         ┆   ┆            ┆            ┆           ┆            │\n",
       "│ goodsTraffi ┆ 526110  ┆ 1       ┆ 5       ┆ … ┆ false      ┆ 0.0        ┆ 526110001 ┆ 4          │\n",
       "│ c_re_vkz.19 ┆         ┆         ┆         ┆   ┆            ┆            ┆           ┆            │\n",
       "│ 53_5_1      ┆         ┆         ┆         ┆   ┆            ┆            ┆           ┆            │\n",
       "│ goodsTraffi ┆ 526110  ┆ 1       ┆ 6       ┆ … ┆ false      ┆ null       ┆ 526110001 ┆ 5          │\n",
       "│ c_re_vkz.19 ┆         ┆         ┆         ┆   ┆            ┆            ┆           ┆            │\n",
       "│ 53_5_1      ┆         ┆         ┆         ┆   ┆            ┆            ┆           ┆            │\n",
       "│ bb_b6c81ecc ┆ 83097   ┆ 10      ┆ 60      ┆ … ┆ false      ┆ 0.0        ┆ 830970010 ┆ 0          │\n",
       "│ bb_b6c81ecc ┆ 83097   ┆ 10      ┆ 61      ┆ … ┆ false      ┆ 0.0        ┆ 830970010 ┆ 1          │\n",
       "│ bb_b6c81ecc ┆ 83097   ┆ 10      ┆ 62      ┆ … ┆ false      ┆ 4991.0     ┆ 830970010 ┆ 2          │\n",
       "│ bb_b6c81ecc ┆ 83097   ┆ 10      ┆ 63      ┆ … ┆ false      ┆ 0.0        ┆ 830970010 ┆ 3          │\n",
       "│ bb_b6c81ecc ┆ 83097   ┆ 10      ┆ 64      ┆ … ┆ false      ┆ 0.0        ┆ 830970010 ┆ 4          │\n",
       "│ bb_b6c81ecc ┆ 83097   ┆ 10      ┆ 65      ┆ … ┆ false      ┆ 300.0      ┆ 830970010 ┆ 5          │\n",
       "│ bb_b6c81ecc ┆ 83097   ┆ 10      ┆ 66      ┆ … ┆ false      ┆ 0.0        ┆ 830970010 ┆ 6          │\n",
       "│ bb_b6c81ecc ┆ 83097   ┆ 10      ┆ 67      ┆ … ┆ true       ┆ null       ┆ 830970010 ┆ 7          │\n",
       "└─────────────┴─────────┴─────────┴─────────┴───┴────────────┴────────────┴───────────┴────────────┘"
      ]
     },
     "execution_count": 20,
     "metadata": {},
     "output_type": "execute_result"
    }
   ],
   "source": [
    "matsim_trips"
   ]
  },
  {
   "cell_type": "code",
   "execution_count": 21,
   "id": "73105829",
   "metadata": {},
   "outputs": [
    {
     "data": {
      "text/html": [
       "<div><style>\n",
       ".dataframe > thead > tr,\n",
       ".dataframe > tbody > tr {\n",
       "  text-align: right;\n",
       "  white-space: pre-wrap;\n",
       "}\n",
       "</style>\n",
       "<small>shape: (504_245, 19)</small><table border=\"1\" class=\"dataframe\"><thead><tr><th>agent_id</th><th>trip_id</th><th>trip_index</th><th>departure_time</th><th>arrival_time</th><th>travel_utility</th><th>schedule_utility</th><th>departure_time_shift</th><th>road_time</th><th>in_bottleneck_time</th><th>out_bottleneck_time</th><th>route_free_flow_travel_time</th><th>global_free_flow_travel_time</th><th>length</th><th>length_diff</th><th>pre_exp_departure_time</th><th>pre_exp_arrival_time</th><th>exp_arrival_time</th><th>nb_edges</th></tr><tr><td>u64</td><td>u64</td><td>u64</td><td>f64</td><td>f64</td><td>f64</td><td>f64</td><td>f64</td><td>f64</td><td>f64</td><td>f64</td><td>f64</td><td>f64</td><td>f64</td><td>f64</td><td>f64</td><td>f64</td><td>f64</td><td>u64</td></tr></thead><tbody><tr><td>1001</td><td>2</td><td>1</td><td>30533.0</td><td>31786.0</td><td>0.0</td><td>0.0</td><td>null</td><td>1253.0</td><td>0.0</td><td>0.0</td><td>1253.0</td><td>1253.0</td><td>14809.53</td><td>null</td><td>30533.0</td><td>31786.0</td><td>31786.0</td><td>41</td></tr><tr><td>1002</td><td>5</td><td>1</td><td>35834.0</td><td>36994.0</td><td>0.0</td><td>0.0</td><td>null</td><td>1160.0</td><td>0.0</td><td>0.0</td><td>1160.0</td><td>1160.0</td><td>14383.63</td><td>null</td><td>35834.0</td><td>36994.0</td><td>36994.0</td><td>36</td></tr><tr><td>1003</td><td>8</td><td>1</td><td>53010.0</td><td>56038.44186</td><td>0.0</td><td>0.0</td><td>null</td><td>3001.0</td><td>27.44186</td><td>0.0</td><td>3001.0</td><td>3001.0</td><td>42160.48</td><td>null</td><td>53010.0</td><td>56011.0</td><td>56011.0</td><td>149</td></tr><tr><td>1003</td><td>11</td><td>4</td><td>56896.44186</td><td>56896.44186</td><td>0.0</td><td>0.0</td><td>null</td><td>0.0</td><td>0.0</td><td>0.0</td><td>0.0</td><td>0.0</td><td>0.0</td><td>null</td><td>56869.0</td><td>56869.0</td><td>56896.44186</td><td>0</td></tr><tr><td>1003</td><td>15</td><td>8</td><td>58454.44186</td><td>61391.833613</td><td>0.0</td><td>0.0</td><td>null</td><td>2918.0</td><td>19.391753</td><td>0.0</td><td>2918.0</td><td>2918.0</td><td>41788.53</td><td>null</td><td>58427.0</td><td>61345.0</td><td>61372.44186</td><td>141</td></tr><tr><td>11001</td><td>2</td><td>1</td><td>33067.0</td><td>33999.0</td><td>0.0</td><td>0.0</td><td>null</td><td>932.0</td><td>0.0</td><td>0.0</td><td>932.0</td><td>932.0</td><td>12724.82</td><td>null</td><td>33067.0</td><td>33999.0</td><td>33999.0</td><td>54</td></tr><tr><td>11002</td><td>5</td><td>1</td><td>37495.0</td><td>37625.0</td><td>0.0</td><td>0.0</td><td>null</td><td>130.0</td><td>0.0</td><td>0.0</td><td>130.0</td><td>130.0</td><td>1424.79</td><td>null</td><td>37495.0</td><td>37625.0</td><td>37625.0</td><td>12</td></tr><tr><td>11003</td><td>8</td><td>1</td><td>38960.0</td><td>41104.0</td><td>0.0</td><td>0.0</td><td>null</td><td>2144.0</td><td>0.0</td><td>0.0</td><td>2144.0</td><td>2144.0</td><td>32460.35</td><td>null</td><td>38960.0</td><td>41104.0</td><td>41104.0</td><td>69</td></tr><tr><td>11003</td><td>11</td><td>4</td><td>41486.0</td><td>43935.0</td><td>0.0</td><td>0.0</td><td>null</td><td>2449.0</td><td>0.0</td><td>0.0</td><td>2449.0</td><td>2449.0</td><td>39852.09</td><td>null</td><td>41486.0</td><td>43935.0</td><td>43935.0</td><td>74</td></tr><tr><td>15002</td><td>4</td><td>1</td><td>41911.0</td><td>47256.0</td><td>0.0</td><td>0.0</td><td>null</td><td>5345.0</td><td>0.0</td><td>0.0</td><td>5345.0</td><td>5345.0</td><td>87955.22</td><td>null</td><td>41911.0</td><td>47256.0</td><td>47256.0</td><td>200</td></tr><tr><td>15003</td><td>7</td><td>1</td><td>62346.0</td><td>67809.527202</td><td>0.0</td><td>0.0</td><td>null</td><td>5414.0</td><td>49.527202</td><td>0.0</td><td>5414.0</td><td>5414.0</td><td>89000.26</td><td>null</td><td>62346.0</td><td>67760.0</td><td>67760.0</td><td>200</td></tr><tr><td>22001</td><td>2</td><td>1</td><td>38060.0</td><td>42958.199396</td><td>0.0</td><td>0.0</td><td>null</td><td>4842.0</td><td>56.199396</td><td>0.0</td><td>4842.0</td><td>4842.0</td><td>81691.22</td><td>null</td><td>38060.0</td><td>42902.0</td><td>42902.0</td><td>211</td></tr><tr><td>22001</td><td>5</td><td>4</td><td>50587.199396</td><td>54238.65285</td><td>0.0</td><td>0.0</td><td>null</td><td>3472.0</td><td>179.453453</td><td>0.0</td><td>3472.0</td><td>3472.0</td><td>40415.19</td><td>null</td><td>50531.0</td><td>54003.0</td><td>54059.199396</td><td>134</td></tr><tr><td>22001</td><td>8</td><td>7</td><td>57703.65285</td><td>58560.65285</td><td>0.0</td><td>0.0</td><td>null</td><td>857.0</td><td>0.0</td><td>0.0</td><td>857.0</td><td>857.0</td><td>11119.85</td><td>null</td><td>57468.0</td><td>58325.0</td><td>58560.65285</td><td>53</td></tr><tr><td>22001</td><td>11</td><td>10</td><td>59106.65285</td><td>62241.716535</td><td>0.0</td><td>0.0</td><td>null</td><td>3116.0</td><td>19.063686</td><td>0.0</td><td>3116.0</td><td>3116.0</td><td>63710.21</td><td>null</td><td>58871.0</td><td>61987.0</td><td>62222.65285</td><td>111</td></tr><tr><td>23001</td><td>2</td><td>1</td><td>26564.0</td><td>26986.0</td><td>0.0</td><td>0.0</td><td>null</td><td>422.0</td><td>0.0</td><td>0.0</td><td>422.0</td><td>422.0</td><td>3158.39</td><td>null</td><td>26564.0</td><td>26986.0</td><td>26986.0</td><td>20</td></tr><tr><td>23001</td><td>5</td><td>4</td><td>28306.0</td><td>28737.484002</td><td>0.0</td><td>0.0</td><td>null</td><td>374.0</td><td>57.484002</td><td>0.0</td><td>374.0</td><td>374.0</td><td>2585.49</td><td>null</td><td>28306.0</td><td>28680.0</td><td>28680.0</td><td>10</td></tr><tr><td>&hellip;</td><td>&hellip;</td><td>&hellip;</td><td>&hellip;</td><td>&hellip;</td><td>&hellip;</td><td>&hellip;</td><td>&hellip;</td><td>&hellip;</td><td>&hellip;</td><td>&hellip;</td><td>&hellip;</td><td>&hellip;</td><td>&hellip;</td><td>&hellip;</td><td>&hellip;</td><td>&hellip;</td><td>&hellip;</td><td>&hellip;</td></tr><tr><td>526101001</td><td>11</td><td>10</td><td>34402.070111</td><td>34888.609665</td><td>0.0</td><td>0.0</td><td>null</td><td>460.0</td><td>26.539554</td><td>0.0</td><td>460.0</td><td>460.0</td><td>2559.25</td><td>null</td><td>34385.0</td><td>34845.0</td><td>34862.070111</td><td>22</td></tr><tr><td>526101001</td><td>14</td><td>13</td><td>40190.609665</td><td>41211.581329</td><td>0.0</td><td>0.0</td><td>null</td><td>891.0</td><td>129.971665</td><td>0.0</td><td>891.0</td><td>891.0</td><td>6572.25</td><td>null</td><td>40147.0</td><td>41038.0</td><td>41081.609665</td><td>58</td></tr><tr><td>526101001</td><td>17</td><td>16</td><td>41677.581329</td><td>42133.581329</td><td>0.0</td><td>0.0</td><td>null</td><td>456.0</td><td>0.0</td><td>0.0</td><td>456.0</td><td>456.0</td><td>4084.5</td><td>null</td><td>41504.0</td><td>41960.0</td><td>42133.581329</td><td>20</td></tr><tr><td>526101001</td><td>20</td><td>19</td><td>43704.581329</td><td>46841.502319</td><td>0.0</td><td>0.0</td><td>null</td><td>2982.0</td><td>154.92099</td><td>0.0</td><td>2982.0</td><td>2982.0</td><td>33455.15</td><td>null</td><td>43531.0</td><td>46513.0</td><td>46686.581329</td><td>172</td></tr><tr><td>526101001</td><td>23</td><td>22</td><td>50405.502319</td><td>52283.711019</td><td>0.0</td><td>0.0</td><td>null</td><td>1846.0</td><td>32.208699</td><td>0.0</td><td>1846.0</td><td>1846.0</td><td>24675.2</td><td>null</td><td>50077.0</td><td>51923.0</td><td>52251.502319</td><td>87</td></tr><tr><td>526104001</td><td>2</td><td>1</td><td>26677.0</td><td>36553.307173</td><td>0.0</td><td>0.0</td><td>null</td><td>9578.0</td><td>298.307173</td><td>0.0</td><td>9578.0</td><td>9578.0</td><td>145190.88</td><td>null</td><td>26677.0</td><td>36255.0</td><td>36255.0</td><td>408</td></tr><tr><td>526104001</td><td>5</td><td>4</td><td>38554.307173</td><td>48028.149955</td><td>0.0</td><td>0.0</td><td>null</td><td>9424.0</td><td>49.842782</td><td>0.0</td><td>9424.0</td><td>9424.0</td><td>154261.25</td><td>null</td><td>38256.0</td><td>47680.0</td><td>47978.307173</td><td>499</td></tr><tr><td>526104001</td><td>8</td><td>7</td><td>54061.149955</td><td>57698.646641</td><td>0.0</td><td>0.0</td><td>null</td><td>3600.0</td><td>37.496685</td><td>0.0</td><td>3600.0</td><td>3600.0</td><td>77140.39</td><td>null</td><td>53713.0</td><td>57313.0</td><td>57661.149955</td><td>146</td></tr><tr><td>526107001</td><td>2</td><td>1</td><td>31399.0</td><td>33412.953311</td><td>0.0</td><td>0.0</td><td>null</td><td>1809.0</td><td>204.953311</td><td>0.0</td><td>1809.0</td><td>1809.0</td><td>15082.11</td><td>null</td><td>31399.0</td><td>33208.0</td><td>33208.0</td><td>111</td></tr><tr><td>526107001</td><td>5</td><td>4</td><td>34442.953311</td><td>36411.606673</td><td>0.0</td><td>0.0</td><td>null</td><td>1839.0</td><td>129.653362</td><td>0.0</td><td>1839.0</td><td>1839.0</td><td>15862.42</td><td>null</td><td>34238.0</td><td>36077.0</td><td>36281.953311</td><td>111</td></tr><tr><td>526107001</td><td>8</td><td>7</td><td>37314.606673</td><td>38675.872405</td><td>0.0</td><td>0.0</td><td>null</td><td>1347.0</td><td>14.265732</td><td>0.0</td><td>1347.0</td><td>1347.0</td><td>11495.42</td><td>null</td><td>36980.0</td><td>38327.0</td><td>38661.606673</td><td>86</td></tr><tr><td>526107001</td><td>11</td><td>10</td><td>49475.872405</td><td>51751.623439</td><td>0.0</td><td>0.0</td><td>null</td><td>2080.0</td><td>195.751034</td><td>0.0</td><td>2080.0</td><td>2080.0</td><td>18024.11</td><td>null</td><td>49127.0</td><td>51207.0</td><td>51555.872405</td><td>137</td></tr><tr><td>526110001</td><td>2</td><td>1</td><td>36653.0</td><td>38872.370146</td><td>0.0</td><td>0.0</td><td>null</td><td>2152.0</td><td>67.370146</td><td>0.0</td><td>2152.0</td><td>2152.0</td><td>19096.93</td><td>null</td><td>36653.0</td><td>38805.0</td><td>38805.0</td><td>131</td></tr><tr><td>526110001</td><td>5</td><td>4</td><td>42637.370146</td><td>44755.909478</td><td>0.0</td><td>0.0</td><td>null</td><td>2069.0</td><td>49.539332</td><td>0.0</td><td>2069.0</td><td>2069.0</td><td>18305.45</td><td>null</td><td>42570.0</td><td>44639.0</td><td>44706.370146</td><td>128</td></tr><tr><td>830970010</td><td>61</td><td>1</td><td>74444.0</td><td>74681.0</td><td>0.0</td><td>0.0</td><td>null</td><td>237.0</td><td>0.0</td><td>0.0</td><td>237.0</td><td>237.0</td><td>1727.45</td><td>null</td><td>74444.0</td><td>74681.0</td><td>74681.0</td><td>21</td></tr><tr><td>830970010</td><td>64</td><td>4</td><td>79826.0</td><td>80016.0</td><td>0.0</td><td>0.0</td><td>null</td><td>190.0</td><td>0.0</td><td>0.0</td><td>190.0</td><td>190.0</td><td>1430.07</td><td>null</td><td>79826.0</td><td>80016.0</td><td>80016.0</td><td>16</td></tr></tbody></table></div>"
      ],
      "text/plain": [
       "shape: (504_245, 19)\n",
       "┌───────────┬─────────┬────────────┬────────────┬───┬───────────┬───────────┬───────────┬──────────┐\n",
       "│ agent_id  ┆ trip_id ┆ trip_index ┆ departure_ ┆ … ┆ pre_exp_d ┆ pre_exp_a ┆ exp_arriv ┆ nb_edges │\n",
       "│ ---       ┆ ---     ┆ ---        ┆ time       ┆   ┆ eparture_ ┆ rrival_ti ┆ al_time   ┆ ---      │\n",
       "│ u64       ┆ u64     ┆ u64        ┆ ---        ┆   ┆ time      ┆ me        ┆ ---       ┆ u64      │\n",
       "│           ┆         ┆            ┆ f64        ┆   ┆ ---       ┆ ---       ┆ f64       ┆          │\n",
       "│           ┆         ┆            ┆            ┆   ┆ f64       ┆ f64       ┆           ┆          │\n",
       "╞═══════════╪═════════╪════════════╪════════════╪═══╪═══════════╪═══════════╪═══════════╪══════════╡\n",
       "│ 1001      ┆ 2       ┆ 1          ┆ 30533.0    ┆ … ┆ 30533.0   ┆ 31786.0   ┆ 31786.0   ┆ 41       │\n",
       "│ 1002      ┆ 5       ┆ 1          ┆ 35834.0    ┆ … ┆ 35834.0   ┆ 36994.0   ┆ 36994.0   ┆ 36       │\n",
       "│ 1003      ┆ 8       ┆ 1          ┆ 53010.0    ┆ … ┆ 53010.0   ┆ 56011.0   ┆ 56011.0   ┆ 149      │\n",
       "│ 1003      ┆ 11      ┆ 4          ┆ 56896.4418 ┆ … ┆ 56869.0   ┆ 56869.0   ┆ 56896.441 ┆ 0        │\n",
       "│           ┆         ┆            ┆ 6          ┆   ┆           ┆           ┆ 86        ┆          │\n",
       "│ 1003      ┆ 15      ┆ 8          ┆ 58454.4418 ┆ … ┆ 58427.0   ┆ 61345.0   ┆ 61372.441 ┆ 141      │\n",
       "│           ┆         ┆            ┆ 6          ┆   ┆           ┆           ┆ 86        ┆          │\n",
       "│ 11001     ┆ 2       ┆ 1          ┆ 33067.0    ┆ … ┆ 33067.0   ┆ 33999.0   ┆ 33999.0   ┆ 54       │\n",
       "│ 11002     ┆ 5       ┆ 1          ┆ 37495.0    ┆ … ┆ 37495.0   ┆ 37625.0   ┆ 37625.0   ┆ 12       │\n",
       "│ 11003     ┆ 8       ┆ 1          ┆ 38960.0    ┆ … ┆ 38960.0   ┆ 41104.0   ┆ 41104.0   ┆ 69       │\n",
       "│ 11003     ┆ 11      ┆ 4          ┆ 41486.0    ┆ … ┆ 41486.0   ┆ 43935.0   ┆ 43935.0   ┆ 74       │\n",
       "│ 15002     ┆ 4       ┆ 1          ┆ 41911.0    ┆ … ┆ 41911.0   ┆ 47256.0   ┆ 47256.0   ┆ 200      │\n",
       "│ 15003     ┆ 7       ┆ 1          ┆ 62346.0    ┆ … ┆ 62346.0   ┆ 67760.0   ┆ 67760.0   ┆ 200      │\n",
       "│ 22001     ┆ 2       ┆ 1          ┆ 38060.0    ┆ … ┆ 38060.0   ┆ 42902.0   ┆ 42902.0   ┆ 211      │\n",
       "│ 22001     ┆ 5       ┆ 4          ┆ 50587.1993 ┆ … ┆ 50531.0   ┆ 54003.0   ┆ 54059.199 ┆ 134      │\n",
       "│           ┆         ┆            ┆ 96         ┆   ┆           ┆           ┆ 396       ┆          │\n",
       "│ 22001     ┆ 8       ┆ 7          ┆ 57703.6528 ┆ … ┆ 57468.0   ┆ 58325.0   ┆ 58560.652 ┆ 53       │\n",
       "│           ┆         ┆            ┆ 5          ┆   ┆           ┆           ┆ 85        ┆          │\n",
       "│ 22001     ┆ 11      ┆ 10         ┆ 59106.6528 ┆ … ┆ 58871.0   ┆ 61987.0   ┆ 62222.652 ┆ 111      │\n",
       "│           ┆         ┆            ┆ 5          ┆   ┆           ┆           ┆ 85        ┆          │\n",
       "│ 23001     ┆ 2       ┆ 1          ┆ 26564.0    ┆ … ┆ 26564.0   ┆ 26986.0   ┆ 26986.0   ┆ 20       │\n",
       "│ 23001     ┆ 5       ┆ 4          ┆ 28306.0    ┆ … ┆ 28306.0   ┆ 28680.0   ┆ 28680.0   ┆ 10       │\n",
       "│ …         ┆ …       ┆ …          ┆ …          ┆ … ┆ …         ┆ …         ┆ …         ┆ …        │\n",
       "│ 526101001 ┆ 11      ┆ 10         ┆ 34402.0701 ┆ … ┆ 34385.0   ┆ 34845.0   ┆ 34862.070 ┆ 22       │\n",
       "│           ┆         ┆            ┆ 11         ┆   ┆           ┆           ┆ 111       ┆          │\n",
       "│ 526101001 ┆ 14      ┆ 13         ┆ 40190.6096 ┆ … ┆ 40147.0   ┆ 41038.0   ┆ 41081.609 ┆ 58       │\n",
       "│           ┆         ┆            ┆ 65         ┆   ┆           ┆           ┆ 665       ┆          │\n",
       "│ 526101001 ┆ 17      ┆ 16         ┆ 41677.5813 ┆ … ┆ 41504.0   ┆ 41960.0   ┆ 42133.581 ┆ 20       │\n",
       "│           ┆         ┆            ┆ 29         ┆   ┆           ┆           ┆ 329       ┆          │\n",
       "│ 526101001 ┆ 20      ┆ 19         ┆ 43704.5813 ┆ … ┆ 43531.0   ┆ 46513.0   ┆ 46686.581 ┆ 172      │\n",
       "│           ┆         ┆            ┆ 29         ┆   ┆           ┆           ┆ 329       ┆          │\n",
       "│ 526101001 ┆ 23      ┆ 22         ┆ 50405.5023 ┆ … ┆ 50077.0   ┆ 51923.0   ┆ 52251.502 ┆ 87       │\n",
       "│           ┆         ┆            ┆ 19         ┆   ┆           ┆           ┆ 319       ┆          │\n",
       "│ 526104001 ┆ 2       ┆ 1          ┆ 26677.0    ┆ … ┆ 26677.0   ┆ 36255.0   ┆ 36255.0   ┆ 408      │\n",
       "│ 526104001 ┆ 5       ┆ 4          ┆ 38554.3071 ┆ … ┆ 38256.0   ┆ 47680.0   ┆ 47978.307 ┆ 499      │\n",
       "│           ┆         ┆            ┆ 73         ┆   ┆           ┆           ┆ 173       ┆          │\n",
       "│ 526104001 ┆ 8       ┆ 7          ┆ 54061.1499 ┆ … ┆ 53713.0   ┆ 57313.0   ┆ 57661.149 ┆ 146      │\n",
       "│           ┆         ┆            ┆ 55         ┆   ┆           ┆           ┆ 955       ┆          │\n",
       "│ 526107001 ┆ 2       ┆ 1          ┆ 31399.0    ┆ … ┆ 31399.0   ┆ 33208.0   ┆ 33208.0   ┆ 111      │\n",
       "│ 526107001 ┆ 5       ┆ 4          ┆ 34442.9533 ┆ … ┆ 34238.0   ┆ 36077.0   ┆ 36281.953 ┆ 111      │\n",
       "│           ┆         ┆            ┆ 11         ┆   ┆           ┆           ┆ 311       ┆          │\n",
       "│ 526107001 ┆ 8       ┆ 7          ┆ 37314.6066 ┆ … ┆ 36980.0   ┆ 38327.0   ┆ 38661.606 ┆ 86       │\n",
       "│           ┆         ┆            ┆ 73         ┆   ┆           ┆           ┆ 673       ┆          │\n",
       "│ 526107001 ┆ 11      ┆ 10         ┆ 49475.8724 ┆ … ┆ 49127.0   ┆ 51207.0   ┆ 51555.872 ┆ 137      │\n",
       "│           ┆         ┆            ┆ 05         ┆   ┆           ┆           ┆ 405       ┆          │\n",
       "│ 526110001 ┆ 2       ┆ 1          ┆ 36653.0    ┆ … ┆ 36653.0   ┆ 38805.0   ┆ 38805.0   ┆ 131      │\n",
       "│ 526110001 ┆ 5       ┆ 4          ┆ 42637.3701 ┆ … ┆ 42570.0   ┆ 44639.0   ┆ 44706.370 ┆ 128      │\n",
       "│           ┆         ┆            ┆ 46         ┆   ┆           ┆           ┆ 146       ┆          │\n",
       "│ 830970010 ┆ 61      ┆ 1          ┆ 74444.0    ┆ … ┆ 74444.0   ┆ 74681.0   ┆ 74681.0   ┆ 21       │\n",
       "│ 830970010 ┆ 64      ┆ 4          ┆ 79826.0    ┆ … ┆ 79826.0   ┆ 80016.0   ┆ 80016.0   ┆ 16       │\n",
       "└───────────┴─────────┴────────────┴────────────┴───┴───────────┴───────────┴───────────┴──────────┘"
      ]
     },
     "execution_count": 21,
     "metadata": {},
     "output_type": "execute_result"
    }
   ],
   "source": [
    "mp_trips.filter(~pl.col(\"length\").is_null())"
   ]
  }
 ],
 "metadata": {
  "kernelspec": {
   "display_name": "Python 3 (ipykernel)",
   "language": "python",
   "name": "python3"
  },
  "language_info": {
   "codemirror_mode": {
    "name": "ipython",
    "version": 3
   },
   "file_extension": ".py",
   "mimetype": "text/x-python",
   "name": "python",
   "nbconvert_exporter": "python",
   "pygments_lexer": "ipython3",
   "version": "3.9.18"
  }
 },
 "nbformat": 4,
 "nbformat_minor": 5
}
