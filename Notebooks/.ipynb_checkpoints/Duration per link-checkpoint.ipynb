{
 "cells": [
  {
   "cell_type": "code",
   "execution_count": 1,
   "id": "6a79a6ca",
   "metadata": {},
   "outputs": [],
   "source": [
    "from xopen import xopen\n",
    "from collections import defaultdict\n",
    "\n",
    "import gzip\n",
    "import polars as pl\n",
    "import pandas as pd\n",
    "import xml.etree.ElementTree as ET\n",
    "import matplotlib.pyplot as plt"
   ]
  },
  {
   "cell_type": "code",
   "execution_count": 2,
   "id": "e902d2f5",
   "metadata": {},
   "outputs": [],
   "source": [
    "PLAN_PATH = \"/Users/andre/Desktop/Cergy/MATSim/matsim-berlin/berlin-v6.4.output_plans.xml.gz\"\n",
    "EVENTS_PATH = \"/Users/andre/Desktop/Cergy/MATSim/matsim-berlin/berlin-v6.4.output_events.xml.gz\"\n",
    "PASSAGES_PATH = \"/Users/andre/Desktop/Cergy/Python_Scripts/runs/fixed_10pct/matsim/passages.parquet\""
   ]
  },
  {
   "cell_type": "code",
   "execution_count": 3,
   "id": "2ed94de9",
   "metadata": {},
   "outputs": [],
   "source": [
    "passages_df = pl.read_parquet(PASSAGES_PATH)\n",
    "passages_df = (\n",
    "    passages_df\n",
    "    .filter(~pl.col(\"vehicle\").str.contains(\"pt\"), \n",
    "            ~pl.col(\"vehicle\").str.contains(\"freight\"))\n",
    "    .sort(pl.col([\"vehicle\",\"time\", \"link_id\"]))\n",
    "    .with_columns(pl.int_range(0, pl.len()).over(\"vehicle\", \"link_id\").alias(\"index\"))\n",
    ")"
   ]
  },
  {
   "cell_type": "code",
   "execution_count": 4,
   "id": "e7f6ceb6",
   "metadata": {},
   "outputs": [],
   "source": [
    "with_neighbors = (\n",
    "    passages_df\n",
    "    .with_columns([\n",
    "        pl.col(\"time\").shift(-1).over([\"vehicle\", \"link_id\"]).alias(\"next_time\"),\n",
    "        pl.col(\"event_type\").shift(-1).over([\"vehicle\", \"link_id\"]).alias(\"next_event\"),\n",
    "        pl.col(\"time\").shift(1).over([\"vehicle\", \"link_id\"]).alias(\"prev_time\"),\n",
    "        pl.col(\"event_type\").shift(1).over([\"vehicle\", \"link_id\"]).alias(\"prev_event\"),\n",
    "    ])\n",
    ")"
   ]
  },
  {
   "cell_type": "code",
   "execution_count": 5,
   "id": "1bb86b13",
   "metadata": {},
   "outputs": [],
   "source": [
    "# Entry lag = from \"enters traffic\" → next event\n",
    "entry_lag_df = (\n",
    "    with_neighbors\n",
    "    .filter(pl.col(\"event_type\") == \"vehicle enters traffic\",\n",
    "            pl.col(\"next_event\").is_not_null())\n",
    "    .with_columns([\n",
    "        (pl.col(\"next_time\") - pl.col(\"time\")).alias(\"entry_lag\")\n",
    "    ])\n",
    "    .drop([\"prev_event\", \"prev_time\"])\n",
    "\n",
    ")"
   ]
  },
  {
   "cell_type": "code",
   "execution_count": 6,
   "id": "253f86ac",
   "metadata": {},
   "outputs": [],
   "source": [
    "# Exit lag = from previous event → \"leaves traffic\"\n",
    "exit_lag_df = (\n",
    "    with_neighbors\n",
    "    .filter(pl.col(\"event_type\") == \"vehicle leaves traffic\",\n",
    "            pl.col(\"prev_event\").is_not_null())\n",
    "    .with_columns([\n",
    "        (pl.col(\"time\") - pl.col(\"prev_time\")).alias(\"exit_lag\")\n",
    "    ])\n",
    "    .drop([\"event_type\", \"next_event\", \"next_time\"])\n",
    ")"
   ]
  },
  {
   "cell_type": "code",
   "execution_count": 9,
   "id": "3ae679b4",
   "metadata": {
    "scrolled": false
   },
   "outputs": [
    {
     "data": {
      "text/html": [
       "<div><style>\n",
       ".dataframe > thead > tr,\n",
       ".dataframe > tbody > tr {\n",
       "  text-align: right;\n",
       "  white-space: pre-wrap;\n",
       "}\n",
       "</style>\n",
       "<small>shape: (6, 5)</small><table border=\"1\" class=\"dataframe\"><thead><tr><th>time</th><th>link_id</th><th>vehicle</th><th>event_type</th><th>index</th></tr><tr><td>f64</td><td>str</td><td>str</td><td>str</td><td>i64</td></tr></thead><tbody><tr><td>50093.0</td><td>&quot;4937325&quot;</td><td>&quot;berlin_5d088b40_car&quot;</td><td>&quot;entered link&quot;</td><td>0</td></tr><tr><td>50128.0</td><td>&quot;4937325&quot;</td><td>&quot;berlin_5d088b40_car&quot;</td><td>&quot;vehicle leaves traffic&quot;</td><td>1</td></tr><tr><td>52260.0</td><td>&quot;4937325&quot;</td><td>&quot;berlin_5d088b40_car&quot;</td><td>&quot;vehicle leaves traffic&quot;</td><td>2</td></tr><tr><td>52260.0</td><td>&quot;4937325&quot;</td><td>&quot;berlin_5d088b40_car&quot;</td><td>&quot;vehicle enters traffic&quot;</td><td>3</td></tr><tr><td>60414.0</td><td>&quot;4937325&quot;</td><td>&quot;berlin_5d088b40_car&quot;</td><td>&quot;vehicle enters traffic&quot;</td><td>4</td></tr><tr><td>60415.0</td><td>&quot;4937325&quot;</td><td>&quot;berlin_5d088b40_car&quot;</td><td>&quot;left link&quot;</td><td>5</td></tr></tbody></table></div>"
      ],
      "text/plain": [
       "shape: (6, 5)\n",
       "┌─────────┬─────────┬─────────────────────┬────────────────────────┬───────┐\n",
       "│ time    ┆ link_id ┆ vehicle             ┆ event_type             ┆ index │\n",
       "│ ---     ┆ ---     ┆ ---                 ┆ ---                    ┆ ---   │\n",
       "│ f64     ┆ str     ┆ str                 ┆ str                    ┆ i64   │\n",
       "╞═════════╪═════════╪═════════════════════╪════════════════════════╪═══════╡\n",
       "│ 50093.0 ┆ 4937325 ┆ berlin_5d088b40_car ┆ entered link           ┆ 0     │\n",
       "│ 50128.0 ┆ 4937325 ┆ berlin_5d088b40_car ┆ vehicle leaves traffic ┆ 1     │\n",
       "│ 52260.0 ┆ 4937325 ┆ berlin_5d088b40_car ┆ vehicle leaves traffic ┆ 2     │\n",
       "│ 52260.0 ┆ 4937325 ┆ berlin_5d088b40_car ┆ vehicle enters traffic ┆ 3     │\n",
       "│ 60414.0 ┆ 4937325 ┆ berlin_5d088b40_car ┆ vehicle enters traffic ┆ 4     │\n",
       "│ 60415.0 ┆ 4937325 ┆ berlin_5d088b40_car ┆ left link              ┆ 5     │\n",
       "└─────────┴─────────┴─────────────────────┴────────────────────────┴───────┘"
      ]
     },
     "execution_count": 9,
     "metadata": {},
     "output_type": "execute_result"
    }
   ],
   "source": [
    "passages_df.filter(pl.col(\"link_id\")=='4937325', time)"
   ]
  },
  {
   "cell_type": "code",
   "execution_count": 10,
   "id": "823a6f72",
   "metadata": {},
   "outputs": [],
   "source": [
    "# vehicles entring links\n",
    "entries = (passages_df.filter(pl.col(\"event_type\") == \"vehicle enters traffic\").rename({\"time\": \"entered_traffic_time\"})\n",
    "              .drop(pl.col(\"event_type\")))\n",
    "\n",
    "# vehicles exiting links\n",
    "exits = (passages_df.filter(pl.col(\"event_type\") == \"vehicle leaves traffic\").rename({\"time\": \"left_traffic_time\"})\n",
    "            .drop(pl.col(\"event_type\")))\n",
    "\n",
    "# entered link\n",
    "entered = (passages_df.filter(pl.col(\"event_type\") == \"entered link\").rename({\"time\": \"entry_time\"})\n",
    "           .drop(pl.col(\"event_type\")))\n",
    "\n",
    "# left link\n",
    "left = (passages_df.filter(pl.col(\"event_type\") == \"left link\")\n",
    "        .rename({\"time\": \"exit_time\"})\n",
    "        .drop(pl.col(\"event_type\")))"
   ]
  },
  {
   "cell_type": "code",
   "execution_count": 11,
   "id": "ea16c471",
   "metadata": {},
   "outputs": [],
   "source": [
    "#entries = entries.with_columns(pl.int_range(0, pl.len()).over(\"vehicle\", \"link_id\").alias(\"j_index\"))\n",
    "#exits = exits.with_columns(pl.int_range(0, pl.len()).over(\"vehicle\", \"link_id\").alias(\"j_index\"))\n",
    "\n",
    "entered = entered.with_columns(pl.int_range(0, pl.len()).over(\"vehicle\", \"link_id\").alias(\"j_index\"))\n",
    "left = left.with_columns(pl.int_range(0, pl.len()).over(\"vehicle\", \"link_id\").alias(\"j_index\"))"
   ]
  },
  {
   "cell_type": "code",
   "execution_count": 29,
   "id": "b2751bac",
   "metadata": {},
   "outputs": [],
   "source": [
    "reshaped = (\n",
    "    entered\n",
    "    .join(left, on=[\"j_index\", \"vehicle\", \"link_id\"], how=\"left\")\n",
    "    #.with_columns([(pl.col(\"exit_time\") - pl.col(\"entry_time\")).alias(\"duration\")])\n",
    "    .drop(pl.col(\"j_index\")))"
   ]
  },
  {
   "cell_type": "code",
   "execution_count": 13,
   "id": "bdfe0cf3",
   "metadata": {},
   "outputs": [
    {
     "data": {
      "text/html": [
       "<div><style>\n",
       ".dataframe > thead > tr,\n",
       ".dataframe > tbody > tr {\n",
       "  text-align: right;\n",
       "  white-space: pre-wrap;\n",
       "}\n",
       "</style>\n",
       "<small>shape: (34_229, 4)</small><table border=\"1\" class=\"dataframe\"><thead><tr><th>entered_traffic_time</th><th>link_id</th><th>vehicle</th><th>index</th></tr><tr><td>f64</td><td>str</td><td>str</td><td>i64</td></tr></thead><tbody><tr><td>30534.0</td><td>&quot;-30051377&quot;</td><td>&quot;bb_00005f6f_car&quot;</td><td>0</td></tr><tr><td>35835.0</td><td>&quot;-313182541#1&quot;</td><td>&quot;bb_00005f6f_car&quot;</td><td>2</td></tr><tr><td>53011.0</td><td>&quot;-30051377&quot;</td><td>&quot;bb_00005f6f_car&quot;</td><td>4</td></tr><tr><td>57132.0</td><td>&quot;-73029200&quot;</td><td>&quot;bb_00005f6f_car&quot;</td><td>3</td></tr><tr><td>58829.0</td><td>&quot;-73029200&quot;</td><td>&quot;bb_00005f6f_car&quot;</td><td>4</td></tr><tr><td>&hellip;</td><td>&hellip;</td><td>&hellip;</td><td>&hellip;</td></tr><tr><td>48615.0</td><td>&quot;-4483958#0&quot;</td><td>&quot;goodsTraffic_re_vkz.1942_5_5_c…</td><td>2</td></tr><tr><td>57462.0</td><td>&quot;-680545821&quot;</td><td>&quot;goodsTraffic_re_vkz.1942_5_5_c…</td><td>2</td></tr><tr><td>26678.0</td><td>&quot;-10774679#0&quot;</td><td>&quot;goodsTraffic_re_vkz.1952_3_1_c…</td><td>0</td></tr><tr><td>39751.0</td><td>&quot;-1111155175&quot;</td><td>&quot;goodsTraffic_re_vkz.1952_3_1_c…</td><td>2</td></tr><tr><td>55348.0</td><td>&quot;-252504436&quot;</td><td>&quot;goodsTraffic_re_vkz.1952_3_1_c…</td><td>2</td></tr></tbody></table></div>"
      ],
      "text/plain": [
       "shape: (34_229, 4)\n",
       "┌──────────────────────┬──────────────┬─────────────────────────────────┬───────┐\n",
       "│ entered_traffic_time ┆ link_id      ┆ vehicle                         ┆ index │\n",
       "│ ---                  ┆ ---          ┆ ---                             ┆ ---   │\n",
       "│ f64                  ┆ str          ┆ str                             ┆ i64   │\n",
       "╞══════════════════════╪══════════════╪═════════════════════════════════╪═══════╡\n",
       "│ 30534.0              ┆ -30051377    ┆ bb_00005f6f_car                 ┆ 0     │\n",
       "│ 35835.0              ┆ -313182541#1 ┆ bb_00005f6f_car                 ┆ 2     │\n",
       "│ 53011.0              ┆ -30051377    ┆ bb_00005f6f_car                 ┆ 4     │\n",
       "│ 57132.0              ┆ -73029200    ┆ bb_00005f6f_car                 ┆ 3     │\n",
       "│ 58829.0              ┆ -73029200    ┆ bb_00005f6f_car                 ┆ 4     │\n",
       "│ …                    ┆ …            ┆ …                               ┆ …     │\n",
       "│ 48615.0              ┆ -4483958#0   ┆ goodsTraffic_re_vkz.1942_5_5_c… ┆ 2     │\n",
       "│ 57462.0              ┆ -680545821   ┆ goodsTraffic_re_vkz.1942_5_5_c… ┆ 2     │\n",
       "│ 26678.0              ┆ -10774679#0  ┆ goodsTraffic_re_vkz.1952_3_1_c… ┆ 0     │\n",
       "│ 39751.0              ┆ -1111155175  ┆ goodsTraffic_re_vkz.1952_3_1_c… ┆ 2     │\n",
       "│ 55348.0              ┆ -252504436   ┆ goodsTraffic_re_vkz.1952_3_1_c… ┆ 2     │\n",
       "└──────────────────────┴──────────────┴─────────────────────────────────┴───────┘"
      ]
     },
     "execution_count": 13,
     "metadata": {},
     "output_type": "execute_result"
    }
   ],
   "source": [
    "entries"
   ]
  },
  {
   "cell_type": "code",
   "execution_count": 14,
   "id": "bcf7bef2",
   "metadata": {},
   "outputs": [
    {
     "data": {
      "text/html": [
       "<div><style>\n",
       ".dataframe > thead > tr,\n",
       ".dataframe > tbody > tr {\n",
       "  text-align: right;\n",
       "  white-space: pre-wrap;\n",
       "}\n",
       "</style>\n",
       "<small>shape: (34_226, 4)</small><table border=\"1\" class=\"dataframe\"><thead><tr><th>left_traffic_time</th><th>link_id</th><th>vehicle</th><th>index</th></tr><tr><td>f64</td><td>str</td><td>str</td><td>i64</td></tr></thead><tbody><tr><td>31787.0</td><td>&quot;-313182541#1&quot;</td><td>&quot;bb_00005f6f_car&quot;</td><td>1</td></tr><tr><td>37025.0</td><td>&quot;-30051377&quot;</td><td>&quot;bb_00005f6f_car&quot;</td><td>3</td></tr><tr><td>56273.0</td><td>&quot;-73029200&quot;</td><td>&quot;bb_00005f6f_car&quot;</td><td>1</td></tr><tr><td>57132.0</td><td>&quot;-73029200&quot;</td><td>&quot;bb_00005f6f_car&quot;</td><td>2</td></tr><tr><td>62433.0</td><td>&quot;-30051377&quot;</td><td>&quot;bb_00005f6f_car&quot;</td><td>7</td></tr><tr><td>&hellip;</td><td>&hellip;</td><td>&hellip;</td><td>&hellip;</td></tr><tr><td>50552.0</td><td>&quot;-680545821&quot;</td><td>&quot;goodsTraffic_re_vkz.1942_5_5_c…</td><td>1</td></tr><tr><td>68580.0</td><td>&quot;-49075754#0&quot;</td><td>&quot;goodsTraffic_re_vkz.1942_5_5_c…</td><td>3</td></tr><tr><td>37749.0</td><td>&quot;-1111155175&quot;</td><td>&quot;goodsTraffic_re_vkz.1952_3_1_c…</td><td>1</td></tr><tr><td>49314.0</td><td>&quot;-252504436&quot;</td><td>&quot;goodsTraffic_re_vkz.1952_3_1_c…</td><td>1</td></tr><tr><td>64789.0</td><td>&quot;-10774679#0&quot;</td><td>&quot;goodsTraffic_re_vkz.1952_3_1_c…</td><td>3</td></tr></tbody></table></div>"
      ],
      "text/plain": [
       "shape: (34_226, 4)\n",
       "┌───────────────────┬──────────────┬─────────────────────────────────┬───────┐\n",
       "│ left_traffic_time ┆ link_id      ┆ vehicle                         ┆ index │\n",
       "│ ---               ┆ ---          ┆ ---                             ┆ ---   │\n",
       "│ f64               ┆ str          ┆ str                             ┆ i64   │\n",
       "╞═══════════════════╪══════════════╪═════════════════════════════════╪═══════╡\n",
       "│ 31787.0           ┆ -313182541#1 ┆ bb_00005f6f_car                 ┆ 1     │\n",
       "│ 37025.0           ┆ -30051377    ┆ bb_00005f6f_car                 ┆ 3     │\n",
       "│ 56273.0           ┆ -73029200    ┆ bb_00005f6f_car                 ┆ 1     │\n",
       "│ 57132.0           ┆ -73029200    ┆ bb_00005f6f_car                 ┆ 2     │\n",
       "│ 62433.0           ┆ -30051377    ┆ bb_00005f6f_car                 ┆ 7     │\n",
       "│ …                 ┆ …            ┆ …                               ┆ …     │\n",
       "│ 50552.0           ┆ -680545821   ┆ goodsTraffic_re_vkz.1942_5_5_c… ┆ 1     │\n",
       "│ 68580.0           ┆ -49075754#0  ┆ goodsTraffic_re_vkz.1942_5_5_c… ┆ 3     │\n",
       "│ 37749.0           ┆ -1111155175  ┆ goodsTraffic_re_vkz.1952_3_1_c… ┆ 1     │\n",
       "│ 49314.0           ┆ -252504436   ┆ goodsTraffic_re_vkz.1952_3_1_c… ┆ 1     │\n",
       "│ 64789.0           ┆ -10774679#0  ┆ goodsTraffic_re_vkz.1952_3_1_c… ┆ 3     │\n",
       "└───────────────────┴──────────────┴─────────────────────────────────┴───────┘"
      ]
     },
     "execution_count": 14,
     "metadata": {},
     "output_type": "execute_result"
    }
   ],
   "source": [
    "exits"
   ]
  },
  {
   "cell_type": "code",
   "execution_count": 33,
   "id": "59a1da4d",
   "metadata": {},
   "outputs": [
    {
     "data": {
      "text/html": [
       "<div><style>\n",
       ".dataframe > thead > tr,\n",
       ".dataframe > tbody > tr {\n",
       "  text-align: right;\n",
       "  white-space: pre-wrap;\n",
       "}\n",
       "</style>\n",
       "<small>shape: (17, 5)</small><table border=\"1\" class=\"dataframe\"><thead><tr><th>entry_time</th><th>link_id</th><th>vehicle</th><th>index</th><th>j_index</th></tr><tr><td>f64</td><td>str</td><td>str</td><td>i64</td><td>i64</td></tr></thead><tbody><tr><td>30535.0</td><td>&quot;30051377&quot;</td><td>&quot;bb_00005f6f_car&quot;</td><td>0</td><td>0</td></tr><tr><td>53012.0</td><td>&quot;30051377&quot;</td><td>&quot;bb_00005f6f_car&quot;</td><td>2</td><td>1</td></tr><tr><td>23197.0</td><td>&quot;30051377&quot;</td><td>&quot;bb_391297b1_car&quot;</td><td>0</td><td>0</td></tr><tr><td>45879.0</td><td>&quot;30051377&quot;</td><td>&quot;bb_a399a546_car&quot;</td><td>0</td><td>0</td></tr><tr><td>20578.0</td><td>&quot;30051377&quot;</td><td>&quot;bb_e7f71f2f_car&quot;</td><td>0</td><td>0</td></tr><tr><td>&hellip;</td><td>&hellip;</td><td>&hellip;</td><td>&hellip;</td><td>&hellip;</td></tr><tr><td>29450.0</td><td>&quot;30051377&quot;</td><td>&quot;commercialPersonTraffic_servic…</td><td>0</td><td>0</td></tr><tr><td>60803.0</td><td>&quot;30051377&quot;</td><td>&quot;commercialPersonTraffic_servic…</td><td>0</td><td>0</td></tr><tr><td>33264.0</td><td>&quot;30051377&quot;</td><td>&quot;commercialPersonTraffic_servic…</td><td>0</td><td>0</td></tr><tr><td>63881.0</td><td>&quot;30051377&quot;</td><td>&quot;goodsTraffic_12054000_5_235_ca…</td><td>0</td><td>0</td></tr><tr><td>53569.0</td><td>&quot;30051377&quot;</td><td>&quot;goodsTraffic_1206835300_2_2_tr…</td><td>0</td><td>0</td></tr></tbody></table></div>"
      ],
      "text/plain": [
       "shape: (17, 5)\n",
       "┌────────────┬──────────┬─────────────────────────────────┬───────┬─────────┐\n",
       "│ entry_time ┆ link_id  ┆ vehicle                         ┆ index ┆ j_index │\n",
       "│ ---        ┆ ---      ┆ ---                             ┆ ---   ┆ ---     │\n",
       "│ f64        ┆ str      ┆ str                             ┆ i64   ┆ i64     │\n",
       "╞════════════╪══════════╪═════════════════════════════════╪═══════╪═════════╡\n",
       "│ 30535.0    ┆ 30051377 ┆ bb_00005f6f_car                 ┆ 0     ┆ 0       │\n",
       "│ 53012.0    ┆ 30051377 ┆ bb_00005f6f_car                 ┆ 2     ┆ 1       │\n",
       "│ 23197.0    ┆ 30051377 ┆ bb_391297b1_car                 ┆ 0     ┆ 0       │\n",
       "│ 45879.0    ┆ 30051377 ┆ bb_a399a546_car                 ┆ 0     ┆ 0       │\n",
       "│ 20578.0    ┆ 30051377 ┆ bb_e7f71f2f_car                 ┆ 0     ┆ 0       │\n",
       "│ …          ┆ …        ┆ …                               ┆ …     ┆ …       │\n",
       "│ 29450.0    ┆ 30051377 ┆ commercialPersonTraffic_servic… ┆ 0     ┆ 0       │\n",
       "│ 60803.0    ┆ 30051377 ┆ commercialPersonTraffic_servic… ┆ 0     ┆ 0       │\n",
       "│ 33264.0    ┆ 30051377 ┆ commercialPersonTraffic_servic… ┆ 0     ┆ 0       │\n",
       "│ 63881.0    ┆ 30051377 ┆ goodsTraffic_12054000_5_235_ca… ┆ 0     ┆ 0       │\n",
       "│ 53569.0    ┆ 30051377 ┆ goodsTraffic_1206835300_2_2_tr… ┆ 0     ┆ 0       │\n",
       "└────────────┴──────────┴─────────────────────────────────┴───────┴─────────┘"
      ]
     },
     "execution_count": 33,
     "metadata": {},
     "output_type": "execute_result"
    }
   ],
   "source": [
    "entered.filter(pl.col(\"link_id\")==\"30051377\")"
   ]
  },
  {
   "cell_type": "code",
   "execution_count": null,
   "id": "a1f563a8",
   "metadata": {},
   "outputs": [],
   "source": [
    "entered.filter(pl.col(\"link_id\")==\"30051377\")"
   ]
  },
  {
   "cell_type": "code",
   "execution_count": 34,
   "id": "70d95ddc",
   "metadata": {},
   "outputs": [
    {
     "data": {
      "text/html": [
       "<div><style>\n",
       ".dataframe > thead > tr,\n",
       ".dataframe > tbody > tr {\n",
       "  text-align: right;\n",
       "  white-space: pre-wrap;\n",
       "}\n",
       "</style>\n",
       "<small>shape: (17, 5)</small><table border=\"1\" class=\"dataframe\"><thead><tr><th>exit_time</th><th>link_id</th><th>vehicle</th><th>index</th><th>j_index</th></tr><tr><td>f64</td><td>str</td><td>str</td><td>i64</td><td>i64</td></tr></thead><tbody><tr><td>30552.0</td><td>&quot;30051377&quot;</td><td>&quot;bb_00005f6f_car&quot;</td><td>1</td><td>0</td></tr><tr><td>53029.0</td><td>&quot;30051377&quot;</td><td>&quot;bb_00005f6f_car&quot;</td><td>3</td><td>1</td></tr><tr><td>23214.0</td><td>&quot;30051377&quot;</td><td>&quot;bb_391297b1_car&quot;</td><td>1</td><td>0</td></tr><tr><td>45896.0</td><td>&quot;30051377&quot;</td><td>&quot;bb_a399a546_car&quot;</td><td>1</td><td>0</td></tr><tr><td>20595.0</td><td>&quot;30051377&quot;</td><td>&quot;bb_e7f71f2f_car&quot;</td><td>1</td><td>0</td></tr><tr><td>&hellip;</td><td>&hellip;</td><td>&hellip;</td><td>&hellip;</td><td>&hellip;</td></tr><tr><td>29467.0</td><td>&quot;30051377&quot;</td><td>&quot;commercialPersonTraffic_servic…</td><td>1</td><td>0</td></tr><tr><td>60820.0</td><td>&quot;30051377&quot;</td><td>&quot;commercialPersonTraffic_servic…</td><td>1</td><td>0</td></tr><tr><td>33281.0</td><td>&quot;30051377&quot;</td><td>&quot;commercialPersonTraffic_servic…</td><td>1</td><td>0</td></tr><tr><td>63898.0</td><td>&quot;30051377&quot;</td><td>&quot;goodsTraffic_12054000_5_235_ca…</td><td>1</td><td>0</td></tr><tr><td>53586.0</td><td>&quot;30051377&quot;</td><td>&quot;goodsTraffic_1206835300_2_2_tr…</td><td>1</td><td>0</td></tr></tbody></table></div>"
      ],
      "text/plain": [
       "shape: (17, 5)\n",
       "┌───────────┬──────────┬─────────────────────────────────┬───────┬─────────┐\n",
       "│ exit_time ┆ link_id  ┆ vehicle                         ┆ index ┆ j_index │\n",
       "│ ---       ┆ ---      ┆ ---                             ┆ ---   ┆ ---     │\n",
       "│ f64       ┆ str      ┆ str                             ┆ i64   ┆ i64     │\n",
       "╞═══════════╪══════════╪═════════════════════════════════╪═══════╪═════════╡\n",
       "│ 30552.0   ┆ 30051377 ┆ bb_00005f6f_car                 ┆ 1     ┆ 0       │\n",
       "│ 53029.0   ┆ 30051377 ┆ bb_00005f6f_car                 ┆ 3     ┆ 1       │\n",
       "│ 23214.0   ┆ 30051377 ┆ bb_391297b1_car                 ┆ 1     ┆ 0       │\n",
       "│ 45896.0   ┆ 30051377 ┆ bb_a399a546_car                 ┆ 1     ┆ 0       │\n",
       "│ 20595.0   ┆ 30051377 ┆ bb_e7f71f2f_car                 ┆ 1     ┆ 0       │\n",
       "│ …         ┆ …        ┆ …                               ┆ …     ┆ …       │\n",
       "│ 29467.0   ┆ 30051377 ┆ commercialPersonTraffic_servic… ┆ 1     ┆ 0       │\n",
       "│ 60820.0   ┆ 30051377 ┆ commercialPersonTraffic_servic… ┆ 1     ┆ 0       │\n",
       "│ 33281.0   ┆ 30051377 ┆ commercialPersonTraffic_servic… ┆ 1     ┆ 0       │\n",
       "│ 63898.0   ┆ 30051377 ┆ goodsTraffic_12054000_5_235_ca… ┆ 1     ┆ 0       │\n",
       "│ 53586.0   ┆ 30051377 ┆ goodsTraffic_1206835300_2_2_tr… ┆ 1     ┆ 0       │\n",
       "└───────────┴──────────┴─────────────────────────────────┴───────┴─────────┘"
      ]
     },
     "execution_count": 34,
     "metadata": {},
     "output_type": "execute_result"
    }
   ],
   "source": [
    "left.filter(pl.col(\"link_id\")==\"30051377\")"
   ]
  },
  {
   "cell_type": "code",
   "execution_count": 42,
   "id": "49b4e5ef",
   "metadata": {},
   "outputs": [],
   "source": [
    "# For entered DataFrame\n",
    "most_entered = (\n",
    "    entered.group_by(\"link_id\")\n",
    "    .len()\n",
    "    .sort(\"len\", descending=True)\n",
    "    .select([\"link_id\", \"len\"])\n",
    "    .head(1)\n",
    ")\n",
    "\n",
    "# For left DataFrame\n",
    "most_left = (\n",
    "    left.group_by(\"link_id\")\n",
    "    .len()\n",
    "    .sort(\"len\", descending=True)\n",
    "    .select([\"link_id\", \"len\"])\n",
    "    .head(1)\n",
    ")"
   ]
  },
  {
   "cell_type": "code",
   "execution_count": 49,
   "id": "cf47c027",
   "metadata": {},
   "outputs": [],
   "source": [
    "most_entered_link = entered.filter(pl.col('link_id')==\"462101683\") # used 740 times \n",
    "most_left_link = left.filter(pl.col('link_id')==\"462101683\")"
   ]
  },
  {
   "cell_type": "code",
   "execution_count": 50,
   "id": "8fbef9c8",
   "metadata": {},
   "outputs": [],
   "source": [
    "most_entered_link.write_parquet(\"/Users/andre/Desktop/Cergy/Python_Scripts/runs/fixed_10pct/matsim/most_entered_link.parquet\")\n",
    "most_left_link.write_parquet(\"/Users/andre/Desktop/Cergy/Python_Scripts/runs/fixed_10pct/matsim/most_left_link.parquet\")"
   ]
  },
  {
   "cell_type": "code",
   "execution_count": 64,
   "id": "9c47d4c6",
   "metadata": {},
   "outputs": [],
   "source": [
    "busiest_link = (\n",
    "    reshaped\n",
    "    .filter(pl.col('link_id') == \"462101683\")\n",
    "    .with_columns([\n",
    "        (pl.col('exit_time') - pl.col('entry_time')).alias('duration')\n",
    "    ])\n",
    "    .drop(['index', 'index_right'])\n",
    ")\n",
    "# Reorder columns: all except times and duration, then entry_time, exit_time, duration\n",
    "cols = [c for c in busiest_link.columns if c not in ['entry_time', 'exit_time', 'duration']]\n",
    "ordered_cols = cols + ['entry_time', 'exit_time', 'duration']\n",
    "\n",
    "busiest_link = busiest_link.select(ordered_cols)\n",
    "busiest_link.write_parquet(\"/Users/andre/Desktop/Cergy/Python_Scripts/runs/fixed_10pct/matsim/busiest_link.parquet\")"
   ]
  },
  {
   "cell_type": "code",
   "execution_count": 63,
   "id": "728ea400",
   "metadata": {},
   "outputs": [
    {
     "data": {
      "text/html": [
       "<div><style>\n",
       ".dataframe > thead > tr,\n",
       ".dataframe > tbody > tr {\n",
       "  text-align: right;\n",
       "  white-space: pre-wrap;\n",
       "}\n",
       "</style>\n",
       "<small>shape: (740, 5)</small><table border=\"1\" class=\"dataframe\"><thead><tr><th>link_id</th><th>vehicle</th><th>entry_time</th><th>exit_time</th><th>duration</th></tr><tr><td>str</td><td>str</td><td>f64</td><td>f64</td><td>f64</td></tr></thead><tbody><tr><td>&quot;462101683&quot;</td><td>&quot;bb_008101db_car&quot;</td><td>57174.0</td><td>57188.0</td><td>14.0</td></tr><tr><td>&quot;462101683&quot;</td><td>&quot;bb_0aa749cb_car&quot;</td><td>25361.0</td><td>25375.0</td><td>14.0</td></tr><tr><td>&quot;462101683&quot;</td><td>&quot;bb_0c25e919_car&quot;</td><td>38118.0</td><td>38132.0</td><td>14.0</td></tr><tr><td>&quot;462101683&quot;</td><td>&quot;bb_0e567d10_car&quot;</td><td>60424.0</td><td>60446.0</td><td>22.0</td></tr><tr><td>&quot;462101683&quot;</td><td>&quot;bb_0f447985_car&quot;</td><td>56354.0</td><td>56368.0</td><td>14.0</td></tr><tr><td>&hellip;</td><td>&hellip;</td><td>&hellip;</td><td>&hellip;</td><td>&hellip;</td></tr><tr><td>&quot;462101683&quot;</td><td>&quot;goodsTraffic_re_vkz.1801_3_6_t…</td><td>37862.0</td><td>37876.0</td><td>14.0</td></tr><tr><td>&quot;462101683&quot;</td><td>&quot;goodsTraffic_re_vkz.1801_3_6_t…</td><td>51927.0</td><td>51941.0</td><td>14.0</td></tr><tr><td>&quot;462101683&quot;</td><td>&quot;goodsTraffic_re_vkz.1823_5_17_…</td><td>27453.0</td><td>27467.0</td><td>14.0</td></tr><tr><td>&quot;462101683&quot;</td><td>&quot;goodsTraffic_re_vkz.1831_3_9_c…</td><td>46711.0</td><td>46725.0</td><td>14.0</td></tr><tr><td>&quot;462101683&quot;</td><td>&quot;goodsTraffic_re_vkz.1862_6_1_t…</td><td>43293.0</td><td>43461.0</td><td>168.0</td></tr></tbody></table></div>"
      ],
      "text/plain": [
       "shape: (740, 5)\n",
       "┌───────────┬─────────────────────────────────┬────────────┬───────────┬──────────┐\n",
       "│ link_id   ┆ vehicle                         ┆ entry_time ┆ exit_time ┆ duration │\n",
       "│ ---       ┆ ---                             ┆ ---        ┆ ---       ┆ ---      │\n",
       "│ str       ┆ str                             ┆ f64        ┆ f64       ┆ f64      │\n",
       "╞═══════════╪═════════════════════════════════╪════════════╪═══════════╪══════════╡\n",
       "│ 462101683 ┆ bb_008101db_car                 ┆ 57174.0    ┆ 57188.0   ┆ 14.0     │\n",
       "│ 462101683 ┆ bb_0aa749cb_car                 ┆ 25361.0    ┆ 25375.0   ┆ 14.0     │\n",
       "│ 462101683 ┆ bb_0c25e919_car                 ┆ 38118.0    ┆ 38132.0   ┆ 14.0     │\n",
       "│ 462101683 ┆ bb_0e567d10_car                 ┆ 60424.0    ┆ 60446.0   ┆ 22.0     │\n",
       "│ 462101683 ┆ bb_0f447985_car                 ┆ 56354.0    ┆ 56368.0   ┆ 14.0     │\n",
       "│ …         ┆ …                               ┆ …          ┆ …         ┆ …        │\n",
       "│ 462101683 ┆ goodsTraffic_re_vkz.1801_3_6_t… ┆ 37862.0    ┆ 37876.0   ┆ 14.0     │\n",
       "│ 462101683 ┆ goodsTraffic_re_vkz.1801_3_6_t… ┆ 51927.0    ┆ 51941.0   ┆ 14.0     │\n",
       "│ 462101683 ┆ goodsTraffic_re_vkz.1823_5_17_… ┆ 27453.0    ┆ 27467.0   ┆ 14.0     │\n",
       "│ 462101683 ┆ goodsTraffic_re_vkz.1831_3_9_c… ┆ 46711.0    ┆ 46725.0   ┆ 14.0     │\n",
       "│ 462101683 ┆ goodsTraffic_re_vkz.1862_6_1_t… ┆ 43293.0    ┆ 43461.0   ┆ 168.0    │\n",
       "└───────────┴─────────────────────────────────┴────────────┴───────────┴──────────┘"
      ]
     },
     "execution_count": 63,
     "metadata": {},
     "output_type": "execute_result"
    }
   ],
   "source": [
    "busiest_link"
   ]
  },
  {
   "cell_type": "code",
   "execution_count": 30,
   "id": "f734446b",
   "metadata": {},
   "outputs": [
    {
     "data": {
      "text/html": [
       "<div><style>\n",
       ".dataframe > thead > tr,\n",
       ".dataframe > tbody > tr {\n",
       "  text-align: right;\n",
       "  white-space: pre-wrap;\n",
       "}\n",
       "</style>\n",
       "<small>shape: (9_919, 6)</small><table border=\"1\" class=\"dataframe\"><thead><tr><th>entry_time</th><th>link_id</th><th>vehicle</th><th>index</th><th>exit_time</th><th>index_right</th></tr><tr><td>f64</td><td>str</td><td>str</td><td>i64</td><td>f64</td><td>i64</td></tr></thead><tbody><tr><td>37009.0</td><td>&quot;-30051377&quot;</td><td>&quot;bb_00005f6f_car&quot;</td><td>2</td><td>30535.0</td><td>1</td></tr><tr><td>62417.0</td><td>&quot;-30051377&quot;</td><td>&quot;bb_00005f6f_car&quot;</td><td>6</td><td>53012.0</td><td>5</td></tr><tr><td>44128.0</td><td>&quot;-50834551#1&quot;</td><td>&quot;bb_001f3cb3_car&quot;</td><td>2</td><td>25769.0</td><td>1</td></tr><tr><td>53133.0</td><td>&quot;-50834551#1&quot;</td><td>&quot;bb_001f3cb3_car&quot;</td><td>6</td><td>44268.0</td><td>5</td></tr><tr><td>49005.0</td><td>&quot;-40345966#0&quot;</td><td>&quot;bb_0035e9f6_car&quot;</td><td>2</td><td>43044.0</td><td>1</td></tr><tr><td>&hellip;</td><td>&hellip;</td><td>&hellip;</td><td>&hellip;</td><td>&hellip;</td><td>&hellip;</td></tr><tr><td>53731.0</td><td>&quot;-1079234339&quot;</td><td>&quot;goodsTraffic_re_vkz.1941_5_4_t…</td><td>2</td><td>27785.0</td><td>1</td></tr><tr><td>74080.0</td><td>&quot;-1079234339&quot;</td><td>&quot;goodsTraffic_re_vkz.1941_5_7_t…</td><td>2</td><td>31422.0</td><td>1</td></tr><tr><td>62693.0</td><td>&quot;-175916608#1&quot;</td><td>&quot;goodsTraffic_re_vkz.1942_4_2_c…</td><td>2</td><td>24211.0</td><td>1</td></tr><tr><td>68579.0</td><td>&quot;-49075754#0&quot;</td><td>&quot;goodsTraffic_re_vkz.1942_5_5_c…</td><td>2</td><td>26097.0</td><td>1</td></tr><tr><td>64781.0</td><td>&quot;-10774679#0&quot;</td><td>&quot;goodsTraffic_re_vkz.1952_3_1_c…</td><td>2</td><td>26679.0</td><td>1</td></tr></tbody></table></div>"
      ],
      "text/plain": [
       "shape: (9_919, 6)\n",
       "┌────────────┬──────────────┬─────────────────────────────────┬───────┬───────────┬─────────────┐\n",
       "│ entry_time ┆ link_id      ┆ vehicle                         ┆ index ┆ exit_time ┆ index_right │\n",
       "│ ---        ┆ ---          ┆ ---                             ┆ ---   ┆ ---       ┆ ---         │\n",
       "│ f64        ┆ str          ┆ str                             ┆ i64   ┆ f64       ┆ i64         │\n",
       "╞════════════╪══════════════╪═════════════════════════════════╪═══════╪═══════════╪═════════════╡\n",
       "│ 37009.0    ┆ -30051377    ┆ bb_00005f6f_car                 ┆ 2     ┆ 30535.0   ┆ 1           │\n",
       "│ 62417.0    ┆ -30051377    ┆ bb_00005f6f_car                 ┆ 6     ┆ 53012.0   ┆ 5           │\n",
       "│ 44128.0    ┆ -50834551#1  ┆ bb_001f3cb3_car                 ┆ 2     ┆ 25769.0   ┆ 1           │\n",
       "│ 53133.0    ┆ -50834551#1  ┆ bb_001f3cb3_car                 ┆ 6     ┆ 44268.0   ┆ 5           │\n",
       "│ 49005.0    ┆ -40345966#0  ┆ bb_0035e9f6_car                 ┆ 2     ┆ 43044.0   ┆ 1           │\n",
       "│ …          ┆ …            ┆ …                               ┆ …     ┆ …         ┆ …           │\n",
       "│ 53731.0    ┆ -1079234339  ┆ goodsTraffic_re_vkz.1941_5_4_t… ┆ 2     ┆ 27785.0   ┆ 1           │\n",
       "│ 74080.0    ┆ -1079234339  ┆ goodsTraffic_re_vkz.1941_5_7_t… ┆ 2     ┆ 31422.0   ┆ 1           │\n",
       "│ 62693.0    ┆ -175916608#1 ┆ goodsTraffic_re_vkz.1942_4_2_c… ┆ 2     ┆ 24211.0   ┆ 1           │\n",
       "│ 68579.0    ┆ -49075754#0  ┆ goodsTraffic_re_vkz.1942_5_5_c… ┆ 2     ┆ 26097.0   ┆ 1           │\n",
       "│ 64781.0    ┆ -10774679#0  ┆ goodsTraffic_re_vkz.1952_3_1_c… ┆ 2     ┆ 26679.0   ┆ 1           │\n",
       "└────────────┴──────────────┴─────────────────────────────────┴───────┴───────────┴─────────────┘"
      ]
     },
     "execution_count": 30,
     "metadata": {},
     "output_type": "execute_result"
    }
   ],
   "source": [
    "reshaped.filter(pl.col('index')>pl.col('index_right'))"
   ]
  },
  {
   "cell_type": "code",
   "execution_count": 24,
   "id": "f457cf9d",
   "metadata": {},
   "outputs": [
    {
     "data": {
      "text/html": [
       "<div><style>\n",
       ".dataframe > thead > tr,\n",
       ".dataframe > tbody > tr {\n",
       "  text-align: right;\n",
       "  white-space: pre-wrap;\n",
       "}\n",
       "</style>\n",
       "<small>shape: (9_919, 6)</small><table border=\"1\" class=\"dataframe\"><thead><tr><th>entry_time</th><th>link_id</th><th>vehicle</th><th>index</th><th>exit_time</th><th>index_right</th></tr><tr><td>f64</td><td>str</td><td>str</td><td>i64</td><td>f64</td><td>i64</td></tr></thead><tbody><tr><td>30839.0</td><td>&quot;-1000471322&quot;</td><td>&quot;bb_10fa5977_car&quot;</td><td>2</td><td>29042.0</td><td>1</td></tr><tr><td>64999.0</td><td>&quot;-1000471322&quot;</td><td>&quot;bb_7f4b37aa_car&quot;</td><td>2</td><td>26174.0</td><td>1</td></tr><tr><td>57600.0</td><td>&quot;-1000471322&quot;</td><td>&quot;bb_9c72e09b_car&quot;</td><td>2</td><td>53621.0</td><td>1</td></tr><tr><td>58321.0</td><td>&quot;-1000471322&quot;</td><td>&quot;bb_b9273fde_car&quot;</td><td>2</td><td>24793.0</td><td>1</td></tr><tr><td>52800.0</td><td>&quot;-1000471322&quot;</td><td>&quot;bb_db427f64_car&quot;</td><td>2</td><td>29893.0</td><td>1</td></tr><tr><td>&hellip;</td><td>&hellip;</td><td>&hellip;</td><td>&hellip;</td><td>&hellip;</td><td>&hellip;</td></tr><tr><td>64343.0</td><td>&quot;23176498&quot;</td><td>&quot;bb_ab7cd12e_car&quot;</td><td>18</td><td>62252.0</td><td>17</td></tr><tr><td>62759.0</td><td>&quot;4045220&quot;</td><td>&quot;berlin_010ba4c6_car&quot;</td><td>18</td><td>61826.0</td><td>17</td></tr><tr><td>78480.0</td><td>&quot;-26243942&quot;</td><td>&quot;berlin_88ce15b7_car&quot;</td><td>22</td><td>78282.0</td><td>21</td></tr><tr><td>63080.0</td><td>&quot;-5785905#0&quot;</td><td>&quot;bb_9921a388_car&quot;</td><td>22</td><td>56036.0</td><td>21</td></tr><tr><td>75205.0</td><td>&quot;23176498&quot;</td><td>&quot;bb_ab7cd12e_car&quot;</td><td>22</td><td>74652.0</td><td>21</td></tr></tbody></table></div>"
      ],
      "text/plain": [
       "shape: (9_919, 6)\n",
       "┌────────────┬─────────────┬─────────────────────┬───────┬───────────┬─────────────┐\n",
       "│ entry_time ┆ link_id     ┆ vehicle             ┆ index ┆ exit_time ┆ index_right │\n",
       "│ ---        ┆ ---         ┆ ---                 ┆ ---   ┆ ---       ┆ ---         │\n",
       "│ f64        ┆ str         ┆ str                 ┆ i64   ┆ f64       ┆ i64         │\n",
       "╞════════════╪═════════════╪═════════════════════╪═══════╪═══════════╪═════════════╡\n",
       "│ 30839.0    ┆ -1000471322 ┆ bb_10fa5977_car     ┆ 2     ┆ 29042.0   ┆ 1           │\n",
       "│ 64999.0    ┆ -1000471322 ┆ bb_7f4b37aa_car     ┆ 2     ┆ 26174.0   ┆ 1           │\n",
       "│ 57600.0    ┆ -1000471322 ┆ bb_9c72e09b_car     ┆ 2     ┆ 53621.0   ┆ 1           │\n",
       "│ 58321.0    ┆ -1000471322 ┆ bb_b9273fde_car     ┆ 2     ┆ 24793.0   ┆ 1           │\n",
       "│ 52800.0    ┆ -1000471322 ┆ bb_db427f64_car     ┆ 2     ┆ 29893.0   ┆ 1           │\n",
       "│ …          ┆ …           ┆ …                   ┆ …     ┆ …         ┆ …           │\n",
       "│ 64343.0    ┆ 23176498    ┆ bb_ab7cd12e_car     ┆ 18    ┆ 62252.0   ┆ 17          │\n",
       "│ 62759.0    ┆ 4045220     ┆ berlin_010ba4c6_car ┆ 18    ┆ 61826.0   ┆ 17          │\n",
       "│ 78480.0    ┆ -26243942   ┆ berlin_88ce15b7_car ┆ 22    ┆ 78282.0   ┆ 21          │\n",
       "│ 63080.0    ┆ -5785905#0  ┆ bb_9921a388_car     ┆ 22    ┆ 56036.0   ┆ 21          │\n",
       "│ 75205.0    ┆ 23176498    ┆ bb_ab7cd12e_car     ┆ 22    ┆ 74652.0   ┆ 21          │\n",
       "└────────────┴─────────────┴─────────────────────┴───────┴───────────┴─────────────┘"
      ]
     },
     "execution_count": 24,
     "metadata": {},
     "output_type": "execute_result"
    }
   ],
   "source": [
    "reshaped.filter(pl.col('index')>pl.col('index_right')).sort(\"index_right\")"
   ]
  },
  {
   "cell_type": "code",
   "execution_count": 16,
   "id": "e885079b",
   "metadata": {},
   "outputs": [],
   "source": [
    "avg_durations = (\n",
    "    passages_df\n",
    "    .group_by(\"link_id\")\n",
    "    .agg([\n",
    "        pl.col(\"duration\").mean().alias(\"avg_duration\"),\n",
    "        pl.col(\"duration\").count().alias(\"n_passages\"),\n",
    "        pl.col(\"duration\").sum().alias(\"total_duration\")\n",
    "    ])\n",
    "    .sort(\"avg_duration\", descending=True)\n",
    ")"
   ]
  },
  {
   "cell_type": "code",
   "execution_count": 17,
   "id": "e8f04afb",
   "metadata": {},
   "outputs": [
    {
     "data": {
      "text/html": [
       "<div><style>\n",
       ".dataframe > thead > tr,\n",
       ".dataframe > tbody > tr {\n",
       "  text-align: right;\n",
       "  white-space: pre-wrap;\n",
       "}\n",
       "</style>\n",
       "<small>shape: (188_728, 4)</small><table border=\"1\" class=\"dataframe\"><thead><tr><th>link_id</th><th>avg_duration</th><th>n_passages</th><th>total_duration</th></tr><tr><td>str</td><td>f64</td><td>u32</td><td>f64</td></tr></thead><tbody><tr><td>&quot;-5026771&quot;</td><td>null</td><td>0</td><td>0.0</td></tr><tr><td>&quot;-649556585&quot;</td><td>null</td><td>0</td><td>0.0</td></tr><tr><td>&quot;-24879167&quot;</td><td>null</td><td>0</td><td>0.0</td></tr><tr><td>&quot;-15742783#1&quot;</td><td>null</td><td>0</td><td>0.0</td></tr><tr><td>&quot;-4898660#1&quot;</td><td>null</td><td>0</td><td>0.0</td></tr><tr><td>&hellip;</td><td>&hellip;</td><td>&hellip;</td><td>&hellip;</td></tr><tr><td>&quot;-76635171#1&quot;</td><td>-58854.5</td><td>2</td><td>-117709.0</td></tr><tr><td>&quot;-8771232#0&quot;</td><td>-63856.0</td><td>1</td><td>-63856.0</td></tr><tr><td>&quot;-284232568&quot;</td><td>-64237.5</td><td>2</td><td>-128475.0</td></tr><tr><td>&quot;-10953348&quot;</td><td>-69690.0</td><td>1</td><td>-69690.0</td></tr><tr><td>&quot;-7739797&quot;</td><td>-81167.0</td><td>1</td><td>-81167.0</td></tr></tbody></table></div>"
      ],
      "text/plain": [
       "shape: (188_728, 4)\n",
       "┌─────────────┬──────────────┬────────────┬────────────────┐\n",
       "│ link_id     ┆ avg_duration ┆ n_passages ┆ total_duration │\n",
       "│ ---         ┆ ---          ┆ ---        ┆ ---            │\n",
       "│ str         ┆ f64          ┆ u32        ┆ f64            │\n",
       "╞═════════════╪══════════════╪════════════╪════════════════╡\n",
       "│ -5026771    ┆ null         ┆ 0          ┆ 0.0            │\n",
       "│ -649556585  ┆ null         ┆ 0          ┆ 0.0            │\n",
       "│ -24879167   ┆ null         ┆ 0          ┆ 0.0            │\n",
       "│ -15742783#1 ┆ null         ┆ 0          ┆ 0.0            │\n",
       "│ -4898660#1  ┆ null         ┆ 0          ┆ 0.0            │\n",
       "│ …           ┆ …            ┆ …          ┆ …              │\n",
       "│ -76635171#1 ┆ -58854.5     ┆ 2          ┆ -117709.0      │\n",
       "│ -8771232#0  ┆ -63856.0     ┆ 1          ┆ -63856.0       │\n",
       "│ -284232568  ┆ -64237.5     ┆ 2          ┆ -128475.0      │\n",
       "│ -10953348   ┆ -69690.0     ┆ 1          ┆ -69690.0       │\n",
       "│ -7739797    ┆ -81167.0     ┆ 1          ┆ -81167.0       │\n",
       "└─────────────┴──────────────┴────────────┴────────────────┘"
      ]
     },
     "execution_count": 17,
     "metadata": {},
     "output_type": "execute_result"
    }
   ],
   "source": [
    "avg_durations"
   ]
  }
 ],
 "metadata": {
  "kernelspec": {
   "display_name": "Python 3 (ipykernel)",
   "language": "python",
   "name": "python3"
  },
  "language_info": {
   "codemirror_mode": {
    "name": "ipython",
    "version": 3
   },
   "file_extension": ".py",
   "mimetype": "text/x-python",
   "name": "python",
   "nbconvert_exporter": "python",
   "pygments_lexer": "ipython3",
   "version": "3.9.18"
  }
 },
 "nbformat": 4,
 "nbformat_minor": 5
}
