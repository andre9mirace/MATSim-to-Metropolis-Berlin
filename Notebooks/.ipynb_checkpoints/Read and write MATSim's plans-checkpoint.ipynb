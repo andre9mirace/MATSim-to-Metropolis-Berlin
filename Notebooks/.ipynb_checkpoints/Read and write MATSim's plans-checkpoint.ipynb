{
 "cells": [
  {
   "cell_type": "code",
   "execution_count": 1,
   "id": "6daa066c",
   "metadata": {},
   "outputs": [],
   "source": [
    "import numpy as np\n",
    "import os\n",
    "import pyarrow\n",
    "import sys\n",
    "import json\n",
    "import math\n",
    "import mpl_utils\n",
    "import matplotlib as mpl\n",
    "import matplotlib.pyplot as plt\n",
    "import seaborn as sns\n",
    "\n",
    "import pandas as pd\n",
    "import polars as pl\n",
    "import xml.etree.ElementTree as ET\n",
    "\n",
    "from xopen import xopen\n",
    "from datetime import time"
   ]
  },
  {
   "cell_type": "markdown",
   "id": "9dbb39e6",
   "metadata": {},
   "source": [
    "# Directories"
   ]
  },
  {
   "cell_type": "code",
   "execution_count": 2,
   "id": "b1ec05f1",
   "metadata": {},
   "outputs": [],
   "source": [
    "# General directories\n",
    "general_directory = '/Users/andre/Desktop/Cergy/'\n",
    "\n",
    "berlin_directory = 'MATSim/matsim-berlin/input/v6.4/'\n",
    "\n",
    "pt_10pct_dir = \"Python_Scripts/runs/pt_10pct/\" # This script's output\n",
    "\n",
    "# Functions\n",
    "sys.path.append(\"../functions\")"
   ]
  },
  {
   "cell_type": "markdown",
   "id": "2a88fff0",
   "metadata": {},
   "source": [
    "### Three files for Berlin"
   ]
  },
  {
   "cell_type": "code",
   "execution_count": 3,
   "id": "3931900c",
   "metadata": {},
   "outputs": [],
   "source": [
    "# MATSim Berlin paths\n",
    "# Supply\n",
    "NETWORK_PATH = (os.path.join(general_directory, berlin_directory, \"berlin-v6.4-network.xml.gz\")) # Network\n",
    "\n",
    "VEHICLE_PATH = (os.path.join(general_directory, berlin_directory, \"berlin-v6.4-vehicleTypes.xml\")) # Vehicles\n",
    "\n",
    "# Demand\n",
    "PLAN_PATH = (os.path.join(general_directory, berlin_directory, \"berlin-v6.4.output_plans.xml.gz\")) # Plans"
   ]
  },
  {
   "cell_type": "markdown",
   "id": "75e4c13b",
   "metadata": {},
   "source": [
    "## Metropolis directories"
   ]
  },
  {
   "cell_type": "code",
   "execution_count": 4,
   "id": "68f25f50",
   "metadata": {},
   "outputs": [],
   "source": [
    "# Metropolis directories\n",
    "METRO_INPUT = (os.path.join(general_directory, pt_10pct_dir, \"metro_inputs/\")) \n",
    "METRO_OUTPUT = (os.path.join(general_directory, pt_10pct_dir, \"metro_outputs/\"))\n"
   ]
  },
  {
   "cell_type": "markdown",
   "id": "fd457c19",
   "metadata": {},
   "source": [
    "# Parameters"
   ]
  },
  {
   "cell_type": "code",
   "execution_count": 31,
   "id": "74e926f7",
   "metadata": {},
   "outputs": [],
   "source": [
    "POPULATION_SHARE = 0.10 # 10% of total population to match MATSim Berlin\n",
    "\n",
    "# Parameters to use for the simulation.\n",
    "PARAMETERS ={\n",
    "    \"input_files\": {\n",
    "      \"agents\": (os.path.join(METRO_INPUT, \"agents.parquet\")) ,\n",
    "      \"alternatives\": (os.path.join(METRO_INPUT, \"alts.parquet\")),\n",
    "      \"trips\": (os.path.join(METRO_INPUT, \"trips.parquet\")),\n",
    "      \"edges\": (os.path.join(METRO_INPUT, \"edges.parquet\")),\n",
    "      \"vehicle_types\": (os.path.join(METRO_INPUT, \"vehicles.parquet\"))\n",
    "                },\n",
    "    \"output_directory\": METRO_OUTPUT,\n",
    "    \"period\": [0.0, 86400.0],\n",
    "    \"road_network\": {\n",
    "        \"recording_interval\": 950.0,\n",
    "        \"approximation_bound\": 1.0,\n",
    "        \"spillback\": True,\n",
    "        \"backward_wave_speed\": 15.0,  # 15km/h to match MATSim\n",
    "        \"max_pending_duration\": 30.0, # to avoid gridlock - 30s to avoid gridlock\n",
    "        \"constrain_inflow\": True,\n",
    "        \"algorithm_type\": \"Best\"\n",
    "    },\n",
    "    \"learning_model\": {\n",
    "      \"type\": \"Linear\"\n",
    "    },\n",
    "    \"init_iteration_counter\": 1,\n",
    "    \"max_iterations\": 1,\n",
    "    \"update_ratio\": 1.0,\n",
    "    \"random_seed\": 13081996,\n",
    "    \"nb_threads\": 16, # to match MATSim Berlin\n",
    "    \"saving_format\": \"Parquet\",\n",
    "    \"only_compute_decisions\": False\n",
    "}"
   ]
  },
  {
   "cell_type": "markdown",
   "id": "c184996c",
   "metadata": {},
   "source": [
    "# Supply"
   ]
  },
  {
   "cell_type": "code",
   "execution_count": 5,
   "id": "0d177ec3",
   "metadata": {},
   "outputs": [],
   "source": [
    "import Supply_functions as sup"
   ]
  },
  {
   "cell_type": "code",
   "execution_count": 6,
   "id": "136e4b35",
   "metadata": {},
   "outputs": [
    {
     "name": "stdout",
     "output_type": "stream",
     "text": [
      "More than two parallel edges\n",
      "Found 1842 parallel edges\n",
      "dataframe types conversion failed for column seats\n",
      "dataframe types conversion failed for column standingRoomInPersons\n"
     ]
    }
   ],
   "source": [
    "links = sup.read_network(NETWORK_PATH)            # Read network xml\n",
    "vehicle_types =  sup.vehicle_reader(VEHICLE_PATH) # Read vehicle xml"
   ]
  },
  {
   "cell_type": "code",
   "execution_count": 7,
   "id": "027553e0",
   "metadata": {},
   "outputs": [],
   "source": [
    "edges = sup.make_edges_df(links)                # transform to metropolis network\n",
    "vehicles = sup.make_vehicles_df(vehicle_types)  # transform to metropolis vehicles"
   ]
  },
  {
   "cell_type": "code",
   "execution_count": 34,
   "id": "a9268b3c",
   "metadata": {},
   "outputs": [],
   "source": [
    "edges_df, vehicles_df = sup.format_supply(edges, vehicles) # format for metropolis input"
   ]
  },
  {
   "cell_type": "markdown",
   "id": "5b61a083",
   "metadata": {},
   "source": [
    "# Demand"
   ]
  },
  {
   "cell_type": "code",
   "execution_count": 24,
   "id": "d79abebb",
   "metadata": {},
   "outputs": [],
   "source": [
    "import Demand_functions as dmd"
   ]
  },
  {
   "cell_type": "code",
   "execution_count": 10,
   "id": "eb7e065c",
   "metadata": {},
   "outputs": [],
   "source": [
    "plans_df = dmd.plan_reader_dataframe(PLAN_PATH) # read output_plans.xml"
   ]
  },
  {
   "cell_type": "code",
   "execution_count": 11,
   "id": "d81cea97",
   "metadata": {},
   "outputs": [],
   "source": [
    "persons = plans_df[0]    # person_id and agent characteristics (economic status, employment, vehicles, etc.)\n",
    "plans = plans_df[1]      # plan_id with assigned person_id and score\n",
    "activities = plans_df[2] # activities (place, duration, etc.) with associated to their respective plan\n",
    "legs = plans_df[3]       # legs associated to a plan (with mode, departure times and routing mode)\n",
    "routes = plans_df[4]     # routes, travel times, distances and travel times associated to a leg"
   ]
  },
  {
   "cell_type": "code",
   "execution_count": 12,
   "id": "0890ea56",
   "metadata": {},
   "outputs": [
    {
     "data": {
      "text/plain": [
       "['ET',\n",
       " '__builtins__',\n",
       " '__cached__',\n",
       " '__doc__',\n",
       " '__file__',\n",
       " '__loader__',\n",
       " '__name__',\n",
       " '__package__',\n",
       " '__spec__',\n",
       " 'format_demand',\n",
       " 'generate_sequence',\n",
       " 'generate_trips',\n",
       " 'hhmmss_str_to_seconds_expr',\n",
       " 'math',\n",
       " 'parse_attributes',\n",
       " 'pl',\n",
       " 'plan_reader_dataframe',\n",
       " 'summarize_trips',\n",
       " 'xopen']"
      ]
     },
     "execution_count": 12,
     "metadata": {},
     "output_type": "execute_result"
    }
   ],
   "source": [
    "dir(dmd)"
   ]
  },
  {
   "cell_type": "code",
   "execution_count": 13,
   "id": "c994e22b",
   "metadata": {},
   "outputs": [],
   "source": [
    "matsim_trips = dmd.generate_sequence(plans, activities, legs, routes) # organize MATSim output"
   ]
  },
  {
   "cell_type": "code",
   "execution_count": 21,
   "id": "0bc5147b",
   "metadata": {},
   "outputs": [],
   "source": [
    "clean_trips = dmd.summarize_trips(matsim_trips) # filter out trips according to certain criteria"
   ]
  },
  {
   "cell_type": "code",
   "execution_count": 26,
   "id": "bc04d821",
   "metadata": {},
   "outputs": [],
   "source": [
    "metro_trips = dmd.generate_trips(clean_trips, edges, vehicles) # create metropolis trips"
   ]
  },
  {
   "cell_type": "code",
   "execution_count": 29,
   "id": "f26fcb25",
   "metadata": {},
   "outputs": [],
   "source": [
    "agents_df, alts_df, trips_df = dmd.format_demand(metro_trips) # create the metropolis input in the correct format"
   ]
  },
  {
   "cell_type": "markdown",
   "id": "9acc85bf",
   "metadata": {},
   "source": [
    "# Write Metropolis Input"
   ]
  },
  {
   "cell_type": "markdown",
   "id": "d265364f",
   "metadata": {},
   "source": [
    "## Parameters\n"
   ]
  },
  {
   "cell_type": "code",
   "execution_count": 32,
   "id": "434cd4af",
   "metadata": {},
   "outputs": [
    {
     "name": "stdout",
     "output_type": "stream",
     "text": [
      "Writing Metropolis parameters\n"
     ]
    }
   ],
   "source": [
    "print(\"Writing Metropolis parameters\")\n",
    "with open(os.path.join(METRO_INPUT, \"parameters.json\"), \"w\") as f:\n",
    "    f.write(json.dumps(PARAMETERS))"
   ]
  },
  {
   "cell_type": "markdown",
   "id": "f521b993",
   "metadata": {},
   "source": [
    "## Supply files"
   ]
  },
  {
   "cell_type": "code",
   "execution_count": 35,
   "id": "652543b9",
   "metadata": {},
   "outputs": [
    {
     "name": "stdout",
     "output_type": "stream",
     "text": [
      "Writing Metropolis supply in  /Users/andre/Desktop/Cergy/Python_Scripts/runs/pt_10pct/metro_inputs/\n"
     ]
    }
   ],
   "source": [
    "# Writing files\n",
    "print(\"Writing Metropolis supply in \", METRO_INPUT)\n",
    "edges_df.write_parquet(METRO_INPUT + \"edges.parquet\")\n",
    "vehicles_df.write_parquet(METRO_INPUT + \"vehicles.parquet\")"
   ]
  },
  {
   "cell_type": "markdown",
   "id": "7b26134d",
   "metadata": {},
   "source": [
    "## Demand files"
   ]
  },
  {
   "cell_type": "code",
   "execution_count": 36,
   "id": "bf45fa46",
   "metadata": {},
   "outputs": [
    {
     "name": "stdout",
     "output_type": "stream",
     "text": [
      "Writing Metropolis input to /Users/andre/Desktop/Cergy/Python_Scripts/runs/pt_10pct/metro_inputs/\n",
      "Writing Metropolis agents\n",
      "Writing Metropolis alternatives\n",
      "Writing Metropolis trips\n",
      "Input files have been successfully written\n"
     ]
    }
   ],
   "source": [
    "# Writing files\n",
    "print(\"Writing Metropolis input to\", METRO_INPUT)\n",
    "\n",
    "print(\"Writing Metropolis agents\")\n",
    "agents_df.write_parquet(METRO_INPUT + \"agents.parquet\")\n",
    "\n",
    "print(\"Writing Metropolis alternatives\")\n",
    "alts_df.write_parquet(METRO_INPUT + \"alts.parquet\")\n",
    "\n",
    "print(\"Writing Metropolis trips\")\n",
    "trips_df.write_parquet(METRO_INPUT + \"trips.parquet\")\n",
    "print(\"Input files have been successfully written\")"
   ]
  }
 ],
 "metadata": {
  "kernelspec": {
   "display_name": "Python 3 (ipykernel)",
   "language": "python",
   "name": "python3"
  },
  "language_info": {
   "codemirror_mode": {
    "name": "ipython",
    "version": 3
   },
   "file_extension": ".py",
   "mimetype": "text/x-python",
   "name": "python",
   "nbconvert_exporter": "python",
   "pygments_lexer": "ipython3",
   "version": "3.9.18"
  }
 },
 "nbformat": 4,
 "nbformat_minor": 5
}
