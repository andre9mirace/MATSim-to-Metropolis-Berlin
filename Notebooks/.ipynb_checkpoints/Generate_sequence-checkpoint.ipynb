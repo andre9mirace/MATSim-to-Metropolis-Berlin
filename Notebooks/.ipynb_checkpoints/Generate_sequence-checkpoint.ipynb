{
 "cells": [
  {
   "cell_type": "code",
   "execution_count": 1,
   "id": "52001a96",
   "metadata": {},
   "outputs": [],
   "source": [
    "import numpy as np\n",
    "import os\n",
    "import pyarrow\n",
    "import sys\n",
    "import json\n",
    "import math\n",
    "import mpl_utils\n",
    "import matplotlib as mpl\n",
    "import matplotlib.pyplot as plt\n",
    "import seaborn as sns\n",
    "\n",
    "import pandas as pd\n",
    "import polars as pl\n",
    "import xml.etree.ElementTree as ET\n",
    "\n",
    "from xopen import xopen\n",
    "from datetime import time"
   ]
  },
  {
   "cell_type": "code",
   "execution_count": 2,
   "id": "c212a3a6",
   "metadata": {},
   "outputs": [],
   "source": [
    "# Path to MATSim's experienced plans.\n",
    "PLAN_PATH = \"/Users/andre/Desktop/Cergy/Python_Scripts/runs/fixed_10pct/matsim\"\n",
    "\n",
    "# Path to the directory where the Metropolis output is stored.\n",
    "METROPOLIS_OUTPUT = \"/Users/andre/Desktop/Cergy/Python_Scripts/runs/fixed_10pct/output\"\n",
    "\n",
    "# MATSim network path\n",
    "NETWORK_PATH = (\n",
    "    \"/Users/andre/Desktop/Cergy/MATSim/matsim-berlin/input/v6.4/berlin-v6.4-network.xml.gz\"\n",
    ")\n",
    "\n",
    "MATSIM_TRIPS = \"/Users/andre/Desktop/Cergy/Python_Scripts/runs/pt_10pct/matsim_trips/\"\n",
    "\n",
    "# Path to MATSim's vehicles.\n",
    "VEHICLE_PATH = (\n",
    "    \"/Users/andre/Desktop/Cergy/MATSim/matsim-berlin/input/v6.4/berlin-v6.4-vehicleTypes.xml\")\n"
   ]
  },
  {
   "cell_type": "code",
   "execution_count": 3,
   "id": "7fad9aa5",
   "metadata": {},
   "outputs": [],
   "source": [
    "def hhmmss_str_to_seconds_expr(col: str) -> pl.Expr:\n",
    "    return (\n",
    "        pl.col(col)\n",
    "        .map_elements(\n",
    "            lambda t: sum(x * m for x, m in zip(map(int, str(t).split(\":\")), [3600, 60, 1]))\n",
    "            if isinstance(t, str) and \":\" in t else None,\n",
    "            return_dtype=pl.Int32\n",
    "        )\n",
    "        .alias(f\"{col}_secs\")\n",
    "    )"
   ]
  },
  {
   "cell_type": "code",
   "execution_count": 4,
   "id": "8e67847a",
   "metadata": {},
   "outputs": [],
   "source": [
    "def read_matsim_plans():\n",
    "    persons = pl.read_parquet(os.path.join(PLAN_PATH, \"MATSim_persons.parquet\"))\n",
    "    plans = pl.read_parquet(os.path.join(PLAN_PATH, \"MATSim_plans.parquet\"))\n",
    "    activities = pl.read_parquet(os.path.join(PLAN_PATH, \"MATSim_activities.parquet\"))\n",
    "    legs = pl.read_parquet(os.path.join(PLAN_PATH, \"MATSim_legs.parquet\"))\n",
    "    routes = pl.read_parquet(os.path.join(PLAN_PATH, \"MATSim_routes.parquet\"))\n",
    "    return persons, plans, activities, legs, routes"
   ]
  },
  {
   "cell_type": "markdown",
   "id": "18947df9",
   "metadata": {},
   "source": [
    "# Create MATSim plan sequence (act-leg-act…) "
   ]
  },
  {
   "cell_type": "code",
   "execution_count": null,
   "id": "8186f570",
   "metadata": {},
   "outputs": [],
   "source": [
    "def generate_sequence (activities, legs, routes):\n",
    "    legs = (legs\n",
    "        .join(routes, how='left', left_on='id', right_on='leg_id')\n",
    "        .with_columns(pl.col('id').alias('leg_id'),\n",
    "                      hhmmss_str_to_seconds_expr(\"dep_time\")))\n",
    "\n",
    "    activities = (activities\n",
    "                  .drop([\"facility\", \"initialEndTime\", \"orig_duration\"])\n",
    "                  .with_columns([\n",
    "                      hhmmss_str_to_seconds_expr(\"end_time\"),\n",
    "                      hhmmss_str_to_seconds_expr(\"max_dur\")#,\n",
    "                      #hhmmss_str_to_seconds_expr(\"trav_time\")\n",
    "                  ])\n",
    "                 )\n",
    "\n",
    "        \n",
    "    \n",
    "    \n",
    "    return"
   ]
  },
  {
   "cell_type": "code",
   "execution_count": 6,
   "id": "3d5b70f7",
   "metadata": {
    "scrolled": false
   },
   "outputs": [],
   "source": [
    "legs = (legs\n",
    "        .join(routes, how='left', left_on='id', right_on='leg_id')\n",
    "        .with_columns(pl.col('id').alias('leg_id')))\n",
    "\n",
    "activities = (activities\n",
    "              .drop([\"facility\", \"initialEndTime\", \"orig_duration\"])\n",
    "       )\n",
    "\n",
    "activities = activities.with_columns([\n",
    "    hhmmss_str_to_seconds_expr(\"end_time\"),\n",
    "    hhmmss_str_to_seconds_expr(\"max_dur\")\n",
    "])\n",
    "\n",
    "legs = legs.with_columns([\n",
    "    hhmmss_str_to_seconds_expr(\"dep_time\")#,\n",
    "    #hhmmss_str_to_seconds_expr(\"trav_time\")\n",
    "])"
   ]
  },
  {
   "cell_type": "code",
   "execution_count": 7,
   "id": "3224e168",
   "metadata": {},
   "outputs": [],
   "source": [
    "# pair seq IDs for activities\n",
    "activities = activities.with_columns([\n",
    "    ((pl.cum_count(\"plan_id\").over(\"plan_id\") - 1) * 2).alias('seq_index'),\n",
    "    pl.lit('activity').alias('element_type'),\n",
    "    pl.col('type').alias('type_or_mode'),\n",
    "    hhmmss_str_to_seconds_expr(\"max_dur\").cast(pl.Float64).alias(\"duration\"),\n",
    "    pl.col('link').alias('route'),\n",
    "    pl.col('link').alias('start_link'),\n",
    "    pl.col('link').alias('end_link')\n",
    "])\n",
    "\n",
    "# odd seq IDs for legs\n",
    "legs = legs.with_columns([\n",
    "    ((pl.cum_count(\"plan_id\").over(\"plan_id\") - 1) * 2 + 1).alias('seq_index'),\n",
    "    pl.lit('leg').alias('element_type'),\n",
    "    pl.col('mode').alias('type_or_mode'),\n",
    "    pl.col('trav_time').alias('duration'),\n",
    "    pl.col('value').alias('route')\n",
    "                         ])\n"
   ]
  },
  {
   "cell_type": "markdown",
   "id": "aafdd475",
   "metadata": {},
   "source": [
    "### Add leg and activity start/end times"
   ]
  },
  {
   "cell_type": "code",
   "execution_count": 8,
   "id": "621a2c5b",
   "metadata": {},
   "outputs": [],
   "source": [
    "activities_secs = activities.select([\n",
    "    \"plan_id\",\n",
    "    ((pl.cum_count(\"plan_id\").over(\"plan_id\") - 1) * 2).alias(\"seq_index\"),\n",
    "    \"end_time_secs\",\n",
    "    \"max_dur_secs\",\n",
    "    pl.lit(None).cast(pl.Int32).alias(\"dep_time_secs\"),\n",
    "    pl.lit(None).cast(pl.Float64).alias(\"trav_time_secs\")\n",
    "])"
   ]
  },
  {
   "cell_type": "code",
   "execution_count": 9,
   "id": "cc316296",
   "metadata": {},
   "outputs": [],
   "source": [
    "legs_secs = legs.select([\n",
    "    \"plan_id\",\n",
    "    ((pl.cum_count(\"plan_id\").over(\"plan_id\") - 1) * 2 + 1).alias(\"seq_index\"),\n",
    "    pl.lit(None).cast(pl.Int32).alias(\"end_time_secs\"),\n",
    "    pl.lit(None).cast(pl.Int32).alias(\"max_dur_secs\"),\n",
    "    \"dep_time_secs\",\n",
    "    pl.col(\"trav_time\").alias('trav_time_secs'),\n",
    "    \n",
    "])"
   ]
  },
  {
   "cell_type": "code",
   "execution_count": 10,
   "id": "b65a6463",
   "metadata": {},
   "outputs": [],
   "source": [
    "extra_cols = pl.concat([activities_secs, legs_secs])"
   ]
  },
  {
   "cell_type": "markdown",
   "id": "17eca4a4",
   "metadata": {},
   "source": [
    "## Create the trips data frame"
   ]
  },
  {
   "cell_type": "code",
   "execution_count": 11,
   "id": "f7a2d57f",
   "metadata": {},
   "outputs": [],
   "source": [
    "clean_cols = [\"plan_id\", \"seq_index\", \"element_type\", \"type_or_mode\", \"start_link\",\n",
    "              \"end_link\", \"route\", \"duration\"]\n",
    "\n",
    "activities_clean = activities.select(clean_cols)\n",
    "legs_clean = legs.select(clean_cols)"
   ]
  },
  {
   "cell_type": "code",
   "execution_count": 12,
   "id": "58466398",
   "metadata": {},
   "outputs": [],
   "source": [
    "matsim_trips = pl.concat([activities_clean, legs_clean]).sort(['plan_id', 'seq_index'])\n",
    "\n",
    "matsim_trips = matsim_trips.with_columns([\n",
    "    # Indicate if activity is not interaction\n",
    "    ((pl.col('element_type') == 'leg'))\n",
    "    .cast(pl.Int8).alias('is_trip_start')\n",
    "])\n",
    "\n",
    "matsim_trips = (matsim_trips\n",
    "                .with_columns([pl.col('is_trip_start').cum_sum().over('plan_id').alias('trip_id')])\n",
    "                .drop('is_trip_start')\n",
    "    )\n",
    "\n",
    "matsim_trips = matsim_trips.join(extra_cols, on=[\"plan_id\", \"seq_index\"], how=\"left\")"
   ]
  },
  {
   "cell_type": "markdown",
   "id": "cd9ba946",
   "metadata": {},
   "source": [
    "# Get MATSim trips"
   ]
  },
  {
   "cell_type": "markdown",
   "id": "115d174a",
   "metadata": {},
   "source": [
    "## Record start and end times for activities and legs"
   ]
  },
  {
   "cell_type": "code",
   "execution_count": 13,
   "id": "592ef094",
   "metadata": {},
   "outputs": [],
   "source": [
    "matsim_trips = matsim_trips.with_columns([\n",
    "    pl.col(\"dep_time_secs\").shift(1).alias(\"prev_leg_dep_secs\"),\n",
    "    pl.col(\"trav_time_secs\").shift(1).alias(\"prev_leg_trav_secs\"),\n",
    "])\n",
    "\n",
    "# Activity duration\n",
    "matsim_trips = matsim_trips.with_columns([\n",
    "    pl.when((pl.col(\"element_type\") == \"activity\") & pl.col(\"max_dur_secs\").is_not_null())\n",
    "      .then(pl.col(\"max_dur_secs\"))\n",
    "\n",
    "    .when((pl.col(\"element_type\") == \"activity\") &\n",
    "          pl.col(\"end_time_secs\").is_not_null() &\n",
    "          pl.col(\"prev_leg_dep_secs\").is_not_null() &\n",
    "          pl.col(\"prev_leg_trav_secs\").is_not_null())\n",
    "      .then(pl.col(\"end_time_secs\") - (pl.col(\"prev_leg_dep_secs\") + pl.col(\"prev_leg_trav_secs\")))\n",
    "\n",
    "    .otherwise(None)\n",
    "    .alias(\"activity_duration_secs\")\n",
    "])"
   ]
  },
  {
   "cell_type": "code",
   "execution_count": 14,
   "id": "d253116e",
   "metadata": {},
   "outputs": [],
   "source": [
    "# Gather \"activity_duration\" and \"travel_time\" into a single variable\n",
    "matsim_trips = matsim_trips.with_columns([\n",
    "    pl.when(pl.col(\"element_type\") == \"activity\")\n",
    "      .then(pl.col(\"activity_duration_secs\"))\n",
    "      .when(pl.col(\"element_type\") == \"leg\")\n",
    "      .then(pl.col(\"trav_time_secs\"))\n",
    "      .otherwise(None)\n",
    "      .alias(\"duration\")\n",
    "])\n",
    "\n",
    "# get arrival time for legs\n",
    "matsim_trips = matsim_trips.with_columns((pl.col('dep_time_secs')+pl.col('duration')).alias('arrival_time'))"
   ]
  },
  {
   "cell_type": "code",
   "execution_count": 15,
   "id": "a8c9fd00",
   "metadata": {},
   "outputs": [],
   "source": [
    "# Start times\n",
    "matsim_trips = matsim_trips.with_columns([\n",
    "    pl.when(pl.col(\"element_type\") == \"leg\")\n",
    "      .then(pl.col(\"dep_time_secs\"))\n",
    "\n",
    "    .when((pl.col(\"element_type\") == \"activity\") & pl.col(\"end_time_secs\").is_not_null())\n",
    "      .then(pl.col(\"end_time_secs\") - pl.col(\"duration\"))\n",
    "\n",
    "    .when((pl.col(\"element_type\") == \"activity\") & pl.col(\"prev_leg_dep_secs\").is_not_null())\n",
    "      .then(pl.col(\"prev_leg_dep_secs\") + pl.col(\"prev_leg_trav_secs\"))\n",
    "\n",
    "    .otherwise(None)\n",
    "    .alias(\"start_time_secs\")\n",
    "])\n",
    "\n",
    "# End times\n",
    "matsim_trips = matsim_trips.with_columns([\n",
    "    pl.when(pl.col(\"element_type\") == \"leg\")\n",
    "      .then(pl.col(\"dep_time_secs\") + pl.col(\"duration\"))\n",
    "\n",
    "    .when(pl.col(\"element_type\") == \"activity\")\n",
    "      .then(pl.col(\"start_time_secs\") + pl.col(\"duration\"))\n",
    "\n",
    "    .otherwise(None)\n",
    "    .alias(\"end_time_secs\")\n",
    "])"
   ]
  },
  {
   "cell_type": "code",
   "execution_count": 16,
   "id": "8eacee2a",
   "metadata": {},
   "outputs": [],
   "source": [
    "# Select and rearrange variables\n",
    "matsim_trips = matsim_trips.select([\"plan_id\", \"trip_id\", \"seq_index\", \"element_type\", \"type_or_mode\", \n",
    "                                    \"start_time_secs\", \"end_time_secs\", \"duration\", \n",
    "                                    \"route\", \"start_link\", \"end_link\"])"
   ]
  },
  {
   "cell_type": "code",
   "execution_count": 17,
   "id": "dd1b969c",
   "metadata": {},
   "outputs": [],
   "source": [
    "matsim_trips = (matsim_trips\n",
    "        .join(plans.select(['id', 'person_id']), how='left', left_on='plan_id', right_on='id')\n",
    "               )"
   ]
  },
  {
   "cell_type": "markdown",
   "id": "e7096cc8",
   "metadata": {},
   "source": [
    "## Explore activity types to define tours (i.e. Metro agents)"
   ]
  },
  {
   "cell_type": "markdown",
   "id": "9cc5f87f",
   "metadata": {},
   "source": [
    "### Save the activities in a separate data frame"
   ]
  },
  {
   "cell_type": "code",
   "execution_count": 19,
   "id": "72039849",
   "metadata": {},
   "outputs": [],
   "source": [
    "# look for activiy types with an end_time\n",
    "tour_anchor_types = (\n",
    "    activities.filter(pl.col(\"end_time\").is_not_null())\n",
    "    .select(\"type\").unique().to_series().to_list()\n",
    ")\n",
    "\n",
    "# Add walking legs to separate walking legs in metropolis\n",
    "tour_anchor_types = list(set(tour_anchor_types))\n",
    "\n",
    "# Create a tour flag\n",
    "matsim_trips = matsim_trips.with_columns([\n",
    "    pl.col(\"type_or_mode\").is_in(tour_anchor_types)\n",
    "    .alias(\"is_tour_anchor\")\n",
    "])\n",
    "\n",
    "# Create tours\n",
    "matsim_trips = matsim_trips.with_columns([\n",
    "    pl.col(\"is_tour_anchor\")\n",
    "      .cast(pl.Int32)\n",
    "      .cum_sum()\n",
    "      .over(\"plan_id\")\n",
    "      .alias(\"tour_id\")\n",
    "])"
   ]
  },
  {
   "cell_type": "markdown",
   "id": "42d43f8e",
   "metadata": {},
   "source": [
    "# MATSim trips"
   ]
  },
  {
   "cell_type": "markdown",
   "id": "65af1241",
   "metadata": {},
   "source": [
    "## Summarize per Trips"
   ]
  },
  {
   "cell_type": "markdown",
   "id": "c1c6a6ef",
   "metadata": {},
   "source": [
    "Create metropolis `stopping_time` from actvity duration"
   ]
  },
  {
   "cell_type": "code",
   "execution_count": 21,
   "id": "5e34b3cd",
   "metadata": {},
   "outputs": [],
   "source": [
    "stopping_time_df = (\n",
    "    matsim_trips\n",
    "    .filter(pl.col(\"element_type\") == \"activity\")\n",
    "    .with_columns([\n",
    "        pl.col(\"duration\").alias(\"stopping_time\")\n",
    "    ])\n",
    "    .sort(['plan_id', 'trip_id'])\n",
    ")"
   ]
  },
  {
   "cell_type": "code",
   "execution_count": 23,
   "id": "7d482e01",
   "metadata": {
    "scrolled": false
   },
   "outputs": [],
   "source": [
    "trip_summary = (\n",
    "    matsim_trips\n",
    "    .filter(pl.col(\"element_type\") == \"leg\")\n",
    "    .rename({\"start_time_secs\":\"start_time\",\n",
    "             \"end_time_secs\": \"end_time\",\n",
    "             \"type_or_mode\":\"mode\"\n",
    "            })\n",
    "    \n",
    "    # Rename variables\n",
    "    .with_columns([\n",
    "\n",
    "        # Travel_time per trip\n",
    "        (pl.col(\"end_time\") - pl.col(\"start_time\")).alias(\"duration\")\n",
    "    ])\n",
    "    .select([\n",
    "        \"person_id\", \"plan_id\", \"tour_id\", \"trip_id\", \"seq_index\", \"mode\", \"start_time\", \"end_time\", \n",
    "        \"duration\", \"route\", \"start_link\", \"end_link\"\n",
    "    ])\n",
    "    .sort([\"plan_id\", \"trip_id\", \"tour_id\"])\n",
    ")\n",
    "# Join stopping_time\n",
    "trip_summary = trip_summary.join(stopping_time_df, on=[\"plan_id\", \"trip_id\"], how=\"left\")"
   ]
  },
  {
   "cell_type": "code",
   "execution_count": 24,
   "id": "9ae782a4",
   "metadata": {},
   "outputs": [],
   "source": [
    "invalid_starts = (\n",
    "    trip_summary\n",
    "    .filter((pl.col(\"duration\") > 86400) | (pl.col(\"stopping_time\") < 0))\n",
    "    .group_by(\"plan_id\")\n",
    "    .agg(pl.col(\"trip_id\").min().alias(\"first_invalid_trip\"))\n",
    ")\n",
    "\n",
    "trips_cleaned = (\n",
    "    trip_summary\n",
    "    .join(invalid_starts, on=\"plan_id\", how=\"left\")\n",
    "    .filter(\n",
    "        (pl.col(\"first_invalid_trip\").is_null()) |  \n",
    "        (pl.col(\"trip_id\") < pl.col(\"first_invalid_trip\"))\n",
    "    )\n",
    "    .drop(\"first_invalid_trip\", \"duration_right\", 'route_right', 'start_link_right', 'end_link_right',\n",
    "          'person_id_right', 'tour_id_right', 'seq_index')\n",
    ")"
   ]
  },
  {
   "cell_type": "code",
   "execution_count": 25,
   "id": "410d6acf",
   "metadata": {},
   "outputs": [
    {
     "name": "stdout",
     "output_type": "stream",
     "text": [
      "Writing files to /Users/andre/Desktop/Cergy/Python_Scripts/runs/pt_10pct/matsim_trips/\n"
     ]
    }
   ],
   "source": [
    "print(\"Writing files to\", MATSIM_TRIPS)\n",
    "trips_cleaned.write_parquet(os.path.join(MATSIM_TRIPS, \"MATSim_trips.parquet\"))"
   ]
  }
 ],
 "metadata": {
  "kernelspec": {
   "display_name": "Python 3 (ipykernel)",
   "language": "python",
   "name": "python3"
  },
  "language_info": {
   "codemirror_mode": {
    "name": "ipython",
    "version": 3
   },
   "file_extension": ".py",
   "mimetype": "text/x-python",
   "name": "python",
   "nbconvert_exporter": "python",
   "pygments_lexer": "ipython3",
   "version": "3.9.18"
  }
 },
 "nbformat": 4,
 "nbformat_minor": 5
}
