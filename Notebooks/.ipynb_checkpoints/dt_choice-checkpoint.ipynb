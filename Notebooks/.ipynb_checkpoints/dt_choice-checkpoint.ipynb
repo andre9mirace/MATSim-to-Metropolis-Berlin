{
 "cells": [
  {
   "cell_type": "code",
   "execution_count": 1,
   "id": "a4732c92",
   "metadata": {},
   "outputs": [],
   "source": [
    "import numpy as np\n",
    "import os\n",
    "import pyarrow\n",
    "import sys\n",
    "import json\n",
    "import math\n",
    "import mpl_utils\n",
    "\n",
    "import matplotlib as mpl\n",
    "import matplotlib.pyplot as plt\n",
    "import seaborn as sns\n",
    "import xml.etree.ElementTree as ET\n",
    "\n",
    "import pandas as pd\n",
    "import polars as pl\n"
   ]
  },
  {
   "cell_type": "markdown",
   "id": "6ef3244a",
   "metadata": {},
   "source": [
    "# Directories"
   ]
  },
  {
   "cell_type": "code",
   "execution_count": 2,
   "id": "a2a625ba",
   "metadata": {},
   "outputs": [],
   "source": [
    "sys.path.append(\"../functions\")\n",
    "import Demand_functions as dmd\n",
    "import Supply_functions as sup"
   ]
  },
  {
   "cell_type": "code",
   "execution_count": 3,
   "id": "37b71f0e",
   "metadata": {},
   "outputs": [],
   "source": [
    "# General directories\n",
    "general_directory = '/Users/andre/Desktop/Cergy/'\n",
    "\n",
    "berlin_directory = 'MATSim/matsim-berlin/input/v6.4/'\n",
    "\n",
    "run_dir = \"Python_Scripts/runs/\"\n"
   ]
  },
  {
   "cell_type": "code",
   "execution_count": 4,
   "id": "04afd6f6",
   "metadata": {},
   "outputs": [],
   "source": [
    "# metro\n",
    "METRO_INPUT = (os.path.join(general_directory, run_dir, \"dt_choice/metro_inputs/\"))\n",
    "METRO_OUTPUT = (os.path.join(general_directory, run_dir, \"dt_choice/metro_outputs/\"))\n",
    "\n",
    "# Matsim\n",
    "NETWORK_PATH = (os.path.join(general_directory, berlin_directory, \"berlin-v6.4-network.xml.gz\"))\n",
    "\n",
    "VEHICLE_PATH = (os.path.join(general_directory, berlin_directory, \"berlin-v6.4-vehicleTypes.xml\"))\n",
    "\n",
    "EVENTS_PATH = ((os.path.join(general_directory, berlin_directory, \"parquet/\")))\n",
    "\n",
    "# Path to MATSim's experienced plans.\n",
    "PLAN_PATH = \"/Users/andre/Desktop/Cergy/Python_Scripts/runs/fixed_10pct/matsim/\"\n",
    "\n",
    "# Path to the directory where the Metropolis output is stored.\n",
    "#MATSIM_TRIPS = (os.path.join(general_directory, run_dir, \"avg_10runs/metro_outputs/\"))\n"
   ]
  },
  {
   "cell_type": "markdown",
   "id": "2b1a8344",
   "metadata": {},
   "source": [
    "# Read Plans"
   ]
  },
  {
   "cell_type": "code",
   "execution_count": 5,
   "id": "3c71dba6",
   "metadata": {},
   "outputs": [],
   "source": [
    "def read_matsim_plans():\n",
    "    persons = pl.read_parquet(os.path.join(PLAN_PATH, 'MATSim_persons.parquet'))\n",
    "    plans = pl.read_parquet(os.path.join(PLAN_PATH, 'MATSim_plans.parquet'))\n",
    "    activities = pl.read_parquet(os.path.join(PLAN_PATH, 'MATSim_activities.parquet'))\n",
    "    legs = pl.read_parquet(os.path.join(PLAN_PATH, 'MATSim_legs.parquet'))\n",
    "    routes = pl.read_parquet(os.path.join(PLAN_PATH, 'MATSim_routes.parquet'))\n",
    "\n",
    "    return persons, plans, activities, legs, routes"
   ]
  },
  {
   "cell_type": "code",
   "execution_count": 6,
   "id": "ae40311a",
   "metadata": {},
   "outputs": [
    {
     "name": "stdout",
     "output_type": "stream",
     "text": [
      "Reading MATSim experienced plans\n"
     ]
    }
   ],
   "source": [
    "print(\"Reading MATSim experienced plans\")\n",
    "persons, plans, activities, legs, routes = read_matsim_plans()"
   ]
  },
  {
   "cell_type": "code",
   "execution_count": 7,
   "id": "7c366054",
   "metadata": {},
   "outputs": [],
   "source": [
    "matsim_trips = pl.read_parquet(os.path.join(general_directory, run_dir, 'pt_10pct/matsim_trips/MATSim_trips.parquet'))"
   ]
  },
  {
   "cell_type": "code",
   "execution_count": 8,
   "id": "56753846",
   "metadata": {},
   "outputs": [],
   "source": [
    "matsim_trips = (\n",
    "    matsim_trips\n",
    "    .with_columns([((pl.col(\"plan_id\")*100).cast(pl.Utf8)+ pl.col(\"tour_id\").cast(pl.Utf8))\n",
    "                                          .cast(pl.Int64).alias(\"agent_id\")]) # agent_id ={plan_id*100;tour_id}\n",
    "    .drop(['start_time_secs', 'is_tour_anchor', 'end_time_secs', 'type_or_mode', \n",
    "           'element_type', 'seq_index_right'])\n",
    "    .join(plans.select(['person_id', 'score']), on='person_id')\n",
    "    \n",
    ")"
   ]
  },
  {
   "cell_type": "markdown",
   "id": "50fdfded",
   "metadata": {},
   "source": [
    "## Activity list data frame"
   ]
  },
  {
   "cell_type": "code",
   "execution_count": 9,
   "id": "5d0f094c",
   "metadata": {},
   "outputs": [],
   "source": [
    "def read_activity_parameters():\n",
    "    activity_params = []\n",
    "    tree = ET.parse(\"/Users/andre/Desktop/Cergy/MATSim/matsim-berlin/berlin-v6.4.output_config_reduced.xml\")\n",
    "    root = tree.getroot()\n",
    "    \n",
    "    for module in root.findall(\".//parameterset[@type='activityParams']\"):\n",
    "        activity_type = \"\"\n",
    "        typical_duration = \"\"\n",
    "        opening_time = \"\"\n",
    "        closing_time = \"\"\n",
    "\n",
    "        for param in module.findall(\"param\"):\n",
    "            name = param.attrib.get(\"name\")\n",
    "            value = param.attrib.get(\"value\")\n",
    "            if name == \"activityType\":\n",
    "                activity_type = value or \"\"\n",
    "            elif name == \"typicalDuration\":\n",
    "                typical_duration = value or \"\"\n",
    "            elif name == \"openingTime\":\n",
    "                opening_time = value or \"\"\n",
    "            elif name == \"closingTime\":\n",
    "                closing_time = value or \"\"\n",
    "\n",
    "        activity_params.append({\n",
    "            \"type\": activity_type,\n",
    "            \"typical_duration\": typical_duration,\n",
    "            \"opening_time\": opening_time,\n",
    "            \"closing_time\": closing_time\n",
    "        })\n",
    "\n",
    "    # Convertir a DataFrame de Polars\n",
    "    activity_df = pl.DataFrame(activity_params)\n",
    "    return activity_df"
   ]
  },
  {
   "cell_type": "code",
   "execution_count": 10,
   "id": "971501f2",
   "metadata": {},
   "outputs": [],
   "source": [
    "activity_types = read_activity_parameters()"
   ]
  },
  {
   "cell_type": "code",
   "execution_count": 11,
   "id": "f9a27c5b",
   "metadata": {},
   "outputs": [],
   "source": [
    "activity_types= activity_types.with_columns(pl.when(pl.col('typical_duration')=='undefined')\n",
    "                                            .then(pl.lit(None).alias('typical_duration'))\n",
    "                                            .otherwise(pl.col('typical_duration')))"
   ]
  },
  {
   "cell_type": "code",
   "execution_count": 12,
   "id": "4a4ddadd",
   "metadata": {},
   "outputs": [],
   "source": [
    "activities_clean = (\n",
    "    activities\n",
    "    .join(activity_types, on='type')\n",
    "    .join(plans, left_on='plan_id', right_on='id')\n",
    "    .with_columns([\n",
    "        pl.arange(-1, pl.len()-1).over(\"plan_id\").alias(\"activity_index\"),\n",
    "        dmd.hhmmss_str_to_seconds_expr(('typical_duration')),\n",
    "        dmd.hhmmss_str_to_seconds_expr(('opening_time')),\n",
    "        dmd.hhmmss_str_to_seconds_expr(('closing_time'))\n",
    "                  ])\n",
    "    .select(['person_id','plan_id', 'activity_index', 'id', 'type', 'typical_duration_secs',\n",
    "             'opening_time_secs', 'closing_time_secs', 'score'])\n",
    "\n",
    ")"
   ]
  },
  {
   "cell_type": "code",
   "execution_count": 13,
   "id": "6a90b2d7",
   "metadata": {},
   "outputs": [],
   "source": [
    "matsim_trips = matsim_trips.with_columns([pl.arange(0, pl.len()).over(\"plan_id\").alias(\"activity_index\")])"
   ]
  },
  {
   "cell_type": "code",
   "execution_count": 14,
   "id": "8eca4a33",
   "metadata": {},
   "outputs": [],
   "source": [
    "trips_with_activities = (\n",
    "    matsim_trips\n",
    "    .join(activities_clean, on=['plan_id', 'activity_index'], how='left')\n",
    "    .rename({'type':'following_activity_type',\n",
    "             'typical_duration_secs': 'typical_duration', \n",
    "             'opening_time_secs': 'opening_time',\n",
    "             'closing_time_secs': 'closing_time'})\n",
    "    .drop('score_right', 'person_id_right')\n",
    ")"
   ]
  },
  {
   "cell_type": "code",
   "execution_count": 15,
   "id": "1d07bde7",
   "metadata": {},
   "outputs": [
    {
     "data": {
      "text/html": [
       "<div><style>\n",
       ".dataframe > thead > tr,\n",
       ".dataframe > tbody > tr {\n",
       "  text-align: right;\n",
       "  white-space: pre-wrap;\n",
       "}\n",
       "</style>\n",
       "<small>shape: (4_992_192, 20)</small><table border=\"1\" class=\"dataframe\"><thead><tr><th>person_id</th><th>plan_id</th><th>tour_id</th><th>trip_id</th><th>mode</th><th>start_time</th><th>end_time</th><th>duration</th><th>route</th><th>start_link</th><th>end_link</th><th>stopping_time</th><th>agent_id</th><th>score</th><th>activity_index</th><th>id</th><th>following_activity_type</th><th>typical_duration</th><th>opening_time</th><th>closing_time</th></tr><tr><td>str</td><td>i64</td><td>i32</td><td>i64</td><td>str</td><td>f64</td><td>f64</td><td>f64</td><td>str</td><td>str</td><td>str</td><td>f64</td><td>i64</td><td>str</td><td>i64</td><td>i64</td><td>str</td><td>i32</td><td>i32</td><td>i32</td></tr></thead><tbody><tr><td>&quot;bb_00005bd6&quot;</td><td>0</td><td>1</td><td>1</td><td>&quot;walk&quot;</td><td>28055.0</td><td>28658.0</td><td>603.0</td><td>null</td><td>&quot;-150731516#0&quot;</td><td>&quot;pt_525685_bus&quot;</td><td>0.0</td><td>1</td><td>&quot;126.6079969877827&quot;</td><td>0</td><td>2</td><td>&quot;pt interaction&quot;</td><td>null</td><td>null</td><td>null</td></tr><tr><td>&quot;bb_00005bd6&quot;</td><td>0</td><td>1</td><td>2</td><td>&quot;pt&quot;</td><td>28658.0</td><td>31200.0</td><td>2542.0</td><td>&quot;{&quot;transitRouteId&quot;:&quot;X10---20549…</td><td>&quot;pt_525685_bus&quot;</td><td>&quot;pt_167534_bus&quot;</td><td>0.0</td><td>1</td><td>&quot;126.6079969877827&quot;</td><td>1</td><td>3</td><td>&quot;pt interaction&quot;</td><td>null</td><td>null</td><td>null</td></tr><tr><td>&quot;bb_00005bd6&quot;</td><td>0</td><td>1</td><td>3</td><td>&quot;walk&quot;</td><td>31200.0</td><td>31695.0</td><td>495.0</td><td>null</td><td>&quot;pt_167534_bus&quot;</td><td>&quot;-4396420#5&quot;</td><td>30953.0</td><td>1</td><td>&quot;126.6079969877827&quot;</td><td>2</td><td>4</td><td>&quot;work_36600&quot;</td><td>36600</td><td>21600</td><td>75600</td></tr><tr><td>&quot;bb_00005bd6&quot;</td><td>0</td><td>2</td><td>4</td><td>&quot;walk&quot;</td><td>62648.0</td><td>63143.0</td><td>495.0</td><td>null</td><td>&quot;-4396420#5&quot;</td><td>&quot;pt_167534_bus&quot;</td><td>0.0</td><td>2</td><td>&quot;126.6079969877827&quot;</td><td>3</td><td>5</td><td>&quot;pt interaction&quot;</td><td>null</td><td>null</td><td>null</td></tr><tr><td>&quot;bb_00005bd6&quot;</td><td>0</td><td>2</td><td>5</td><td>&quot;pt&quot;</td><td>63143.0</td><td>65340.0</td><td>2197.0</td><td>&quot;{&quot;transitRouteId&quot;:&quot;X10---20549…</td><td>&quot;pt_167534_bus&quot;</td><td>&quot;pt_525685_bus&quot;</td><td>0.0</td><td>2</td><td>&quot;126.6079969877827&quot;</td><td>4</td><td>6</td><td>&quot;pt interaction&quot;</td><td>null</td><td>null</td><td>null</td></tr><tr><td>&hellip;</td><td>&hellip;</td><td>&hellip;</td><td>&hellip;</td><td>&hellip;</td><td>&hellip;</td><td>&hellip;</td><td>&hellip;</td><td>&hellip;</td><td>&hellip;</td><td>&hellip;</td><td>&hellip;</td><td>&hellip;</td><td>&hellip;</td><td>&hellip;</td><td>&hellip;</td><td>&hellip;</td><td>&hellip;</td><td>&hellip;</td><td>&hellip;</td></tr><tr><td>&quot;goodsTraffic_re_vkz.1953_5_1&quot;</td><td>526110</td><td>1</td><td>2</td><td>&quot;car&quot;</td><td>36653.0</td><td>39000.0</td><td>2347.0</td><td>&quot;-11405545#3 995640376#4 995640…</td><td>&quot;-11405545#3&quot;</td><td>&quot;-1057183597#2&quot;</td><td>0.0</td><td>526110001</td><td>&quot;41.910566679514865&quot;</td><td>1</td><td>5537969</td><td>&quot;car interaction&quot;</td><td>null</td><td>null</td><td>null</td></tr><tr><td>&quot;goodsTraffic_re_vkz.1953_5_1&quot;</td><td>526110</td><td>1</td><td>3</td><td>&quot;walk&quot;</td><td>38934.0</td><td>38934.0</td><td>0.0</td><td>null</td><td>&quot;-1057183597#2&quot;</td><td>&quot;-1057183597#2&quot;</td><td>3765.0</td><td>526110001</td><td>&quot;41.910566679514865&quot;</td><td>2</td><td>5537970</td><td>&quot;service_3600&quot;</td><td>3600</td><td>null</td><td>null</td></tr><tr><td>&quot;goodsTraffic_re_vkz.1953_5_1&quot;</td><td>526110</td><td>1</td><td>4</td><td>&quot;walk&quot;</td><td>42765.0</td><td>42765.0</td><td>0.0</td><td>null</td><td>&quot;-1057183597#2&quot;</td><td>&quot;-1057183597#2&quot;</td><td>0.0</td><td>526110001</td><td>&quot;41.910566679514865&quot;</td><td>3</td><td>5537971</td><td>&quot;car interaction&quot;</td><td>null</td><td>null</td><td>null</td></tr><tr><td>&quot;goodsTraffic_re_vkz.1953_5_1&quot;</td><td>526110</td><td>1</td><td>5</td><td>&quot;car&quot;</td><td>42765.0</td><td>45161.0</td><td>2396.0</td><td>&quot;-1057183597#2 4611785#0 335462…</td><td>&quot;-1057183597#2&quot;</td><td>&quot;-11405545#3&quot;</td><td>0.0</td><td>526110001</td><td>&quot;41.910566679514865&quot;</td><td>4</td><td>5537972</td><td>&quot;car interaction&quot;</td><td>null</td><td>null</td><td>null</td></tr><tr><td>&quot;goodsTraffic_re_vkz.1953_5_1&quot;</td><td>526110</td><td>1</td><td>6</td><td>&quot;walk&quot;</td><td>45148.0</td><td>45148.0</td><td>0.0</td><td>null</td><td>&quot;-11405545#3&quot;</td><td>&quot;-11405545#3&quot;</td><td>null</td><td>526110001</td><td>&quot;41.910566679514865&quot;</td><td>5</td><td>5537973</td><td>&quot;commercial_end&quot;</td><td>3600</td><td>null</td><td>null</td></tr></tbody></table></div>"
      ],
      "text/plain": [
       "shape: (4_992_192, 20)\n",
       "┌────────────┬─────────┬─────────┬─────────┬───┬────────────┬────────────┬────────────┬────────────┐\n",
       "│ person_id  ┆ plan_id ┆ tour_id ┆ trip_id ┆ … ┆ following_ ┆ typical_du ┆ opening_ti ┆ closing_ti │\n",
       "│ ---        ┆ ---     ┆ ---     ┆ ---     ┆   ┆ activity_t ┆ ration     ┆ me         ┆ me         │\n",
       "│ str        ┆ i64     ┆ i32     ┆ i64     ┆   ┆ ype        ┆ ---        ┆ ---        ┆ ---        │\n",
       "│            ┆         ┆         ┆         ┆   ┆ ---        ┆ i32        ┆ i32        ┆ i32        │\n",
       "│            ┆         ┆         ┆         ┆   ┆ str        ┆            ┆            ┆            │\n",
       "╞════════════╪═════════╪═════════╪═════════╪═══╪════════════╪════════════╪════════════╪════════════╡\n",
       "│ bb_00005bd ┆ 0       ┆ 1       ┆ 1       ┆ … ┆ pt interac ┆ null       ┆ null       ┆ null       │\n",
       "│ 6          ┆         ┆         ┆         ┆   ┆ tion       ┆            ┆            ┆            │\n",
       "│ bb_00005bd ┆ 0       ┆ 1       ┆ 2       ┆ … ┆ pt interac ┆ null       ┆ null       ┆ null       │\n",
       "│ 6          ┆         ┆         ┆         ┆   ┆ tion       ┆            ┆            ┆            │\n",
       "│ bb_00005bd ┆ 0       ┆ 1       ┆ 3       ┆ … ┆ work_36600 ┆ 36600      ┆ 21600      ┆ 75600      │\n",
       "│ 6          ┆         ┆         ┆         ┆   ┆            ┆            ┆            ┆            │\n",
       "│ bb_00005bd ┆ 0       ┆ 2       ┆ 4       ┆ … ┆ pt interac ┆ null       ┆ null       ┆ null       │\n",
       "│ 6          ┆         ┆         ┆         ┆   ┆ tion       ┆            ┆            ┆            │\n",
       "│ bb_00005bd ┆ 0       ┆ 2       ┆ 5       ┆ … ┆ pt interac ┆ null       ┆ null       ┆ null       │\n",
       "│ 6          ┆         ┆         ┆         ┆   ┆ tion       ┆            ┆            ┆            │\n",
       "│ …          ┆ …       ┆ …       ┆ …       ┆ … ┆ …          ┆ …          ┆ …          ┆ …          │\n",
       "│ goodsTraff ┆ 526110  ┆ 1       ┆ 2       ┆ … ┆ car intera ┆ null       ┆ null       ┆ null       │\n",
       "│ ic_re_vkz. ┆         ┆         ┆         ┆   ┆ ction      ┆            ┆            ┆            │\n",
       "│ 1953_5_1   ┆         ┆         ┆         ┆   ┆            ┆            ┆            ┆            │\n",
       "│ goodsTraff ┆ 526110  ┆ 1       ┆ 3       ┆ … ┆ service_36 ┆ 3600       ┆ null       ┆ null       │\n",
       "│ ic_re_vkz. ┆         ┆         ┆         ┆   ┆ 00         ┆            ┆            ┆            │\n",
       "│ 1953_5_1   ┆         ┆         ┆         ┆   ┆            ┆            ┆            ┆            │\n",
       "│ goodsTraff ┆ 526110  ┆ 1       ┆ 4       ┆ … ┆ car intera ┆ null       ┆ null       ┆ null       │\n",
       "│ ic_re_vkz. ┆         ┆         ┆         ┆   ┆ ction      ┆            ┆            ┆            │\n",
       "│ 1953_5_1   ┆         ┆         ┆         ┆   ┆            ┆            ┆            ┆            │\n",
       "│ goodsTraff ┆ 526110  ┆ 1       ┆ 5       ┆ … ┆ car intera ┆ null       ┆ null       ┆ null       │\n",
       "│ ic_re_vkz. ┆         ┆         ┆         ┆   ┆ ction      ┆            ┆            ┆            │\n",
       "│ 1953_5_1   ┆         ┆         ┆         ┆   ┆            ┆            ┆            ┆            │\n",
       "│ goodsTraff ┆ 526110  ┆ 1       ┆ 6       ┆ … ┆ commercial ┆ 3600       ┆ null       ┆ null       │\n",
       "│ ic_re_vkz. ┆         ┆         ┆         ┆   ┆ _end       ┆            ┆            ┆            │\n",
       "│ 1953_5_1   ┆         ┆         ┆         ┆   ┆            ┆            ┆            ┆            │\n",
       "└────────────┴─────────┴─────────┴─────────┴───┴────────────┴────────────┴────────────┴────────────┘"
      ]
     },
     "execution_count": 15,
     "metadata": {},
     "output_type": "execute_result"
    }
   ],
   "source": [
    "trips_with_activities"
   ]
  },
  {
   "cell_type": "code",
   "execution_count": 16,
   "id": "ddccecaf",
   "metadata": {},
   "outputs": [],
   "source": [
    "def utility_params(trips):\n",
    "    trips = (\n",
    "    trips\n",
    "    .with_columns([\n",
    "        pl.when(pl.col('mode')=='car')\n",
    "        .then(pl.lit(-0.4876))\n",
    "        .when(pl.col('mode')=='ride')\n",
    "        .then(pl.lit(-1.154))\n",
    "        .when(pl.col('mode')=='pt')\n",
    "        .then(pl.lit(0.4322))\n",
    "        .when(pl.col('mode')=='bike')\n",
    "        .then(pl.lit(-0.8721))\n",
    "        .otherwise(pl.lit(0)).alias('C'),\n",
    "        \n",
    "        pl.when(pl.col('mode').is_in(['car', 'ride']))\n",
    "        .then(pl.lit(-1.49e-04))\n",
    "        .when(pl.col('mode').is_in(['freight', 'truck']))\n",
    "        .then(pl.lit(-4e-04))\n",
    "        .otherwise(pl.lit(0)).alias('gamma_dist')\n",
    "        ]) \n",
    "    )\n",
    "    \n",
    "    \n",
    "    return trips"
   ]
  },
  {
   "cell_type": "code",
   "execution_count": 17,
   "id": "53669631",
   "metadata": {},
   "outputs": [],
   "source": [
    "def generate_trips_dt(matsim_trips, edges, vehicles):\n",
    "    \n",
    "    # link (matsim) to edge (metro) dictionary\n",
    "    matsim_to_metro_links = dict(zip(edges[\"MATSim_id\"].cast(pl.Utf8), edges[\"edge_id\"]))\n",
    "    \n",
    "    metro_trips = matsim_trips\n",
    "    \n",
    "    # class.vehicle\n",
    "    metro_trips = (\n",
    "        metro_trips\n",
    "        .join(vehicles.select([\n",
    "            pl.col(\"vehicle_type\").alias(\"mode\"),\n",
    "            pl.col(\"vehicle_id\").alias(\"class.vehicle\")]),on=\"mode\", how=\"left\")\n",
    "        .with_columns([\n",
    "\n",
    "            # class.type\n",
    "            pl.when(pl.col(\"mode\").is_in(['truck', 'car', 'freight', 'ride'])\n",
    "                   )\n",
    "            .then(pl.lit(\"Road\"))\n",
    "            .otherwise(pl.lit(\"Virtual\"))\n",
    "            .alias(\"class.type\")])\n",
    "    )\n",
    "    \n",
    "    \n",
    "    metro_trips = (\n",
    "        \n",
    "    # class.type\n",
    "    metro_trips\n",
    "    #.rename({'start_time':'dt_choice.departure_time'}) IGNORED TO SAVE TIME\n",
    "        \n",
    "    .with_columns([\n",
    "                \n",
    "    # class.routes\n",
    "    pl.when(pl.col(\"class.type\") == \"Road\")\n",
    "      .then(pl.col(\"route\").str.split(\" \") # split route string\n",
    "            \n",
    "            # map in the dictionary\n",
    "            .map_elements(lambda link_list: None if link_list is None\n",
    "                          else [matsim_to_metro_links.get(link) for link in link_list[1:]],\n",
    "                          return_dtype=pl.List(pl.Int64))\n",
    "            .alias(\"class.route\"))\n",
    "      .otherwise(None),\n",
    "\n",
    "        \n",
    "    # class.travel_time\n",
    "    pl.when(pl.col(\"class.type\") == \"Road\")\n",
    "      .then(None)\n",
    "      .otherwise(pl.col(\"duration\"))\n",
    "    .alias(\"class.travel_time\")\n",
    "    ])\n",
    "    .drop(['person_id' , 'route', 'duration', 'end_time', 'mode'])\n",
    "    )\n",
    "    \n",
    "    # Join with edges for start_link's from and to nodes\n",
    "    metro_trips = (\n",
    "        metro_trips\n",
    "        .join(\n",
    "            edges.select([\n",
    "                pl.col(\"MATSim_id\").alias(\"start_link\"),\n",
    "                pl.col(\"target\").alias(\"class.origin\")]), # class.origin\n",
    "            on=\"start_link\",how=\"left\")\n",
    "        .drop(pl.col('start_link'))\n",
    "        .join(\n",
    "            edges.select([\n",
    "                pl.col(\"MATSim_id\").alias(\"end_link\"),\n",
    "                pl.col(\"target\").alias(\"class.destination\")]), # class.destination\n",
    "            on=\"end_link\", how=\"left\")\n",
    "        .drop(pl.col('end_link'))\n",
    "    )\n",
    "    \n",
    "    \n",
    "    metro_trips = (\n",
    "        metro_trips\n",
    "        .with_columns([\n",
    "            pl.lit(1).alias(\"alt_id\"),\n",
    "            pl.lit(\"Discrete\").alias(\"dt_choice.type\"), ### CHANGED IT FROM THE ORIGINAL FUNCTION\n",
    "            ((pl.col(\"plan_id\")*100).cast(pl.Utf8)+ pl.col(\"tour_id\").cast(pl.Utf8))\n",
    "            .cast(pl.Int64).alias(\"agent_id\")]) # agent_id ={plan_id*100;tour_id}\n",
    "    )\n",
    "    \n",
    "    # Prep next trip for additional stopping times\n",
    "    metro_trips = (\n",
    "        metro_trips\n",
    "        .with_columns([\n",
    "            # Get class.type of next trip within each agent\n",
    "            pl.col(\"class.type\")\n",
    "            .shift(-1)\n",
    "            .over(\"agent_id\")\n",
    "            .alias(\"next_class_type\")\n",
    "        ])\n",
    "    )\n",
    "    \n",
    "        # Prep next trip for additional stopping times\n",
    "    metro_trips = (\n",
    "        metro_trips\n",
    "        .with_columns([\n",
    "        # Add 1 to stopping_time if the next trip is of type \"Road\"\n",
    "            pl.when(\n",
    "                pl.col(\"stopping_time\").is_not_null() &\n",
    "                (pl.col(\"next_class_type\") == \"Road\")\n",
    "            )\n",
    "            .then(pl.col(\"stopping_time\") + 2)\n",
    "            .otherwise(pl.col(\"stopping_time\"))\n",
    "            .alias(\"stopping_time\"),\n",
    "            \n",
    "            # Fill nulls for opening_time set to 0\n",
    "            pl.col('opening_time').fill_null(strategy=\"zero\"),\n",
    "            \n",
    "            # Fill nulls for closing_time set to 24h\n",
    "            pl.col('closing_time').fill_null(86400),\n",
    "            \n",
    "            # Fill nulls for typical duration set to 0\n",
    "            pl.col('typical_duration').fill_null(86400)\n",
    "            \n",
    "        ])\n",
    "        \n",
    "        # Select columns\n",
    "        .select(['agent_id', 'alt_id', 'trip_id',\n",
    "                 'class.type', 'class.origin', 'class.destination', 'class.vehicle', 'class.route', \n",
    "                 'class.travel_time', 'stopping_time', 'dt_choice.type', #'dt_choice.departure_time', IGNORED\n",
    "                 'typical_duration', 'opening_time', 'closing_time' # FOUR NEW VARIABLES TO CONSIDER\n",
    "                ])\n",
    "    )\n",
    "    \n",
    "\n",
    "    return metro_trips"
   ]
  },
  {
   "cell_type": "code",
   "execution_count": 18,
   "id": "e1d103e2",
   "metadata": {},
   "outputs": [
    {
     "name": "stdout",
     "output_type": "stream",
     "text": [
      "More than two parallel edges\n",
      "Maximum of 3 parallel edges\n",
      "Handling 10 node pairs with more than 2 parallel edges...\n",
      "Found 1832 parallel edges\n",
      "dataframe types conversion failed for column seats\n",
      "dataframe types conversion failed for column standingRoomInPersons\n"
     ]
    }
   ],
   "source": [
    "# Typical supply BS\n",
    "links = sup.read_network(NETWORK_PATH)\n",
    "vehicle_types = sup.vehicle_reader(VEHICLE_PATH)\n",
    "\n",
    "# Metro conversion for generating agents\n",
    "edges = sup.make_edges_df(links)\n",
    "vehicles = sup.make_vehicles_df(vehicle_types)"
   ]
  },
  {
   "cell_type": "code",
   "execution_count": 19,
   "id": "ded14307",
   "metadata": {},
   "outputs": [],
   "source": [
    "# Generate trips for dep time choice\n",
    "metro_trips_with_activities = generate_trips_dt(trips_with_activities, edges, vehicles)"
   ]
  },
  {
   "cell_type": "code",
   "execution_count": 20,
   "id": "99c81be0",
   "metadata": {},
   "outputs": [
    {
     "data": {
      "text/html": [
       "<div><style>\n",
       ".dataframe > thead > tr,\n",
       ".dataframe > tbody > tr {\n",
       "  text-align: right;\n",
       "  white-space: pre-wrap;\n",
       "}\n",
       "</style>\n",
       "<small>shape: (4_992_192, 14)</small><table border=\"1\" class=\"dataframe\"><thead><tr><th>agent_id</th><th>alt_id</th><th>trip_id</th><th>class.type</th><th>class.origin</th><th>class.destination</th><th>class.vehicle</th><th>class.route</th><th>class.travel_time</th><th>stopping_time</th><th>dt_choice.type</th><th>typical_duration</th><th>opening_time</th><th>closing_time</th></tr><tr><td>i64</td><td>i32</td><td>i64</td><td>str</td><td>i64</td><td>i64</td><td>i64</td><td>list[i64]</td><td>f64</td><td>f64</td><td>str</td><td>i32</td><td>i32</td><td>i32</td></tr></thead><tbody><tr><td>1</td><td>1</td><td>1</td><td>&quot;Virtual&quot;</td><td>158987061</td><td>null</td><td>null</td><td>null</td><td>603.0</td><td>0.0</td><td>&quot;Discrete&quot;</td><td>86400</td><td>0</td><td>86400</td></tr><tr><td>1</td><td>1</td><td>2</td><td>&quot;Virtual&quot;</td><td>null</td><td>null</td><td>null</td><td>null</td><td>2542.0</td><td>0.0</td><td>&quot;Discrete&quot;</td><td>86400</td><td>0</td><td>86400</td></tr><tr><td>1</td><td>1</td><td>3</td><td>&quot;Virtual&quot;</td><td>null</td><td>26646233</td><td>null</td><td>null</td><td>495.0</td><td>30953.0</td><td>&quot;Discrete&quot;</td><td>36600</td><td>21600</td><td>75600</td></tr><tr><td>2</td><td>1</td><td>4</td><td>&quot;Virtual&quot;</td><td>26646233</td><td>null</td><td>null</td><td>null</td><td>495.0</td><td>0.0</td><td>&quot;Discrete&quot;</td><td>86400</td><td>0</td><td>86400</td></tr><tr><td>2</td><td>1</td><td>5</td><td>&quot;Virtual&quot;</td><td>null</td><td>null</td><td>null</td><td>null</td><td>2197.0</td><td>0.0</td><td>&quot;Discrete&quot;</td><td>86400</td><td>0</td><td>86400</td></tr><tr><td>&hellip;</td><td>&hellip;</td><td>&hellip;</td><td>&hellip;</td><td>&hellip;</td><td>&hellip;</td><td>&hellip;</td><td>&hellip;</td><td>&hellip;</td><td>&hellip;</td><td>&hellip;</td><td>&hellip;</td><td>&hellip;</td><td>&hellip;</td></tr><tr><td>526110001</td><td>1</td><td>2</td><td>&quot;Road&quot;</td><td>101473666</td><td>6171409038</td><td>0</td><td>[202681, 202682, … 2788]</td><td>null</td><td>0.0</td><td>&quot;Discrete&quot;</td><td>86400</td><td>0</td><td>86400</td></tr><tr><td>526110001</td><td>1</td><td>3</td><td>&quot;Virtual&quot;</td><td>6171409038</td><td>6171409038</td><td>null</td><td>null</td><td>0.0</td><td>3765.0</td><td>&quot;Discrete&quot;</td><td>3600</td><td>0</td><td>86400</td></tr><tr><td>526110001</td><td>1</td><td>4</td><td>&quot;Virtual&quot;</td><td>6171409038</td><td>6171409038</td><td>null</td><td>null</td><td>0.0</td><td>2.0</td><td>&quot;Discrete&quot;</td><td>86400</td><td>0</td><td>86400</td></tr><tr><td>526110001</td><td>1</td><td>5</td><td>&quot;Road&quot;</td><td>6171409038</td><td>101473666</td><td>0</td><td>[168861, 153437, … 8625]</td><td>null</td><td>0.0</td><td>&quot;Discrete&quot;</td><td>86400</td><td>0</td><td>86400</td></tr><tr><td>526110001</td><td>1</td><td>6</td><td>&quot;Virtual&quot;</td><td>101473666</td><td>101473666</td><td>null</td><td>null</td><td>0.0</td><td>null</td><td>&quot;Discrete&quot;</td><td>3600</td><td>0</td><td>86400</td></tr></tbody></table></div>"
      ],
      "text/plain": [
       "shape: (4_992_192, 14)\n",
       "┌───────────┬────────┬─────────┬────────────┬───┬────────────┬────────────┬────────────┬───────────┐\n",
       "│ agent_id  ┆ alt_id ┆ trip_id ┆ class.type ┆ … ┆ dt_choice. ┆ typical_du ┆ opening_ti ┆ closing_t │\n",
       "│ ---       ┆ ---    ┆ ---     ┆ ---        ┆   ┆ type       ┆ ration     ┆ me         ┆ ime       │\n",
       "│ i64       ┆ i32    ┆ i64     ┆ str        ┆   ┆ ---        ┆ ---        ┆ ---        ┆ ---       │\n",
       "│           ┆        ┆         ┆            ┆   ┆ str        ┆ i32        ┆ i32        ┆ i32       │\n",
       "╞═══════════╪════════╪═════════╪════════════╪═══╪════════════╪════════════╪════════════╪═══════════╡\n",
       "│ 1         ┆ 1      ┆ 1       ┆ Virtual    ┆ … ┆ Discrete   ┆ 86400      ┆ 0          ┆ 86400     │\n",
       "│ 1         ┆ 1      ┆ 2       ┆ Virtual    ┆ … ┆ Discrete   ┆ 86400      ┆ 0          ┆ 86400     │\n",
       "│ 1         ┆ 1      ┆ 3       ┆ Virtual    ┆ … ┆ Discrete   ┆ 36600      ┆ 21600      ┆ 75600     │\n",
       "│ 2         ┆ 1      ┆ 4       ┆ Virtual    ┆ … ┆ Discrete   ┆ 86400      ┆ 0          ┆ 86400     │\n",
       "│ 2         ┆ 1      ┆ 5       ┆ Virtual    ┆ … ┆ Discrete   ┆ 86400      ┆ 0          ┆ 86400     │\n",
       "│ …         ┆ …      ┆ …       ┆ …          ┆ … ┆ …          ┆ …          ┆ …          ┆ …         │\n",
       "│ 526110001 ┆ 1      ┆ 2       ┆ Road       ┆ … ┆ Discrete   ┆ 86400      ┆ 0          ┆ 86400     │\n",
       "│ 526110001 ┆ 1      ┆ 3       ┆ Virtual    ┆ … ┆ Discrete   ┆ 3600       ┆ 0          ┆ 86400     │\n",
       "│ 526110001 ┆ 1      ┆ 4       ┆ Virtual    ┆ … ┆ Discrete   ┆ 86400      ┆ 0          ┆ 86400     │\n",
       "│ 526110001 ┆ 1      ┆ 5       ┆ Road       ┆ … ┆ Discrete   ┆ 86400      ┆ 0          ┆ 86400     │\n",
       "│ 526110001 ┆ 1      ┆ 6       ┆ Virtual    ┆ … ┆ Discrete   ┆ 3600       ┆ 0          ┆ 86400     │\n",
       "└───────────┴────────┴─────────┴────────────┴───┴────────────┴────────────┴────────────┴───────────┘"
      ]
     },
     "execution_count": 20,
     "metadata": {},
     "output_type": "execute_result"
    }
   ],
   "source": [
    "metro_trips_with_activities"
   ]
  },
  {
   "cell_type": "code",
   "execution_count": 34,
   "id": "daeaa81f",
   "metadata": {},
   "outputs": [],
   "source": [
    "def format_demand_dt_choice(trips):\n",
    "    \n",
    "    # format trips\n",
    "    # Eliminate trips departing after 48 hours\n",
    "    trips = trips.filter(\n",
    "        #pl.col(\"dt_choice.departure_time\") <= 108000,\n",
    "                         ~((pl.col(\"class.type\") == \"Road\") &\n",
    "                           (pl.col(\"class.origin\").is_null()|pl.col(\"class.destination\").is_null())\n",
    "                          ))\n",
    "            \n",
    "    # format agents\n",
    "    agents = trips.select(\"agent_id\").unique().with_columns([\n",
    "        pl.lit(\"Deterministic\").alias(\"alt_choice.type\"),\n",
    "        pl.lit(0.0).alias(\"alt_choice.u\"),\n",
    "        pl.lit(None).alias(\"alt_choice.mu\")\n",
    "    ]).sort(\"agent_id\")\n",
    "\n",
    "    # format alts\n",
    "    alts = (\n",
    "        trips\n",
    "        #.sort(\"dt_choice.departure_time\")\n",
    "        .unique(subset=[\"agent_id\"], keep=\"first\")\n",
    "        .select([\n",
    "            \"agent_id\",\n",
    "            \"alt_id\",\n",
    "            pl.lit(None).alias(\"origin_delay\"),\n",
    "            \"dt_choice.type\",\n",
    "            #\"dt_choice.departure_time\",\n",
    "            \n",
    "            # REVISIT: matsim dt ± 30 mins ?\n",
    "            pl.lit(300).alias(\"dt_choice.interval\"), # each dt choice is separated by 300 seconds\n",
    "            pl.lit('Deterministic').alias(\"dt_choice.model.type\"), # Continuous => Logit, revisit deterministic\n",
    "            pl.lit(0.5).alias(\"dt_choice.model.u\"), # 50-50 chance to chose when tied\n",
    "            pl.lit(0.0).alias(\"dt_choice.model.mu\"), # Only for logit\n",
    "            pl.lit(None).alias(\"dt_choice.offset\"),\n",
    "            \n",
    "            # CONSTANT UTILITY (to be revisited)\n",
    "            pl.lit(0.0).alias(\"constant_utility\"),\n",
    "            \n",
    "            # alpha = -beta_trav + beta_perf * t_typ/t_dur \n",
    "            (pl.when(pl.col('stopping_time') == 0)\n",
    "             .then(0.0)\n",
    "             .otherwise(pl.when(pl.col('class.vehicle') == 2)\n",
    "                        .then(6.88 / 3600 + (6.88 / 3600) * pl.col('typical_duration') / pl.col('stopping_time'))\n",
    "                        .otherwise((6.88 / 3600) * pl.col('typical_duration') / pl.col('stopping_time'))\n",
    "                       ))\n",
    "            .alias('alpha'),\n",
    "            \n",
    "            pl.lit(None).alias(\"total_travel_utility.one\"),\n",
    "            pl.lit(None).alias(\"total_travel_utility.two\"),\n",
    "            pl.lit(None).alias(\"total_travel_utility.three\"),\n",
    "            pl.lit(None).alias(\"total_travel_utility.four\"),\n",
    "            \n",
    "            # ORIGIN UTILITY\n",
    "            pl.lit('Linear').alias(\"origin_utility.type\"),\n",
    "            pl.col('closing_time').alias(\"origin_utility.tstar\"), # closing time for origin utility\n",
    "            pl.lit(0.0).alias(\"origin_utility.beta\"),\n",
    "            \n",
    "            pl.when(pl.col('stopping_time')==0)\n",
    "            .then(pl.lit(0.0))\n",
    "            .otherwise((6.88/3600)*pl.col('typical_duration')/pl.col('stopping_time')) # beta_perf * t_typ/t_dur\n",
    "            .fill_null(strategy='zero').alias(\"origin_utility.gamma\"),\n",
    "            \n",
    "            pl.lit(0.0).alias(\"origin_utility.delta\"),\n",
    "            \n",
    "            # DESTINATION UTILITY\n",
    "            pl.lit('Linear').alias(\"destination_utility.type\"), \n",
    "            pl.col('opening_time').alias(\"destination_utility.tstar\"),\n",
    "            \n",
    "            pl.when(pl.col('stopping_time')==0)\n",
    "            .then(pl.lit(0.0))\n",
    "            .otherwise((6.88/3600)*pl.col('typical_duration')/pl.col('stopping_time')) # beta_perf * t_typ/t_dur\n",
    "            .fill_null(strategy='zero').alias(\"destination_utility.beta\"),\n",
    "            \n",
    "            pl.lit(0.0).alias(\"destination_utility.gamma\"),\n",
    "            pl.lit(0.0).alias(\"destination_utility.delta\"),\n",
    "\n",
    "            pl.lit(True).alias(\"pre_compute_route\")\n",
    "        ])\n",
    "    )\n",
    "    alts = alts.sort(\"agent_id\")\n",
    "    \n",
    "    trips = (\n",
    "        trips\n",
    "        .with_columns([\n",
    "            pl.lit(None).alias('class.route')\n",
    "        ])\n",
    "        .drop([\"dt_choice.type\", 'typical_duration', 'opening_time', 'closing_time'\n",
    "                        #, \"dt_choice.departure_time\"\n",
    "                       ])    \n",
    "    )\n",
    "\n",
    "    \n",
    "    return agents, alts, trips"
   ]
  },
  {
   "cell_type": "code",
   "execution_count": 35,
   "id": "f09e3984",
   "metadata": {},
   "outputs": [],
   "source": [
    "demand = format_demand_dt_choice(metro_trips_with_activities)"
   ]
  },
  {
   "cell_type": "code",
   "execution_count": 36,
   "id": "a94677c5",
   "metadata": {},
   "outputs": [],
   "source": [
    "agents_df = demand[0]\n",
    "alts_df = demand[1]\n",
    "trips_df = demand[2]"
   ]
  },
  {
   "cell_type": "markdown",
   "id": "dce44e89",
   "metadata": {},
   "source": [
    "# Writing Files"
   ]
  },
  {
   "cell_type": "code",
   "execution_count": 37,
   "id": "0ac26617",
   "metadata": {},
   "outputs": [],
   "source": [
    "# Parameters to use for the simulation.\n",
    "PARAMETERS ={\n",
    "    \"input_files\": {\n",
    "      \"agents\": (os.path.join(METRO_INPUT, \"agents.parquet\")) ,\n",
    "      \"alternatives\": (os.path.join(METRO_INPUT, \"alts.parquet\")),\n",
    "      \"trips\": (os.path.join(METRO_INPUT, \"trips.parquet\")),\n",
    "      \"edges\": (os.path.join(METRO_INPUT, \"edges.parquet\")),\n",
    "      \"vehicle_types\": (os.path.join(METRO_INPUT, \"vehicles.parquet\"))\n",
    "                },\n",
    "    \"output_directory\": METRO_OUTPUT,\n",
    "    \"period\": [0.0, 86400.0],\n",
    "    \"road_network\": {\n",
    "        \"recording_interval\": 950.0,\n",
    "        \"approximation_bound\": 1.0,\n",
    "        \"spillback\": True,\n",
    "        \"backward_wave_speed\": 15.0,\n",
    "        \"max_pending_duration\": 30.0,\n",
    "        \"constrain_inflow\": True,\n",
    "        \"algorithm_type\": \"Best\"\n",
    "    },\n",
    "    \"learning_model\": {\n",
    "      \"type\": \"Linear\"\n",
    "    },\n",
    "    \"init_iteration_counter\": 1,\n",
    "    \"max_iterations\": 350,\n",
    "    \"update_ratio\": 1.0,\n",
    "    \"random_seed\": 13081996,\n",
    "    \"nb_threads\": 16,\n",
    "    \"saving_format\": \"Parquet\",\n",
    "    \"only_compute_decisions\": False\n",
    "}"
   ]
  },
  {
   "cell_type": "code",
   "execution_count": 38,
   "id": "ca9b7830",
   "metadata": {},
   "outputs": [
    {
     "name": "stdout",
     "output_type": "stream",
     "text": [
      "Writing Metropolis parameters\n"
     ]
    }
   ],
   "source": [
    "# Parameters\n",
    "print(\"Writing Metropolis parameters\")\n",
    "with open(os.path.join(METRO_INPUT, \"parameters.json\"), \"w\") as f:\n",
    "    f.write(json.dumps(PARAMETERS))"
   ]
  },
  {
   "cell_type": "code",
   "execution_count": 42,
   "id": "10ae0e27",
   "metadata": {},
   "outputs": [
    {
     "data": {
      "text/html": [
       "<div><style>\n",
       ".dataframe > thead > tr,\n",
       ".dataframe > tbody > tr {\n",
       "  text-align: right;\n",
       "  white-space: pre-wrap;\n",
       "}\n",
       "</style>\n",
       "<small>shape: (1_091_737, 26)</small><table border=\"1\" class=\"dataframe\"><thead><tr><th>agent_id</th><th>alt_id</th><th>origin_delay</th><th>dt_choice.type</th><th>dt_choice.interval</th><th>dt_choice.model.type</th><th>dt_choice.model.u</th><th>dt_choice.model.mu</th><th>dt_choice.offset</th><th>constant_utility</th><th>alpha</th><th>total_travel_utility.one</th><th>total_travel_utility.two</th><th>total_travel_utility.three</th><th>total_travel_utility.four</th><th>origin_utility.type</th><th>origin_utility.tstar</th><th>origin_utility.beta</th><th>origin_utility.gamma</th><th>origin_utility.delta</th><th>destination_utility.type</th><th>destination_utility.tstar</th><th>destination_utility.beta</th><th>destination_utility.gamma</th><th>destination_utility.delta</th><th>pre_compute_route</th></tr><tr><td>i64</td><td>i32</td><td>null</td><td>str</td><td>i32</td><td>str</td><td>f64</td><td>f64</td><td>null</td><td>f64</td><td>f64</td><td>null</td><td>null</td><td>null</td><td>null</td><td>str</td><td>i32</td><td>f64</td><td>f64</td><td>f64</td><td>str</td><td>i32</td><td>f64</td><td>f64</td><td>f64</td><td>bool</td></tr></thead><tbody><tr><td>1</td><td>1</td><td>null</td><td>&quot;Discrete&quot;</td><td>300</td><td>&quot;Deterministic&quot;</td><td>0.5</td><td>0.0</td><td>null</td><td>0.0</td><td>0.0</td><td>null</td><td>null</td><td>null</td><td>null</td><td>&quot;Linear&quot;</td><td>86400</td><td>0.0</td><td>0.0</td><td>0.0</td><td>&quot;Linear&quot;</td><td>0</td><td>0.0</td><td>0.0</td><td>0.0</td><td>true</td></tr><tr><td>2</td><td>1</td><td>null</td><td>&quot;Discrete&quot;</td><td>300</td><td>&quot;Deterministic&quot;</td><td>0.5</td><td>0.0</td><td>null</td><td>0.0</td><td>0.0</td><td>null</td><td>null</td><td>null</td><td>null</td><td>&quot;Linear&quot;</td><td>86400</td><td>0.0</td><td>0.0</td><td>0.0</td><td>&quot;Linear&quot;</td><td>0</td><td>0.0</td><td>0.0</td><td>0.0</td><td>true</td></tr><tr><td>1001</td><td>1</td><td>null</td><td>&quot;Discrete&quot;</td><td>300</td><td>&quot;Deterministic&quot;</td><td>0.5</td><td>0.0</td><td>null</td><td>0.0</td><td>82.56</td><td>null</td><td>null</td><td>null</td><td>null</td><td>&quot;Linear&quot;</td><td>86400</td><td>0.0</td><td>82.56</td><td>0.0</td><td>&quot;Linear&quot;</td><td>0</td><td>82.56</td><td>0.0</td><td>0.0</td><td>true</td></tr><tr><td>1002</td><td>1</td><td>null</td><td>&quot;Discrete&quot;</td><td>300</td><td>&quot;Deterministic&quot;</td><td>0.5</td><td>0.0</td><td>null</td><td>0.0</td><td>82.56</td><td>null</td><td>null</td><td>null</td><td>null</td><td>&quot;Linear&quot;</td><td>86400</td><td>0.0</td><td>82.56</td><td>0.0</td><td>&quot;Linear&quot;</td><td>0</td><td>82.56</td><td>0.0</td><td>0.0</td><td>true</td></tr><tr><td>1003</td><td>1</td><td>null</td><td>&quot;Discrete&quot;</td><td>300</td><td>&quot;Deterministic&quot;</td><td>0.5</td><td>0.0</td><td>null</td><td>0.0</td><td>82.56</td><td>null</td><td>null</td><td>null</td><td>null</td><td>&quot;Linear&quot;</td><td>86400</td><td>0.0</td><td>82.56</td><td>0.0</td><td>&quot;Linear&quot;</td><td>0</td><td>82.56</td><td>0.0</td><td>0.0</td><td>true</td></tr><tr><td>&hellip;</td><td>&hellip;</td><td>&hellip;</td><td>&hellip;</td><td>&hellip;</td><td>&hellip;</td><td>&hellip;</td><td>&hellip;</td><td>&hellip;</td><td>&hellip;</td><td>&hellip;</td><td>&hellip;</td><td>&hellip;</td><td>&hellip;</td><td>&hellip;</td><td>&hellip;</td><td>&hellip;</td><td>&hellip;</td><td>&hellip;</td><td>&hellip;</td><td>&hellip;</td><td>&hellip;</td><td>&hellip;</td><td>&hellip;</td><td>&hellip;</td><td>&hellip;</td></tr><tr><td>526107001</td><td>1</td><td>null</td><td>&quot;Discrete&quot;</td><td>300</td><td>&quot;Deterministic&quot;</td><td>0.5</td><td>0.0</td><td>null</td><td>0.0</td><td>82.56</td><td>null</td><td>null</td><td>null</td><td>null</td><td>&quot;Linear&quot;</td><td>86400</td><td>0.0</td><td>82.56</td><td>0.0</td><td>&quot;Linear&quot;</td><td>0</td><td>82.56</td><td>0.0</td><td>0.0</td><td>true</td></tr><tr><td>526108001</td><td>1</td><td>null</td><td>&quot;Discrete&quot;</td><td>300</td><td>&quot;Deterministic&quot;</td><td>0.5</td><td>0.0</td><td>null</td><td>0.0</td><td>82.56</td><td>null</td><td>null</td><td>null</td><td>null</td><td>&quot;Linear&quot;</td><td>86400</td><td>0.0</td><td>82.56</td><td>0.0</td><td>&quot;Linear&quot;</td><td>0</td><td>82.56</td><td>0.0</td><td>0.0</td><td>true</td></tr><tr><td>526109001</td><td>1</td><td>null</td><td>&quot;Discrete&quot;</td><td>300</td><td>&quot;Deterministic&quot;</td><td>0.5</td><td>0.0</td><td>null</td><td>0.0</td><td>82.56</td><td>null</td><td>null</td><td>null</td><td>null</td><td>&quot;Linear&quot;</td><td>86400</td><td>0.0</td><td>82.56</td><td>0.0</td><td>&quot;Linear&quot;</td><td>0</td><td>82.56</td><td>0.0</td><td>0.0</td><td>true</td></tr><tr><td>526110001</td><td>1</td><td>null</td><td>&quot;Discrete&quot;</td><td>300</td><td>&quot;Deterministic&quot;</td><td>0.5</td><td>0.0</td><td>null</td><td>0.0</td><td>82.56</td><td>null</td><td>null</td><td>null</td><td>null</td><td>&quot;Linear&quot;</td><td>86400</td><td>0.0</td><td>82.56</td><td>0.0</td><td>&quot;Linear&quot;</td><td>0</td><td>82.56</td><td>0.0</td><td>0.0</td><td>true</td></tr><tr><td>830970010</td><td>1</td><td>null</td><td>&quot;Discrete&quot;</td><td>300</td><td>&quot;Deterministic&quot;</td><td>0.5</td><td>0.0</td><td>null</td><td>0.0</td><td>82.56</td><td>null</td><td>null</td><td>null</td><td>null</td><td>&quot;Linear&quot;</td><td>86400</td><td>0.0</td><td>82.56</td><td>0.0</td><td>&quot;Linear&quot;</td><td>0</td><td>82.56</td><td>0.0</td><td>0.0</td><td>true</td></tr></tbody></table></div>"
      ],
      "text/plain": [
       "shape: (1_091_737, 26)\n",
       "┌───────────┬────────┬────────────┬────────────┬───┬───────────┬───────────┬───────────┬───────────┐\n",
       "│ agent_id  ┆ alt_id ┆ origin_del ┆ dt_choice. ┆ … ┆ destinati ┆ destinati ┆ destinati ┆ pre_compu │\n",
       "│ ---       ┆ ---    ┆ ay         ┆ type       ┆   ┆ on_utilit ┆ on_utilit ┆ on_utilit ┆ te_route  │\n",
       "│ i64       ┆ i32    ┆ ---        ┆ ---        ┆   ┆ y.beta    ┆ y.gamma   ┆ y.delta   ┆ ---       │\n",
       "│           ┆        ┆ null       ┆ str        ┆   ┆ ---       ┆ ---       ┆ ---       ┆ bool      │\n",
       "│           ┆        ┆            ┆            ┆   ┆ f64       ┆ f64       ┆ f64       ┆           │\n",
       "╞═══════════╪════════╪════════════╪════════════╪═══╪═══════════╪═══════════╪═══════════╪═══════════╡\n",
       "│ 1         ┆ 1      ┆ null       ┆ Discrete   ┆ … ┆ 0.0       ┆ 0.0       ┆ 0.0       ┆ true      │\n",
       "│ 2         ┆ 1      ┆ null       ┆ Discrete   ┆ … ┆ 0.0       ┆ 0.0       ┆ 0.0       ┆ true      │\n",
       "│ 1001      ┆ 1      ┆ null       ┆ Discrete   ┆ … ┆ 82.56     ┆ 0.0       ┆ 0.0       ┆ true      │\n",
       "│ 1002      ┆ 1      ┆ null       ┆ Discrete   ┆ … ┆ 82.56     ┆ 0.0       ┆ 0.0       ┆ true      │\n",
       "│ 1003      ┆ 1      ┆ null       ┆ Discrete   ┆ … ┆ 82.56     ┆ 0.0       ┆ 0.0       ┆ true      │\n",
       "│ …         ┆ …      ┆ …          ┆ …          ┆ … ┆ …         ┆ …         ┆ …         ┆ …         │\n",
       "│ 526107001 ┆ 1      ┆ null       ┆ Discrete   ┆ … ┆ 82.56     ┆ 0.0       ┆ 0.0       ┆ true      │\n",
       "│ 526108001 ┆ 1      ┆ null       ┆ Discrete   ┆ … ┆ 82.56     ┆ 0.0       ┆ 0.0       ┆ true      │\n",
       "│ 526109001 ┆ 1      ┆ null       ┆ Discrete   ┆ … ┆ 82.56     ┆ 0.0       ┆ 0.0       ┆ true      │\n",
       "│ 526110001 ┆ 1      ┆ null       ┆ Discrete   ┆ … ┆ 82.56     ┆ 0.0       ┆ 0.0       ┆ true      │\n",
       "│ 830970010 ┆ 1      ┆ null       ┆ Discrete   ┆ … ┆ 82.56     ┆ 0.0       ┆ 0.0       ┆ true      │\n",
       "└───────────┴────────┴────────────┴────────────┴───┴───────────┴───────────┴───────────┴───────────┘"
      ]
     },
     "execution_count": 42,
     "metadata": {},
     "output_type": "execute_result"
    }
   ],
   "source": [
    "alts_df"
   ]
  },
  {
   "cell_type": "code",
   "execution_count": 43,
   "id": "0e5887a3",
   "metadata": {},
   "outputs": [
    {
     "name": "stdout",
     "output_type": "stream",
     "text": [
      "Writing Metropolis input to /Users/andre/Desktop/Cergy/Python_Scripts/runs/dt_choice/metro_inputs/\n",
      "Writing Metropolis agents\n",
      "Writing Metropolis alternatives\n",
      "Writing Metropolis trips\n",
      "Input files have been successfully written\n"
     ]
    }
   ],
   "source": [
    "# Writing files\n",
    "print(\"Writing Metropolis input to\", METRO_INPUT)\n",
    "\n",
    "print(\"Writing Metropolis agents\")\n",
    "agents_df.write_parquet(METRO_INPUT + \"agents.parquet\")\n",
    "\n",
    "print(\"Writing Metropolis alternatives\")\n",
    "alts_df.write_parquet(METRO_INPUT + \"alts.parquet\")\n",
    "\n",
    "print(\"Writing Metropolis trips\")\n",
    "trips_df.write_parquet(METRO_INPUT + \"trips.parquet\")\n",
    "print(\"Input files have been successfully written\")"
   ]
  },
  {
   "cell_type": "code",
   "execution_count": 41,
   "id": "b2dfc12e",
   "metadata": {},
   "outputs": [
    {
     "name": "stdout",
     "output_type": "stream",
     "text": [
      "Writing Metropolis supply in  /Users/andre/Desktop/Cergy/Python_Scripts/runs/dt_choice/metro_inputs/\n"
     ]
    }
   ],
   "source": [
    "# supply\n",
    "supply = sup.format_supply(edges, vehicles)\n",
    "edges_df = supply[0]\n",
    "vehicles_df = supply[1]\n",
    "\n",
    "print(\"Writing Metropolis supply in \", METRO_INPUT)\n",
    "edges_df.write_parquet(METRO_INPUT + \"edges.parquet\")\n",
    "vehicles_df.write_parquet(METRO_INPUT + \"vehicles.parquet\")"
   ]
  }
 ],
 "metadata": {
  "kernelspec": {
   "display_name": "Python 3 (ipykernel)",
   "language": "python",
   "name": "python3"
  },
  "language_info": {
   "codemirror_mode": {
    "name": "ipython",
    "version": 3
   },
   "file_extension": ".py",
   "mimetype": "text/x-python",
   "name": "python",
   "nbconvert_exporter": "python",
   "pygments_lexer": "ipython3",
   "version": "3.9.18"
  }
 },
 "nbformat": 4,
 "nbformat_minor": 5
}
