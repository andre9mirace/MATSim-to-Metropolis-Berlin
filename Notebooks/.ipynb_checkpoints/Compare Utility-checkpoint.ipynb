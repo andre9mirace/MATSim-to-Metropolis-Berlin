{
 "cells": [
  {
   "cell_type": "code",
   "execution_count": 1,
   "id": "a4732c92",
   "metadata": {},
   "outputs": [],
   "source": [
    "import numpy as np\n",
    "import os\n",
    "import pyarrow\n",
    "import sys\n",
    "import json\n",
    "import math\n",
    "import mpl_utils\n",
    "\n",
    "import matplotlib as mpl\n",
    "import matplotlib.pyplot as plt\n",
    "import seaborn as sns\n",
    "import xml.etree.ElementTree as ET\n",
    "\n",
    "import pandas as pd\n",
    "import polars as pl\n"
   ]
  },
  {
   "cell_type": "markdown",
   "id": "6ef3244a",
   "metadata": {},
   "source": [
    "# Directories"
   ]
  },
  {
   "cell_type": "code",
   "execution_count": 2,
   "id": "a2a625ba",
   "metadata": {},
   "outputs": [],
   "source": [
    "sys.path.append(\"../functions\")\n",
    "import Demand_functions as dmd"
   ]
  },
  {
   "cell_type": "code",
   "execution_count": 3,
   "id": "37b71f0e",
   "metadata": {},
   "outputs": [],
   "source": [
    "# General directories\n",
    "general_directory = '/Users/andre/Desktop/Cergy/'\n",
    "\n",
    "berlin_directory = 'MATSim/matsim-berlin/input/v6.4/'\n",
    "\n",
    "run_dir = \"Python_Scripts/runs/\""
   ]
  },
  {
   "cell_type": "code",
   "execution_count": 4,
   "id": "04afd6f6",
   "metadata": {},
   "outputs": [],
   "source": [
    "# metro\n",
    "METRO_INPUT = (os.path.join(general_directory, run_dir, \"pt_10pct/metro_inputs/\"))\n",
    "\n",
    "METRO_OUTPUT = (os.path.join(general_directory, run_dir, \"pt_10pct/metro_outputs/\"))\n",
    "\n",
    "EVENTS_PATH = ((os.path.join(general_directory, berlin_directory, \"parquet/\")))\n",
    "\n",
    "# Path to MATSim's experienced plans.\n",
    "PLAN_PATH = \"/Users/andre/Desktop/Cergy/Python_Scripts/runs/fixed_10pct/matsim/\"\n",
    "\n",
    "# Path to the directory where the Metropolis output is stored.\n",
    "#MATSIM_TRIPS = (os.path.join(general_directory, run_dir, \"avg_10runs/metro_outputs/\"))\n"
   ]
  },
  {
   "cell_type": "markdown",
   "id": "2b1a8344",
   "metadata": {},
   "source": [
    "# Read Plans"
   ]
  },
  {
   "cell_type": "code",
   "execution_count": 5,
   "id": "3c71dba6",
   "metadata": {},
   "outputs": [],
   "source": [
    "def read_matsim_plans():\n",
    "    persons = pl.read_parquet(os.path.join(PLAN_PATH, 'MATSim_persons.parquet'))\n",
    "    plans = pl.read_parquet(os.path.join(PLAN_PATH, 'MATSim_plans.parquet'))\n",
    "    activities = pl.read_parquet(os.path.join(PLAN_PATH, 'MATSim_activities.parquet'))\n",
    "    legs = pl.read_parquet(os.path.join(PLAN_PATH, 'MATSim_legs.parquet'))\n",
    "    routes = pl.read_parquet(os.path.join(PLAN_PATH, 'MATSim_routes.parquet'))\n",
    "\n",
    "    return persons, plans, activities, legs, routes"
   ]
  },
  {
   "cell_type": "code",
   "execution_count": 6,
   "id": "84629db7",
   "metadata": {},
   "outputs": [],
   "source": [
    "def read_metropolis_results():\n",
    "    agents = pl.read_parquet(os.path.join(METRO_OUTPUT, \"agent_results.parquet\"))\n",
    "    trips = pl.read_parquet(os.path.join(METRO_OUTPUT, \"trip_results.parquet\"))\n",
    "    routes = pl.read_parquet(os.path.join(METRO_OUTPUT, \"route_results.parquet\"))\n",
    "    return agents, trips, routes"
   ]
  },
  {
   "cell_type": "code",
   "execution_count": 7,
   "id": "78b35bfb",
   "metadata": {},
   "outputs": [],
   "source": [
    "trip_inputs = pl.read_parquet(os.path.join(METRO_INPUT, \"trips.parquet\"))"
   ]
  },
  {
   "cell_type": "code",
   "execution_count": 8,
   "id": "ae40311a",
   "metadata": {},
   "outputs": [
    {
     "name": "stdout",
     "output_type": "stream",
     "text": [
      "Reading MATSim experienced plans\n",
      "Reading METROPOLIS results\n"
     ]
    }
   ],
   "source": [
    "print(\"Reading MATSim experienced plans\")\n",
    "persons, plans, activities, legs, routes = read_matsim_plans()\n",
    "\n",
    "print(\"Reading METROPOLIS results\")\n",
    "mp_agents, mp_trips, mp_routes = read_metropolis_results()"
   ]
  },
  {
   "cell_type": "code",
   "execution_count": 9,
   "id": "7c366054",
   "metadata": {},
   "outputs": [],
   "source": [
    "matsim_trips = pl.read_parquet(os.path.join(general_directory, run_dir, 'pt_10pct/matsim_trips/MATSim_trips.parquet'))"
   ]
  },
  {
   "cell_type": "code",
   "execution_count": 10,
   "id": "56753846",
   "metadata": {},
   "outputs": [],
   "source": [
    "matsim_trips = (\n",
    "    matsim_trips\n",
    "    .with_columns([((pl.col(\"plan_id\")*100).cast(pl.Utf8)+ pl.col(\"tour_id\").cast(pl.Utf8))\n",
    "                                          .cast(pl.Int64).alias(\"agent_id\")]) # agent_id ={plan_id*100;tour_id}\n",
    "    .join(trip_inputs.select(['agent_id', 'alt_id', 'trip_id', 'stopping_time']), on=['agent_id', 'trip_id'])\n",
    "    .drop(['start_time_secs', 'is_tour_anchor', 'end_time_secs', 'type_or_mode', \n",
    "                                  'element_type', 'seq_index_right'])\n",
    "    .join(plans.select(['person_id', 'score']), on='person_id')\n",
    "    \n",
    ")"
   ]
  },
  {
   "cell_type": "markdown",
   "id": "87cfb631",
   "metadata": {},
   "source": [
    "# Travel Cost in Metropolis"
   ]
  },
  {
   "cell_type": "code",
   "execution_count": 11,
   "id": "38353d64",
   "metadata": {},
   "outputs": [],
   "source": [
    "mp_trips = (\n",
    "    mp_trips\n",
    "    .select(['agent_id', 'trip_id', 'trip_index', 'departure_time', 'arrival_time', 'road_time', \n",
    "                            'in_bottleneck_time', 'route_free_flow_travel_time', 'length', 'nb_edges'])\n",
    "    .join(matsim_trips.select(['agent_id', 'trip_id', 'mode', 'plan_id']), \n",
    "                           on=['agent_id', 'trip_id']))\n"
   ]
  },
  {
   "cell_type": "code",
   "execution_count": 12,
   "id": "4dfaa96e",
   "metadata": {},
   "outputs": [],
   "source": [
    "mp_trips = (\n",
    "    mp_trips\n",
    "    .with_columns([\n",
    "        pl.when(pl.col('mode')=='car')\n",
    "        .then(pl.lit(-0.4876))\n",
    "        .when(pl.col('mode')=='ride')\n",
    "        .then(pl.lit(-1.154))\n",
    "        .when(pl.col('mode')=='pt')\n",
    "        .then(pl.lit(0.4322))\n",
    "        .when(pl.col('mode')=='bike')\n",
    "        .then(pl.lit(-0.8721))\n",
    "        .otherwise(pl.lit(0)).alias('C'),\n",
    "        \n",
    "        pl.when(pl.col('mode').is_in(['car', 'ride']))\n",
    "        .then(pl.lit(-1.49e-04))\n",
    "        .when(pl.col('mode').is_in(['freight', 'truck']))\n",
    "        .then(pl.lit(-4e-04))\n",
    "        .otherwise(pl.lit(0)).alias('gamma_dist')\n",
    "    ]) \n",
    ")\n",
    "\n",
    "mp_trips = (\n",
    "    mp_trips\n",
    "    .with_columns([\n",
    "        pl.when(pl.col('length').is_null())\n",
    "        .then(pl.lit(0))\n",
    "        .otherwise((pl.col('gamma_dist')*pl.col('length'))).alias('distance_cost')\n",
    "    ])\n",
    ")"
   ]
  },
  {
   "cell_type": "code",
   "execution_count": 13,
   "id": "c61adebe",
   "metadata": {},
   "outputs": [],
   "source": [
    "mp_trips = mp_trips.with_columns((pl.col('C')+pl.col('distance_cost')).alias('constant_utility'))"
   ]
  },
  {
   "cell_type": "markdown",
   "id": "7a107620",
   "metadata": {},
   "source": [
    "# Time at home "
   ]
  },
  {
   "cell_type": "code",
   "execution_count": 14,
   "id": "16b76238",
   "metadata": {},
   "outputs": [],
   "source": [
    "# Compute earliest_departure and latest_arr for each plan_id\n",
    "#t_home_df = (\n",
    "#    mp_trips\n",
    "#    .group_by(\"plan_id\")\n",
    "#    .agg([\n",
    "#        pl.col(\"departure_time\").min().alias(\"earliest_departure\"),\n",
    "#        pl.col(\"arrival_time\").max().alias(\"latest_arr\")\n",
    "#    ])\n",
    "#    .with_columns(\n",
    "#        (86400 - pl.col(\"latest_arr\") + pl.col(\"earliest_departure\")).alias(\"t_home\")\n",
    "#    )\n",
    "#)\n",
    "\n",
    "#mp_trips = mp_trips.join(\n",
    "#    t_home_df.select([\"plan_id\", \"t_home\"]),\n",
    "#    on=\"plan_id\",\n",
    "#    how=\"left\"\n",
    "#)"
   ]
  },
  {
   "cell_type": "markdown",
   "id": "e57b411d",
   "metadata": {},
   "source": [
    "# Activity Utility"
   ]
  },
  {
   "cell_type": "code",
   "execution_count": 15,
   "id": "10c44e7e",
   "metadata": {},
   "outputs": [],
   "source": [
    "activities_sorted = activities.sort([\"plan_id\", \"id\"])\n",
    "\n",
    "# first and last activity per plan\n",
    "first_activities = activities_sorted.group_by(\"plan_id\").first()\n",
    "last_activities = activities_sorted.group_by(\"plan_id\").last()\n",
    "\n",
    "first_last_activities = (\n",
    "    first_activities\n",
    "    .select(['plan_id', 'type', 'end_time', 'max_dur'])\n",
    "    .join(last_activities.select(['plan_id', 'type', 'end_time', 'max_dur']), on=['plan_id']))"
   ]
  },
  {
   "cell_type": "code",
   "execution_count": 16,
   "id": "6ca83332",
   "metadata": {},
   "outputs": [],
   "source": [
    "first_last_activities = (\n",
    "    first_activities\n",
    "    .select(['plan_id', 'type', 'end_time', 'max_dur'])\n",
    "    .join(last_activities.select(['plan_id', 'type', 'end_time', 'max_dur']), on=['plan_id']))"
   ]
  },
  {
   "cell_type": "code",
   "execution_count": 17,
   "id": "a59709eb",
   "metadata": {},
   "outputs": [],
   "source": [
    "first_last_activities = (\n",
    "    first_last_activities\n",
    "    .join(plans.select('id', 'person_id'), left_on=['plan_id'], right_on=['id'])\n",
    ")"
   ]
  },
  {
   "cell_type": "code",
   "execution_count": 18,
   "id": "8a3a4bfe",
   "metadata": {},
   "outputs": [
    {
     "data": {
      "text/html": [
       "<div><style>\n",
       ".dataframe > thead > tr,\n",
       ".dataframe > tbody > tr {\n",
       "  text-align: right;\n",
       "  white-space: pre-wrap;\n",
       "}\n",
       "</style>\n",
       "<small>shape: (400, 8)</small><table border=\"1\" class=\"dataframe\"><thead><tr><th>plan_id</th><th>type</th><th>end_time</th><th>max_dur</th><th>type_right</th><th>end_time_right</th><th>max_dur_right</th><th>person_id</th></tr><tr><td>i64</td><td>str</td><td>str</td><td>str</td><td>str</td><td>str</td><td>str</td><td>str</td></tr></thead><tbody><tr><td>7817</td><td>&quot;work_86400&quot;</td><td>&quot;06:02:04&quot;</td><td>null</td><td>&quot;work_86400&quot;</td><td>null</td><td>null</td><td>&quot;bb_113a96e6&quot;</td></tr><tr><td>107167</td><td>&quot;work_86400&quot;</td><td>&quot;06:03:05&quot;</td><td>null</td><td>&quot;work_86400&quot;</td><td>null</td><td>null</td><td>&quot;bb_ec14870d&quot;</td></tr><tr><td>380782</td><td>&quot;work_86400&quot;</td><td>&quot;06:03:15&quot;</td><td>null</td><td>&quot;work_86400&quot;</td><td>null</td><td>null</td><td>&quot;berlin_b3bb4196&quot;</td></tr><tr><td>336358</td><td>&quot;work_86400&quot;</td><td>&quot;06:03:21&quot;</td><td>null</td><td>&quot;work_86400&quot;</td><td>null</td><td>null</td><td>&quot;berlin_957b3362&quot;</td></tr><tr><td>63125</td><td>&quot;work_86400&quot;</td><td>&quot;06:03:33&quot;</td><td>null</td><td>&quot;work_86400&quot;</td><td>null</td><td>null</td><td>&quot;bb_8b1f5932&quot;</td></tr><tr><td>&hellip;</td><td>&hellip;</td><td>&hellip;</td><td>&hellip;</td><td>&hellip;</td><td>&hellip;</td><td>&hellip;</td><td>&hellip;</td></tr><tr><td>257584</td><td>&quot;work_86400&quot;</td><td>&quot;09:51:00&quot;</td><td>null</td><td>&quot;work_86400&quot;</td><td>null</td><td>null</td><td>&quot;berlin_6029d6a1&quot;</td></tr><tr><td>152955</td><td>&quot;work_86400&quot;</td><td>&quot;09:51:29&quot;</td><td>null</td><td>&quot;work_86400&quot;</td><td>null</td><td>null</td><td>&quot;berlin_190bdba5&quot;</td></tr><tr><td>438168</td><td>&quot;work_86400&quot;</td><td>&quot;09:57:12&quot;</td><td>null</td><td>&quot;work_86400&quot;</td><td>null</td><td>null</td><td>&quot;berlin_daf5fd8c&quot;</td></tr><tr><td>135406</td><td>&quot;work_86400&quot;</td><td>&quot;10:04:23&quot;</td><td>null</td><td>&quot;work_86400&quot;</td><td>null</td><td>null</td><td>&quot;berlin_0d0138e2&quot;</td></tr><tr><td>212596</td><td>&quot;work_86400&quot;</td><td>&quot;10:09:33&quot;</td><td>null</td><td>&quot;work_86400&quot;</td><td>null</td><td>null</td><td>&quot;berlin_418fe0c7&quot;</td></tr></tbody></table></div>"
      ],
      "text/plain": [
       "shape: (400, 8)\n",
       "┌─────────┬────────────┬──────────┬─────────┬────────────┬─────────────┬─────────────┬─────────────┐\n",
       "│ plan_id ┆ type       ┆ end_time ┆ max_dur ┆ type_right ┆ end_time_ri ┆ max_dur_rig ┆ person_id   │\n",
       "│ ---     ┆ ---        ┆ ---      ┆ ---     ┆ ---        ┆ ght         ┆ ht          ┆ ---         │\n",
       "│ i64     ┆ str        ┆ str      ┆ str     ┆ str        ┆ ---         ┆ ---         ┆ str         │\n",
       "│         ┆            ┆          ┆         ┆            ┆ str         ┆ str         ┆             │\n",
       "╞═════════╪════════════╪══════════╪═════════╪════════════╪═════════════╪═════════════╪═════════════╡\n",
       "│ 7817    ┆ work_86400 ┆ 06:02:04 ┆ null    ┆ work_86400 ┆ null        ┆ null        ┆ bb_113a96e6 │\n",
       "│ 107167  ┆ work_86400 ┆ 06:03:05 ┆ null    ┆ work_86400 ┆ null        ┆ null        ┆ bb_ec14870d │\n",
       "│ 380782  ┆ work_86400 ┆ 06:03:15 ┆ null    ┆ work_86400 ┆ null        ┆ null        ┆ berlin_b3bb │\n",
       "│         ┆            ┆          ┆         ┆            ┆             ┆             ┆ 4196        │\n",
       "│ 336358  ┆ work_86400 ┆ 06:03:21 ┆ null    ┆ work_86400 ┆ null        ┆ null        ┆ berlin_957b │\n",
       "│         ┆            ┆          ┆         ┆            ┆             ┆             ┆ 3362        │\n",
       "│ 63125   ┆ work_86400 ┆ 06:03:33 ┆ null    ┆ work_86400 ┆ null        ┆ null        ┆ bb_8b1f5932 │\n",
       "│ …       ┆ …          ┆ …        ┆ …       ┆ …          ┆ …           ┆ …           ┆ …           │\n",
       "│ 257584  ┆ work_86400 ┆ 09:51:00 ┆ null    ┆ work_86400 ┆ null        ┆ null        ┆ berlin_6029 │\n",
       "│         ┆            ┆          ┆         ┆            ┆             ┆             ┆ d6a1        │\n",
       "│ 152955  ┆ work_86400 ┆ 09:51:29 ┆ null    ┆ work_86400 ┆ null        ┆ null        ┆ berlin_190b │\n",
       "│         ┆            ┆          ┆         ┆            ┆             ┆             ┆ dba5        │\n",
       "│ 438168  ┆ work_86400 ┆ 09:57:12 ┆ null    ┆ work_86400 ┆ null        ┆ null        ┆ berlin_daf5 │\n",
       "│         ┆            ┆          ┆         ┆            ┆             ┆             ┆ fd8c        │\n",
       "│ 135406  ┆ work_86400 ┆ 10:04:23 ┆ null    ┆ work_86400 ┆ null        ┆ null        ┆ berlin_0d01 │\n",
       "│         ┆            ┆          ┆         ┆            ┆             ┆             ┆ 38e2        │\n",
       "│ 212596  ┆ work_86400 ┆ 10:09:33 ┆ null    ┆ work_86400 ┆ null        ┆ null        ┆ berlin_418f │\n",
       "│         ┆            ┆          ┆         ┆            ┆             ┆             ┆ e0c7        │\n",
       "└─────────┴────────────┴──────────┴─────────┴────────────┴─────────────┴─────────────┴─────────────┘"
      ]
     },
     "execution_count": 18,
     "metadata": {},
     "output_type": "execute_result"
    }
   ],
   "source": [
    "first_last_activities.filter(pl.col('type')==pl.col('type_right'),\n",
    "                             ~pl.col('type').str.contains('home')).sort('end_time').tail(400)"
   ]
  },
  {
   "cell_type": "markdown",
   "id": "ec581706",
   "metadata": {},
   "source": [
    "Dans le cas précédent: QUE FAIRE?? je travaille le soir et le matin? Où est mon utilité??"
   ]
  },
  {
   "cell_type": "markdown",
   "id": "50fdfded",
   "metadata": {},
   "source": [
    "## Activity list data frame"
   ]
  },
  {
   "cell_type": "code",
   "execution_count": 19,
   "id": "5d0f094c",
   "metadata": {},
   "outputs": [],
   "source": [
    "def read_activity_parameters():\n",
    "    activity_params = []\n",
    "    tree = ET.parse(\"/Users/andre/Desktop/Cergy/MATSim/matsim-berlin/berlin-v6.4.output_config_reduced.xml\")\n",
    "    root = tree.getroot()\n",
    "    \n",
    "    for module in root.findall(\".//parameterset[@type='activityParams']\"):\n",
    "        activity_type = \"\"\n",
    "        typical_duration = \"\"\n",
    "        opening_time = \"\"\n",
    "        closing_time = \"\"\n",
    "\n",
    "        for param in module.findall(\"param\"):\n",
    "            name = param.attrib.get(\"name\")\n",
    "            value = param.attrib.get(\"value\")\n",
    "            if name == \"activityType\":\n",
    "                activity_type = value or \"\"\n",
    "            elif name == \"typicalDuration\":\n",
    "                typical_duration = value or \"\"\n",
    "            elif name == \"openingTime\":\n",
    "                opening_time = value or \"\"\n",
    "            elif name == \"closingTime\":\n",
    "                closing_time = value or \"\"\n",
    "\n",
    "        activity_params.append({\n",
    "            \"type\": activity_type,\n",
    "            \"typical_duration\": typical_duration,\n",
    "            \"opening_time\": opening_time,\n",
    "            \"closing_time\": closing_time\n",
    "        })\n",
    "\n",
    "    # Convertir a DataFrame de Polars\n",
    "    activity_df = pl.DataFrame(activity_params)\n",
    "    return activity_df"
   ]
  },
  {
   "cell_type": "code",
   "execution_count": 20,
   "id": "971501f2",
   "metadata": {},
   "outputs": [],
   "source": [
    "activity_types = read_activity_parameters()"
   ]
  },
  {
   "cell_type": "code",
   "execution_count": 21,
   "id": "f9a27c5b",
   "metadata": {},
   "outputs": [],
   "source": [
    "activity_types= activity_types.with_columns(pl.when(pl.col('typical_duration')=='undefined')\n",
    "                                            .then(pl.lit(None).alias('typical_duration'))\n",
    "                                            .otherwise(pl.col('typical_duration')))"
   ]
  },
  {
   "cell_type": "code",
   "execution_count": 22,
   "id": "4a4ddadd",
   "metadata": {},
   "outputs": [],
   "source": [
    "activities_clean = (\n",
    "    activities\n",
    "    .join(activity_types, on='type')\n",
    "    .join(plans, left_on='plan_id', right_on='id')\n",
    "    .with_columns([\n",
    "        pl.arange(0, pl.len()).over(\"plan_id\").alias(\"activity_index\"),\n",
    "        dmd.hhmmss_str_to_seconds_expr(('typical_duration')),\n",
    "        dmd.hhmmss_str_to_seconds_expr(('opening_time')),\n",
    "        dmd.hhmmss_str_to_seconds_expr(('closing_time'))\n",
    "                  ])\n",
    "    .select(['person_id','plan_id', 'activity_index', 'id', 'type', 'typical_duration_secs',\n",
    "             'opening_time_secs', 'closing_time_secs', 'score'])\n",
    "\n",
    ")"
   ]
  },
  {
   "cell_type": "code",
   "execution_count": 23,
   "id": "6a90b2d7",
   "metadata": {},
   "outputs": [],
   "source": [
    "mp_trips = mp_trips.with_columns([pl.arange(0, pl.len()).over(\"plan_id\").alias(\"activity_index\")])"
   ]
  },
  {
   "cell_type": "code",
   "execution_count": 24,
   "id": "8eca4a33",
   "metadata": {},
   "outputs": [],
   "source": [
    "trips_with_activities = (\n",
    "    activities_clean\n",
    "    .rename({'typical_duration_secs': 'typical_duration', \n",
    "             'opening_time_secs': 'opening_time',\n",
    "             'closing_time_secs': 'closing_time'})\n",
    "    .join(mp_trips, on=['plan_id', 'activity_index'], how='left'))"
   ]
  },
  {
   "cell_type": "code",
   "execution_count": 25,
   "id": "53669631",
   "metadata": {},
   "outputs": [],
   "source": [
    "trips_with_activities = (\n",
    "    trips_with_activities\n",
    "    .with_columns([\n",
    "        pl.col(\"departure_time\").alias(\"end_time\"),\n",
    "        pl.col(\"arrival_time\").shift(1).over(\"person_id\").alias(\"start_time\"),\n",
    "        pl.col('type').alias(\"activity_type\"),\n",
    "        (pl.col('arrival_time')-pl.col('departure_time')).alias('travel_time')\n",
    "    ])\n",
    "    \n",
    "    .select(['person_id', 'plan_id', 'trip_id', 'activity_index', 'activity_type', 'mode', 'length',\n",
    "             'start_time', 'end_time', 'departure_time', 'arrival_time', 'travel_time', 'typical_duration', \n",
    "             'constant_utility', 'score', 'opening_time', 'closing_time'])\n",
    ")"
   ]
  },
  {
   "cell_type": "markdown",
   "id": "e2d88e97",
   "metadata": {},
   "source": [
    "## Matching and non-matching Activities (first-last)"
   ]
  },
  {
   "cell_type": "markdown",
   "id": "a70c7b0a",
   "metadata": {},
   "source": [
    "To create an indicator for matching (or non-matching) first and last activities, we create a bolean variable.\n",
    "\n",
    "\n",
    "If the first and last activities match, $activity_0$ `start_time` = `end_time` to set a duration of 0 for the first activity. Analogously, for $activity_n$, `end_time = 86400 + start_time(first_activity)`.\n",
    "\n",
    "If they don't match, $activity_0$ `start_time = 0` and $activity_n$, `end_time = 86400`\n"
   ]
  },
  {
   "cell_type": "code",
   "execution_count": 26,
   "id": "3ea24e51",
   "metadata": {},
   "outputs": [
    {
     "data": {
      "text/html": [
       "<div><style>\n",
       ".dataframe > thead > tr,\n",
       ".dataframe > tbody > tr {\n",
       "  text-align: right;\n",
       "  white-space: pre-wrap;\n",
       "}\n",
       "</style>\n",
       "<small>shape: (7, 17)</small><table border=\"1\" class=\"dataframe\"><thead><tr><th>person_id</th><th>plan_id</th><th>trip_id</th><th>activity_index</th><th>activity_type</th><th>mode</th><th>length</th><th>start_time</th><th>end_time</th><th>departure_time</th><th>arrival_time</th><th>travel_time</th><th>typical_duration</th><th>constant_utility</th><th>score</th><th>opening_time</th><th>closing_time</th></tr><tr><td>str</td><td>i64</td><td>u64</td><td>i64</td><td>str</td><td>str</td><td>f64</td><td>f64</td><td>f64</td><td>f64</td><td>f64</td><td>f64</td><td>i32</td><td>f64</td><td>str</td><td>i32</td><td>i32</td></tr></thead><tbody><tr><td>&quot;bb_00005bd6&quot;</td><td>0</td><td>1</td><td>0</td><td>&quot;home_86400&quot;</td><td>&quot;walk&quot;</td><td>null</td><td>null</td><td>28055.0</td><td>28055.0</td><td>28658.0</td><td>603.0</td><td>86400</td><td>0.0</td><td>&quot;126.6079969877827&quot;</td><td>null</td><td>null</td></tr><tr><td>&quot;bb_00005bd6&quot;</td><td>0</td><td>2</td><td>1</td><td>&quot;pt interaction&quot;</td><td>&quot;pt&quot;</td><td>null</td><td>28658.0</td><td>28658.0</td><td>28658.0</td><td>31200.0</td><td>2542.0</td><td>null</td><td>0.4322</td><td>&quot;126.6079969877827&quot;</td><td>null</td><td>null</td></tr><tr><td>&quot;bb_00005bd6&quot;</td><td>0</td><td>3</td><td>2</td><td>&quot;pt interaction&quot;</td><td>&quot;walk&quot;</td><td>null</td><td>31200.0</td><td>31200.0</td><td>31200.0</td><td>31695.0</td><td>495.0</td><td>null</td><td>0.0</td><td>&quot;126.6079969877827&quot;</td><td>null</td><td>null</td></tr><tr><td>&quot;bb_00005bd6&quot;</td><td>0</td><td>4</td><td>3</td><td>&quot;work_36600&quot;</td><td>&quot;walk&quot;</td><td>null</td><td>31695.0</td><td>62648.0</td><td>62648.0</td><td>63143.0</td><td>495.0</td><td>36600</td><td>0.0</td><td>&quot;126.6079969877827&quot;</td><td>21600</td><td>75600</td></tr><tr><td>&quot;bb_00005bd6&quot;</td><td>0</td><td>5</td><td>4</td><td>&quot;pt interaction&quot;</td><td>&quot;pt&quot;</td><td>null</td><td>63143.0</td><td>63143.0</td><td>63143.0</td><td>65340.0</td><td>2197.0</td><td>null</td><td>0.4322</td><td>&quot;126.6079969877827&quot;</td><td>null</td><td>null</td></tr><tr><td>&quot;bb_00005bd6&quot;</td><td>0</td><td>6</td><td>5</td><td>&quot;pt interaction&quot;</td><td>&quot;walk&quot;</td><td>null</td><td>65340.0</td><td>65340.0</td><td>65340.0</td><td>65943.0</td><td>603.0</td><td>null</td><td>0.0</td><td>&quot;126.6079969877827&quot;</td><td>null</td><td>null</td></tr><tr><td>&quot;bb_00005bd6&quot;</td><td>0</td><td>null</td><td>6</td><td>&quot;home_86400&quot;</td><td>null</td><td>null</td><td>65943.0</td><td>null</td><td>null</td><td>null</td><td>null</td><td>86400</td><td>null</td><td>&quot;126.6079969877827&quot;</td><td>null</td><td>null</td></tr></tbody></table></div>"
      ],
      "text/plain": [
       "shape: (7, 17)\n",
       "┌────────────┬─────────┬─────────┬────────────┬───┬────────────┬───────────┬───────────┬───────────┐\n",
       "│ person_id  ┆ plan_id ┆ trip_id ┆ activity_i ┆ … ┆ constant_u ┆ score     ┆ opening_t ┆ closing_t │\n",
       "│ ---        ┆ ---     ┆ ---     ┆ ndex       ┆   ┆ tility     ┆ ---       ┆ ime       ┆ ime       │\n",
       "│ str        ┆ i64     ┆ u64     ┆ ---        ┆   ┆ ---        ┆ str       ┆ ---       ┆ ---       │\n",
       "│            ┆         ┆         ┆ i64        ┆   ┆ f64        ┆           ┆ i32       ┆ i32       │\n",
       "╞════════════╪═════════╪═════════╪════════════╪═══╪════════════╪═══════════╪═══════════╪═══════════╡\n",
       "│ bb_00005bd ┆ 0       ┆ 1       ┆ 0          ┆ … ┆ 0.0        ┆ 126.60799 ┆ null      ┆ null      │\n",
       "│ 6          ┆         ┆         ┆            ┆   ┆            ┆ 69877827  ┆           ┆           │\n",
       "│ bb_00005bd ┆ 0       ┆ 2       ┆ 1          ┆ … ┆ 0.4322     ┆ 126.60799 ┆ null      ┆ null      │\n",
       "│ 6          ┆         ┆         ┆            ┆   ┆            ┆ 69877827  ┆           ┆           │\n",
       "│ bb_00005bd ┆ 0       ┆ 3       ┆ 2          ┆ … ┆ 0.0        ┆ 126.60799 ┆ null      ┆ null      │\n",
       "│ 6          ┆         ┆         ┆            ┆   ┆            ┆ 69877827  ┆           ┆           │\n",
       "│ bb_00005bd ┆ 0       ┆ 4       ┆ 3          ┆ … ┆ 0.0        ┆ 126.60799 ┆ 21600     ┆ 75600     │\n",
       "│ 6          ┆         ┆         ┆            ┆   ┆            ┆ 69877827  ┆           ┆           │\n",
       "│ bb_00005bd ┆ 0       ┆ 5       ┆ 4          ┆ … ┆ 0.4322     ┆ 126.60799 ┆ null      ┆ null      │\n",
       "│ 6          ┆         ┆         ┆            ┆   ┆            ┆ 69877827  ┆           ┆           │\n",
       "│ bb_00005bd ┆ 0       ┆ 6       ┆ 5          ┆ … ┆ 0.0        ┆ 126.60799 ┆ null      ┆ null      │\n",
       "│ 6          ┆         ┆         ┆            ┆   ┆            ┆ 69877827  ┆           ┆           │\n",
       "│ bb_00005bd ┆ 0       ┆ null    ┆ 6          ┆ … ┆ null       ┆ 126.60799 ┆ null      ┆ null      │\n",
       "│ 6          ┆         ┆         ┆            ┆   ┆            ┆ 69877827  ┆           ┆           │\n",
       "└────────────┴─────────┴─────────┴────────────┴───┴────────────┴───────────┴───────────┴───────────┘"
      ]
     },
     "execution_count": 26,
     "metadata": {},
     "output_type": "execute_result"
    }
   ],
   "source": [
    "trips_with_activities.filter(plan_id=0)"
   ]
  },
  {
   "cell_type": "code",
   "execution_count": 27,
   "id": "0293df9d",
   "metadata": {},
   "outputs": [],
   "source": [
    "# Create an indicator for matching (or non-matching) first and last activities, we do:\n",
    "trips_with_activities = (\n",
    "    trips_with_activities\n",
    "    .with_columns([\n",
    "        pl.len().over(\"plan_id\").alias(\"n_activities\") # max activities per plan\n",
    "    ])\n",
    "    .with_columns([\n",
    "        (\n",
    "            (pl.col(\"activity_type\").first().over(\"plan_id\") == pl.col(\"activity_type\").last().over(\"plan_id\")) &\n",
    "            (\n",
    "                (pl.col(\"activity_index\") == 0) |\n",
    "                (pl.col(\"activity_index\") == (pl.col(\"n_activities\") - 1))\n",
    "            )\n",
    "        ).alias(\"matching_activities\")\n",
    "    ])\n",
    "    .with_columns([\n",
    "        # START_TIME\n",
    "        pl.when((pl.col(\"activity_index\") == 0) & pl.col(\"matching_activities\"))\n",
    "        .then(pl.col(\"end_time\"))\n",
    "        .when(pl.col(\"activity_index\") == 0)\n",
    "        .then(0)\n",
    "        .otherwise(pl.col(\"start_time\"))\n",
    "        .alias(\"start_time_adjusted\")\n",
    "    ])\n",
    "    .with_columns([\n",
    "        # END_TIME\n",
    "        pl.when((pl.col(\"activity_index\") == (pl.col(\"n_activities\") - 1)) & pl.col(\"matching_activities\"))\n",
    "        .then(86400 + pl.col(\"start_time_adjusted\").first().over(\"plan_id\"))\n",
    "        .when(pl.col(\"activity_index\") == (pl.col(\"n_activities\") - 1))\n",
    "        .then(86400)\n",
    "        .otherwise(pl.col(\"end_time\"))\n",
    "        .alias(\"end_time_adjusted\")\n",
    "    ])\n",
    "    .drop(['start_time', 'end_time'])\n",
    "    .rename({\n",
    "    \"start_time_adjusted\": \"start_time\",\n",
    "    \"end_time_adjusted\": \"end_time\"\n",
    "    })\n",
    ")\n"
   ]
  },
  {
   "cell_type": "markdown",
   "id": "36530262",
   "metadata": {},
   "source": [
    "Here we only compute activity duration based on the \"utility window\". That is between opening and closing times"
   ]
  },
  {
   "cell_type": "code",
   "execution_count": 29,
   "id": "88323ae4",
   "metadata": {},
   "outputs": [],
   "source": [
    "# Opening and Closing times\n",
    "trips_with_activities= (\n",
    "    trips_with_activities\n",
    "    .with_columns([\n",
    "        pl.max_horizontal('opening_time', 'start_time').alias('start_time'),\n",
    "        pl.min_horizontal('end_time', 'closing_time').alias('closing_time')\n",
    "    ])\n",
    ")"
   ]
  },
  {
   "cell_type": "code",
   "execution_count": 30,
   "id": "026ca084",
   "metadata": {},
   "outputs": [],
   "source": [
    "trips_with_activities= (\n",
    "    trips_with_activities\n",
    "    .with_columns([\n",
    "        (pl.col('end_time')-pl.col('start_time')).alias('activity_duration')\n",
    "])\n",
    "    .with_columns([\n",
    "        pl.max_horizontal('activity_duration', 0).cast(pl.Float64) # just a check\n",
    "    ])\n",
    "\n",
    ")"
   ]
  },
  {
   "cell_type": "code",
   "execution_count": 31,
   "id": "3742c2a4",
   "metadata": {},
   "outputs": [],
   "source": [
    "trips_with_activities= (\n",
    "    trips_with_activities\n",
    "    .with_columns([\n",
    "        (6.88/3600*pl.col('typical_duration')*(1 + (pl.col('activity_duration') / pl.col('typical_duration')).log())\n",
    "        ).alias('activity_utility').fill_null(0)\n",
    "    ])\n",
    ")"
   ]
  },
  {
   "cell_type": "code",
   "execution_count": 32,
   "id": "a1c15c6f",
   "metadata": {},
   "outputs": [
    {
     "data": {
      "text/html": [
       "<div><style>\n",
       ".dataframe > thead > tr,\n",
       ".dataframe > tbody > tr {\n",
       "  text-align: right;\n",
       "  white-space: pre-wrap;\n",
       "}\n",
       "</style>\n",
       "<small>shape: (5_537_973, 21)</small><table border=\"1\" class=\"dataframe\"><thead><tr><th>person_id</th><th>plan_id</th><th>trip_id</th><th>activity_index</th><th>activity_type</th><th>mode</th><th>length</th><th>departure_time</th><th>arrival_time</th><th>travel_time</th><th>typical_duration</th><th>constant_utility</th><th>score</th><th>opening_time</th><th>closing_time</th><th>n_activities</th><th>matching_activities</th><th>start_time</th><th>end_time</th><th>activity_duration</th><th>activity_utility</th></tr><tr><td>str</td><td>i64</td><td>u64</td><td>i64</td><td>str</td><td>str</td><td>f64</td><td>f64</td><td>f64</td><td>f64</td><td>i32</td><td>f64</td><td>str</td><td>i32</td><td>f64</td><td>u32</td><td>bool</td><td>f64</td><td>f64</td><td>f64</td><td>f64</td></tr></thead><tbody><tr><td>&quot;bb_00005bd6&quot;</td><td>0</td><td>1</td><td>0</td><td>&quot;home_86400&quot;</td><td>&quot;walk&quot;</td><td>null</td><td>28055.0</td><td>28658.0</td><td>603.0</td><td>86400</td><td>0.0</td><td>&quot;126.6079969877827&quot;</td><td>null</td><td>28055.0</td><td>7</td><td>true</td><td>28055.0</td><td>28055.0</td><td>0.0</td><td>0.0</td></tr><tr><td>&quot;bb_00005bd6&quot;</td><td>0</td><td>2</td><td>1</td><td>&quot;pt interaction&quot;</td><td>&quot;pt&quot;</td><td>null</td><td>28658.0</td><td>31200.0</td><td>2542.0</td><td>null</td><td>0.4322</td><td>&quot;126.6079969877827&quot;</td><td>null</td><td>28658.0</td><td>7</td><td>false</td><td>28658.0</td><td>28658.0</td><td>0.0</td><td>0.0</td></tr><tr><td>&quot;bb_00005bd6&quot;</td><td>0</td><td>3</td><td>2</td><td>&quot;pt interaction&quot;</td><td>&quot;walk&quot;</td><td>null</td><td>31200.0</td><td>31695.0</td><td>495.0</td><td>null</td><td>0.0</td><td>&quot;126.6079969877827&quot;</td><td>null</td><td>31200.0</td><td>7</td><td>false</td><td>31200.0</td><td>31200.0</td><td>0.0</td><td>0.0</td></tr><tr><td>&quot;bb_00005bd6&quot;</td><td>0</td><td>4</td><td>3</td><td>&quot;work_36600&quot;</td><td>&quot;walk&quot;</td><td>null</td><td>62648.0</td><td>63143.0</td><td>495.0</td><td>36600</td><td>0.0</td><td>&quot;126.6079969877827&quot;</td><td>21600</td><td>62648.0</td><td>7</td><td>false</td><td>31695.0</td><td>62648.0</td><td>30953.0</td><td>58.225122</td></tr><tr><td>&quot;bb_00005bd6&quot;</td><td>0</td><td>5</td><td>4</td><td>&quot;pt interaction&quot;</td><td>&quot;pt&quot;</td><td>null</td><td>63143.0</td><td>65340.0</td><td>2197.0</td><td>null</td><td>0.4322</td><td>&quot;126.6079969877827&quot;</td><td>null</td><td>63143.0</td><td>7</td><td>false</td><td>63143.0</td><td>63143.0</td><td>0.0</td><td>0.0</td></tr><tr><td>&hellip;</td><td>&hellip;</td><td>&hellip;</td><td>&hellip;</td><td>&hellip;</td><td>&hellip;</td><td>&hellip;</td><td>&hellip;</td><td>&hellip;</td><td>&hellip;</td><td>&hellip;</td><td>&hellip;</td><td>&hellip;</td><td>&hellip;</td><td>&hellip;</td><td>&hellip;</td><td>&hellip;</td><td>&hellip;</td><td>&hellip;</td><td>&hellip;</td><td>&hellip;</td></tr><tr><td>&quot;goodsTraffic_re_vkz.1953_5_1&quot;</td><td>526110</td><td>3</td><td>2</td><td>&quot;car interaction&quot;</td><td>&quot;walk&quot;</td><td>null</td><td>39175.869897</td><td>39175.869897</td><td>0.0</td><td>null</td><td>0.0</td><td>&quot;41.910566679514865&quot;</td><td>null</td><td>39175.869897</td><td>7</td><td>false</td><td>39175.869897</td><td>39175.869897</td><td>0.0</td><td>0.0</td></tr><tr><td>&quot;goodsTraffic_re_vkz.1953_5_1&quot;</td><td>526110</td><td>4</td><td>3</td><td>&quot;service_3600&quot;</td><td>&quot;walk&quot;</td><td>null</td><td>42940.869897</td><td>42940.869897</td><td>0.0</td><td>3600</td><td>0.0</td><td>&quot;41.910566679514865&quot;</td><td>null</td><td>42940.869897</td><td>7</td><td>false</td><td>39175.869897</td><td>42940.869897</td><td>3765.0</td><td>7.18832</td></tr><tr><td>&quot;goodsTraffic_re_vkz.1953_5_1&quot;</td><td>526110</td><td>5</td><td>4</td><td>&quot;car interaction&quot;</td><td>&quot;car&quot;</td><td>18124.33</td><td>42942.869897</td><td>45069.736164</td><td>2126.866266</td><td>null</td><td>-3.188125</td><td>&quot;41.910566679514865&quot;</td><td>null</td><td>42942.869897</td><td>7</td><td>false</td><td>42940.869897</td><td>42942.869897</td><td>2.0</td><td>0.0</td></tr><tr><td>&quot;goodsTraffic_re_vkz.1953_5_1&quot;</td><td>526110</td><td>6</td><td>5</td><td>&quot;car interaction&quot;</td><td>&quot;walk&quot;</td><td>null</td><td>45069.736164</td><td>45069.736164</td><td>0.0</td><td>null</td><td>0.0</td><td>&quot;41.910566679514865&quot;</td><td>null</td><td>45069.736164</td><td>7</td><td>false</td><td>45069.736164</td><td>45069.736164</td><td>0.0</td><td>0.0</td></tr><tr><td>&quot;goodsTraffic_re_vkz.1953_5_1&quot;</td><td>526110</td><td>null</td><td>6</td><td>&quot;commercial_end&quot;</td><td>null</td><td>null</td><td>null</td><td>null</td><td>null</td><td>3600</td><td>null</td><td>&quot;41.910566679514865&quot;</td><td>null</td><td>86400.0</td><td>7</td><td>false</td><td>45069.736164</td><td>86400.0</td><td>41330.263836</td><td>23.671749</td></tr></tbody></table></div>"
      ],
      "text/plain": [
       "shape: (5_537_973, 21)\n",
       "┌────────────┬─────────┬─────────┬────────────┬───┬────────────┬───────────┬───────────┬───────────┐\n",
       "│ person_id  ┆ plan_id ┆ trip_id ┆ activity_i ┆ … ┆ start_time ┆ end_time  ┆ activity_ ┆ activity_ │\n",
       "│ ---        ┆ ---     ┆ ---     ┆ ndex       ┆   ┆ ---        ┆ ---       ┆ duration  ┆ utility   │\n",
       "│ str        ┆ i64     ┆ u64     ┆ ---        ┆   ┆ f64        ┆ f64       ┆ ---       ┆ ---       │\n",
       "│            ┆         ┆         ┆ i64        ┆   ┆            ┆           ┆ f64       ┆ f64       │\n",
       "╞════════════╪═════════╪═════════╪════════════╪═══╪════════════╪═══════════╪═══════════╪═══════════╡\n",
       "│ bb_00005bd ┆ 0       ┆ 1       ┆ 0          ┆ … ┆ 28055.0    ┆ 28055.0   ┆ 0.0       ┆ 0.0       │\n",
       "│ 6          ┆         ┆         ┆            ┆   ┆            ┆           ┆           ┆           │\n",
       "│ bb_00005bd ┆ 0       ┆ 2       ┆ 1          ┆ … ┆ 28658.0    ┆ 28658.0   ┆ 0.0       ┆ 0.0       │\n",
       "│ 6          ┆         ┆         ┆            ┆   ┆            ┆           ┆           ┆           │\n",
       "│ bb_00005bd ┆ 0       ┆ 3       ┆ 2          ┆ … ┆ 31200.0    ┆ 31200.0   ┆ 0.0       ┆ 0.0       │\n",
       "│ 6          ┆         ┆         ┆            ┆   ┆            ┆           ┆           ┆           │\n",
       "│ bb_00005bd ┆ 0       ┆ 4       ┆ 3          ┆ … ┆ 31695.0    ┆ 62648.0   ┆ 30953.0   ┆ 58.225122 │\n",
       "│ 6          ┆         ┆         ┆            ┆   ┆            ┆           ┆           ┆           │\n",
       "│ bb_00005bd ┆ 0       ┆ 5       ┆ 4          ┆ … ┆ 63143.0    ┆ 63143.0   ┆ 0.0       ┆ 0.0       │\n",
       "│ 6          ┆         ┆         ┆            ┆   ┆            ┆           ┆           ┆           │\n",
       "│ …          ┆ …       ┆ …       ┆ …          ┆ … ┆ …          ┆ …         ┆ …         ┆ …         │\n",
       "│ goodsTraff ┆ 526110  ┆ 3       ┆ 2          ┆ … ┆ 39175.8698 ┆ 39175.869 ┆ 0.0       ┆ 0.0       │\n",
       "│ ic_re_vkz. ┆         ┆         ┆            ┆   ┆ 97         ┆ 897       ┆           ┆           │\n",
       "│ 1953_5_1   ┆         ┆         ┆            ┆   ┆            ┆           ┆           ┆           │\n",
       "│ goodsTraff ┆ 526110  ┆ 4       ┆ 3          ┆ … ┆ 39175.8698 ┆ 42940.869 ┆ 3765.0    ┆ 7.18832   │\n",
       "│ ic_re_vkz. ┆         ┆         ┆            ┆   ┆ 97         ┆ 897       ┆           ┆           │\n",
       "│ 1953_5_1   ┆         ┆         ┆            ┆   ┆            ┆           ┆           ┆           │\n",
       "│ goodsTraff ┆ 526110  ┆ 5       ┆ 4          ┆ … ┆ 42940.8698 ┆ 42942.869 ┆ 2.0       ┆ 0.0       │\n",
       "│ ic_re_vkz. ┆         ┆         ┆            ┆   ┆ 97         ┆ 897       ┆           ┆           │\n",
       "│ 1953_5_1   ┆         ┆         ┆            ┆   ┆            ┆           ┆           ┆           │\n",
       "│ goodsTraff ┆ 526110  ┆ 6       ┆ 5          ┆ … ┆ 45069.7361 ┆ 45069.736 ┆ 0.0       ┆ 0.0       │\n",
       "│ ic_re_vkz. ┆         ┆         ┆            ┆   ┆ 64         ┆ 164       ┆           ┆           │\n",
       "│ 1953_5_1   ┆         ┆         ┆            ┆   ┆            ┆           ┆           ┆           │\n",
       "│ goodsTraff ┆ 526110  ┆ null    ┆ 6          ┆ … ┆ 45069.7361 ┆ 86400.0   ┆ 41330.263 ┆ 23.671749 │\n",
       "│ ic_re_vkz. ┆         ┆         ┆            ┆   ┆ 64         ┆           ┆ 836       ┆           │\n",
       "│ 1953_5_1   ┆         ┆         ┆            ┆   ┆            ┆           ┆           ┆           │\n",
       "└────────────┴─────────┴─────────┴────────────┴───┴────────────┴───────────┴───────────┴───────────┘"
      ]
     },
     "execution_count": 32,
     "metadata": {},
     "output_type": "execute_result"
    }
   ],
   "source": [
    "trips_with_activities.with_columns([\n",
    "    pl.max_horizontal('activity_utility', 0)])"
   ]
  },
  {
   "cell_type": "code",
   "execution_count": 33,
   "id": "24827a16",
   "metadata": {},
   "outputs": [],
   "source": [
    "trips_with_activities = (\n",
    "    trips_with_activities\n",
    "    .with_columns([\n",
    "        pl.when(pl.col('mode')=='ride')\n",
    "        .then(-6.88/3600*pl.col('travel_time'))\n",
    "        .otherwise(pl.lit(0)).alias('beta_trav')])\n",
    ")"
   ]
  },
  {
   "cell_type": "code",
   "execution_count": 34,
   "id": "af512cbb",
   "metadata": {},
   "outputs": [],
   "source": [
    "trips_with_activities= (\n",
    "    trips_with_activities\n",
    "    .with_columns([\n",
    "        (pl.col('beta_trav') + pl.col('constant_utility')).alias('constant_utility').fill_null(0)\n",
    "    ])\n",
    "    .drop(['start_time', 'end_time', 'departure_time', 'arrival_time', 'beta_trav'])\n",
    ")"
   ]
  },
  {
   "cell_type": "markdown",
   "id": "9ad63983",
   "metadata": {},
   "source": [
    "Tout ce qui se passe après 24h n'est pas pris en compte.\n",
    "$Score = 0$ pour toutes les activités avec un `end_time` $\\geq 24h$\n",
    "\n",
    "Filter totues les activités qui commencent après 24h.\n",
    "\n",
    "Joindre les activités avec le déplacement précédent !!!\n",
    "Càd. On commence le `activity_index` des trips à +1"
   ]
  },
  {
   "cell_type": "code",
   "execution_count": 35,
   "id": "953b9938",
   "metadata": {},
   "outputs": [
    {
     "data": {
      "text/html": [
       "<div><style>\n",
       ".dataframe > thead > tr,\n",
       ".dataframe > tbody > tr {\n",
       "  text-align: right;\n",
       "  white-space: pre-wrap;\n",
       "}\n",
       "</style>\n",
       "<small>shape: (7, 17)</small><table border=\"1\" class=\"dataframe\"><thead><tr><th>person_id</th><th>plan_id</th><th>trip_id</th><th>activity_index</th><th>activity_type</th><th>mode</th><th>length</th><th>travel_time</th><th>typical_duration</th><th>constant_utility</th><th>score</th><th>opening_time</th><th>closing_time</th><th>n_activities</th><th>matching_activities</th><th>activity_duration</th><th>activity_utility</th></tr><tr><td>str</td><td>i64</td><td>u64</td><td>i64</td><td>str</td><td>str</td><td>f64</td><td>f64</td><td>i32</td><td>f64</td><td>str</td><td>i32</td><td>f64</td><td>u32</td><td>bool</td><td>f64</td><td>f64</td></tr></thead><tbody><tr><td>&quot;bb_00005bd6&quot;</td><td>0</td><td>1</td><td>0</td><td>&quot;home_86400&quot;</td><td>&quot;walk&quot;</td><td>null</td><td>603.0</td><td>86400</td><td>0.0</td><td>&quot;126.6079969877827&quot;</td><td>null</td><td>28055.0</td><td>7</td><td>true</td><td>0.0</td><td>-inf</td></tr><tr><td>&quot;bb_00005bd6&quot;</td><td>0</td><td>2</td><td>1</td><td>&quot;pt interaction&quot;</td><td>&quot;pt&quot;</td><td>null</td><td>2542.0</td><td>null</td><td>0.4322</td><td>&quot;126.6079969877827&quot;</td><td>null</td><td>28658.0</td><td>7</td><td>false</td><td>0.0</td><td>0.0</td></tr><tr><td>&quot;bb_00005bd6&quot;</td><td>0</td><td>3</td><td>2</td><td>&quot;pt interaction&quot;</td><td>&quot;walk&quot;</td><td>null</td><td>495.0</td><td>null</td><td>0.0</td><td>&quot;126.6079969877827&quot;</td><td>null</td><td>31200.0</td><td>7</td><td>false</td><td>0.0</td><td>0.0</td></tr><tr><td>&quot;bb_00005bd6&quot;</td><td>0</td><td>4</td><td>3</td><td>&quot;work_36600&quot;</td><td>&quot;walk&quot;</td><td>null</td><td>495.0</td><td>36600</td><td>0.0</td><td>&quot;126.6079969877827&quot;</td><td>21600</td><td>62648.0</td><td>7</td><td>false</td><td>30953.0</td><td>58.225122</td></tr><tr><td>&quot;bb_00005bd6&quot;</td><td>0</td><td>5</td><td>4</td><td>&quot;pt interaction&quot;</td><td>&quot;pt&quot;</td><td>null</td><td>2197.0</td><td>null</td><td>0.4322</td><td>&quot;126.6079969877827&quot;</td><td>null</td><td>63143.0</td><td>7</td><td>false</td><td>0.0</td><td>0.0</td></tr><tr><td>&quot;bb_00005bd6&quot;</td><td>0</td><td>6</td><td>5</td><td>&quot;pt interaction&quot;</td><td>&quot;walk&quot;</td><td>null</td><td>603.0</td><td>null</td><td>0.0</td><td>&quot;126.6079969877827&quot;</td><td>null</td><td>65340.0</td><td>7</td><td>false</td><td>0.0</td><td>0.0</td></tr><tr><td>&quot;bb_00005bd6&quot;</td><td>0</td><td>null</td><td>6</td><td>&quot;home_86400&quot;</td><td>null</td><td>null</td><td>null</td><td>86400</td><td>0.0</td><td>&quot;126.6079969877827&quot;</td><td>null</td><td>114455.0</td><td>7</td><td>true</td><td>48512.0</td><td>69.816619</td></tr></tbody></table></div>"
      ],
      "text/plain": [
       "shape: (7, 17)\n",
       "┌────────────┬─────────┬─────────┬────────────┬───┬────────────┬───────────┬───────────┬───────────┐\n",
       "│ person_id  ┆ plan_id ┆ trip_id ┆ activity_i ┆ … ┆ n_activiti ┆ matching_ ┆ activity_ ┆ activity_ │\n",
       "│ ---        ┆ ---     ┆ ---     ┆ ndex       ┆   ┆ es         ┆ activitie ┆ duration  ┆ utility   │\n",
       "│ str        ┆ i64     ┆ u64     ┆ ---        ┆   ┆ ---        ┆ s         ┆ ---       ┆ ---       │\n",
       "│            ┆         ┆         ┆ i64        ┆   ┆ u32        ┆ ---       ┆ f64       ┆ f64       │\n",
       "│            ┆         ┆         ┆            ┆   ┆            ┆ bool      ┆           ┆           │\n",
       "╞════════════╪═════════╪═════════╪════════════╪═══╪════════════╪═══════════╪═══════════╪═══════════╡\n",
       "│ bb_00005bd ┆ 0       ┆ 1       ┆ 0          ┆ … ┆ 7          ┆ true      ┆ 0.0       ┆ -inf      │\n",
       "│ 6          ┆         ┆         ┆            ┆   ┆            ┆           ┆           ┆           │\n",
       "│ bb_00005bd ┆ 0       ┆ 2       ┆ 1          ┆ … ┆ 7          ┆ false     ┆ 0.0       ┆ 0.0       │\n",
       "│ 6          ┆         ┆         ┆            ┆   ┆            ┆           ┆           ┆           │\n",
       "│ bb_00005bd ┆ 0       ┆ 3       ┆ 2          ┆ … ┆ 7          ┆ false     ┆ 0.0       ┆ 0.0       │\n",
       "│ 6          ┆         ┆         ┆            ┆   ┆            ┆           ┆           ┆           │\n",
       "│ bb_00005bd ┆ 0       ┆ 4       ┆ 3          ┆ … ┆ 7          ┆ false     ┆ 30953.0   ┆ 58.225122 │\n",
       "│ 6          ┆         ┆         ┆            ┆   ┆            ┆           ┆           ┆           │\n",
       "│ bb_00005bd ┆ 0       ┆ 5       ┆ 4          ┆ … ┆ 7          ┆ false     ┆ 0.0       ┆ 0.0       │\n",
       "│ 6          ┆         ┆         ┆            ┆   ┆            ┆           ┆           ┆           │\n",
       "│ bb_00005bd ┆ 0       ┆ 6       ┆ 5          ┆ … ┆ 7          ┆ false     ┆ 0.0       ┆ 0.0       │\n",
       "│ 6          ┆         ┆         ┆            ┆   ┆            ┆           ┆           ┆           │\n",
       "│ bb_00005bd ┆ 0       ┆ null    ┆ 6          ┆ … ┆ 7          ┆ true      ┆ 48512.0   ┆ 69.816619 │\n",
       "│ 6          ┆         ┆         ┆            ┆   ┆            ┆           ┆           ┆           │\n",
       "└────────────┴─────────┴─────────┴────────────┴───┴────────────┴───────────┴───────────┴───────────┘"
      ]
     },
     "execution_count": 35,
     "metadata": {},
     "output_type": "execute_result"
    }
   ],
   "source": [
    "trips_with_activities.filter(plan_id=0)"
   ]
  },
  {
   "cell_type": "code",
   "execution_count": 36,
   "id": "613271b9",
   "metadata": {},
   "outputs": [],
   "source": [
    "plan_utilities = (\n",
    "    trips_with_activities\n",
    "    .group_by(\"plan_id\")\n",
    "    .agg([\n",
    "        pl.col(\"person_id\").first(),\n",
    "        pl.col(\"activity_utility\").sum(), # fill_null() av. la somme??\n",
    "        pl.col(\"constant_utility\").sum(),\n",
    "        (pl.col(\"mode\") == \"car\").any().alias(\"uses_car\"),\n",
    "        (pl.col(\"mode\") == \"pt\").any().alias(\"uses_pt\")\n",
    "    ])\n",
    "    .with_columns([\n",
    "        # Daily_m_C\n",
    "        (pl.when(pl.col(\"uses_car\")).then(-5).otherwise(0) +\n",
    "         pl.when(pl.col(\"uses_pt\")).then(-3).otherwise(0)).alias(\"daily_monetary_constant\"),\n",
    "\n",
    "    ])\n",
    "    .select([\n",
    "        \"plan_id\",\n",
    "        \"person_id\",\n",
    "        \"activity_utility\",\n",
    "        \"constant_utility\",\n",
    "        \"daily_monetary_constant\"\n",
    "    ])\n",
    ")"
   ]
  },
  {
   "cell_type": "code",
   "execution_count": 46,
   "id": "ebaa4672",
   "metadata": {},
   "outputs": [
    {
     "data": {
      "text/html": [
       "<div><style>\n",
       ".dataframe > thead > tr,\n",
       ".dataframe > tbody > tr {\n",
       "  text-align: right;\n",
       "  white-space: pre-wrap;\n",
       "}\n",
       "</style>\n",
       "<small>shape: (70_029, 17)</small><table border=\"1\" class=\"dataframe\"><thead><tr><th>person_id</th><th>plan_id</th><th>trip_id</th><th>activity_index</th><th>activity_type</th><th>mode</th><th>length</th><th>travel_time</th><th>typical_duration</th><th>constant_utility</th><th>score</th><th>opening_time</th><th>closing_time</th><th>n_activities</th><th>matching_activities</th><th>activity_duration</th><th>activity_utility</th></tr><tr><td>str</td><td>i64</td><td>u64</td><td>i64</td><td>str</td><td>str</td><td>f64</td><td>f64</td><td>i32</td><td>f64</td><td>str</td><td>i32</td><td>f64</td><td>u32</td><td>bool</td><td>f64</td><td>f64</td></tr></thead><tbody><tr><td>&quot;bb_0003c43f&quot;</td><td>6</td><td>2</td><td>1</td><td>&quot;shop_daily_600&quot;</td><td>&quot;walk&quot;</td><td>null</td><td>321.0</td><td>600</td><td>0.0</td><td>&quot;151.55200871975205&quot;</td><td>28800</td><td>26887.0</td><td>11</td><td>false</td><td>0.0</td><td>-inf</td></tr><tr><td>&quot;bb_00091a56&quot;</td><td>15</td><td>2</td><td>1</td><td>&quot;personal_business_600&quot;</td><td>&quot;walk&quot;</td><td>null</td><td>191.0</td><td>600</td><td>0.0</td><td>&quot;89.46983423566545&quot;</td><td>28800</td><td>36961.0</td><td>9</td><td>false</td><td>0.0</td><td>-inf</td></tr><tr><td>&quot;bb_000b959a&quot;</td><td>21</td><td>23</td><td>22</td><td>&quot;shop_daily_1800&quot;</td><td>&quot;walk&quot;</td><td>null</td><td>22.0</td><td>1800</td><td>0.0</td><td>&quot;91.27647217712419&quot;</td><td>28800</td><td>65529.0</td><td>26</td><td>false</td><td>0.0</td><td>-inf</td></tr><tr><td>&quot;bb_000e37b9&quot;</td><td>25</td><td>16</td><td>15</td><td>&quot;transport_600&quot;</td><td>&quot;walk&quot;</td><td>null</td><td>1017.0</td><td>600</td><td>0.0</td><td>&quot;62.37892068064727&quot;</td><td>null</td><td>64222.0</td><td>23</td><td>false</td><td>0.0</td><td>-inf</td></tr><tr><td>&quot;bb_000e37b9&quot;</td><td>25</td><td>20</td><td>19</td><td>&quot;personal_business_1200&quot;</td><td>&quot;walk&quot;</td><td>null</td><td>62.0</td><td>1200</td><td>0.0</td><td>&quot;62.37892068064727&quot;</td><td>28800</td><td>68421.828246</td><td>23</td><td>false</td><td>0.0</td><td>-inf</td></tr><tr><td>&hellip;</td><td>&hellip;</td><td>&hellip;</td><td>&hellip;</td><td>&hellip;</td><td>&hellip;</td><td>&hellip;</td><td>&hellip;</td><td>&hellip;</td><td>&hellip;</td><td>&hellip;</td><td>&hellip;</td><td>&hellip;</td><td>&hellip;</td><td>&hellip;</td><td>&hellip;</td><td>&hellip;</td></tr><tr><td>&quot;goodsTraffic_re_vkz.1861_6_0&quot;</td><td>525969</td><td>null</td><td>24</td><td>&quot;commercial_end&quot;</td><td>null</td><td>null</td><td>null</td><td>3600</td><td>0.0</td><td>&quot;-130.3104673072516&quot;</td><td>null</td><td>86400.0</td><td>25</td><td>false</td><td>0.0</td><td>-inf</td></tr><tr><td>&quot;goodsTraffic_re_vkz.1871_4_3&quot;</td><td>525985</td><td>null</td><td>18</td><td>&quot;commercial_end&quot;</td><td>null</td><td>null</td><td>null</td><td>3600</td><td>0.0</td><td>&quot;-242.1238146432091&quot;</td><td>null</td><td>86400.0</td><td>19</td><td>false</td><td>0.0</td><td>-inf</td></tr><tr><td>&quot;goodsTraffic_re_vkz.1901_3_6&quot;</td><td>526008</td><td>null</td><td>33</td><td>&quot;commercial_end&quot;</td><td>null</td><td>null</td><td>null</td><td>3600</td><td>0.0</td><td>&quot;25.53926856133978&quot;</td><td>null</td><td>86400.0</td><td>34</td><td>false</td><td>0.0</td><td>-inf</td></tr><tr><td>&quot;goodsTraffic_re_vkz.1941_6_3&quot;</td><td>526083</td><td>null</td><td>18</td><td>&quot;commercial_end&quot;</td><td>null</td><td>null</td><td>null</td><td>3600</td><td>0.0</td><td>&quot;-126.0369898288682&quot;</td><td>null</td><td>86400.0</td><td>19</td><td>false</td><td>0.0</td><td>-inf</td></tr><tr><td>&quot;goodsTraffic_re_vkz.1942_5_0&quot;</td><td>526094</td><td>null</td><td>18</td><td>&quot;commercial_end&quot;</td><td>null</td><td>null</td><td>null</td><td>3600</td><td>0.0</td><td>&quot;-42.71437247181582&quot;</td><td>null</td><td>86400.0</td><td>19</td><td>false</td><td>0.0</td><td>-inf</td></tr></tbody></table></div>"
      ],
      "text/plain": [
       "shape: (70_029, 17)\n",
       "┌────────────┬─────────┬─────────┬────────────┬───┬────────────┬───────────┬───────────┬───────────┐\n",
       "│ person_id  ┆ plan_id ┆ trip_id ┆ activity_i ┆ … ┆ n_activiti ┆ matching_ ┆ activity_ ┆ activity_ │\n",
       "│ ---        ┆ ---     ┆ ---     ┆ ndex       ┆   ┆ es         ┆ activitie ┆ duration  ┆ utility   │\n",
       "│ str        ┆ i64     ┆ u64     ┆ ---        ┆   ┆ ---        ┆ s         ┆ ---       ┆ ---       │\n",
       "│            ┆         ┆         ┆ i64        ┆   ┆ u32        ┆ ---       ┆ f64       ┆ f64       │\n",
       "│            ┆         ┆         ┆            ┆   ┆            ┆ bool      ┆           ┆           │\n",
       "╞════════════╪═════════╪═════════╪════════════╪═══╪════════════╪═══════════╪═══════════╪═══════════╡\n",
       "│ bb_0003c43 ┆ 6       ┆ 2       ┆ 1          ┆ … ┆ 11         ┆ false     ┆ 0.0       ┆ -inf      │\n",
       "│ f          ┆         ┆         ┆            ┆   ┆            ┆           ┆           ┆           │\n",
       "│ bb_00091a5 ┆ 15      ┆ 2       ┆ 1          ┆ … ┆ 9          ┆ false     ┆ 0.0       ┆ -inf      │\n",
       "│ 6          ┆         ┆         ┆            ┆   ┆            ┆           ┆           ┆           │\n",
       "│ bb_000b959 ┆ 21      ┆ 23      ┆ 22         ┆ … ┆ 26         ┆ false     ┆ 0.0       ┆ -inf      │\n",
       "│ a          ┆         ┆         ┆            ┆   ┆            ┆           ┆           ┆           │\n",
       "│ bb_000e37b ┆ 25      ┆ 16      ┆ 15         ┆ … ┆ 23         ┆ false     ┆ 0.0       ┆ -inf      │\n",
       "│ 9          ┆         ┆         ┆            ┆   ┆            ┆           ┆           ┆           │\n",
       "│ bb_000e37b ┆ 25      ┆ 20      ┆ 19         ┆ … ┆ 23         ┆ false     ┆ 0.0       ┆ -inf      │\n",
       "│ 9          ┆         ┆         ┆            ┆   ┆            ┆           ┆           ┆           │\n",
       "│ …          ┆ …       ┆ …       ┆ …          ┆ … ┆ …          ┆ …         ┆ …         ┆ …         │\n",
       "│ goodsTraff ┆ 525969  ┆ null    ┆ 24         ┆ … ┆ 25         ┆ false     ┆ 0.0       ┆ -inf      │\n",
       "│ ic_re_vkz. ┆         ┆         ┆            ┆   ┆            ┆           ┆           ┆           │\n",
       "│ 1861_6_0   ┆         ┆         ┆            ┆   ┆            ┆           ┆           ┆           │\n",
       "│ goodsTraff ┆ 525985  ┆ null    ┆ 18         ┆ … ┆ 19         ┆ false     ┆ 0.0       ┆ -inf      │\n",
       "│ ic_re_vkz. ┆         ┆         ┆            ┆   ┆            ┆           ┆           ┆           │\n",
       "│ 1871_4_3   ┆         ┆         ┆            ┆   ┆            ┆           ┆           ┆           │\n",
       "│ goodsTraff ┆ 526008  ┆ null    ┆ 33         ┆ … ┆ 34         ┆ false     ┆ 0.0       ┆ -inf      │\n",
       "│ ic_re_vkz. ┆         ┆         ┆            ┆   ┆            ┆           ┆           ┆           │\n",
       "│ 1901_3_6   ┆         ┆         ┆            ┆   ┆            ┆           ┆           ┆           │\n",
       "│ goodsTraff ┆ 526083  ┆ null    ┆ 18         ┆ … ┆ 19         ┆ false     ┆ 0.0       ┆ -inf      │\n",
       "│ ic_re_vkz. ┆         ┆         ┆            ┆   ┆            ┆           ┆           ┆           │\n",
       "│ 1941_6_3   ┆         ┆         ┆            ┆   ┆            ┆           ┆           ┆           │\n",
       "│ goodsTraff ┆ 526094  ┆ null    ┆ 18         ┆ … ┆ 19         ┆ false     ┆ 0.0       ┆ -inf      │\n",
       "│ ic_re_vkz. ┆         ┆         ┆            ┆   ┆            ┆           ┆           ┆           │\n",
       "│ 1942_5_0   ┆         ┆         ┆            ┆   ┆            ┆           ┆           ┆           │\n",
       "└────────────┴─────────┴─────────┴────────────┴───┴────────────┴───────────┴───────────┴───────────┘"
      ]
     },
     "execution_count": 46,
     "metadata": {},
     "output_type": "execute_result"
    }
   ],
   "source": [
    "trips_with_activities.filter(pl.col('activity_duration')==0,\n",
    "                             pl.col('typical_duration')>0,\n",
    "                             ~pl.col('activity_type').str.contains('home'))"
   ]
  },
  {
   "cell_type": "code",
   "execution_count": 37,
   "id": "826faddf",
   "metadata": {},
   "outputs": [
    {
     "data": {
      "text/html": [
       "<div><style>\n",
       ".dataframe > thead > tr,\n",
       ".dataframe > tbody > tr {\n",
       "  text-align: right;\n",
       "  white-space: pre-wrap;\n",
       "}\n",
       "</style>\n",
       "<small>shape: (613_932, 17)</small><table border=\"1\" class=\"dataframe\"><thead><tr><th>person_id</th><th>plan_id</th><th>trip_id</th><th>activity_index</th><th>activity_type</th><th>mode</th><th>length</th><th>travel_time</th><th>typical_duration</th><th>constant_utility</th><th>score</th><th>opening_time</th><th>closing_time</th><th>n_activities</th><th>matching_activities</th><th>activity_duration</th><th>activity_utility</th></tr><tr><td>str</td><td>i64</td><td>u64</td><td>i64</td><td>str</td><td>str</td><td>f64</td><td>f64</td><td>i32</td><td>f64</td><td>str</td><td>i32</td><td>f64</td><td>u32</td><td>bool</td><td>f64</td><td>f64</td></tr></thead><tbody><tr><td>&quot;bb_00005bd6&quot;</td><td>0</td><td>1</td><td>0</td><td>&quot;home_86400&quot;</td><td>&quot;walk&quot;</td><td>null</td><td>603.0</td><td>86400</td><td>0.0</td><td>&quot;126.6079969877827&quot;</td><td>null</td><td>28055.0</td><td>7</td><td>true</td><td>0.0</td><td>-inf</td></tr><tr><td>&quot;bb_00005f6f&quot;</td><td>1</td><td>1</td><td>0</td><td>&quot;home_86400&quot;</td><td>&quot;walk&quot;</td><td>null</td><td>49.0</td><td>86400</td><td>0.0</td><td>&quot;97.14173616689543&quot;</td><td>null</td><td>30484.0</td><td>17</td><td>true</td><td>0.0</td><td>-inf</td></tr><tr><td>&quot;bb_000138d3&quot;</td><td>2</td><td>1</td><td>0</td><td>&quot;home_86400&quot;</td><td>&quot;walk&quot;</td><td>null</td><td>66.0</td><td>86400</td><td>0.0</td><td>&quot;101.46352803549345&quot;</td><td>null</td><td>21951.0</td><td>15</td><td>true</td><td>0.0</td><td>-inf</td></tr><tr><td>&quot;bb_0001abb4&quot;</td><td>3</td><td>1</td><td>0</td><td>&quot;home_86400&quot;</td><td>&quot;walk&quot;</td><td>null</td><td>34.0</td><td>86400</td><td>0.0</td><td>&quot;137.86198437238733&quot;</td><td>null</td><td>23350.0</td><td>7</td><td>true</td><td>0.0</td><td>-inf</td></tr><tr><td>&quot;bb_00022fe7&quot;</td><td>4</td><td>1</td><td>0</td><td>&quot;home_86400&quot;</td><td>&quot;walk&quot;</td><td>null</td><td>984.0</td><td>86400</td><td>0.0</td><td>&quot;72.4320830116208&quot;</td><td>null</td><td>20974.0</td><td>23</td><td>true</td><td>0.0</td><td>-inf</td></tr><tr><td>&hellip;</td><td>&hellip;</td><td>&hellip;</td><td>&hellip;</td><td>&hellip;</td><td>&hellip;</td><td>&hellip;</td><td>&hellip;</td><td>&hellip;</td><td>&hellip;</td><td>&hellip;</td><td>&hellip;</td><td>&hellip;</td><td>&hellip;</td><td>&hellip;</td><td>&hellip;</td><td>&hellip;</td></tr><tr><td>&quot;goodsTraffic_re_vkz.1941_6_3&quot;</td><td>526083</td><td>null</td><td>18</td><td>&quot;commercial_end&quot;</td><td>null</td><td>null</td><td>null</td><td>3600</td><td>0.0</td><td>&quot;-126.0369898288682&quot;</td><td>null</td><td>86400.0</td><td>19</td><td>false</td><td>0.0</td><td>-inf</td></tr><tr><td>&quot;goodsTraffic_re_vkz.1942_4_13&quot;</td><td>526091</td><td>10</td><td>9</td><td>&quot;service_600&quot;</td><td>&quot;walk&quot;</td><td>null</td><td>0.0</td><td>600</td><td>0.0</td><td>&quot;-79.19686977422596&quot;</td><td>null</td><td>22015.60355</td><td>28</td><td>false</td><td>140.0</td><td>-0.522063</td></tr><tr><td>&quot;goodsTraffic_re_vkz.1942_4_5&quot;</td><td>526093</td><td>10</td><td>9</td><td>&quot;service_600&quot;</td><td>&quot;walk&quot;</td><td>null</td><td>0.0</td><td>600</td><td>0.0</td><td>&quot;-118.80758879931352&quot;</td><td>null</td><td>42367.90747</td><td>19</td><td>false</td><td>141.0</td><td>-0.513901</td></tr><tr><td>&quot;goodsTraffic_re_vkz.1942_5_0&quot;</td><td>526094</td><td>null</td><td>18</td><td>&quot;commercial_end&quot;</td><td>null</td><td>null</td><td>null</td><td>3600</td><td>0.0</td><td>&quot;-42.71437247181582&quot;</td><td>null</td><td>86400.0</td><td>19</td><td>false</td><td>0.0</td><td>-inf</td></tr><tr><td>&quot;goodsTraffic_re_vkz.1942_6_0&quot;</td><td>526101</td><td>4</td><td>3</td><td>&quot;service_600&quot;</td><td>&quot;walk&quot;</td><td>null</td><td>26.0</td><td>600</td><td>0.0</td><td>&quot;64.44912306482999&quot;</td><td>null</td><td>19810.201183</td><td>25</td><td>false</td><td>1.0</td><td>-6.188479</td></tr></tbody></table></div>"
      ],
      "text/plain": [
       "shape: (613_932, 17)\n",
       "┌────────────┬─────────┬─────────┬────────────┬───┬────────────┬───────────┬───────────┬───────────┐\n",
       "│ person_id  ┆ plan_id ┆ trip_id ┆ activity_i ┆ … ┆ n_activiti ┆ matching_ ┆ activity_ ┆ activity_ │\n",
       "│ ---        ┆ ---     ┆ ---     ┆ ndex       ┆   ┆ es         ┆ activitie ┆ duration  ┆ utility   │\n",
       "│ str        ┆ i64     ┆ u64     ┆ ---        ┆   ┆ ---        ┆ s         ┆ ---       ┆ ---       │\n",
       "│            ┆         ┆         ┆ i64        ┆   ┆ u32        ┆ ---       ┆ f64       ┆ f64       │\n",
       "│            ┆         ┆         ┆            ┆   ┆            ┆ bool      ┆           ┆           │\n",
       "╞════════════╪═════════╪═════════╪════════════╪═══╪════════════╪═══════════╪═══════════╪═══════════╡\n",
       "│ bb_00005bd ┆ 0       ┆ 1       ┆ 0          ┆ … ┆ 7          ┆ true      ┆ 0.0       ┆ -inf      │\n",
       "│ 6          ┆         ┆         ┆            ┆   ┆            ┆           ┆           ┆           │\n",
       "│ bb_00005f6 ┆ 1       ┆ 1       ┆ 0          ┆ … ┆ 17         ┆ true      ┆ 0.0       ┆ -inf      │\n",
       "│ f          ┆         ┆         ┆            ┆   ┆            ┆           ┆           ┆           │\n",
       "│ bb_000138d ┆ 2       ┆ 1       ┆ 0          ┆ … ┆ 15         ┆ true      ┆ 0.0       ┆ -inf      │\n",
       "│ 3          ┆         ┆         ┆            ┆   ┆            ┆           ┆           ┆           │\n",
       "│ bb_0001abb ┆ 3       ┆ 1       ┆ 0          ┆ … ┆ 7          ┆ true      ┆ 0.0       ┆ -inf      │\n",
       "│ 4          ┆         ┆         ┆            ┆   ┆            ┆           ┆           ┆           │\n",
       "│ bb_00022fe ┆ 4       ┆ 1       ┆ 0          ┆ … ┆ 23         ┆ true      ┆ 0.0       ┆ -inf      │\n",
       "│ 7          ┆         ┆         ┆            ┆   ┆            ┆           ┆           ┆           │\n",
       "│ …          ┆ …       ┆ …       ┆ …          ┆ … ┆ …          ┆ …         ┆ …         ┆ …         │\n",
       "│ goodsTraff ┆ 526083  ┆ null    ┆ 18         ┆ … ┆ 19         ┆ false     ┆ 0.0       ┆ -inf      │\n",
       "│ ic_re_vkz. ┆         ┆         ┆            ┆   ┆            ┆           ┆           ┆           │\n",
       "│ 1941_6_3   ┆         ┆         ┆            ┆   ┆            ┆           ┆           ┆           │\n",
       "│ goodsTraff ┆ 526091  ┆ 10      ┆ 9          ┆ … ┆ 28         ┆ false     ┆ 140.0     ┆ -0.522063 │\n",
       "│ ic_re_vkz. ┆         ┆         ┆            ┆   ┆            ┆           ┆           ┆           │\n",
       "│ 1942_4_13  ┆         ┆         ┆            ┆   ┆            ┆           ┆           ┆           │\n",
       "│ goodsTraff ┆ 526093  ┆ 10      ┆ 9          ┆ … ┆ 19         ┆ false     ┆ 141.0     ┆ -0.513901 │\n",
       "│ ic_re_vkz. ┆         ┆         ┆            ┆   ┆            ┆           ┆           ┆           │\n",
       "│ 1942_4_5   ┆         ┆         ┆            ┆   ┆            ┆           ┆           ┆           │\n",
       "│ goodsTraff ┆ 526094  ┆ null    ┆ 18         ┆ … ┆ 19         ┆ false     ┆ 0.0       ┆ -inf      │\n",
       "│ ic_re_vkz. ┆         ┆         ┆            ┆   ┆            ┆           ┆           ┆           │\n",
       "│ 1942_5_0   ┆         ┆         ┆            ┆   ┆            ┆           ┆           ┆           │\n",
       "│ goodsTraff ┆ 526101  ┆ 4       ┆ 3          ┆ … ┆ 25         ┆ false     ┆ 1.0       ┆ -6.188479 │\n",
       "│ ic_re_vkz. ┆         ┆         ┆            ┆   ┆            ┆           ┆           ┆           │\n",
       "│ 1942_6_0   ┆         ┆         ┆            ┆   ┆            ┆           ┆           ┆           │\n",
       "└────────────┴─────────┴─────────┴────────────┴───┴────────────┴───────────┴───────────┴───────────┘"
      ]
     },
     "execution_count": 37,
     "metadata": {},
     "output_type": "execute_result"
    }
   ],
   "source": [
    "trips_with_activities.filter(pl.col('activity_utility')<0)"
   ]
  },
  {
   "cell_type": "code",
   "execution_count": 38,
   "id": "e01a8dcd",
   "metadata": {},
   "outputs": [
    {
     "data": {
      "text/html": [
       "<div><style>\n",
       ".dataframe > thead > tr,\n",
       ".dataframe > tbody > tr {\n",
       "  text-align: right;\n",
       "  white-space: pre-wrap;\n",
       "}\n",
       "</style>\n",
       "<small>shape: (6, 17)</small><table border=\"1\" class=\"dataframe\"><thead><tr><th>agent_id</th><th>trip_id</th><th>trip_index</th><th>departure_time</th><th>arrival_time</th><th>road_time</th><th>in_bottleneck_time</th><th>route_free_flow_travel_time</th><th>length</th><th>nb_edges</th><th>mode</th><th>plan_id</th><th>C</th><th>gamma_dist</th><th>distance_cost</th><th>constant_utility</th><th>activity_index</th></tr><tr><td>u64</td><td>u64</td><td>u64</td><td>f64</td><td>f64</td><td>f64</td><td>f64</td><td>f64</td><td>f64</td><td>u64</td><td>str</td><td>i64</td><td>f64</td><td>f64</td><td>f64</td><td>f64</td><td>i64</td></tr></thead><tbody><tr><td>1</td><td>1</td><td>0</td><td>28055.0</td><td>28658.0</td><td>null</td><td>null</td><td>null</td><td>null</td><td>null</td><td>&quot;walk&quot;</td><td>0</td><td>0.0</td><td>0.0</td><td>0.0</td><td>0.0</td><td>0</td></tr><tr><td>1</td><td>2</td><td>1</td><td>28658.0</td><td>31200.0</td><td>null</td><td>null</td><td>null</td><td>null</td><td>null</td><td>&quot;pt&quot;</td><td>0</td><td>0.4322</td><td>0.0</td><td>0.0</td><td>0.4322</td><td>1</td></tr><tr><td>1</td><td>3</td><td>2</td><td>31200.0</td><td>31695.0</td><td>null</td><td>null</td><td>null</td><td>null</td><td>null</td><td>&quot;walk&quot;</td><td>0</td><td>0.0</td><td>0.0</td><td>0.0</td><td>0.0</td><td>2</td></tr><tr><td>2</td><td>4</td><td>0</td><td>62648.0</td><td>63143.0</td><td>null</td><td>null</td><td>null</td><td>null</td><td>null</td><td>&quot;walk&quot;</td><td>0</td><td>0.0</td><td>0.0</td><td>0.0</td><td>0.0</td><td>3</td></tr><tr><td>2</td><td>5</td><td>1</td><td>63143.0</td><td>65340.0</td><td>null</td><td>null</td><td>null</td><td>null</td><td>null</td><td>&quot;pt&quot;</td><td>0</td><td>0.4322</td><td>0.0</td><td>0.0</td><td>0.4322</td><td>4</td></tr><tr><td>2</td><td>6</td><td>2</td><td>65340.0</td><td>65943.0</td><td>null</td><td>null</td><td>null</td><td>null</td><td>null</td><td>&quot;walk&quot;</td><td>0</td><td>0.0</td><td>0.0</td><td>0.0</td><td>0.0</td><td>5</td></tr></tbody></table></div>"
      ],
      "text/plain": [
       "shape: (6, 17)\n",
       "┌──────────┬─────────┬────────────┬────────────┬───┬───────────┬───────────┬───────────┬───────────┐\n",
       "│ agent_id ┆ trip_id ┆ trip_index ┆ departure_ ┆ … ┆ gamma_dis ┆ distance_ ┆ constant_ ┆ activity_ │\n",
       "│ ---      ┆ ---     ┆ ---        ┆ time       ┆   ┆ t         ┆ cost      ┆ utility   ┆ index     │\n",
       "│ u64      ┆ u64     ┆ u64        ┆ ---        ┆   ┆ ---       ┆ ---       ┆ ---       ┆ ---       │\n",
       "│          ┆         ┆            ┆ f64        ┆   ┆ f64       ┆ f64       ┆ f64       ┆ i64       │\n",
       "╞══════════╪═════════╪════════════╪════════════╪═══╪═══════════╪═══════════╪═══════════╪═══════════╡\n",
       "│ 1        ┆ 1       ┆ 0          ┆ 28055.0    ┆ … ┆ 0.0       ┆ 0.0       ┆ 0.0       ┆ 0         │\n",
       "│ 1        ┆ 2       ┆ 1          ┆ 28658.0    ┆ … ┆ 0.0       ┆ 0.0       ┆ 0.4322    ┆ 1         │\n",
       "│ 1        ┆ 3       ┆ 2          ┆ 31200.0    ┆ … ┆ 0.0       ┆ 0.0       ┆ 0.0       ┆ 2         │\n",
       "│ 2        ┆ 4       ┆ 0          ┆ 62648.0    ┆ … ┆ 0.0       ┆ 0.0       ┆ 0.0       ┆ 3         │\n",
       "│ 2        ┆ 5       ┆ 1          ┆ 63143.0    ┆ … ┆ 0.0       ┆ 0.0       ┆ 0.4322    ┆ 4         │\n",
       "│ 2        ┆ 6       ┆ 2          ┆ 65340.0    ┆ … ┆ 0.0       ┆ 0.0       ┆ 0.0       ┆ 5         │\n",
       "└──────────┴─────────┴────────────┴────────────┴───┴───────────┴───────────┴───────────┴───────────┘"
      ]
     },
     "execution_count": 38,
     "metadata": {},
     "output_type": "execute_result"
    }
   ],
   "source": [
    "mp_trips.filter(plan_id=0)"
   ]
  },
  {
   "cell_type": "code",
   "execution_count": 39,
   "id": "78dc548f",
   "metadata": {},
   "outputs": [
    {
     "data": {
      "text/html": [
       "<div><style>\n",
       ".dataframe > thead > tr,\n",
       ".dataframe > tbody > tr {\n",
       "  text-align: right;\n",
       "  white-space: pre-wrap;\n",
       "}\n",
       "</style>\n",
       "<small>shape: (526_111, 6)</small><table border=\"1\" class=\"dataframe\"><thead><tr><th>plan_id</th><th>person_id</th><th>activity_utility</th><th>constant_utility</th><th>daily_monetary_constant</th><th>total_utility</th></tr><tr><td>i64</td><td>str</td><td>f64</td><td>f64</td><td>i32</td><td>f64</td></tr></thead><tbody><tr><td>0</td><td>&quot;bb_00005bd6&quot;</td><td>-inf</td><td>0.8644</td><td>-3</td><td>-inf</td></tr><tr><td>1</td><td>&quot;bb_00005f6f&quot;</td><td>-inf</td><td>-20.638812</td><td>-5</td><td>-inf</td></tr><tr><td>2</td><td>&quot;bb_000138d3&quot;</td><td>-inf</td><td>2.5932</td><td>-3</td><td>-inf</td></tr><tr><td>3</td><td>&quot;bb_0001abb4&quot;</td><td>-inf</td><td>-5.485185</td><td>0</td><td>-inf</td></tr><tr><td>4</td><td>&quot;bb_00022fe7&quot;</td><td>-inf</td><td>3.4576</td><td>-3</td><td>-inf</td></tr><tr><td>&hellip;</td><td>&hellip;</td><td>&hellip;</td><td>&hellip;</td><td>&hellip;</td><td>&hellip;</td></tr><tr><td>526106</td><td>&quot;goodsTraffic_re_vkz.1953_2_0&quot;</td><td>52.408223</td><td>-0.95164</td><td>0</td><td>51.456583</td></tr><tr><td>526107</td><td>&quot;goodsTraffic_re_vkz.1953_4_0&quot;</td><td>68.45746</td><td>-11.602134</td><td>-5</td><td>51.855326</td></tr><tr><td>526108</td><td>&quot;goodsTraffic_re_vkz.1953_4_3&quot;</td><td>50.189379</td><td>-18.519384</td><td>0</td><td>31.669995</td></tr><tr><td>526109</td><td>&quot;goodsTraffic_re_vkz.1953_5_0&quot;</td><td>85.779532</td><td>-175.171644</td><td>0</td><td>-89.392112</td></tr><tr><td>526110</td><td>&quot;goodsTraffic_re_vkz.1953_5_1&quot;</td><td>53.705532</td><td>-6.449433</td><td>-5</td><td>42.256099</td></tr></tbody></table></div>"
      ],
      "text/plain": [
       "shape: (526_111, 6)\n",
       "┌─────────┬──────────────────┬─────────────────┬─────────────────┬─────────────────┬───────────────┐\n",
       "│ plan_id ┆ person_id        ┆ activity_utilit ┆ constant_utilit ┆ daily_monetary_ ┆ total_utility │\n",
       "│ ---     ┆ ---              ┆ y               ┆ y               ┆ constant        ┆ ---           │\n",
       "│ i64     ┆ str              ┆ ---             ┆ ---             ┆ ---             ┆ f64           │\n",
       "│         ┆                  ┆ f64             ┆ f64             ┆ i32             ┆               │\n",
       "╞═════════╪══════════════════╪═════════════════╪═════════════════╪═════════════════╪═══════════════╡\n",
       "│ 0       ┆ bb_00005bd6      ┆ -inf            ┆ 0.8644          ┆ -3              ┆ -inf          │\n",
       "│ 1       ┆ bb_00005f6f      ┆ -inf            ┆ -20.638812      ┆ -5              ┆ -inf          │\n",
       "│ 2       ┆ bb_000138d3      ┆ -inf            ┆ 2.5932          ┆ -3              ┆ -inf          │\n",
       "│ 3       ┆ bb_0001abb4      ┆ -inf            ┆ -5.485185       ┆ 0               ┆ -inf          │\n",
       "│ 4       ┆ bb_00022fe7      ┆ -inf            ┆ 3.4576          ┆ -3              ┆ -inf          │\n",
       "│ …       ┆ …                ┆ …               ┆ …               ┆ …               ┆ …             │\n",
       "│ 526106  ┆ goodsTraffic_re_ ┆ 52.408223       ┆ -0.95164        ┆ 0               ┆ 51.456583     │\n",
       "│         ┆ vkz.1953_2_0     ┆                 ┆                 ┆                 ┆               │\n",
       "│ 526107  ┆ goodsTraffic_re_ ┆ 68.45746        ┆ -11.602134      ┆ -5              ┆ 51.855326     │\n",
       "│         ┆ vkz.1953_4_0     ┆                 ┆                 ┆                 ┆               │\n",
       "│ 526108  ┆ goodsTraffic_re_ ┆ 50.189379       ┆ -18.519384      ┆ 0               ┆ 31.669995     │\n",
       "│         ┆ vkz.1953_4_3     ┆                 ┆                 ┆                 ┆               │\n",
       "│ 526109  ┆ goodsTraffic_re_ ┆ 85.779532       ┆ -175.171644     ┆ 0               ┆ -89.392112    │\n",
       "│         ┆ vkz.1953_5_0     ┆                 ┆                 ┆                 ┆               │\n",
       "│ 526110  ┆ goodsTraffic_re_ ┆ 53.705532       ┆ -6.449433       ┆ -5              ┆ 42.256099     │\n",
       "│         ┆ vkz.1953_5_1     ┆                 ┆                 ┆                 ┆               │\n",
       "└─────────┴──────────────────┴─────────────────┴─────────────────┴─────────────────┴───────────────┘"
      ]
     },
     "execution_count": 39,
     "metadata": {},
     "output_type": "execute_result"
    }
   ],
   "source": [
    "plan_utilities.with_columns([\n",
    "    (pl.col(\"activity_utility\") + pl.col(\"constant_utility\") +\n",
    "         pl.col(\"daily_monetary_constant\")).alias(\"total_utility\")\n",
    "]).sort('plan_id')"
   ]
  }
 ],
 "metadata": {
  "kernelspec": {
   "display_name": "Python 3 (ipykernel)",
   "language": "python",
   "name": "python3"
  },
  "language_info": {
   "codemirror_mode": {
    "name": "ipython",
    "version": 3
   },
   "file_extension": ".py",
   "mimetype": "text/x-python",
   "name": "python",
   "nbconvert_exporter": "python",
   "pygments_lexer": "ipython3",
   "version": "3.9.18"
  }
 },
 "nbformat": 4,
 "nbformat_minor": 5
}
