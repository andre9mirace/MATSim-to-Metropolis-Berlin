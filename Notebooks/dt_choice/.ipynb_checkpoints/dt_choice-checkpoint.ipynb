{
 "cells": [
  {
   "cell_type": "code",
   "execution_count": 1,
   "id": "a4732c92",
   "metadata": {},
   "outputs": [],
   "source": [
    "import numpy as np\n",
    "import os\n",
    "import pyarrow\n",
    "import sys\n",
    "import json\n",
    "import math\n",
    "import gzip\n",
    "\n",
    "import matplotlib as mpl\n",
    "import matplotlib.pyplot as plt\n",
    "import seaborn as sns\n",
    "import xml.etree.ElementTree as ET\n",
    "\n",
    "import pandas as pd\n",
    "import polars as pl\n"
   ]
  },
  {
   "cell_type": "markdown",
   "id": "6ef3244a",
   "metadata": {},
   "source": [
    "# Directories"
   ]
  },
  {
   "cell_type": "code",
   "execution_count": 2,
   "id": "a2a625ba",
   "metadata": {},
   "outputs": [],
   "source": [
    "sys.path.append(\"../../functions\")\n",
    "import Demand_functions as dmd\n",
    "import Supply_functions as sup"
   ]
  },
  {
   "cell_type": "code",
   "execution_count": 3,
   "id": "37b71f0e",
   "metadata": {},
   "outputs": [],
   "source": [
    "# General directories\n",
    "general_directory = '/Users/andre/Desktop/Cergy/'\n",
    "\n",
    "berlin_directory = 'MATSim/matsim-berlin/input/v6.4/'\n",
    "\n",
    "run_dir = \"Python_Scripts/runs/\"\n"
   ]
  },
  {
   "cell_type": "code",
   "execution_count": 4,
   "id": "04afd6f6",
   "metadata": {},
   "outputs": [],
   "source": [
    "# metro\n",
    "METRO_INPUT = (os.path.join(general_directory, run_dir, \"dt_choice/metro_inputs/\"))\n",
    "METRO_OUTPUT = (os.path.join(general_directory, run_dir, \"dt_choice/metro_outputs/\"))\n",
    "\n",
    "# Matsim\n",
    "NETWORK_PATH = (os.path.join(general_directory, berlin_directory, \"berlin-v6.4-network.xml.gz\"))\n",
    "\n",
    "VEHICLE_PATH = (os.path.join(general_directory, berlin_directory, \"berlin-v6.4-vehicleTypes.xml\"))\n",
    "\n",
    "# Events path is the folder where we exported the output_plans' content (persons, plans, activities, legs, routes)\n",
    "# If you do not have these files, run 'Read and write MATSim's plans' script\n",
    "EVENTS_PATH = ((os.path.join(general_directory, berlin_directory, \"parquet/\")))\n",
    "\n",
    "ACTIVITY_TYPES_PATH = ((os.path.join(general_directory, berlin_directory, \"berlin-v6.4.output_config_reduced.xml\")))\n",
    "\n",
    "# Path to MATSim's experienced plans.\n",
    "PLAN_PATH = \"/Users/andre/Desktop/Cergy/Python_Scripts/runs/fixed_10pct/matsim/\"\n",
    "\n",
    "DEPARTURES_PATH = (os.path.join(general_directory, berlin_directory, \"berlin-v6.4.10pct.plans-initial.xml.gz\"))\n",
    "\n",
    "# Path to the directory where the Metropolis output is stored.\n",
    "#MATSIM_TRIPS = (os.path.join(general_directory, run_dir, \"avg_10runs/metro_outputs/\"))\n"
   ]
  },
  {
   "cell_type": "code",
   "execution_count": 5,
   "id": "d96f6f80",
   "metadata": {},
   "outputs": [],
   "source": [
    "# Parameters\n",
    "SEED = 13081996\n"
   ]
  },
  {
   "cell_type": "markdown",
   "id": "2b1a8344",
   "metadata": {},
   "source": [
    "# Read Plans"
   ]
  },
  {
   "cell_type": "code",
   "execution_count": 6,
   "id": "3c71dba6",
   "metadata": {},
   "outputs": [],
   "source": [
    "def read_matsim_plans():\n",
    "    persons = pl.read_parquet(os.path.join(PLAN_PATH, 'MATSim_persons.parquet'))\n",
    "    plans = pl.read_parquet(os.path.join(PLAN_PATH, 'MATSim_plans.parquet'))\n",
    "    activities = pl.read_parquet(os.path.join(PLAN_PATH, 'MATSim_activities.parquet'))\n",
    "    legs = pl.read_parquet(os.path.join(PLAN_PATH, 'MATSim_legs.parquet'))\n",
    "    routes = pl.read_parquet(os.path.join(PLAN_PATH, 'MATSim_routes.parquet'))\n",
    "\n",
    "    return persons, plans, activities, legs, routes"
   ]
  },
  {
   "cell_type": "code",
   "execution_count": 7,
   "id": "ae40311a",
   "metadata": {},
   "outputs": [
    {
     "name": "stdout",
     "output_type": "stream",
     "text": [
      "Reading MATSim experienced plans\n"
     ]
    }
   ],
   "source": [
    "print(\"Reading MATSim experienced plans\")\n",
    "persons, plans, activities, legs, routes = read_matsim_plans()\n",
    "\n",
    "print(\"Reading MATSim detailed trips\")\n",
    "matsim_trips = pl.read_parquet(os.path.join(EVENTS_PATH, 'MATSim_trips.parquet'))\n",
    "\n",
    "print(\"Reading MATSim's activity parameters\")\n",
    "activity_types = dmd.read_activity_parameters(ACTIVITY_TYPES_PATH)"
   ]
  },
  {
   "cell_type": "markdown",
   "id": "2a6be488",
   "metadata": {},
   "source": [
    "# Add Travel Cost and Activity Parameters"
   ]
  },
  {
   "cell_type": "code",
   "execution_count": 8,
   "id": "72e75a18",
   "metadata": {},
   "outputs": [],
   "source": [
    "def gen_trips_with_activities(matsim_trips, activity_types, activities):\n",
    "    \n",
    "    # Index trips to join trip i with activity j+1\n",
    "    matsim_trips = matsim_trips.with_columns([pl.arange(0, pl.len()).over(\"plan_id\").alias(\"activity_index\")])\n",
    "    \n",
    "    activities_clean = (\n",
    "    activities\n",
    "    .join(activity_types, on='type')\n",
    "    .join(plans, left_on='plan_id', right_on='id')\n",
    "    .with_columns([\n",
    "        pl.arange(-1, pl.len()-1).over(\"plan_id\").alias(\"activity_index\"), # Index N-1 actvities to join w/trips\n",
    "        dmd.hhmmss_str_to_seconds_expr(('typical_duration')),\n",
    "        dmd.hhmmss_str_to_seconds_expr(('opening_time')),\n",
    "        dmd.hhmmss_str_to_seconds_expr(('closing_time'))\n",
    "                  ])\n",
    "    .select(['person_id','plan_id', 'activity_index', 'id', 'type', 'typical_duration_secs',\n",
    "             'opening_time_secs', 'closing_time_secs', 'score'])\n",
    "    )\n",
    "    \n",
    "    trips_with_activities = (\n",
    "    matsim_trips\n",
    "    .join(activities_clean, on=['plan_id', 'activity_index'], how='left')\n",
    "    .rename({'type':'following_activity_type',\n",
    "             'typical_duration_secs': 'typical_duration', \n",
    "             'opening_time_secs': 'opening_time',\n",
    "             'closing_time_secs': 'closing_time'})\n",
    "    )\n",
    "    \n",
    "    trips_with_activities = dmd.mode_utility_params(trips_with_activities)\n",
    "    \n",
    "    return trips_with_activities"
   ]
  },
  {
   "cell_type": "code",
   "execution_count": 10,
   "id": "e3682227",
   "metadata": {},
   "outputs": [],
   "source": [
    "trips_with_activities = gen_trips_with_activities(matsim_trips, activity_types, activities)"
   ]
  },
  {
   "cell_type": "markdown",
   "id": "d10103f2",
   "metadata": {},
   "source": [
    "# Generate Metro Input"
   ]
  },
  {
   "cell_type": "code",
   "execution_count": 11,
   "id": "53669631",
   "metadata": {},
   "outputs": [],
   "source": [
    "def generate_trips_dt(matsim_trips, edges, vehicles):\n",
    "    \n",
    "    # link (matsim) to edge (metro) dictionary\n",
    "    matsim_to_metro_links = dict(zip(edges[\"MATSim_id\"].cast(pl.Utf8), edges[\"edge_id\"]))\n",
    "        \n",
    "    # class.vehicle\n",
    "    metro_trips = (\n",
    "        matsim_trips\n",
    "        .join(vehicles.select([\n",
    "            pl.col(\"vehicle_type\").alias(\"mode\"),\n",
    "            pl.col(\"vehicle_id\").alias(\"class.vehicle\")]),on=\"mode\", how=\"left\")\n",
    "        .with_columns([\n",
    "\n",
    "            # class.type\n",
    "            pl.when(pl.col(\"mode\").is_in(['truck', 'car', 'freight', 'ride'])\n",
    "                   )\n",
    "            .then(pl.lit(\"Road\"))\n",
    "            .otherwise(pl.lit(\"Virtual\"))\n",
    "            .alias(\"class.type\")])\n",
    "    )\n",
    "    \n",
    "    \n",
    "    metro_trips = (\n",
    "        \n",
    "    metro_trips\n",
    "    .with_columns([\n",
    "                \n",
    "        # class.routes\n",
    "        pl.when(pl.col(\"class.type\") == \"Road\")\n",
    "          .then(pl.col(\"route\").str.split(\" \") # split route string\n",
    "\n",
    "                # map in the dictionary\n",
    "                .map_elements(lambda link_list: None if link_list is None\n",
    "                              else [matsim_to_metro_links.get(link) for link in link_list[1:]],\n",
    "                              return_dtype=pl.List(pl.Int64))\n",
    "                .alias(\"class.route\"))\n",
    "          .otherwise(None),\n",
    "\n",
    "\n",
    "        # class.travel_time\n",
    "        pl.when(pl.col(\"class.type\") == \"Road\")\n",
    "          .then(None)\n",
    "          .otherwise(pl.col(\"duration\"))\n",
    "        .alias(\"class.travel_time\")\n",
    "        ])\n",
    "        .drop(['person_id' , 'route', 'duration', 'end_time', 'mode', 'start_time'])\n",
    "    )\n",
    "    \n",
    "    # Join with edges for start_link's from and to nodes\n",
    "    metro_trips = (\n",
    "        metro_trips\n",
    "        .join(\n",
    "            edges.select([\n",
    "                pl.col(\"MATSim_id\").alias(\"start_link\"),\n",
    "                pl.col(\"target\").alias(\"class.origin\")]), # class.origin\n",
    "            on=\"start_link\",how=\"left\")\n",
    "        .drop(pl.col('start_link'))\n",
    "        .join(\n",
    "            edges.select([\n",
    "                pl.col(\"MATSim_id\").alias(\"end_link\"),\n",
    "                pl.col(\"target\").alias(\"class.destination\")]), # class.destination\n",
    "            on=\"end_link\", how=\"left\")\n",
    "        .drop(pl.col('end_link'))\n",
    "    )\n",
    "    \n",
    "    \n",
    "    metro_trips = (\n",
    "        metro_trips\n",
    "        .with_columns([\n",
    "            pl.lit(1).alias(\"alt_id\"),\n",
    "            pl.lit(\"Discrete\").alias(\"dt_choice.type\"), ### CHANGED IT FROM THE ORIGINAL FUNCTION\n",
    "            ((pl.col(\"plan_id\"))).cast(pl.Int64).alias(\"agent_id\")]) # agent_id = plan_id\n",
    "    )\n",
    "    \n",
    "    # Prep next trip for additional stopping times\n",
    "    metro_trips = (\n",
    "        metro_trips\n",
    "        .with_columns([\n",
    "            # Get class.type of next trip within each agent\n",
    "            pl.col(\"class.type\")\n",
    "            .shift(-1)\n",
    "            .over(\"agent_id\")\n",
    "            .alias(\"next_class_type\")\n",
    "        ])\n",
    "    )\n",
    "    \n",
    "        # Prep next trip for additional stopping times\n",
    "    metro_trips = (\n",
    "        metro_trips\n",
    "        .with_columns([\n",
    "        # Add 2 to stopping_time if the next trip is of type \"Road\"\n",
    "            pl.when(\n",
    "                pl.col(\"stopping_time\").is_not_null() &\n",
    "                (pl.col(\"next_class_type\") == \"Road\")\n",
    "            )\n",
    "            .then(pl.col(\"stopping_time\") + 2)\n",
    "            .otherwise(pl.col(\"stopping_time\"))\n",
    "            .fill_null(strategy='zero')\n",
    "            .alias(\"stopping_time\"),\n",
    "            \n",
    "            # Fill nulls for typical duration set to 0\n",
    "            #pl.col('typical_duration').fill_null(0),\n",
    "            \n",
    "            # alpha = -beta_trav + beta_perf * t_typ/t_dur \n",
    "            (pl.when(pl.col('stopping_time') == 0)\n",
    "             .then(0.0)\n",
    "             .otherwise(pl.when(pl.col('class.vehicle') == 2)\n",
    "                        .then(6.88 / 3600 + (6.88 / 3600) * pl.col('typical_duration') / pl.col('stopping_time'))\n",
    "                        .otherwise((6.88 / 3600) * pl.col('typical_duration') / pl.col('stopping_time'))\n",
    "                       ))\n",
    "            .fill_null(strategy='zero')\n",
    "            .alias('alpha'),\n",
    "            \n",
    "            pl.col('C').alias('constant_utility'),\n",
    "            \n",
    "            pl.col('opening_time').alias('tstar_inf'),\n",
    "            (pl.col('closing_time')-pl.col('stopping_time')).fill_null(pl.col('opening_time')).alias('tstar_sup')\n",
    "            \n",
    "        ])\n",
    "        #.with_columns([\n",
    "        #    pl.when(pl.col('stopping_time').is_in([0,2]))\n",
    "        #    .then(0.0)\n",
    "        #    .when(pl.col('stopping_time') >= pl.col('typical_duration')*np.exp(-1))\n",
    "        #    .then(\n",
    "        #        6.88 / 3600 * pl.col('typical_duration') *\n",
    "        #        (1 + (pl.col('stopping_time') / pl.col('typical_duration')).log()))\n",
    "        #    .otherwise(6.88 / 3600 *(pl.col('stopping_time')*np.e-pl.col('typical_duration')))\n",
    "        #    .fill_null(0).alias('activity_utility')])\n",
    "        \n",
    "        # Select columns\n",
    "        .select(['agent_id', 'alt_id', 'trip_id',\n",
    "                 'class.type', 'class.origin', 'class.destination', 'class.vehicle', 'class.route', \n",
    "                 'class.travel_time', 'stopping_time', 'dt_choice.type',\n",
    "                 'typical_duration', 'opening_time', 'closing_time', 'alpha', 'constant_utility', \n",
    "                 'daily_monetary_constant', \n",
    "                 'tstar_inf', 'tstar_sup' #, 'activity_utility'  # SIX NEW VARIABLES TO CONSIDER\n",
    "                ])\n",
    "    )\n",
    "    \n",
    "\n",
    "    return metro_trips"
   ]
  },
  {
   "cell_type": "code",
   "execution_count": 12,
   "id": "fb358402",
   "metadata": {},
   "outputs": [
    {
     "name": "stdout",
     "output_type": "stream",
     "text": [
      "More than two parallel edges\n",
      "Maximum of 3 parallel edges\n",
      "Handling 10 node pairs with more than 2 parallel edges...\n",
      "Found 1832 parallel edges\n",
      "dataframe types conversion failed for column seats\n",
      "dataframe types conversion failed for column standingRoomInPersons\n"
     ]
    }
   ],
   "source": [
    "# Get network and vehicles\n",
    "links = sup.read_network(NETWORK_PATH)\n",
    "vehicle_types = sup.vehicle_reader(VEHICLE_PATH)\n",
    "\n",
    "# Metro conversion for generating agents\n",
    "edges = sup.make_edges_df(links)\n",
    "vehicles = sup.make_vehicles_df(vehicle_types)"
   ]
  },
  {
   "cell_type": "code",
   "execution_count": 13,
   "id": "df718ee6",
   "metadata": {},
   "outputs": [],
   "source": [
    "# Generate trips for dep time choice\n",
    "metro_trips_with_activities = generate_trips_dt(trips_with_activities, edges, vehicles)"
   ]
  },
  {
   "cell_type": "markdown",
   "id": "36451223",
   "metadata": {},
   "source": [
    "### Import Activity Utility and Earliest departures"
   ]
  },
  {
   "cell_type": "code",
   "execution_count": 14,
   "id": "151655e4",
   "metadata": {},
   "outputs": [],
   "source": [
    "# activity utility is obtained with the \n",
    "activity_utility = pl.read_parquet(os.path.join(EVENTS_PATH, 'plan_utilities.parquet'))\n",
    "#initial_departures = dmd.get_initial_dep_times(DEPARTURES_PATH) # 5 minutes\n",
    "initial_departures = pl.read_parquet(os.path.join(EVENTS_PATH, 'initial_departures.parquet'))\n",
    "\n",
    "initial_departures = initial_departures.with_columns([dmd.hhmmss_str_to_seconds_expr(('dep_time'))])"
   ]
  },
  {
   "cell_type": "code",
   "execution_count": 15,
   "id": "fdc300ef",
   "metadata": {},
   "outputs": [],
   "source": [
    "# dt_choice offset\n",
    "RNG = np.random.default_rng(SEED)\n",
    "INTERVAL = 300\n"
   ]
  },
  {
   "cell_type": "code",
   "execution_count": 16,
   "id": "aff8e75a",
   "metadata": {},
   "outputs": [],
   "source": [
    "def format_demand_dt_choice(trips, activity_utility, initial_departures):\n",
    "    \n",
    "    # default interval value = 300 representing 5 minute separations for departure time choices \n",
    "    \n",
    "    \n",
    "    # format trips\n",
    "    # Eliminate trips departing after 48 hours\n",
    "    trips = trips.filter(\n",
    "        #pl.col(\"dt_choice.departure_time\") <= 108000,\n",
    "                         ~((pl.col(\"class.type\") == \"Road\") &\n",
    "                           (pl.col(\"class.origin\").is_null()|pl.col(\"class.destination\").is_null())\n",
    "                          ))\n",
    "            \n",
    "    # format agents\n",
    "    agents = trips.select(\"agent_id\").unique().with_columns([\n",
    "        #pl.lit(\"Deterministic\").alias(\"alt_choice.type\"),\n",
    "        #pl.lit(0.0).alias(\"alt_choice.u\"),\n",
    "        #pl.lit(None).alias(\"alt_choice.mu\")\n",
    "    ]).sort(\"agent_id\")\n",
    "\n",
    "    # format alts\n",
    "    alts = (\n",
    "        trips\n",
    "        #.sort(\"dt_choice.departure_time\")\n",
    "        .unique(subset=[\"agent_id\"], keep=\"first\")\n",
    "        .join(activity_utility, left_on='agent_id', right_on='plan_id', how='left')\n",
    "        .join(initial_departures, left_on='agent_id', right_on='plan_id', how='left')\n",
    "    )\n",
    "    \n",
    "    N = alts.height\n",
    "    \n",
    "    alts = (\n",
    "    alts\n",
    "        .select([\n",
    "            \"agent_id\",\n",
    "            \"alt_id\",\n",
    "            pl.lit(None).alias(\"origin_delay\"),\n",
    "            \"dt_choice.type\",\n",
    "            #\"dt_choice.departure_time\",\n",
    "            \n",
    "            # dt_choice.period\n",
    "            # We take MATSim's initial dt and create a ±30 min interval around it, emulating MS\n",
    "            pl.concat_list(\n",
    "                [pl.max_horizontal(pl.col(\"dep_time_secs\") - 1800, 0), # t0 = max(0, dt-30min)\n",
    "                 pl.min_horizontal(pl.col(\"dep_time_secs\") + 1800, 86400)] # t1 = min(24h, dt+30min)\n",
    "            ).alias(\"dt_choice.period\"),\n",
    "            \n",
    "            \n",
    "            # CONSTANT UTILITY (to be revisited)\n",
    "            (pl.col(\"daily_monetary_constant\") + pl.col(\"activity_utility\")).alias('constant_utility'),\n",
    "            \n",
    "            \n",
    "            pl.lit(300).alias(\"dt_choice.interval\"), # each dt option is spread by 5min\n",
    "            \n",
    "            pl.lit('Deterministic').alias(\"dt_choice.model.type\"),\n",
    "            pl.lit(RNG.uniform(0, 1, size=N)).alias(\"dt_choice.model.u\"),\n",
    "            pl.lit(RNG.uniform(-INTERVAL / 2, INTERVAL / 2, size=N)).alias(\"dt_choice.offset\"),\n",
    "                        \n",
    "            # alpha = -beta_trav + beta_perf * t_typ/t_dur \n",
    "            #(pl.when(pl.col('stopping_time') == 0)\n",
    "            #.then(0.0)\n",
    "            #.otherwise(pl.when(pl.col('class.vehicle') == 2)\n",
    "            #            .then(6.88 / 3600 + (6.88 / 3600) * pl.col('typical_duration') / pl.col('stopping_time'))\n",
    "            #            .otherwise((6.88 / 3600) * pl.col('typical_duration') / pl.col('stopping_time'))\n",
    "            #           ))\n",
    "            #.fill_null(strategy='zero').alias('alpha'),\n",
    "            \n",
    "            \n",
    "            # ORIGIN UTILITY\n",
    "            #pl.when(pl.col('opening_time').is_null() | pl.col('stopping_time').is_null())\n",
    "            #.then(pl.lit(None))\n",
    "            #.otherwise(pl.lit('Linear')).alias(\"origin_utility.type\"),\n",
    "            #pl.col('closing_time').alias(\"origin_utility.tstar\"), # closing time for origin utility\n",
    "            #pl.lit(0.0).alias(\"origin_utility.beta\"),\n",
    "            \n",
    "            #pl.when(pl.col('stopping_time')==0)\n",
    "            #.then(pl.lit(0.0))\n",
    "            #.otherwise((6.88/3600)*pl.col('typical_duration')/pl.col('stopping_time')) # beta_perf * t_typ/t_dur\n",
    "            #.fill_null(strategy='zero').alias(\"origin_utility.gamma\"),\n",
    "                        \n",
    "            # DESTINATION UTILITY\n",
    "            #pl.when(pl.col('opening_time').is_null() | pl.col('stopping_time').is_null())\n",
    "            #.then(pl.lit(None))\n",
    "            #.otherwise(pl.lit('Linear')).alias(\"destination_utility.type\"), \n",
    "            #pl.col('opening_time').alias(\"destination_utility.tstar\"),\n",
    "            \n",
    "            #pl.when(pl.col('stopping_time')==0)\n",
    "            #.then(pl.lit(0.0))\n",
    "            #.otherwise((6.88/3600)*pl.col('typical_duration')/pl.col('stopping_time')) # beta_perf * t_typ/t_dur\n",
    "            #.fill_null(strategy='zero').alias(\"destination_utility.beta\"),\n",
    "            #pl.lit(0.0).alias(\"destination_utility.gamma\"),\n",
    "\n",
    "            pl.lit(True).alias(\"pre_compute_route\")\n",
    "        ])\n",
    "        .sort(\"agent_id\")\n",
    "    )\n",
    "\n",
    "    \n",
    "    trips = (\n",
    "        trips\n",
    "        .with_columns([\n",
    "            pl.lit(None).alias('class.route'), # ENDOGENOUS ROUTING\n",
    "            \n",
    "            pl.when(pl.col('opening_time').is_null() | pl.col('stopping_time').is_null())\n",
    "            .then(pl.lit(None))\n",
    "            .otherwise(pl.lit('Linear')).alias('schedule_utility.type'), # Linear AlphaBetaGamma as utility function\n",
    "            \n",
    "            \n",
    "            ((pl.col('tstar_inf')+pl.col('tstar_sup'))/2).alias('schedule_utility.tstar'),\n",
    "            \n",
    "            pl.when(pl.col('stopping_time')==0)\n",
    "            .then(pl.lit(0.0))\n",
    "            .otherwise((6.88/3600)*pl.col('typical_duration')/pl.col('stopping_time'))\n",
    "            .fill_null(strategy='zero')\n",
    "            .alias('schedule_utility.beta'),\n",
    "            \n",
    "            pl.when(pl.col('stopping_time')==0)\n",
    "            .then(pl.lit(0.0))\n",
    "            .otherwise((6.88/3600)*pl.col('typical_duration')/pl.col('stopping_time'))\n",
    "            .fill_null(strategy='zero').alias('schedule_utility.gamma'),\n",
    "            \n",
    "            pl.when(pl.col('tstar_inf') > pl.col('tstar_sup'))\n",
    "            .then(pl.lit(0))\n",
    "            .otherwise(pl.col('tstar_sup')-pl.col('tstar_inf'))\n",
    "            .alias('schedule_utility.delta')\n",
    "            \n",
    "            \n",
    "            \n",
    "        ])\n",
    "        .drop(['dt_choice.type', #, \"dt_choice.departure_time\"\n",
    "               'typical_duration', 'closing_time', 'opening_time', 'daily_monetary_constant',\n",
    "               'tstar_sup', 'tstar_inf'])    \n",
    "    )\n",
    "\n",
    "    return agents, alts, trips"
   ]
  },
  {
   "cell_type": "code",
   "execution_count": 17,
   "id": "d62ca4ac",
   "metadata": {},
   "outputs": [],
   "source": [
    "demand = format_demand_dt_choice(metro_trips_with_activities, activity_utility, initial_departures)"
   ]
  },
  {
   "cell_type": "code",
   "execution_count": 18,
   "id": "94d98721",
   "metadata": {},
   "outputs": [],
   "source": [
    "agents_df = demand[0]\n",
    "alts_df = demand[1]\n",
    "trips_df = demand[2]"
   ]
  },
  {
   "cell_type": "markdown",
   "id": "d8b34539",
   "metadata": {},
   "source": [
    "# Write Metropolis Inputs"
   ]
  },
  {
   "cell_type": "code",
   "execution_count": 19,
   "id": "b26aec06",
   "metadata": {},
   "outputs": [
    {
     "name": "stdout",
     "output_type": "stream",
     "text": [
      "Writing Metropolis input to /Users/andre/Desktop/Cergy/Python_Scripts/runs/dt_choice/metro_inputs/\n",
      "Writing Metropolis agents\n",
      "Writing Metropolis alternatives\n",
      "Writing Metropolis trips\n",
      "Input files have been successfully written\n"
     ]
    }
   ],
   "source": [
    "# Writing files\n",
    "print(\"Writing Metropolis input to\", METRO_INPUT)\n",
    "\n",
    "print(\"Writing Metropolis agents\")\n",
    "agents_df.write_parquet(METRO_INPUT + \"agents.parquet\")\n",
    "\n",
    "print(\"Writing Metropolis alternatives\")\n",
    "alts_df.write_parquet(METRO_INPUT + \"alts.parquet\")\n",
    "\n",
    "print(\"Writing Metropolis trips\")\n",
    "trips_df.write_parquet(METRO_INPUT + \"trips.parquet\")\n",
    "print(\"Input files have been successfully written\")"
   ]
  },
  {
   "cell_type": "code",
   "execution_count": 20,
   "id": "4cf64d40",
   "metadata": {},
   "outputs": [
    {
     "name": "stdout",
     "output_type": "stream",
     "text": [
      "Writing Metropolis supply in  /Users/andre/Desktop/Cergy/Python_Scripts/runs/dt_choice/metro_inputs/\n"
     ]
    }
   ],
   "source": [
    "# supply\n",
    "supply = sup.format_supply(edges, vehicles)\n",
    "edges_df = supply[0]\n",
    "vehicles_df = supply[1]\n",
    "\n",
    "print(\"Writing Metropolis supply in \", METRO_INPUT)\n",
    "edges_df.write_parquet(METRO_INPUT + \"edges.parquet\")\n",
    "vehicles_df.write_parquet(METRO_INPUT + \"vehicles.parquet\")"
   ]
  },
  {
   "cell_type": "markdown",
   "id": "06cc4862",
   "metadata": {},
   "source": [
    "## Write Parameters"
   ]
  },
  {
   "cell_type": "code",
   "execution_count": 21,
   "id": "914fe9b6",
   "metadata": {},
   "outputs": [],
   "source": [
    "# General directories\n",
    "server_directory = '/home/andre/Cergy/'\n",
    "\n",
    "run_dir = \"Python_Scripts/runs/\"\n",
    "\n",
    "METRO_INPUT_SERVER = (os.path.join(server_directory, run_dir, \"dt_choice/metro_inputs/\"))\n",
    "METRO_OUTPUT_SERVER = (os.path.join(server_directory, run_dir, \"dt_choice/metro_outputs/\"))\n"
   ]
  },
  {
   "cell_type": "code",
   "execution_count": 22,
   "id": "c9358035",
   "metadata": {},
   "outputs": [],
   "source": [
    "# Parameters to use for the simulation.\n",
    "PARAMETERS ={\n",
    "    \"input_files\": {\n",
    "      \"agents\": (os.path.join(METRO_INPUT_SERVER, \"agents.parquet\")) ,\n",
    "      \"alternatives\": (os.path.join(METRO_INPUT_SERVER, \"alts.parquet\")),\n",
    "      \"trips\": (os.path.join(METRO_INPUT_SERVER, \"trips.parquet\")),\n",
    "      \"edges\": (os.path.join(METRO_INPUT_SERVER, \"edges.parquet\")),\n",
    "      \"vehicle_types\": (os.path.join(METRO_INPUT_SERVER, \"vehicles.parquet\"))\n",
    "                },\n",
    "    \"output_directory\": METRO_OUTPUT_SERVER,\n",
    "    \"period\": [0.0, 86400.0],\n",
    "    \"road_network\": {\n",
    "        \"recording_interval\": 950.0,\n",
    "        \"approximation_bound\": 1.0,\n",
    "        \"spillback\": True,\n",
    "        \"backward_wave_speed\": 15.0,\n",
    "        \"max_pending_duration\": 30.0,\n",
    "        \"constrain_inflow\": True,\n",
    "        \"algorithm_type\": \"Best\"\n",
    "    },\n",
    "    \"learning_model\": {\n",
    "      \"type\": \"Linear\"\n",
    "    },\n",
    "    \"init_iteration_counter\": 1,\n",
    "    \"max_iterations\": 5,\n",
    "    \"update_ratio\": 1.0,\n",
    "    \"random_seed\": 13081996,\n",
    "    \"nb_threads\": 16,\n",
    "    \"saving_format\": \"Parquet\",\n",
    "    \"only_compute_decisions\": False\n",
    "}"
   ]
  },
  {
   "cell_type": "code",
   "execution_count": 23,
   "id": "2253098a",
   "metadata": {},
   "outputs": [
    {
     "name": "stdout",
     "output_type": "stream",
     "text": [
      "Writing Metropolis parameters\n"
     ]
    }
   ],
   "source": [
    "# Parameters\n",
    "print(\"Writing Metropolis parameters\")\n",
    "with open(os.path.join(METRO_INPUT, \"parameters.json\"), \"w\") as f:\n",
    "    f.write(json.dumps(PARAMETERS))"
   ]
  },
  {
   "cell_type": "markdown",
   "id": "0dc43840",
   "metadata": {},
   "source": [
    "## Debugging"
   ]
  }
 ],
 "metadata": {
  "kernelspec": {
   "display_name": "Python 3 (ipykernel)",
   "language": "python",
   "name": "python3"
  },
  "language_info": {
   "codemirror_mode": {
    "name": "ipython",
    "version": 3
   },
   "file_extension": ".py",
   "mimetype": "text/x-python",
   "name": "python",
   "nbconvert_exporter": "python",
   "pygments_lexer": "ipython3",
   "version": "3.9.18"
  }
 },
 "nbformat": 4,
 "nbformat_minor": 5
}
