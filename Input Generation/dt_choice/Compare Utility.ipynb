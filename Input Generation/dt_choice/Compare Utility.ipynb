{
 "cells": [
  {
   "cell_type": "code",
   "execution_count": null,
   "id": "a4732c92",
   "metadata": {},
   "outputs": [],
   "source": [
    "import numpy as np\n",
    "import os\n",
    "import pyarrow\n",
    "import sys\n",
    "import json\n",
    "import math\n",
    "import mpl_utils\n",
    "\n",
    "import matplotlib as mpl\n",
    "import matplotlib.pyplot as plt\n",
    "import seaborn as sns\n",
    "import xml.etree.ElementTree as ET\n",
    "\n",
    "import pandas as pd\n",
    "import polars as pl\n"
   ]
  },
  {
   "cell_type": "markdown",
   "id": "6ef3244a",
   "metadata": {},
   "source": [
    "# Directories"
   ]
  },
  {
   "cell_type": "code",
   "execution_count": null,
   "id": "a2a625ba",
   "metadata": {},
   "outputs": [],
   "source": [
    "sys.path.append(\"../../functions\")\n",
    "import Demand_functions as dmd"
   ]
  },
  {
   "cell_type": "code",
   "execution_count": null,
   "id": "37b71f0e",
   "metadata": {},
   "outputs": [],
   "source": [
    "# General directories\n",
    "general_directory = '/Users/andre/Desktop/Cergy/'\n",
    "\n",
    "berlin_directory = 'MATSim/matsim-berlin/input/v6.4/'\n",
    "\n",
    "run_dir = \"Python_Scripts/runs/\""
   ]
  },
  {
   "cell_type": "code",
   "execution_count": null,
   "id": "04afd6f6",
   "metadata": {},
   "outputs": [],
   "source": [
    "# metro\n",
    "METRO_INPUT = (os.path.join(general_directory, run_dir, \"pt_10pct/metro_inputs/\"))\n",
    "\n",
    "METRO_OUTPUT = (os.path.join(general_directory, run_dir, \"pt_10pct/metro_outputs/\"))\n",
    "\n",
    "EVENTS_PATH = ((os.path.join(general_directory, berlin_directory, \"parquet/\")))\n",
    "\n",
    "# Path to Activity parameters\n",
    "ACTIVITY_TYPES_PATH = ((os.path.join(general_directory, berlin_directory, \"berlin-v6.4.output_config_reduced.xml\")))\n",
    "\n",
    "# Path to the directory where the Metropolis output is stored.\n",
    "#MATSIM_TRIPS = (os.path.join(general_directory, run_dir, \"avg_10runs/metro_outputs/\"))\n"
   ]
  },
  {
   "cell_type": "markdown",
   "id": "2b1a8344",
   "metadata": {},
   "source": [
    "# Read Plans"
   ]
  },
  {
   "cell_type": "code",
   "execution_count": null,
   "id": "3c71dba6",
   "metadata": {},
   "outputs": [],
   "source": [
    "def read_matsim_plans():\n",
    "    persons = pl.read_parquet(os.path.join(EVENTS_PATH, 'MATSim_persons.parquet'))\n",
    "    plans = pl.read_parquet(os.path.join(EVENTS_PATH, 'MATSim_plans.parquet'))\n",
    "    activities = pl.read_parquet(os.path.join(EVENTS_PATH, 'MATSim_activities.parquet'))\n",
    "    legs = pl.read_parquet(os.path.join(EVENTS_PATH, 'MATSim_legs.parquet'))\n",
    "    routes = pl.read_parquet(os.path.join(EVENTS_PATH, 'MATSim_routes.parquet'))\n",
    "\n",
    "    return persons, plans, activities, legs, routes"
   ]
  },
  {
   "cell_type": "code",
   "execution_count": null,
   "id": "84629db7",
   "metadata": {},
   "outputs": [],
   "source": [
    "def read_metropolis_results():\n",
    "    agents = pl.read_parquet(os.path.join(METRO_OUTPUT, \"agent_results.parquet\"))\n",
    "    trips = pl.read_parquet(os.path.join(METRO_OUTPUT, \"trip_results.parquet\"))\n",
    "    routes = pl.read_parquet(os.path.join(METRO_OUTPUT, \"route_results.parquet\"))\n",
    "    return agents, trips, routes"
   ]
  },
  {
   "cell_type": "code",
   "execution_count": null,
   "id": "78b35bfb",
   "metadata": {},
   "outputs": [],
   "source": [
    "trip_inputs = pl.read_parquet(os.path.join(METRO_INPUT, \"trips.parquet\"))"
   ]
  },
  {
   "cell_type": "code",
   "execution_count": null,
   "id": "ae40311a",
   "metadata": {},
   "outputs": [],
   "source": [
    "print(\"Reading MATSim experienced plans\")\n",
    "persons, plans, activities, legs, routes = read_matsim_plans()\n",
    "\n",
    "print(\"Reading METROPOLIS results\")\n",
    "mp_agents, mp_trips, mp_routes = read_metropolis_results()\n",
    "\n",
    "print(\"Reading MATSim detailed trips\")\n",
    "matsim_trips = pl.read_parquet(os.path.join(EVENTS_PATH, 'MATSim_trips.parquet'))\n",
    "\n",
    "print(\"Reading MATSim activity parameters\")\n",
    "activity_types = dmd.read_activity_parameters(ACTIVITY_TYPES_PATH)"
   ]
  },
  {
   "cell_type": "markdown",
   "id": "87cfb631",
   "metadata": {},
   "source": [
    "# Travel Cost"
   ]
  },
  {
   "cell_type": "code",
   "execution_count": null,
   "id": "38353d64",
   "metadata": {},
   "outputs": [],
   "source": [
    "matsim_trips = (\n",
    "    matsim_trips\n",
    "    .with_columns([((pl.col(\"plan_id\")*100).cast(pl.Utf8)+ pl.col(\"tour_id\").cast(pl.Utf8))\n",
    "                                          .cast(pl.Int64).alias(\"agent_id\")]) # agent_id ={plan_id*100;tour_id}\n",
    "    .join(trip_inputs.select(['agent_id', 'alt_id', 'trip_id', 'stopping_time']), on=['agent_id', 'trip_id'])\n",
    "    .drop(['start_time_secs', 'is_tour_anchor', 'end_time_secs', 'type_or_mode', \n",
    "                                  'element_type', 'seq_index_right'])\n",
    "    .join(plans.select(['person_id', 'score']), on='person_id')\n",
    ")\n",
    "\n",
    "mp_trips = (\n",
    "    mp_trips\n",
    "    .select(['agent_id', 'trip_id', 'trip_index', 'departure_time', 'arrival_time', 'road_time', \n",
    "                            'in_bottleneck_time', 'route_free_flow_travel_time', 'length', 'nb_edges'])\n",
    "    .join(matsim_trips.select(['agent_id', 'trip_id', 'mode', 'plan_id']), \n",
    "                           on=['agent_id', 'trip_id']))\n",
    "\n",
    "mp_trips = dmd.mode_utility_params(mp_trips)\n",
    "\n",
    " # only available for metropolis output\n",
    "mp_trips = mp_trips.with_columns((pl.col('C')+pl.col('length')*pl.col('gamma_dist')).alias('constant_utility'))"
   ]
  },
  {
   "cell_type": "markdown",
   "id": "e57b411d",
   "metadata": {},
   "source": [
    "# Activity Utility"
   ]
  },
  {
   "cell_type": "markdown",
   "id": "50fdfded",
   "metadata": {},
   "source": [
    "## Activity list data frame"
   ]
  },
  {
   "cell_type": "code",
   "execution_count": null,
   "id": "d5a071b8",
   "metadata": {},
   "outputs": [],
   "source": [
    "def activities_and_trips(trips, activity_types, activities):\n",
    "    \n",
    "    activity_types= activity_types.with_columns(pl.when(pl.col('typical_duration')=='undefined')\n",
    "                                            .then(pl.lit(None).alias('typical_duration'))\n",
    "                                            .otherwise(pl.col('typical_duration')))\n",
    "    activities_clean = (\n",
    "    activities\n",
    "    .join(activity_types, on='type')\n",
    "    .join(plans, left_on='plan_id', right_on='id')\n",
    "    .with_columns([\n",
    "        pl.arange(0, pl.len()).over(\"plan_id\").alias(\"activity_index\"),\n",
    "        dmd.hhmmss_str_to_seconds_expr(('typical_duration')),\n",
    "        dmd.hhmmss_str_to_seconds_expr(('opening_time')),\n",
    "        dmd.hhmmss_str_to_seconds_expr(('closing_time'))\n",
    "                  ])\n",
    "    .select(['person_id','plan_id', 'activity_index', 'id', 'type', 'typical_duration_secs',\n",
    "             'opening_time_secs', 'closing_time_secs', 'score'])\n",
    "    )\n",
    "    \n",
    "    # Join trips i with activity i+1\n",
    "    trips = trips.with_columns([pl.arange(1, pl.len()+1).over(\"plan_id\").alias(\"activity_index\")])\n",
    "    \n",
    "    \n",
    "    trips_with_activities = (\n",
    "    activities_clean\n",
    "    .rename({'typical_duration_secs': 'typical_duration', \n",
    "             'opening_time_secs': 'opening_time',\n",
    "             'closing_time_secs': 'closing_time'})\n",
    "    .join(trips, on=['plan_id', 'activity_index'], how='left'))\n",
    "    \n",
    "    trips_with_activities = (\n",
    "    trips_with_activities\n",
    "    .with_columns([\n",
    "        pl.col(\"departure_time\").shift(-1).over(\"person_id\").alias(\"end_time\"),\n",
    "        pl.col(\"arrival_time\").alias(\"start_time\"),\n",
    "        pl.col('type').alias(\"activity_type\"),\n",
    "        (pl.col('arrival_time')-pl.col('departure_time')).alias('travel_time')\n",
    "    ])\n",
    "    .select(['person_id', 'plan_id', 'trip_id', 'activity_index', 'mode', 'length', \n",
    "             'departure_time', 'arrival_time', 'travel_time', 'activity_type', 'start_time', 'end_time',\n",
    "             'typical_duration', 'constant_utility', 'score', 'opening_time', 'closing_time']))\n",
    "    trips_with_activities = (\n",
    "    trips_with_activities\n",
    "    .with_columns([\n",
    "        pl.when(pl.col('activity_index')==0)\n",
    "        .then(pl.lit(0))\n",
    "        .otherwise(pl.col('start_time')).alias('start_time') # avoid filtering out the 1st act (null start_time)\n",
    "    ])    \n",
    "    .filter(pl.col('start_time')<86400) # filter out events after midnight\n",
    ")\n",
    "    \n",
    "    return trips_with_activities"
   ]
  },
  {
   "cell_type": "code",
   "execution_count": null,
   "id": "b544cf70",
   "metadata": {},
   "outputs": [],
   "source": [
    "trips_with_activities = activities_and_trips(mp_trips, activity_types, activities)"
   ]
  },
  {
   "cell_type": "markdown",
   "id": "e2d88e97",
   "metadata": {},
   "source": [
    "## Matching and non-matching Activities (first-last)"
   ]
  },
  {
   "cell_type": "markdown",
   "id": "a70c7b0a",
   "metadata": {},
   "source": [
    "To create an indicator for matching (or non-matching) first and last activities, we create a bolean variable.\n",
    "\n",
    "\n",
    "If the first and last activities match, $activity_0$ `start_time` = `end_time` to set a duration of 0 for the first activity. Analogously, for $activity_n$, `end_time = 86400 + start_time(first_activity)`.\n",
    "\n",
    "If they don't match, $activity_0$ `start_time = 0` and $activity_n$, `end_time = 86400`\n"
   ]
  },
  {
   "cell_type": "markdown",
   "id": "9ad63983",
   "metadata": {},
   "source": [
    "All events after midnight are not accounted for in utility.\n",
    "\n",
    "$\\forall \\text{ activity } q,$ `start_time`$_q$ $\\geq 24h,\\ \\ Score_q = 0$ \n"
   ]
  },
  {
   "cell_type": "code",
   "execution_count": null,
   "id": "56ad761e",
   "metadata": {},
   "outputs": [],
   "source": [
    "def match_activity_utility(trips_with_activities):\n",
    "    \n",
    "    # Create an indicator for matching (or non-matching) first and last activities, we do:\n",
    "    trips_with_activities = (\n",
    "        trips_with_activities\n",
    "        .with_columns([\n",
    "            pl.len().over(\"plan_id\").alias(\"n_activities\") # max activities per plan\n",
    "        ])\n",
    "        .with_columns([\n",
    "            (\n",
    "                (pl.col(\"activity_type\").first().over(\"plan_id\") == pl.col(\"activity_type\").last().over(\"plan_id\")) &\n",
    "                (\n",
    "                    (pl.col(\"activity_index\") == 0) |\n",
    "                    (pl.col(\"activity_index\") == (pl.col(\"n_activities\") - 1))\n",
    "                ) & (\n",
    "                    (pl.col(\"end_time\").last().over(\"plan_id\") >= 86400) |\n",
    "                    (pl.col(\"end_time\").last().over(\"plan_id\").is_null())  \n",
    "                )\n",
    "            ).alias(\"matching_activities\")\n",
    "        ])\n",
    "        .with_columns([\n",
    "            # START_TIME\n",
    "            pl.when((pl.col(\"activity_index\") == 0) & pl.col(\"matching_activities\"))\n",
    "            .then(pl.col(\"end_time\"))\n",
    "            .when(pl.col(\"activity_index\") == 0)\n",
    "            .then(0)\n",
    "            .otherwise(pl.col(\"start_time\"))\n",
    "            .alias(\"start_time_adjusted\")\n",
    "        ])\n",
    "        .with_columns([\n",
    "            # END_TIME\n",
    "            pl.when((pl.col(\"activity_index\") == (pl.col(\"n_activities\") - 1)) & pl.col(\"matching_activities\"))\n",
    "            .then(86400 + pl.col(\"start_time_adjusted\").first().over(\"plan_id\"))\n",
    "            .when(pl.col(\"activity_index\") == (pl.col(\"n_activities\") - 1))\n",
    "            .then(86400)\n",
    "            .otherwise(pl.col(\"end_time\"))\n",
    "            .alias(\"end_time_adjusted\")\n",
    "        ])\n",
    "        .drop(['start_time', 'end_time'])\n",
    "        .rename({\n",
    "        \"start_time_adjusted\": \"start_time\",\n",
    "        \"end_time_adjusted\": \"end_time\"\n",
    "        })\n",
    "    )\n",
    "    \n",
    "    # Only compute activity duration based on the \"utility window\" - between opening and closing times\n",
    "    trips_with_activities= (\n",
    "        trips_with_activities\n",
    "        .with_columns([\n",
    "            \n",
    "        # Set opening and closing times as start/end times for utility calculation\n",
    "            pl.max_horizontal('opening_time', 'start_time').alias('start_time'),\n",
    "            pl.min_horizontal('end_time', 'closing_time').alias('end_time'),\n",
    "            \n",
    "        # Define activity duration based on the utility window\n",
    "            (pl.col('end_time')-pl.col('start_time')).alias('activity_duration')\n",
    "    ])\n",
    "        .with_columns([\n",
    "            pl.max_horizontal('activity_duration', 0).cast(pl.Float64), # just a check\n",
    "        \n",
    "        # Activity utility\n",
    "            pl.when(pl.col('activity_duration') >= pl.col('typical_duration')*np.exp(-1))\n",
    "            .then(6.88 / 3600 * pl.col('typical_duration')\n",
    "                  *(1 + (pl.col('activity_duration') / pl.col('typical_duration')).log()))\n",
    "            .otherwise(6.88 / 3600 *(pl.col('activity_duration')*np.e-pl.col('typical_duration')))\n",
    "            .fill_null(0).alias('activity_utility')])\n",
    "        \n",
    "        .with_columns([    \n",
    "            pl.when(pl.col('mode')=='ride')\n",
    "            .then(-6.88/3600*pl.col('travel_time'))\n",
    "            .otherwise(pl.lit(0)).alias('beta_trav'),\n",
    "            \n",
    "            pl.when((pl.col('matching_activities')) & (pl.col('activity_index') == 0))\n",
    "            .then(pl.lit(0))\n",
    "            .otherwise(pl.col('activity_utility'))\n",
    "            .alias('activity_utility')\n",
    "        ])\n",
    "        \n",
    "        .with_columns([\n",
    "            (pl.col('beta_trav') + pl.col('constant_utility')).alias('travel_utility').fill_null(0)\n",
    "        ])\n",
    "        .drop(['beta_trav', 'opening_time', 'closing_time', 'n_activities', 'matching_activities', \n",
    "               'constant_utility'])\n",
    "    \n",
    "    )\n",
    "    \n",
    "    return trips_with_activities"
   ]
  },
  {
   "cell_type": "code",
   "execution_count": null,
   "id": "3dbbcb2d",
   "metadata": {},
   "outputs": [],
   "source": [
    "trips_with_activities = match_activity_utility(trips_with_activities)"
   ]
  },
  {
   "cell_type": "code",
   "execution_count": null,
   "id": "5740c1bc",
   "metadata": {},
   "outputs": [],
   "source": [
    "trips_with_activities.head(7)"
   ]
  },
  {
   "cell_type": "markdown",
   "id": "96729797",
   "metadata": {},
   "source": [
    "## Exclude activities with dt after 24h (utility not accounted for)"
   ]
  },
  {
   "cell_type": "markdown",
   "id": "c2a54119",
   "metadata": {},
   "source": [
    "# Define main mode for each plan"
   ]
  },
  {
   "cell_type": "code",
   "execution_count": null,
   "id": "5dd1c332",
   "metadata": {},
   "outputs": [],
   "source": [
    "#def plan_modes():"
   ]
  },
  {
   "cell_type": "code",
   "execution_count": null,
   "id": "7d9feff5",
   "metadata": {},
   "outputs": [],
   "source": [
    "trips_with_activities = trips_with_activities.with_columns([\n",
    "    pl.col(\"mode\").fill_null(\"unknown\")\n",
    "])\n",
    "\n",
    "only_walk = (\n",
    "    trips_with_activities\n",
    "    .group_by(\"plan_id\")\n",
    "    .agg((pl.col(\"mode\") == \"walk\").all().alias(\"only_walk\"))\n",
    ")\n",
    "\n",
    "most_used_non_walk = (\n",
    "    trips_with_activities\n",
    "    .filter(pl.col(\"mode\") != \"walk\")\n",
    "    .group_by([\"plan_id\", \"mode\"])\n",
    "    .agg(pl.len().alias(\"mode_count\"))\n",
    "    .group_by(\"plan_id\")\n",
    "    .agg(\n",
    "        pl.col(\"mode\")\n",
    "        .filter(pl.col(\"mode_count\") == pl.col(\"mode_count\").max())\n",
    "        .first()\n",
    "        .alias(\"most_used_mode\")\n",
    "    )\n",
    ")\n",
    "\n",
    "main_mode_logic = (\n",
    "    only_walk\n",
    "    .join(most_used_non_walk, on=\"plan_id\", how=\"left\")\n",
    "    .with_columns([\n",
    "        pl.when(pl.col(\"only_walk\"))\n",
    "        .then(pl.lit(\"walk\"))\n",
    "        .otherwise(pl.col(\"most_used_mode\"))\n",
    "        .alias(\"main_mode\")\n",
    "    ])\n",
    "    .select([\"plan_id\", \"main_mode\"]))"
   ]
  },
  {
   "cell_type": "code",
   "execution_count": null,
   "id": "bc1513d0",
   "metadata": {},
   "outputs": [],
   "source": [
    "trips_with_activities= (\n",
    "    trips_with_activities.join(matsim_trips.select(['agent_id', 'mode', 'trip_id', 'plan_id']), \n",
    "                           on=['plan_id', 'trip_id', 'mode'], \n",
    "                           how='left'))"
   ]
  },
  {
   "cell_type": "markdown",
   "id": "18b9dc50",
   "metadata": {},
   "source": [
    "# Group by Plan"
   ]
  },
  {
   "cell_type": "code",
   "execution_count": null,
   "id": "1216ce41",
   "metadata": {},
   "outputs": [],
   "source": [
    "def get_utility_per_plan(trips_with_activities, main_mode_logic):\n",
    "    plan_utilities = (\n",
    "    trips_with_activities\n",
    "    .group_by(\"plan_id\")\n",
    "    .agg([\n",
    "        pl.col(\"person_id\").first(),\n",
    "        pl.col(\"activity_utility\").sum().fill_null(0),\n",
    "        pl.col(\"travel_utility\").sum().fill_null(0),\n",
    "        (pl.col(\"mode\") == \"car\").any().alias(\"uses_car\"),\n",
    "        (pl.col(\"mode\") == \"pt\").any().alias(\"uses_pt\"),\n",
    "        pl.col(\"score\").first().cast(pl.Float64).alias(\"matsim_score\"),\n",
    "        pl.col(\"mode\").unique().alias(\"modes\")\n",
    "    ])\n",
    "    .with_columns([\n",
    "        (pl.when(pl.col(\"uses_car\")).then(-5).otherwise(0) +\n",
    "         pl.when(pl.col(\"uses_pt\")).then(-3).otherwise(0)).alias(\"daily_monetary_constant\")\n",
    "    ])\n",
    "    .join(main_mode_logic, on=\"plan_id\", how=\"left\")\n",
    "    .select([\n",
    "        \"plan_id\",\n",
    "        \"person_id\",\n",
    "        \"matsim_score\",\n",
    "        \"activity_utility\",\n",
    "        \"travel_utility\",\n",
    "        \"daily_monetary_constant\",\n",
    "        \"main_mode\"\n",
    "    ])\n",
    "    .with_columns([\n",
    "        (pl.col(\"activity_utility\") + pl.col(\"travel_utility\") + pl.col(\"daily_monetary_constant\"))\n",
    "        .alias(\"total_utility\")\n",
    "    ])\n",
    "    .select(['person_id', 'plan_id', 'travel_utility', 'main_mode', 'activity_utility', \n",
    "             'daily_monetary_constant', 'total_utility', 'matsim_score'])\n",
    "    .sort('plan_id')\n",
    "    .with_columns([\n",
    "        (pl.col('matsim_score') - pl.col('total_utility')).alias('utility_diff')])\n",
    "    )\n",
    "    return plan_utilities"
   ]
  },
  {
   "cell_type": "code",
   "execution_count": null,
   "id": "ebac91c3",
   "metadata": {},
   "outputs": [],
   "source": [
    "plan_utilities=get_utility_per_plan(trips_with_activities, main_mode_logic)"
   ]
  },
  {
   "cell_type": "code",
   "execution_count": null,
   "id": "77d93fdd",
   "metadata": {},
   "outputs": [],
   "source": [
    "plan_utilities.write_parquet(os.path.join(EVENTS_PATH, 'plan_utilities.parquet'))"
   ]
  }
 ],
 "metadata": {
  "kernelspec": {
   "display_name": "Python 3 (ipykernel)",
   "language": "python",
   "name": "python3"
  },
  "language_info": {
   "codemirror_mode": {
    "name": "ipython",
    "version": 3
   },
   "file_extension": ".py",
   "mimetype": "text/x-python",
   "name": "python",
   "nbconvert_exporter": "python",
   "pygments_lexer": "ipython3",
   "version": "3.9.18"
  }
 },
 "nbformat": 4,
 "nbformat_minor": 5
}
