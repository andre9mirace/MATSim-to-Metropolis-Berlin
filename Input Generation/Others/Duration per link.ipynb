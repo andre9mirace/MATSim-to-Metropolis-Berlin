{
 "cells": [
  {
   "cell_type": "code",
   "execution_count": 1,
   "id": "6a79a6ca",
   "metadata": {},
   "outputs": [],
   "source": [
    "from xopen import xopen\n",
    "from collections import defaultdict\n",
    "\n",
    "import gzip\n",
    "import os\n",
    "import polars as pl\n",
    "import pandas as pd\n",
    "import xml.etree.ElementTree as ET\n",
    "import matplotlib.pyplot as plt"
   ]
  },
  {
   "cell_type": "code",
   "execution_count": 2,
   "id": "e902d2f5",
   "metadata": {},
   "outputs": [],
   "source": [
    "PLAN_PATH = \"/Users/andre/Desktop/Cergy/MATSim/matsim-berlin/berlin-v6.4.output_plans.xml.gz\"\n",
    "PASSAGES_PATH = \"/Users/andre/Desktop/Cergy/Python_Scripts/runs/fixed_10pct/output/passages.parquet\"\n",
    "METROPOLIS_OUTPUT = \"/Users/andre/Desktop/Cergy/Python_Scripts/runs/fixed_10pct/output\""
   ]
  },
  {
   "cell_type": "code",
   "execution_count": 3,
   "id": "2ed94de9",
   "metadata": {},
   "outputs": [],
   "source": [
    "passages_df = pl.read_parquet(PASSAGES_PATH)\n",
    "passages_df = (\n",
    "    passages_df\n",
    "    .filter(~pl.col(\"vehicle\").str.contains(\"pt\"), \n",
    "            ~pl.col(\"vehicle\").str.contains(\"freight\")#,\n",
    "#            ~pl.col(\"vehicle\").str.contains(\"goods\"),\n",
    "#            ~pl.col(\"vehicle\").str.contains(\"commercial\")\n",
    "           )\n",
    "    .sort(pl.col([\"vehicle\",\"time\", \"link_id\"]))\n",
    "    .with_columns(pl.int_range(0, pl.len()).over(\"vehicle\", \"link_id\").alias(\"index\"))\n",
    ")"
   ]
  },
  {
   "cell_type": "code",
   "execution_count": 4,
   "id": "1016af17",
   "metadata": {},
   "outputs": [],
   "source": [
    "passages_df = passages_df.sort(pl.col('vehicle', 'time', 'index', 'link_id'))"
   ]
  },
  {
   "cell_type": "code",
   "execution_count": 5,
   "id": "823a6f72",
   "metadata": {},
   "outputs": [],
   "source": [
    "# entered link\n",
    "entered = (passages_df.filter((pl.col(\"event_type\") == \"entered link\")|(\n",
    "                              pl.col(\"event_type\") == \"vehicle enters traffic\"))\n",
    "           .rename({\"time\": \"entry_time\"})\n",
    "           .drop(pl.col(\"event_type\")))\n",
    "\n",
    "# left link\n",
    "left = (passages_df.filter((pl.col(\"event_type\") == \"left link\")|(\n",
    "                           pl.col(\"event_type\") == \"vehicle leaves traffic\"))\n",
    "        .rename({\"time\": \"exit_time\"})\n",
    "        .drop(pl.col(\"event_type\")))"
   ]
  },
  {
   "cell_type": "code",
   "execution_count": 6,
   "id": "ea16c471",
   "metadata": {},
   "outputs": [],
   "source": [
    "entered = entered.with_columns(pl.int_range(0, pl.len()).over(\"vehicle\", \"link_id\").alias(\"j_index\"))\n",
    "left = left.with_columns(pl.int_range(0, pl.len()).over(\"vehicle\", \"link_id\").alias(\"j_index\"))"
   ]
  },
  {
   "cell_type": "code",
   "execution_count": 7,
   "id": "b2751bac",
   "metadata": {},
   "outputs": [],
   "source": [
    "reshaped = (\n",
    "    entered\n",
    "    .join(left, on=[\"j_index\", \"vehicle\", \"link_id\"], how=\"full\")\n",
    "    .with_columns([(pl.col(\"exit_time\") - pl.col(\"entry_time\")).alias(\"duration\")])\n",
    "    .drop(pl.col(\"j_index\")))"
   ]
  },
  {
   "cell_type": "code",
   "execution_count": 8,
   "id": "9ec06936",
   "metadata": {},
   "outputs": [],
   "source": [
    "reshaped = reshaped.select([\"link_id\", \"vehicle\", \"entry_time\", \"exit_time\", \"duration\"])"
   ]
  },
  {
   "cell_type": "code",
   "execution_count": 17,
   "id": "fab8ba90",
   "metadata": {},
   "outputs": [
    {
     "data": {
      "text/html": [
       "<div><style>\n",
       ".dataframe > thead > tr,\n",
       ".dataframe > tbody > tr {\n",
       "  text-align: right;\n",
       "  white-space: pre-wrap;\n",
       "}\n",
       "</style>\n",
       "<small>shape: (372, 5)</small><table border=\"1\" class=\"dataframe\"><thead><tr><th>entry_time</th><th>link_id</th><th>vehicle</th><th>index</th><th>j_index</th></tr><tr><td>f64</td><td>str</td><td>str</td><td>i64</td><td>i64</td></tr></thead><tbody><tr><td>30534.0</td><td>&quot;-30051377&quot;</td><td>&quot;bb_00005f6f_car&quot;</td><td>0</td><td>0</td></tr><tr><td>30535.0</td><td>&quot;30051377&quot;</td><td>&quot;bb_00005f6f_car&quot;</td><td>0</td><td>0</td></tr><tr><td>30552.0</td><td>&quot;1029686950&quot;</td><td>&quot;bb_00005f6f_car&quot;</td><td>0</td><td>0</td></tr><tr><td>30579.0</td><td>&quot;24557971&quot;</td><td>&quot;bb_00005f6f_car&quot;</td><td>0</td><td>0</td></tr><tr><td>30917.0</td><td>&quot;328050969&quot;</td><td>&quot;bb_00005f6f_car&quot;</td><td>0</td><td>0</td></tr><tr><td>&hellip;</td><td>&hellip;</td><td>&hellip;</td><td>&hellip;</td><td>&hellip;</td></tr><tr><td>61424.0</td><td>&quot;-401668993&quot;</td><td>&quot;bb_00005f6f_car&quot;</td><td>0</td><td>0</td></tr><tr><td>61451.0</td><td>&quot;-432254960&quot;</td><td>&quot;bb_00005f6f_car&quot;</td><td>0</td><td>0</td></tr><tr><td>61468.0</td><td>&quot;-30051378&quot;</td><td>&quot;bb_00005f6f_car&quot;</td><td>0</td><td>0</td></tr><tr><td>61539.0</td><td>&quot;-328050968&quot;</td><td>&quot;bb_00005f6f_car&quot;</td><td>0</td><td>0</td></tr><tr><td>61662.0</td><td>&quot;-30051377&quot;</td><td>&quot;bb_00005f6f_car&quot;</td><td>6</td><td>3</td></tr></tbody></table></div>"
      ],
      "text/plain": [
       "shape: (372, 5)\n",
       "┌────────────┬────────────┬─────────────────┬───────┬─────────┐\n",
       "│ entry_time ┆ link_id    ┆ vehicle         ┆ index ┆ j_index │\n",
       "│ ---        ┆ ---        ┆ ---             ┆ ---   ┆ ---     │\n",
       "│ f64        ┆ str        ┆ str             ┆ i64   ┆ i64     │\n",
       "╞════════════╪════════════╪═════════════════╪═══════╪═════════╡\n",
       "│ 30534.0    ┆ -30051377  ┆ bb_00005f6f_car ┆ 0     ┆ 0       │\n",
       "│ 30535.0    ┆ 30051377   ┆ bb_00005f6f_car ┆ 0     ┆ 0       │\n",
       "│ 30552.0    ┆ 1029686950 ┆ bb_00005f6f_car ┆ 0     ┆ 0       │\n",
       "│ 30579.0    ┆ 24557971   ┆ bb_00005f6f_car ┆ 0     ┆ 0       │\n",
       "│ 30917.0    ┆ 328050969  ┆ bb_00005f6f_car ┆ 0     ┆ 0       │\n",
       "│ …          ┆ …          ┆ …               ┆ …     ┆ …       │\n",
       "│ 61424.0    ┆ -401668993 ┆ bb_00005f6f_car ┆ 0     ┆ 0       │\n",
       "│ 61451.0    ┆ -432254960 ┆ bb_00005f6f_car ┆ 0     ┆ 0       │\n",
       "│ 61468.0    ┆ -30051378  ┆ bb_00005f6f_car ┆ 0     ┆ 0       │\n",
       "│ 61539.0    ┆ -328050968 ┆ bb_00005f6f_car ┆ 0     ┆ 0       │\n",
       "│ 61662.0    ┆ -30051377  ┆ bb_00005f6f_car ┆ 6     ┆ 3       │\n",
       "└────────────┴────────────┴─────────────────┴───────┴─────────┘"
      ]
     },
     "execution_count": 17,
     "metadata": {},
     "output_type": "execute_result"
    }
   ],
   "source": [
    "entered.filter(vehicle='bb_00005f6f_car')"
   ]
  },
  {
   "cell_type": "code",
   "execution_count": 10,
   "id": "e885079b",
   "metadata": {},
   "outputs": [],
   "source": [
    "avg_durations = (\n",
    "    reshaped\n",
    "    .group_by(\"link_id\")\n",
    "    .agg([\n",
    "        pl.col(\"duration\").mean().alias(\"avg_duration\"),\n",
    "        pl.col(\"duration\").count().alias(\"Nb passages\"),\n",
    "        pl.col(\"duration\").sum().alias(\"total_duration\")\n",
    "    ])\n",
    "    .sort(\"avg_duration\", descending=True)\n",
    ")"
   ]
  },
  {
   "cell_type": "code",
   "execution_count": 11,
   "id": "e8f04afb",
   "metadata": {},
   "outputs": [
    {
     "data": {
      "text/html": [
       "<div><style>\n",
       ".dataframe > thead > tr,\n",
       ".dataframe > tbody > tr {\n",
       "  text-align: right;\n",
       "  white-space: pre-wrap;\n",
       "}\n",
       "</style>\n",
       "<small>shape: (188_714, 4)</small><table border=\"1\" class=\"dataframe\"><thead><tr><th>link_id</th><th>avg_duration</th><th>Nb passages</th><th>total_duration</th></tr><tr><td>str</td><td>f64</td><td>u32</td><td>f64</td></tr></thead><tbody><tr><td>&quot;-25210595#0&quot;</td><td>1996.963855</td><td>166</td><td>331496.0</td></tr><tr><td>&quot;522458224&quot;</td><td>941.0</td><td>4</td><td>3764.0</td></tr><tr><td>&quot;244944011&quot;</td><td>893.0</td><td>5</td><td>4465.0</td></tr><tr><td>&quot;345754464&quot;</td><td>810.197143</td><td>350</td><td>283569.0</td></tr><tr><td>&quot;-718809953&quot;</td><td>742.625581</td><td>430</td><td>319329.0</td></tr><tr><td>&hellip;</td><td>&hellip;</td><td>&hellip;</td><td>&hellip;</td></tr><tr><td>&quot;-27815725#0&quot;</td><td>0.5</td><td>10</td><td>5.0</td></tr><tr><td>&quot;-33847096#1&quot;</td><td>0.5</td><td>2</td><td>1.0</td></tr><tr><td>&quot;-152354580#2&quot;</td><td>0.5</td><td>8</td><td>4.0</td></tr><tr><td>&quot;-222369309#3&quot;</td><td>0.5</td><td>2</td><td>1.0</td></tr><tr><td>&quot;-504306769&quot;</td><td>0.495146</td><td>103</td><td>51.0</td></tr></tbody></table></div>"
      ],
      "text/plain": [
       "shape: (188_714, 4)\n",
       "┌──────────────┬──────────────┬─────────────┬────────────────┐\n",
       "│ link_id      ┆ avg_duration ┆ Nb passages ┆ total_duration │\n",
       "│ ---          ┆ ---          ┆ ---         ┆ ---            │\n",
       "│ str          ┆ f64          ┆ u32         ┆ f64            │\n",
       "╞══════════════╪══════════════╪═════════════╪════════════════╡\n",
       "│ -25210595#0  ┆ 1996.963855  ┆ 166         ┆ 331496.0       │\n",
       "│ 522458224    ┆ 941.0        ┆ 4           ┆ 3764.0         │\n",
       "│ 244944011    ┆ 893.0        ┆ 5           ┆ 4465.0         │\n",
       "│ 345754464    ┆ 810.197143   ┆ 350         ┆ 283569.0       │\n",
       "│ -718809953   ┆ 742.625581   ┆ 430         ┆ 319329.0       │\n",
       "│ …            ┆ …            ┆ …           ┆ …              │\n",
       "│ -27815725#0  ┆ 0.5          ┆ 10          ┆ 5.0            │\n",
       "│ -33847096#1  ┆ 0.5          ┆ 2           ┆ 1.0            │\n",
       "│ -152354580#2 ┆ 0.5          ┆ 8           ┆ 4.0            │\n",
       "│ -222369309#3 ┆ 0.5          ┆ 2           ┆ 1.0            │\n",
       "│ -504306769   ┆ 0.495146     ┆ 103         ┆ 51.0           │\n",
       "└──────────────┴──────────────┴─────────────┴────────────────┘"
      ]
     },
     "execution_count": 11,
     "metadata": {},
     "output_type": "execute_result"
    }
   ],
   "source": [
    "avg_durations"
   ]
  },
  {
   "cell_type": "markdown",
   "id": "47152fde",
   "metadata": {},
   "source": [
    "# Metropolis Routes"
   ]
  },
  {
   "cell_type": "code",
   "execution_count": 12,
   "id": "bc1048f5",
   "metadata": {},
   "outputs": [],
   "source": [
    "mp_routes = (\n",
    "    pl.read_parquet(os.path.join(METROPOLIS_OUTPUT, \"route_results.parquet\"))\n",
    "    .with_columns([(pl.col('exit_time')-pl.col('entry_time')).alias('duration')])\n",
    "    .drop(['trip_index', 'trip_id'])\n",
    ")"
   ]
  },
  {
   "cell_type": "code",
   "execution_count": 13,
   "id": "84fb5344",
   "metadata": {},
   "outputs": [
    {
     "data": {
      "text/html": [
       "<div><style>\n",
       ".dataframe > thead > tr,\n",
       ".dataframe > tbody > tr {\n",
       "  text-align: right;\n",
       "  white-space: pre-wrap;\n",
       "}\n",
       "</style>\n",
       "<small>shape: (14, 5)</small><table border=\"1\" class=\"dataframe\"><thead><tr><th>agent_id</th><th>edge_id</th><th>entry_time</th><th>exit_time</th><th>duration</th></tr><tr><td>u64</td><td>u64</td><td>f64</td><td>f64</td><td>f64</td></tr></thead><tbody><tr><td>4266401372862</td><td>178144</td><td>32265.0</td><td>32280.0</td><td>15.0</td></tr><tr><td>4266401372862</td><td>47467</td><td>32280.0</td><td>32293.0</td><td>13.0</td></tr><tr><td>4266401372862</td><td>47466</td><td>32293.0</td><td>32296.0</td><td>3.0</td></tr><tr><td>4266401372862</td><td>187512</td><td>32296.0</td><td>32302.0</td><td>6.0</td></tr><tr><td>4266401372862</td><td>122674</td><td>32302.0</td><td>32320.0</td><td>18.0</td></tr><tr><td>&hellip;</td><td>&hellip;</td><td>&hellip;</td><td>&hellip;</td><td>&hellip;</td></tr><tr><td>4266401372862</td><td>170316</td><td>32415.0</td><td>32421.0</td><td>6.0</td></tr><tr><td>4266401372862</td><td>170317</td><td>32421.0</td><td>32438.0</td><td>17.0</td></tr><tr><td>4266401372862</td><td>198837</td><td>32438.0</td><td>32446.0</td><td>8.0</td></tr><tr><td>4266401372862</td><td>198838</td><td>32446.0</td><td>32457.0</td><td>11.0</td></tr><tr><td>4266401372862</td><td>59116</td><td>32457.0</td><td>32509.0</td><td>52.0</td></tr></tbody></table></div>"
      ],
      "text/plain": [
       "shape: (14, 5)\n",
       "┌───────────────┬─────────┬────────────┬───────────┬──────────┐\n",
       "│ agent_id      ┆ edge_id ┆ entry_time ┆ exit_time ┆ duration │\n",
       "│ ---           ┆ ---     ┆ ---        ┆ ---       ┆ ---      │\n",
       "│ u64           ┆ u64     ┆ f64        ┆ f64       ┆ f64      │\n",
       "╞═══════════════╪═════════╪════════════╪═══════════╪══════════╡\n",
       "│ 4266401372862 ┆ 178144  ┆ 32265.0    ┆ 32280.0   ┆ 15.0     │\n",
       "│ 4266401372862 ┆ 47467   ┆ 32280.0    ┆ 32293.0   ┆ 13.0     │\n",
       "│ 4266401372862 ┆ 47466   ┆ 32293.0    ┆ 32296.0   ┆ 3.0      │\n",
       "│ 4266401372862 ┆ 187512  ┆ 32296.0    ┆ 32302.0   ┆ 6.0      │\n",
       "│ 4266401372862 ┆ 122674  ┆ 32302.0    ┆ 32320.0   ┆ 18.0     │\n",
       "│ …             ┆ …       ┆ …          ┆ …         ┆ …        │\n",
       "│ 4266401372862 ┆ 170316  ┆ 32415.0    ┆ 32421.0   ┆ 6.0      │\n",
       "│ 4266401372862 ┆ 170317  ┆ 32421.0    ┆ 32438.0   ┆ 17.0     │\n",
       "│ 4266401372862 ┆ 198837  ┆ 32438.0    ┆ 32446.0   ┆ 8.0      │\n",
       "│ 4266401372862 ┆ 198838  ┆ 32446.0    ┆ 32457.0   ┆ 11.0     │\n",
       "│ 4266401372862 ┆ 59116   ┆ 32457.0    ┆ 32509.0   ┆ 52.0     │\n",
       "└───────────────┴─────────┴────────────┴───────────┴──────────┘"
      ]
     },
     "execution_count": 13,
     "metadata": {},
     "output_type": "execute_result"
    }
   ],
   "source": [
    "mp_routes.filter(pl.col('agent_id')==4266401372862).head(14)"
   ]
  },
  {
   "cell_type": "code",
   "execution_count": 14,
   "id": "096af746",
   "metadata": {},
   "outputs": [
    {
     "data": {
      "text/html": [
       "<div><style>\n",
       ".dataframe > thead > tr,\n",
       ".dataframe > tbody > tr {\n",
       "  text-align: right;\n",
       "  white-space: pre-wrap;\n",
       "}\n",
       "</style>\n",
       "<small>shape: (10, 5)</small><table border=\"1\" class=\"dataframe\"><thead><tr><th>link_id</th><th>vehicle</th><th>entry_time</th><th>exit_time</th><th>duration</th></tr><tr><td>str</td><td>str</td><td>f64</td><td>f64</td><td>f64</td></tr></thead><tbody><tr><td>&quot;-43711339&quot;</td><td>&quot;bb_5de742f7_car&quot;</td><td>33267.0</td><td>33268.0</td><td>1.0</td></tr><tr><td>&quot;4682661&quot;</td><td>&quot;bb_5de742f7_car&quot;</td><td>33268.0</td><td>33309.0</td><td>41.0</td></tr><tr><td>&quot;909890129&quot;</td><td>&quot;bb_5de742f7_car&quot;</td><td>33309.0</td><td>33348.0</td><td>39.0</td></tr><tr><td>&quot;-624251117#0&quot;</td><td>&quot;bb_5de742f7_car&quot;</td><td>33348.0</td><td>33350.0</td><td>2.0</td></tr><tr><td>&quot;-237149172&quot;</td><td>&quot;bb_5de742f7_car&quot;</td><td>33350.0</td><td>33367.0</td><td>17.0</td></tr><tr><td>&quot;38628509&quot;</td><td>&quot;bb_5de742f7_car&quot;</td><td>33367.0</td><td>33374.0</td><td>7.0</td></tr><tr><td>&quot;624251116&quot;</td><td>&quot;bb_5de742f7_car&quot;</td><td>33374.0</td><td>33383.0</td><td>9.0</td></tr><tr><td>&quot;624251115#0&quot;</td><td>&quot;bb_5de742f7_car&quot;</td><td>33383.0</td><td>33397.0</td><td>14.0</td></tr><tr><td>&quot;-624193320#1&quot;</td><td>&quot;bb_5de742f7_car&quot;</td><td>33397.0</td><td>33401.0</td><td>4.0</td></tr><tr><td>&quot;-624193319#1&quot;</td><td>&quot;bb_5de742f7_car&quot;</td><td>33401.0</td><td>33437.0</td><td>36.0</td></tr></tbody></table></div>"
      ],
      "text/plain": [
       "shape: (10, 5)\n",
       "┌──────────────┬─────────────────┬────────────┬───────────┬──────────┐\n",
       "│ link_id      ┆ vehicle         ┆ entry_time ┆ exit_time ┆ duration │\n",
       "│ ---          ┆ ---             ┆ ---        ┆ ---       ┆ ---      │\n",
       "│ str          ┆ str             ┆ f64        ┆ f64       ┆ f64      │\n",
       "╞══════════════╪═════════════════╪════════════╪═══════════╪══════════╡\n",
       "│ -43711339    ┆ bb_5de742f7_car ┆ 33267.0    ┆ 33268.0   ┆ 1.0      │\n",
       "│ 4682661      ┆ bb_5de742f7_car ┆ 33268.0    ┆ 33309.0   ┆ 41.0     │\n",
       "│ 909890129    ┆ bb_5de742f7_car ┆ 33309.0    ┆ 33348.0   ┆ 39.0     │\n",
       "│ -624251117#0 ┆ bb_5de742f7_car ┆ 33348.0    ┆ 33350.0   ┆ 2.0      │\n",
       "│ -237149172   ┆ bb_5de742f7_car ┆ 33350.0    ┆ 33367.0   ┆ 17.0     │\n",
       "│ 38628509     ┆ bb_5de742f7_car ┆ 33367.0    ┆ 33374.0   ┆ 7.0      │\n",
       "│ 624251116    ┆ bb_5de742f7_car ┆ 33374.0    ┆ 33383.0   ┆ 9.0      │\n",
       "│ 624251115#0  ┆ bb_5de742f7_car ┆ 33383.0    ┆ 33397.0   ┆ 14.0     │\n",
       "│ -624193320#1 ┆ bb_5de742f7_car ┆ 33397.0    ┆ 33401.0   ┆ 4.0      │\n",
       "│ -624193319#1 ┆ bb_5de742f7_car ┆ 33401.0    ┆ 33437.0   ┆ 36.0     │\n",
       "└──────────────┴─────────────────┴────────────┴───────────┴──────────┘"
      ]
     },
     "execution_count": 14,
     "metadata": {},
     "output_type": "execute_result"
    }
   ],
   "source": [
    "reshaped.filter(pl.col('vehicle')=='bb_5de742f7_car',\n",
    "                pl.col('entry_time')<34000)[15:25]"
   ]
  },
  {
   "cell_type": "code",
   "execution_count": null,
   "id": "486e36a6",
   "metadata": {},
   "outputs": [],
   "source": []
  }
 ],
 "metadata": {
  "kernelspec": {
   "display_name": "Python 3 (ipykernel)",
   "language": "python",
   "name": "python3"
  },
  "language_info": {
   "codemirror_mode": {
    "name": "ipython",
    "version": 3
   },
   "file_extension": ".py",
   "mimetype": "text/x-python",
   "name": "python",
   "nbconvert_exporter": "python",
   "pygments_lexer": "ipython3",
   "version": "3.9.18"
  }
 },
 "nbformat": 4,
 "nbformat_minor": 5
}
